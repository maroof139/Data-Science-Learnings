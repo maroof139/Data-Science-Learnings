{
 "cells": [
  {
   "cell_type": "code",
   "execution_count": 1,
   "id": "0373faa9-cbad-4be1-9fde-4bbdd1529d6e",
   "metadata": {
    "jupyter": {
     "source_hidden": true
    },
    "tags": []
   },
   "outputs": [],
   "source": [
    "class pwskills:\n",
    "    def student_details(self,name,email,number):\n",
    "        print(name,email,number)"
   ]
  },
  {
   "cell_type": "code",
   "execution_count": 2,
   "id": "2112d0d2-fe04-46b2-93e8-e25fc5dcbd84",
   "metadata": {},
   "outputs": [],
   "source": [
    "pw=pwskills()"
   ]
  },
  {
   "cell_type": "code",
   "execution_count": 3,
   "id": "02b97702-509d-42cb-9095-ecf03e94cbe4",
   "metadata": {},
   "outputs": [
    {
     "name": "stdout",
     "output_type": "stream",
     "text": [
      "sudh sudh@gmail.com 974207\n"
     ]
    }
   ],
   "source": [
    "pw.student_details(\"sudh\",\"sudh@gmail.com\",974207)"
   ]
  },
  {
   "cell_type": "code",
   "execution_count": 6,
   "id": "f50999bf-96c1-4f76-af1a-82d1778dcd70",
   "metadata": {},
   "outputs": [],
   "source": [
    "class pwskills1:\n",
    "    def student_details(self,name,email,number):\n",
    "        print(name,email,number)\n",
    "    @staticmethod\n",
    "    def mentor_class(mentor_list):\n",
    "        print(mentor_list)"
   ]
  },
  {
   "cell_type": "code",
   "execution_count": 7,
   "id": "18d5c9f4-7271-41bb-a3f8-516e060cbb79",
   "metadata": {},
   "outputs": [
    {
     "name": "stdout",
     "output_type": "stream",
     "text": [
      "['sudh', 'Krish']\n"
     ]
    }
   ],
   "source": [
    "pwskills1.mentor_class([\"sudh\",\"Krish\"])"
   ]
  },
  {
   "cell_type": "code",
   "execution_count": 8,
   "id": "c2a390df-9515-45bc-bd56-86164b9f4ac9",
   "metadata": {},
   "outputs": [],
   "source": [
    "pw1=pwskills1()"
   ]
  },
  {
   "cell_type": "code",
   "execution_count": 9,
   "id": "ea699476-666e-4c08-8f77-80d247974aa4",
   "metadata": {},
   "outputs": [
    {
     "name": "stdout",
     "output_type": "stream",
     "text": [
      "['Krish', 'Sudh']\n"
     ]
    }
   ],
   "source": [
    "pw1.mentor_class([\"Krish\",\"Sudh\"])"
   ]
  },
  {
   "cell_type": "code",
   "execution_count": 10,
   "id": "68a3ddab-d7e2-47f7-bdc4-84c28900e384",
   "metadata": {},
   "outputs": [],
   "source": [
    "class pwskills1:\n",
    "    def student_details(self,name,email,number):\n",
    "        print(name,email,number)\n",
    "    @staticmethod\n",
    "    def mentor_class(mentor_list):\n",
    "        print(mentor_list)\n",
    "    def mentor(self,mentor_list):\n",
    "        print(mentor_list)"
   ]
  },
  {
   "cell_type": "code",
   "execution_count": 11,
   "id": "dabf2a21-ace6-45b9-8737-28aea9e25a45",
   "metadata": {},
   "outputs": [],
   "source": [
    "pw1=pwskills1()"
   ]
  },
  {
   "cell_type": "code",
   "execution_count": 12,
   "id": "b4303956-0038-4b15-bffb-74117e7a1ef9",
   "metadata": {},
   "outputs": [
    {
     "name": "stdout",
     "output_type": "stream",
     "text": [
      "['Krish', 'Sudh']\n"
     ]
    }
   ],
   "source": [
    "pw1.mentor([\"Krish\",\"Sudh\"])"
   ]
  },
  {
   "cell_type": "code",
   "execution_count": 13,
   "id": "23cd976d-09ce-4031-8f6c-ba698babcd41",
   "metadata": {},
   "outputs": [
    {
     "name": "stdout",
     "output_type": "stream",
     "text": [
      "['Sudh', 'Krish']\n"
     ]
    }
   ],
   "source": [
    "pw1.mentor_class([\"Sudh\",\"Krish\"])"
   ]
  },
  {
   "cell_type": "code",
   "execution_count": 14,
   "id": "9ebb8cda-68e1-4273-bc43-9a756317bd92",
   "metadata": {},
   "outputs": [
    {
     "name": "stdout",
     "output_type": "stream",
     "text": [
      "['Sudh', 'Krish']\n"
     ]
    }
   ],
   "source": [
    "pwskills1.mentor_class([\"Sudh\",\"Krish\"])"
   ]
  },
  {
   "cell_type": "code",
   "execution_count": 2,
   "id": "fbb2c55d-a76b-4c10-a9d9-f263b9f1ab1c",
   "metadata": {},
   "outputs": [],
   "source": [
    "class pwskills1:\n",
    "    def student_details(self,name,email,number):\n",
    "        print(name,email,number)\n",
    "        \n",
    "    @staticmethod\n",
    "    def mentor_mail(mail_id):\n",
    "        print(mail_id)\n",
    "    \n",
    "    @staticmethod\n",
    "    def mentor_class(mentor_list):\n",
    "        print(mentor_list)\n",
    "        pwskills1.mentor_mail([\"sudh@gmail.com\",\"Krish@gmail.com\"])\n",
    "    \n",
    "    @classmethod\n",
    "    def class_name(cls,class_name):\n",
    "        cls.mentor_class([\"Sudh\",\"Krish\"])\n",
    "    \n",
    "    def mentor(self,mentor_list):\n",
    "        print(mentor_list)\n",
    "        self.mentor_class([\"Krish\",\"Sudh\"])"
   ]
  },
  {
   "cell_type": "code",
   "execution_count": 3,
   "id": "9db94c6e-17b9-4418-8166-1076523df29c",
   "metadata": {},
   "outputs": [],
   "source": [
    "pw1=pwskills1()"
   ]
  },
  {
   "cell_type": "code",
   "execution_count": 4,
   "id": "867af4c5-8eb5-4944-b1df-a245d3182c72",
   "metadata": {},
   "outputs": [
    {
     "name": "stdout",
     "output_type": "stream",
     "text": [
      "Mohan mohan@gmail.com 974207\n"
     ]
    }
   ],
   "source": [
    "pw1.student_details(\"Mohan\",\"mohan@gmail.com\",974207)"
   ]
  },
  {
   "cell_type": "code",
   "execution_count": 5,
   "id": "4410fca6-94bd-4660-916b-1956643447b3",
   "metadata": {},
   "outputs": [
    {
     "name": "stdout",
     "output_type": "stream",
     "text": [
      "['Krish@gmail.com', 'Sudh@gmail.com']\n"
     ]
    }
   ],
   "source": [
    "pw1.mentor_mail([\"Krish@gmail.com\",\"Sudh@gmail.com\"])"
   ]
  },
  {
   "cell_type": "code",
   "execution_count": 6,
   "id": "02fe9209-2d3f-4357-80ff-a49d1277f362",
   "metadata": {},
   "outputs": [
    {
     "name": "stdout",
     "output_type": "stream",
     "text": [
      "['Sudh', 'Krish']\n",
      "['sudh@gmail.com', 'Krish@gmail.com']\n"
     ]
    }
   ],
   "source": [
    "pw1.class_name(\"Data Science Masters\")"
   ]
  },
  {
   "cell_type": "code",
   "execution_count": null,
   "id": "d520aea5-99e1-47a8-871f-c222a96066d2",
   "metadata": {},
   "outputs": [],
   "source": [
    "pwskills1.mentor_mail(["
   ]
  }
 ],
 "metadata": {
  "kernelspec": {
   "display_name": "Python 3 (ipykernel)",
   "language": "python",
   "name": "python3"
  },
  "language_info": {
   "codemirror_mode": {
    "name": "ipython",
    "version": 3
   },
   "file_extension": ".py",
   "mimetype": "text/x-python",
   "name": "python",
   "nbconvert_exporter": "python",
   "pygments_lexer": "ipython3",
   "version": "3.10.8"
  }
 },
 "nbformat": 4,
 "nbformat_minor": 5
}
