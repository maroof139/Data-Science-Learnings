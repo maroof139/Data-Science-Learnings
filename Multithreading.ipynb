{
 "cells": [
  {
   "cell_type": "code",
   "execution_count": 8,
   "id": "da7d3e89-0360-4ea8-ac5c-2e00927e032f",
   "metadata": {},
   "outputs": [],
   "source": [
    "import threading"
   ]
  },
  {
   "cell_type": "code",
   "execution_count": 50,
   "id": "d4f0606c-0bd3-42f5-846b-358224da1229",
   "metadata": {},
   "outputs": [],
   "source": [
    "def test(id):\n",
    "    print(\"this is my test id %d\" %id)"
   ]
  },
  {
   "cell_type": "code",
   "execution_count": 51,
   "id": "f11d14e5-c3da-460d-b734-c41f7aba4b3a",
   "metadata": {},
   "outputs": [
    {
     "name": "stdout",
     "output_type": "stream",
     "text": [
      "this is my test id 10\n"
     ]
    }
   ],
   "source": [
    "test(10)"
   ]
  },
  {
   "cell_type": "code",
   "execution_count": 52,
   "id": "381fe524-deb3-4423-9984-c71823795bc5",
   "metadata": {},
   "outputs": [
    {
     "name": "stdout",
     "output_type": "stream",
     "text": [
      "this is my test id 1\n"
     ]
    }
   ],
   "source": [
    "test(1)"
   ]
  },
  {
   "cell_type": "code",
   "execution_count": 53,
   "id": "33aa39ce-0379-453d-b74a-3968976f0f52",
   "metadata": {},
   "outputs": [
    {
     "name": "stdout",
     "output_type": "stream",
     "text": [
      "this is my test id 3\n"
     ]
    }
   ],
   "source": [
    "test(3)"
   ]
  },
  {
   "cell_type": "code",
   "execution_count": 54,
   "id": "c9e4b86a-38fd-4c33-915f-862bbad7d755",
   "metadata": {},
   "outputs": [],
   "source": [
    "thred=[threading.Thread(target=test,args=(i,))for i in [10,1,3]]"
   ]
  },
  {
   "cell_type": "code",
   "execution_count": 55,
   "id": "c34b69fd-106d-4728-ba4a-48b32bdabfaa",
   "metadata": {},
   "outputs": [
    {
     "data": {
      "text/plain": [
       "[<Thread(Thread-59 (test), initial)>,\n",
       " <Thread(Thread-60 (test), initial)>,\n",
       " <Thread(Thread-61 (test), initial)>]"
      ]
     },
     "execution_count": 55,
     "metadata": {},
     "output_type": "execute_result"
    }
   ],
   "source": [
    "thred"
   ]
  },
  {
   "cell_type": "code",
   "execution_count": 56,
   "id": "0e7ba8f4-3e6c-4434-a1bd-036aa8a1bc2c",
   "metadata": {},
   "outputs": [
    {
     "name": "stdout",
     "output_type": "stream",
     "text": [
      "this is my test id 10\n",
      "this is my test id 1\n",
      "this is my test id 3\n"
     ]
    }
   ],
   "source": [
    "for t in thred:\n",
    "    t.start()"
   ]
  },
  {
   "cell_type": "code",
   "execution_count": 57,
   "id": "9956348e-dfab-4d3e-b12a-a111b2ca777b",
   "metadata": {},
   "outputs": [],
   "source": [
    "import urllib.request\n",
    "def file_download(url,filename):\n",
    "    urllib.request.urlretrieve(url,filename)"
   ]
  },
  {
   "cell_type": "code",
   "execution_count": 58,
   "id": "84726ac3-2f81-450e-9017-7f2bbc830914",
   "metadata": {},
   "outputs": [],
   "source": [
    "file_download('https://github.com/itsfoss/text-files/blob/master/agatha.txt',\"testt1.txt\")"
   ]
  },
  {
   "cell_type": "code",
   "execution_count": 59,
   "id": "bb4e0e04-db34-4b86-bc21-13394af59eca",
   "metadata": {},
   "outputs": [],
   "source": [
    "url_list=['https://github.com/itsfoss/text-files/blob/master/agatha.txt','https://github.com/itsfoss/text-files/blob/master/sherlock.txt','https://github.com/itsfoss/text-files/blob/master/sample_log_file.txt']"
   ]
  },
  {
   "cell_type": "code",
   "execution_count": 60,
   "id": "0e98e27d-5fa7-4be0-a683-d0622824c0e7",
   "metadata": {},
   "outputs": [
    {
     "data": {
      "text/plain": [
       "['https://github.com/itsfoss/text-files/blob/master/agatha.txt',\n",
       " 'https://github.com/itsfoss/text-files/blob/master/sherlock.txt',\n",
       " 'https://github.com/itsfoss/text-files/blob/master/sample_log_file.txt']"
      ]
     },
     "execution_count": 60,
     "metadata": {},
     "output_type": "execute_result"
    }
   ],
   "source": [
    "url_list"
   ]
  },
  {
   "cell_type": "code",
   "execution_count": 61,
   "id": "4cb77345-21bd-48b7-b6d3-4026f03e371f",
   "metadata": {},
   "outputs": [],
   "source": [
    "data_file_list=['data1.txt','data2.txt','data3.txt']"
   ]
  },
  {
   "cell_type": "code",
   "execution_count": 62,
   "id": "5c411885-6eed-4422-9aa5-59f66f4e54a6",
   "metadata": {},
   "outputs": [
    {
     "data": {
      "text/plain": [
       "['data1.txt', 'data2.txt', 'data3.txt']"
      ]
     },
     "execution_count": 62,
     "metadata": {},
     "output_type": "execute_result"
    }
   ],
   "source": [
    "data_file_list"
   ]
  },
  {
   "cell_type": "code",
   "execution_count": 63,
   "id": "ec935961-a80b-4e2a-804f-8661a37fec82",
   "metadata": {},
   "outputs": [],
   "source": [
    "thread1=[threading.Thread(target=file_download,args=(url_list[i],data_file_list[i])) for i in range(len(url_list))]"
   ]
  },
  {
   "cell_type": "code",
   "execution_count": 64,
   "id": "97483fc3-1772-4b4e-af10-d7cda45bb7f8",
   "metadata": {},
   "outputs": [],
   "source": [
    "for t in thread1:\n",
    "    t.start()"
   ]
  },
  {
   "cell_type": "code",
   "execution_count": 65,
   "id": "bcba6000-c65d-4792-b173-09289d46d586",
   "metadata": {},
   "outputs": [
    {
     "data": {
      "text/plain": [
       "[<Thread(Thread-62 (file_download), stopped 139808189949504)>,\n",
       " <Thread(Thread-63 (file_download), started 139808198342208)>,\n",
       " <Thread(Thread-64 (file_download), started 139808215127616)>]"
      ]
     },
     "execution_count": 65,
     "metadata": {},
     "output_type": "execute_result"
    }
   ],
   "source": [
    "thread1"
   ]
  },
  {
   "cell_type": "code",
   "execution_count": 9,
   "id": "5061c31b-61a8-4cb0-af9f-cc53166348b6",
   "metadata": {},
   "outputs": [],
   "source": [
    "import time\n",
    "def test2(x):\n",
    "    for i in range(5):\n",
    "        print(\"test1 print value of x %d & print value of i %d\" %(x,i))"
   ]
  },
  {
   "cell_type": "code",
   "execution_count": 67,
   "id": "91c85b75-9233-4a86-a54e-88861b0cae57",
   "metadata": {},
   "outputs": [
    {
     "name": "stdout",
     "output_type": "stream",
     "text": [
      "test1 print value of x 10 & print value of i 0\n",
      "test1 print value of x 10 & print value of i 1\n",
      "test1 print value of x 10 & print value of i 2\n",
      "test1 print value of x 10 & print value of i 3\n",
      "test1 print value of x 10 & print value of i 4\n"
     ]
    }
   ],
   "source": [
    "test2(10)"
   ]
  },
  {
   "cell_type": "code",
   "execution_count": 68,
   "id": "32ed8fb3-9576-4129-ba5a-5d307364275c",
   "metadata": {},
   "outputs": [
    {
     "name": "stdout",
     "output_type": "stream",
     "text": [
      "test1 print value of x 2 & print value of i 0\n",
      "test1 print value of x 2 & print value of i 1\n",
      "test1 print value of x 2 & print value of i 2\n",
      "test1 print value of x 2 & print value of i 3\n",
      "test1 print value of x 2 & print value of i 4\n"
     ]
    }
   ],
   "source": [
    "test2(2)"
   ]
  },
  {
   "cell_type": "code",
   "execution_count": 10,
   "id": "b168ecc2-7d80-4bfc-b657-ad87868f2584",
   "metadata": {},
   "outputs": [],
   "source": [
    "import time\n",
    "def test2(x):\n",
    "    for i in range(5):\n",
    "        print(\"test1 print value of x %d & print value of i %d\" %(x,i))\n",
    "        time.sleep(1)"
   ]
  },
  {
   "cell_type": "code",
   "execution_count": 70,
   "id": "58bb969a-7824-429c-8313-a4891f3f533c",
   "metadata": {},
   "outputs": [
    {
     "name": "stdout",
     "output_type": "stream",
     "text": [
      "test1 print value of x 10 & print value of i 0\n",
      "test1 print value of x 10 & print value of i 1\n",
      "test1 print value of x 10 & print value of i 2\n",
      "test1 print value of x 10 & print value of i 3\n",
      "test1 print value of x 10 & print value of i 4\n"
     ]
    }
   ],
   "source": [
    "test2(10)"
   ]
  },
  {
   "cell_type": "code",
   "execution_count": 71,
   "id": "c5e84f22-886b-4b8e-95e0-68eda47f3f13",
   "metadata": {},
   "outputs": [
    {
     "name": "stdout",
     "output_type": "stream",
     "text": [
      "test1 print value of x 2 & print value of i 0\n",
      "test1 print value of x 2 & print value of i 1\n",
      "test1 print value of x 2 & print value of i 2\n",
      "test1 print value of x 2 & print value of i 3\n",
      "test1 print value of x 2 & print value of i 4\n"
     ]
    }
   ],
   "source": [
    "test2(2)"
   ]
  },
  {
   "cell_type": "code",
   "execution_count": 72,
   "id": "e724b233-d735-4aeb-b26a-829e226ce197",
   "metadata": {},
   "outputs": [],
   "source": [
    "thread2=[threading.Thread(target=test2,args=(i,)) for i in [100,10,20,5]]"
   ]
  },
  {
   "cell_type": "code",
   "execution_count": 73,
   "id": "16999abb-72b7-49f7-8400-96ac4dec4060",
   "metadata": {},
   "outputs": [
    {
     "name": "stdout",
     "output_type": "stream",
     "text": [
      "test1 print value of x 100 & print value of i 0\n",
      "test1 print value of x 10 & print value of i 0\n",
      "test1 print value of x 20 & print value of i 0\n",
      "test1 print value of x 5 & print value of i 0\n"
     ]
    }
   ],
   "source": [
    "for t in thread2:\n",
    "    t.start()"
   ]
  },
  {
   "cell_type": "code",
   "execution_count": 11,
   "id": "60b5fb0d-8e2b-433c-9070-18c9379c7e46",
   "metadata": {},
   "outputs": [],
   "source": [
    "import time\n",
    "def test2(x):\n",
    "    for i in range(5):\n",
    "        print(\"test1 print value of x %d & print value of i %d\" %(x,i))\n",
    "        #time.sleep(1)"
   ]
  },
  {
   "cell_type": "code",
   "execution_count": 75,
   "id": "98fcf917-4983-498a-9325-52afd3b1a006",
   "metadata": {},
   "outputs": [],
   "source": [
    "thread2=[threading.Thread(target=test2,args=(i,)) for i in [100,10,20,5]]"
   ]
  },
  {
   "cell_type": "code",
   "execution_count": 76,
   "id": "06713415-1efc-486f-a3ca-8382c35a94b0",
   "metadata": {},
   "outputs": [
    {
     "name": "stdout",
     "output_type": "stream",
     "text": [
      "test1 print value of x 100 & print value of i 0\n",
      "test1 print value of x 100 & print value of i 1\n",
      "test1 print value of x 100 & print value of i 2\n",
      "test1 print value of x 100 & print value of i 3\n",
      "test1 print value of x 100 & print value of i 4\n",
      "test1 print value of x 10 & print value of i 0\n",
      "test1 print value of x 10 & print value of i 1\n",
      "test1 print value of x 10 & print value of i 2\n",
      "test1 print value of x 10 & print value of i 3\n",
      "test1 print value of x 10 & print value of i 4\n",
      "test1 print value of x 20 & print value of i 0\n",
      "test1 print value of x 20 & print value of i 1\n",
      "test1 print value of x 20 & print value of i 2\n",
      "test1 print value of x 20 & print value of i 3\n",
      "test1 print value of x 20 & print value of i 4\n",
      "test1 print value of x 5 & print value of i 0\n",
      "test1 print value of x 5 & print value of i 1\n",
      "test1 print value of x 5 & print value of i 2\n",
      "test1 print value of x 5 & print value of i 3\n",
      "test1 print value of x 5 & print value of i 4\n"
     ]
    }
   ],
   "source": [
    "for t in thread2:\n",
    "    t.start()"
   ]
  },
  {
   "cell_type": "code",
   "execution_count": 13,
   "id": "6ec67a18-a44f-4e0b-b6b5-0a79dff54e03",
   "metadata": {},
   "outputs": [
    {
     "name": "stdout",
     "output_type": "stream",
     "text": [
      "value of x 1 and value of shared_var 1\n",
      "value of x 2 and value of shared_var 2\n",
      "value of x 3 and value of shared_var 3\n",
      "value of x 4 and value of shared_var 4\n",
      "value of x 4 and value of shared_var 5\n",
      "value of x 5 and value of shared_var 6\n"
     ]
    }
   ],
   "source": [
    "shared_var=0\n",
    "lock_var=threading.Lock()\n",
    "def test6(x):\n",
    "    global shared_var\n",
    "    with lock_var:\n",
    "        shared_var=shared_var+1\n",
    "        print(\"value of x %d and value of shared_var %d\" %(x,shared_var))\n",
    "        time.sleep(1)\n",
    "thread5=[threading.Thread(target=test6,args=(i,)) for i in [1,2,3,4,4,5]]\n",
    "for t in thread5:\n",
    "     t.start()"
   ]
  },
  {
   "cell_type": "code",
   "execution_count": null,
   "id": "3da6c3f9-6877-452a-ac05-b89eccb2dbfa",
   "metadata": {},
   "outputs": [],
   "source": []
  },
  {
   "cell_type": "code",
   "execution_count": null,
   "id": "f0a54f49-ae5f-43e1-8062-d128cb0c7fee",
   "metadata": {},
   "outputs": [],
   "source": []
  }
 ],
 "metadata": {
  "kernelspec": {
   "display_name": "Python 3 (ipykernel)",
   "language": "python",
   "name": "python3"
  },
  "language_info": {
   "codemirror_mode": {
    "name": "ipython",
    "version": 3
   },
   "file_extension": ".py",
   "mimetype": "text/x-python",
   "name": "python",
   "nbconvert_exporter": "python",
   "pygments_lexer": "ipython3",
   "version": "3.10.8"
  }
 },
 "nbformat": 4,
 "nbformat_minor": 5
}
