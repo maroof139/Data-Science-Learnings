{
 "cells": [
  {
   "cell_type": "markdown",
   "id": "5c02cebd-b96c-49f5-b036-cdc33aec4e42",
   "metadata": {},
   "source": [
    "## 1. Create a vehicle class with an init method having instance variables as name_of_vehicle, max_speed and average_of_vehicle."
   ]
  },
  {
   "cell_type": "code",
   "execution_count": 1,
   "id": "c62efdf0-ac79-49ad-9e52-7a6fe407ad2b",
   "metadata": {},
   "outputs": [],
   "source": [
    "class vehicle:\n",
    "    def __init__(self,name_of_vehicle,max_speed,average_of_vehicle):\n",
    "        self.name_of_vehicle=name_of_vehicle\n",
    "        self.max_speed=max_speed\n",
    "        self.average_of_vehicle=average_of_vehicle"
   ]
  },
  {
   "cell_type": "code",
   "execution_count": 15,
   "id": "bb66f91a-6823-4b33-b8b0-ce16a5db8c64",
   "metadata": {},
   "outputs": [],
   "source": [
    "obj_vehicle=vehicle(\"Innova\",160,20)"
   ]
  },
  {
   "cell_type": "code",
   "execution_count": 19,
   "id": "aa4a368f-b1c5-426d-b976-26b364f3ab77",
   "metadata": {},
   "outputs": [
    {
     "data": {
      "text/plain": [
       "160"
      ]
     },
     "execution_count": 19,
     "metadata": {},
     "output_type": "execute_result"
    }
   ],
   "source": [
    "obj_vehicle.max_speed"
   ]
  },
  {
   "cell_type": "code",
   "execution_count": 20,
   "id": "5b5f5c8d-7d67-4aa0-9c76-f896c5b4a0a8",
   "metadata": {},
   "outputs": [
    {
     "data": {
      "text/plain": [
       "'Innova'"
      ]
     },
     "execution_count": 20,
     "metadata": {},
     "output_type": "execute_result"
    }
   ],
   "source": [
    "obj_vehicle.name_of_vehicle"
   ]
  },
  {
   "cell_type": "code",
   "execution_count": 21,
   "id": "5124f7dd-8f7c-4abe-a75f-45c514ecf055",
   "metadata": {},
   "outputs": [
    {
     "data": {
      "text/plain": [
       "20"
      ]
     },
     "execution_count": 21,
     "metadata": {},
     "output_type": "execute_result"
    }
   ],
   "source": [
    "obj_vehicle.average_of_vehicle"
   ]
  },
  {
   "cell_type": "markdown",
   "id": "75f4235f-ac02-4cb6-9d1f-505937fff361",
   "metadata": {},
   "source": [
    "## 2. Create a child class car from the vehicle class created in Que 1, which will inherit the vehicle class. Create a method named seating_capacity which takes capacity as an argument and returns the name of the vehicle and its seating capacity."
   ]
  },
  {
   "cell_type": "code",
   "execution_count": 2,
   "id": "132598a0-9989-4b40-a5c4-cb39275fa7a7",
   "metadata": {},
   "outputs": [],
   "source": [
    "class car(vehicle):\n",
    "    def seating_capacity(self,seating_capacity):\n",
    "        self.seating_capacity=seating_capacity"
   ]
  },
  {
   "cell_type": "code",
   "execution_count": 11,
   "id": "03aef1bb-da1f-4578-9e16-9ce67e9082a8",
   "metadata": {},
   "outputs": [],
   "source": [
    "obj_car=car(\"Innova\",160,20)"
   ]
  },
  {
   "cell_type": "code",
   "execution_count": 12,
   "id": "7faaf691-0cfc-492d-95dd-5fc99c2d35f7",
   "metadata": {},
   "outputs": [],
   "source": [
    "obj_car.seating_capacity(6)"
   ]
  },
  {
   "cell_type": "code",
   "execution_count": 13,
   "id": "583c8e53-ebda-4905-8ea2-a2fcdc2ebb4e",
   "metadata": {},
   "outputs": [
    {
     "data": {
      "text/plain": [
       "6"
      ]
     },
     "execution_count": 13,
     "metadata": {},
     "output_type": "execute_result"
    }
   ],
   "source": [
    "obj_car.seating_capacity"
   ]
  },
  {
   "cell_type": "code",
   "execution_count": 18,
   "id": "e88057a1-f917-4d43-8d41-b9c57936b4af",
   "metadata": {},
   "outputs": [
    {
     "data": {
      "text/plain": [
       "20"
      ]
     },
     "execution_count": 18,
     "metadata": {},
     "output_type": "execute_result"
    }
   ],
   "source": [
    "obj_car.average_of_vehicle"
   ]
  },
  {
   "cell_type": "markdown",
   "id": "d406169e-41f3-483b-b523-582584715f1c",
   "metadata": {},
   "source": [
    "## 3. What is multiple inheritance? Write a python code to demonstrate multiple inheritance."
   ]
  },
  {
   "cell_type": "markdown",
   "id": "2818f8d8-460f-46a5-83ed-08864432ee21",
   "metadata": {},
   "source": [
    "### When a class is derived from more than one base class it is called multiple Inheritance. The derived class inherits all the features of the base case. Example :"
   ]
  },
  {
   "cell_type": "code",
   "execution_count": 24,
   "id": "9f4c04f8-ec6c-437d-8078-f40502385c55",
   "metadata": {},
   "outputs": [],
   "source": [
    "class Mammal:\n",
    "    def mammal_info(self):\n",
    "        print(\"Mammals can give direct birth.\")"
   ]
  },
  {
   "cell_type": "code",
   "execution_count": 25,
   "id": "d0449b7e-d4d0-4cd2-8573-f6e51ca26aa3",
   "metadata": {},
   "outputs": [],
   "source": [
    "class WingedAnimal:\n",
    "    def winged_animal_info(self):\n",
    "        print(\"Winged animals can flap.\")"
   ]
  },
  {
   "cell_type": "code",
   "execution_count": 26,
   "id": "e6e97be4-a892-4cc7-815c-553c888d2b2e",
   "metadata": {},
   "outputs": [],
   "source": [
    "class Bat(Mammal, WingedAnimal):\n",
    "    pass"
   ]
  },
  {
   "cell_type": "code",
   "execution_count": 27,
   "id": "79ceb861-7af2-41bc-8fdc-f904abdd69ab",
   "metadata": {},
   "outputs": [],
   "source": [
    "b1 = Bat()"
   ]
  },
  {
   "cell_type": "code",
   "execution_count": 29,
   "id": "00fa1f7f-0338-4119-8cf3-98dee1e273e9",
   "metadata": {},
   "outputs": [
    {
     "name": "stdout",
     "output_type": "stream",
     "text": [
      "Mammals can give direct birth.\n"
     ]
    }
   ],
   "source": [
    "b1.mammal_info()"
   ]
  },
  {
   "cell_type": "code",
   "execution_count": 30,
   "id": "e3beb01f-91f1-4ce8-afbf-be4b6120a128",
   "metadata": {},
   "outputs": [
    {
     "name": "stdout",
     "output_type": "stream",
     "text": [
      "Winged animals can flap.\n"
     ]
    }
   ],
   "source": [
    "b1.winged_animal_info()"
   ]
  },
  {
   "cell_type": "markdown",
   "id": "86f8fa1a-ef54-4570-b1b3-d4ad193aa5d3",
   "metadata": {},
   "source": [
    "## 4. What are getter and setter in python? Create a class and create a getter and a setter method in this class."
   ]
  },
  {
   "cell_type": "markdown",
   "id": "c066ab81-c2e9-4867-b4b2-7914d0c609e2",
   "metadata": {},
   "source": [
    "### "
   ]
  },
  {
   "cell_type": "markdown",
   "id": "7965f71b-cf41-42df-b984-0415b7badf1e",
   "metadata": {},
   "source": [
    "### Getters: These are the methods used in Object-Oriented Programming (OOPS) which helps to access the private attributes from a class.\n",
    "### Setters: These are the methods used in OOPS feature which helps to set the value to private attributes in a class."
   ]
  },
  {
   "cell_type": "code",
   "execution_count": 3,
   "id": "47d72616-3920-4fe3-bc7a-fa43ca3ebc22",
   "metadata": {},
   "outputs": [],
   "source": [
    "class Friend:    \n",
    "    def __init__(self):\n",
    "        self.job = \"None\"\n",
    "\n",
    "Alice = Friend()\n",
    "Bob = Friend()"
   ]
  },
  {
   "cell_type": "code",
   "execution_count": 4,
   "id": "41264f56-dfac-46b3-babd-bff9b2411efa",
   "metadata": {},
   "outputs": [
    {
     "name": "stdout",
     "output_type": "stream",
     "text": [
      "Builder\n",
      "Carpenter\n"
     ]
    }
   ],
   "source": [
    "class Friend:\n",
    "    def __init__(self):\n",
    "        self.job = \"None\"\n",
    "\n",
    "    def getJob(self):\n",
    "        return self.job\n",
    "\n",
    "    def setJob(self, job):\n",
    "        self.job = job\n",
    "\n",
    "Alice = Friend()\n",
    "Bob = Friend()\n",
    "\n",
    "Alice.setJob(\"Carpenter\")\n",
    "Bob.setJob(\"Builder\")\n",
    "\n",
    "print(Bob.job)\n",
    "print(Alice.job)"
   ]
  },
  {
   "cell_type": "markdown",
   "id": "c671c29e-fcda-4be6-a44f-4cedf02b37e0",
   "metadata": {},
   "source": [
    "## 5.What is method overriding in python? Write a python code to demonstrate method overriding."
   ]
  },
  {
   "cell_type": "markdown",
   "id": "109824fa-e70e-4662-8c48-5b3a56c5edbc",
   "metadata": {},
   "source": [
    "## Method overriding is an ability of any object-oriented programming language that allows a subclass or child class to provide a specific implementation of a method that is already provided by one of its super-classes or parent classes. When a method in a subclass has the same name, same parameters or signature and same return type(or sub-type) as a method in its super-class, then the method in the subclass is said to override the method in the super-class."
   ]
  },
  {
   "cell_type": "code",
   "execution_count": 5,
   "id": "d2d0abad-5f2e-4b05-aaa5-cf684353f459",
   "metadata": {},
   "outputs": [],
   "source": [
    "class Parent1():  \n",
    "    def show(self): \n",
    "        print(\"Inside Parent1\")"
   ]
  },
  {
   "cell_type": "code",
   "execution_count": 6,
   "id": "97225cbb-a2c9-468c-91b8-745deb681cf8",
   "metadata": {},
   "outputs": [],
   "source": [
    "class Parent2(): \n",
    "    def display(self): \n",
    "        print(\"Inside Parent2\") "
   ]
  },
  {
   "cell_type": "code",
   "execution_count": 8,
   "id": "8b87f5b1-3534-45e4-a78b-0c5baf568a80",
   "metadata": {},
   "outputs": [],
   "source": [
    "class Child(Parent1, Parent2): \n",
    "    def show(self): \n",
    "        print(\"Inside Child\")"
   ]
  },
  {
   "cell_type": "code",
   "execution_count": 9,
   "id": "de970326-233f-45fd-8c8c-9c9fc9fbf6d5",
   "metadata": {},
   "outputs": [],
   "source": [
    "obj = Child() "
   ]
  },
  {
   "cell_type": "code",
   "execution_count": 10,
   "id": "f72551e4-2d8c-4d16-82b4-ba542a9573a8",
   "metadata": {},
   "outputs": [
    {
     "name": "stdout",
     "output_type": "stream",
     "text": [
      "Inside Child\n"
     ]
    }
   ],
   "source": [
    "obj.show() "
   ]
  },
  {
   "cell_type": "code",
   "execution_count": 11,
   "id": "0d5aaea4-7e4d-43eb-9dd8-9a2b20534dcc",
   "metadata": {},
   "outputs": [
    {
     "name": "stdout",
     "output_type": "stream",
     "text": [
      "Inside Parent2\n"
     ]
    }
   ],
   "source": [
    "obj.display() "
   ]
  },
  {
   "cell_type": "code",
   "execution_count": null,
   "id": "c671746a-fe1f-4da8-bd61-f88ed6e66de5",
   "metadata": {},
   "outputs": [],
   "source": []
  }
 ],
 "metadata": {
  "kernelspec": {
   "display_name": "Python 3 (ipykernel)",
   "language": "python",
   "name": "python3"
  },
  "language_info": {
   "codemirror_mode": {
    "name": "ipython",
    "version": 3
   },
   "file_extension": ".py",
   "mimetype": "text/x-python",
   "name": "python",
   "nbconvert_exporter": "python",
   "pygments_lexer": "ipython3",
   "version": "3.10.8"
  }
 },
 "nbformat": 4,
 "nbformat_minor": 5
}
