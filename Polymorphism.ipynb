{
 "cells": [
  {
   "cell_type": "code",
   "execution_count": 1,
   "id": "e7d05d94-cd3f-41e3-b337-c3b5ce3f4c13",
   "metadata": {},
   "outputs": [],
   "source": [
    "def test(a,b):\n",
    "    return a+b"
   ]
  },
  {
   "cell_type": "code",
   "execution_count": 2,
   "id": "e0715dff-3513-49c3-a7b8-dbd3148608bd",
   "metadata": {},
   "outputs": [
    {
     "data": {
      "text/plain": [
       "9"
      ]
     },
     "execution_count": 2,
     "metadata": {},
     "output_type": "execute_result"
    }
   ],
   "source": [
    "test(4,5)"
   ]
  },
  {
   "cell_type": "code",
   "execution_count": 3,
   "id": "165856d3-94fc-4fc9-8758-9f8ee91bdc0a",
   "metadata": {},
   "outputs": [
    {
     "data": {
      "text/plain": [
       "'SudhKumar'"
      ]
     },
     "execution_count": 3,
     "metadata": {},
     "output_type": "execute_result"
    }
   ],
   "source": [
    "test(\"Sudh\",\"Kumar\")"
   ]
  },
  {
   "cell_type": "code",
   "execution_count": 4,
   "id": "4d2514b1-3ddf-4ce4-a30f-b2f0fc610ded",
   "metadata": {},
   "outputs": [
    {
     "data": {
      "text/plain": [
       "[2, 3, 4, 5, 5, 4, 5, 6, 7]"
      ]
     },
     "execution_count": 4,
     "metadata": {},
     "output_type": "execute_result"
    }
   ],
   "source": [
    "test([2,3,4,5,5],[4,5,6,7])"
   ]
  },
  {
   "cell_type": "code",
   "execution_count": 5,
   "id": "1c91d9ab-a239-4be7-a359-dfcf0b3a30d1",
   "metadata": {},
   "outputs": [],
   "source": [
    "class data_science:\n",
    "    def syllabus(self):\n",
    "        print(\"this is my method for data science syllabus\")"
   ]
  },
  {
   "cell_type": "code",
   "execution_count": 6,
   "id": "bf4f06ac-99b6-42b5-adad-5a9161db80b0",
   "metadata": {},
   "outputs": [],
   "source": [
    "class web_dev:\n",
    "    def syllabus(self):\n",
    "        print(\"this is my method for web dev\")"
   ]
  },
  {
   "cell_type": "code",
   "execution_count": 7,
   "id": "4e873f3f-4b3d-4dc7-bea7-38947af15b00",
   "metadata": {},
   "outputs": [],
   "source": [
    "def class_parser(class_obj):\n",
    "    for i in class_obj:\n",
    "        i.syllabus()"
   ]
  },
  {
   "cell_type": "code",
   "execution_count": 8,
   "id": "232a6294-ec85-4737-b825-eb45e3738469",
   "metadata": {},
   "outputs": [],
   "source": [
    "obj_data_science=data_science()"
   ]
  },
  {
   "cell_type": "code",
   "execution_count": 9,
   "id": "6a8e6e09-40ce-4d6d-890d-54fedad95ab4",
   "metadata": {},
   "outputs": [],
   "source": [
    "obj_web_dev=web_dev()"
   ]
  },
  {
   "cell_type": "code",
   "execution_count": 12,
   "id": "204f80ca-1218-4c0f-8877-f31d64c5f6bc",
   "metadata": {},
   "outputs": [],
   "source": [
    "class_obj=[obj_data_science,obj_web_dev]"
   ]
  },
  {
   "cell_type": "code",
   "execution_count": 14,
   "id": "78fedf78-2ff2-47cf-9304-80221661baa6",
   "metadata": {},
   "outputs": [
    {
     "name": "stdout",
     "output_type": "stream",
     "text": [
      "this is my method for data science syllabus\n",
      "this is my method for web dev\n"
     ]
    }
   ],
   "source": [
    "class_parser(class_obj)"
   ]
  },
  {
   "cell_type": "code",
   "execution_count": null,
   "id": "96f9c3cd-7669-47cc-af3d-511b99fd8dae",
   "metadata": {},
   "outputs": [],
   "source": []
  }
 ],
 "metadata": {
  "kernelspec": {
   "display_name": "Python 3 (ipykernel)",
   "language": "python",
   "name": "python3"
  },
  "language_info": {
   "codemirror_mode": {
    "name": "ipython",
    "version": 3
   },
   "file_extension": ".py",
   "mimetype": "text/x-python",
   "name": "python",
   "nbconvert_exporter": "python",
   "pygments_lexer": "ipython3",
   "version": "3.10.8"
  }
 },
 "nbformat": 4,
 "nbformat_minor": 5
}
