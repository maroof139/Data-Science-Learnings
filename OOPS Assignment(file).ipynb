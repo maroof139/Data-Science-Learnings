{
 "cells": [
  {
   "cell_type": "markdown",
   "id": "343ad143-271f-4a3e-beb7-11d3278b8719",
   "metadata": {},
   "source": [
    "## 1. Which function is used to open a file? What are the different modes of opening a file? Explain each mode of file opening."
   ]
  },
  {
   "cell_type": "markdown",
   "id": "b9cf08de-88dc-4fcc-a056-c1f00ce15b5a",
   "metadata": {},
   "source": [
    "### We can open open a file using the open () function. The different modes of opening a file are Read only, Write Only, Append only, Write and Read, Read and Write, Append and Read\n",
    "### 1)'r' - opens a file for only Reading\n",
    "### 2)'w' - opens a file for writing\n",
    "### 3)'a' - to open a file in append mode\n",
    "### 4)'w+' - opens a file for both reading and writing\n",
    "### 5)'r+' - opens a file for both reading and writing\n",
    "### 6)'a+' - opens a file for both reading and writing and also data being written is inserted at the end.\n",
    "### Simple example to show how to open a new file is: "
   ]
  },
  {
   "cell_type": "code",
   "execution_count": 1,
   "id": "7a4cdda3-9546-4ee6-b86b-96f301992794",
   "metadata": {},
   "outputs": [],
   "source": [
    "new=open(\"test_1.txt\",\"w\")"
   ]
  },
  {
   "cell_type": "code",
   "execution_count": 2,
   "id": "2b4ad04b-7b8e-413b-8c1d-8b470056d09d",
   "metadata": {},
   "outputs": [
    {
     "data": {
      "text/plain": [
       "264"
      ]
     },
     "execution_count": 2,
     "metadata": {},
     "output_type": "execute_result"
    }
   ],
   "source": [
    "new.write(\"What is data science? Data science combines math and statistics, specialized programming, advanced analytics, artificial intelligence (AI), and machine learning with specific subject matter expertise to uncover actionable insights hidden in an organization's data.\")"
   ]
  },
  {
   "cell_type": "code",
   "execution_count": 3,
   "id": "6a622fb2-4a60-431b-ba00-686ef1166c42",
   "metadata": {},
   "outputs": [],
   "source": [
    "new.close()"
   ]
  },
  {
   "cell_type": "markdown",
   "id": "99245612-893b-48f1-ad51-441c74538406",
   "metadata": {},
   "source": [
    "## 2. Why close() function is used? Why is it important to close a file?"
   ]
  },
  {
   "cell_type": "markdown",
   "id": "54bb2d75-c02b-4122-a97b-cc3155c37575",
   "metadata": {},
   "source": [
    "### Close function is used to close a file.Though Python automatically closes a file if the reference object of the file is allocated to another file, it is a standard practice to close an opened file as a closed file reduces the risk of being unwarrantedly modified or read. Python has a close() method to close a file."
   ]
  },
  {
   "cell_type": "markdown",
   "id": "0a2fb4ef-423c-4a08-af91-4a18ea56fba9",
   "metadata": {},
   "source": [
    "## 3. Write a python program to create a text file. Write ‘I want to become a Data Scientist’ in that file. Then close the file. Open this file and read the content of the file."
   ]
  },
  {
   "cell_type": "code",
   "execution_count": 6,
   "id": "57efd283-228e-4cc1-8293-db5d5dd2d108",
   "metadata": {},
   "outputs": [],
   "source": [
    "f=open(\"Assignment.txt\",'w')"
   ]
  },
  {
   "cell_type": "code",
   "execution_count": 7,
   "id": "d0bb041b-8708-4e74-8839-a3bf23549b68",
   "metadata": {},
   "outputs": [
    {
     "data": {
      "text/plain": [
       "33"
      ]
     },
     "execution_count": 7,
     "metadata": {},
     "output_type": "execute_result"
    }
   ],
   "source": [
    "f.write(\"I want to become a Data Scientist\")"
   ]
  },
  {
   "cell_type": "code",
   "execution_count": 8,
   "id": "3cc0935f-1286-4f09-b975-3f620e715936",
   "metadata": {},
   "outputs": [],
   "source": [
    "f.close()"
   ]
  },
  {
   "cell_type": "code",
   "execution_count": 9,
   "id": "fdc60ea0-a2e7-477e-940c-d0bef1db14d8",
   "metadata": {},
   "outputs": [],
   "source": [
    "read_file=open(\"Assignment.txt\")"
   ]
  },
  {
   "cell_type": "code",
   "execution_count": 10,
   "id": "59ad5aab-825b-4202-b846-a187526d0333",
   "metadata": {},
   "outputs": [
    {
     "data": {
      "text/plain": [
       "'I want to become a Data Scientist'"
      ]
     },
     "execution_count": 10,
     "metadata": {},
     "output_type": "execute_result"
    }
   ],
   "source": [
    "read_file.read()"
   ]
  },
  {
   "cell_type": "code",
   "execution_count": 11,
   "id": "23791c48-084e-48e6-9e27-d8d838b40eb6",
   "metadata": {},
   "outputs": [
    {
     "data": {
      "text/plain": [
       "''"
      ]
     },
     "execution_count": 11,
     "metadata": {},
     "output_type": "execute_result"
    }
   ],
   "source": [
    "read_file.read()"
   ]
  },
  {
   "cell_type": "markdown",
   "id": "98725bdb-9466-4a51-a98d-29d045924201",
   "metadata": {},
   "source": [
    "## 4. Explain the following with python code: read(), readline() and readlines()."
   ]
  },
  {
   "cell_type": "markdown",
   "id": "596f656d-468d-4bc2-935b-ca2338ccb693",
   "metadata": {},
   "source": [
    "### Read() - The read method reads the entire contents of a file and returns it as a string."
   ]
  },
  {
   "cell_type": "code",
   "execution_count": 6,
   "id": "c4af8c67-4ed1-4f96-8062-94eada348f7b",
   "metadata": {},
   "outputs": [],
   "source": [
    "read_file=open(\"Assignment.txt\")"
   ]
  },
  {
   "cell_type": "code",
   "execution_count": 7,
   "id": "3521c582-4936-4a37-b8d0-de6ab352ad96",
   "metadata": {},
   "outputs": [
    {
     "data": {
      "text/plain": [
       "'I want to become a Data Scientist'"
      ]
     },
     "execution_count": 7,
     "metadata": {},
     "output_type": "execute_result"
    }
   ],
   "source": [
    "read_file.read()"
   ]
  },
  {
   "cell_type": "markdown",
   "id": "2fa56079-cfae-4d16-947d-09873ba903ce",
   "metadata": {},
   "source": [
    "### Readline ( ): Reads a line of the file and returns in the form of a string. For specified n, reads at most n bytes. readline ( ) function does not read more than one line at a time; even if n exceeds, it reads only one line. Readline ( ) function reads a line of the file and returns it in the string. It takes an integer value n as a parameter to read the number of characters read at a time. Readline ( ) method is very efficient in reading the data from a very large file because it fetches the data line by line and returns and prints on the screen. Readline ( ) returns the next line of the file, which contains a newline character in the end. Also, if the end of the file is reached, it will return an empty string."
   ]
  },
  {
   "cell_type": "code",
   "execution_count": 21,
   "id": "02093ebc-c125-4171-b4d8-2fe421ba1157",
   "metadata": {},
   "outputs": [
    {
     "name": "stdout",
     "output_type": "stream",
     "text": [
      "What is data science? Data science combines math and statistics, specialized programming, advanced analytics, artificial intelligence (AI), and machine learning with specific subject matter expertise to uncover actionable insights hidden in an organization's data.\n",
      "\n"
     ]
    }
   ],
   "source": [
    "file = open(\"test_1.txt\", \"r\")\n",
    "example1 = file.readline()\n",
    "example2 = file.readline(5)\n",
    "print(example1)\n",
    "print(example2)"
   ]
  },
  {
   "cell_type": "code",
   "execution_count": 12,
   "id": "1a08cbc4-3d14-477b-9d30-98d2a6c92e52",
   "metadata": {},
   "outputs": [],
   "source": [
    "file.close()"
   ]
  },
  {
   "cell_type": "markdown",
   "id": "ce0ec65b-ed59-403b-8394-7484602d7522",
   "metadata": {},
   "source": [
    "### readlines ( ): Reads all the lines and returns them as a string element in a list. Readlines ( ) is used to read all the lines at a single go and then return them as a string element in a list. This function can be used for small files, as it reads the whole file content to the memory, then splits it into separate lines. Using the strip () function, we can iterate over the list and strip the newline ' \\n ' character using the strip ( ) function."
   ]
  },
  {
   "cell_type": "code",
   "execution_count": 24,
   "id": "fef17a53-209a-476d-8b49-4aa4ebd53043",
   "metadata": {},
   "outputs": [
    {
     "name": "stdout",
     "output_type": "stream",
     "text": [
      "[\"What is data science? Data science combines math and statistics, specialized programming, advanced analytics, artificial intelligence (AI), and machine learning with specific subject matter expertise to uncover actionable insights hidden in an organization's data.\"]\n"
     ]
    }
   ],
   "source": [
    "file = open(\"test_1.txt\", \"r\")\n",
    "example1 = file.readlines()\n",
    "print(example1)"
   ]
  },
  {
   "cell_type": "code",
   "execution_count": 25,
   "id": "9476afe2-d689-4152-ae08-5259f65b1fea",
   "metadata": {},
   "outputs": [
    {
     "name": "stdout",
     "output_type": "stream",
     "text": [
      "[\"What is data science? Data science combines math and statistics, specialized programming, advanced analytics, artificial intelligence (AI), and machine learning with specific subject matter expertise to uncover actionable insights hidden in an organization's data.\"]\n"
     ]
    }
   ],
   "source": [
    "file = open(\"test_1.txt\", \"r\")\n",
    "example2 = file.readlines(3)\n",
    "print(example2)"
   ]
  },
  {
   "cell_type": "markdown",
   "id": "4278c068-5553-4647-802e-79c985199b23",
   "metadata": {},
   "source": [
    "## 5. Explain why with statement is used with open(). What is the advantage of using with statement and open() together?"
   ]
  },
  {
   "cell_type": "markdown",
   "id": "984e17dc-edf7-4dad-9c0f-d9cf5d23e893",
   "metadata": {},
   "source": [
    "### Using with means that the file will be closed as soon as you leave the block. This is beneficial because closing a file is something that can easily be forgotten and ties up resources that you no longer need.\n",
    "### The “with statement” creates an execution block and the object created in the with statement will be destroyed when the execution block ends. Advantages of calling open() using “with statement”: Files gets closed automatically. Fewer chances of bugs due to coding error."
   ]
  },
  {
   "cell_type": "markdown",
   "id": "6f374ef4-1031-40a0-8675-0251ad6d4fb4",
   "metadata": {},
   "source": [
    "## 6. Explain the write() and writelines() functions. Give a suitable example."
   ]
  },
  {
   "cell_type": "markdown",
   "id": "e3dce490-bc11-4485-a460-5f9a1cd87ef3",
   "metadata": {},
   "source": [
    "### The write() function will write the content in the file without adding any extra characters. The string that is passed to the write() function is written into the opened file. The string may include numbers, special characters, or symbols. While writing data to a file, we must know that the write function does not add a newline character(\\n) to the end of the string. The write() function returns None."
   ]
  },
  {
   "cell_type": "code",
   "execution_count": 26,
   "id": "a68fc533-c5ca-4110-8f71-da31e9c5468b",
   "metadata": {},
   "outputs": [
    {
     "name": "stdin",
     "output_type": "stream",
     "text": [
      "Enter the name of the employee:  Maroof\n",
      "Enter the name of the employee:  Rahul\n",
      "Enter the name of the employee:  Aiman\n"
     ]
    },
    {
     "name": "stdout",
     "output_type": "stream",
     "text": [
      "Data is written into the file.\n"
     ]
    }
   ],
   "source": [
    "file = open(\"Employees.txt\", \"w\") \n",
    "  \n",
    "for i in range(3): \n",
    "    name = input(\"Enter the name of the employee: \") \n",
    "    file.write(name) \n",
    "    file.write(\"\\n\") \n",
    "     \n",
    "file.close() \n",
    "  \n",
    "print(\"Data is written into the file.\") "
   ]
  },
  {
   "cell_type": "markdown",
   "id": "52cdce25-9e00-45ec-a381-149a9343fffd",
   "metadata": {},
   "source": [
    "### The Writeline() function writes the content of a list to a file. The list of strings that is passed to the writelines() function is written into the opened file. Similar to the write() function, the writelines() function does not add a newline character(\\n) to the end of the string."
   ]
  },
  {
   "cell_type": "code",
   "execution_count": 28,
   "id": "2b6a288f-ba0a-4288-b4d0-775ebe3229a0",
   "metadata": {},
   "outputs": [
    {
     "name": "stdin",
     "output_type": "stream",
     "text": [
      "Enter the name of the employee:  Maroof\n",
      "Enter the name of the employee:  Hasan\n"
     ]
    },
    {
     "name": "stdout",
     "output_type": "stream",
     "text": [
      "Data is written into the file.\n"
     ]
    }
   ],
   "source": [
    "file1 = open(\"Employees.txt\", \"w\") \n",
    "lst = [] \n",
    "for i in range(2): \n",
    "    name = input(\"Enter the name of the employee: \") \n",
    "    lst.append(name + '\\n') \n",
    "      \n",
    "file1.writelines(lst) \n",
    "file1.close() \n",
    "print(\"Data is written into the file.\") "
   ]
  },
  {
   "cell_type": "code",
   "execution_count": null,
   "id": "2bd911e2-9605-4af3-8c76-b2c48a7c51c1",
   "metadata": {},
   "outputs": [],
   "source": []
  }
 ],
 "metadata": {
  "kernelspec": {
   "display_name": "Python 3 (ipykernel)",
   "language": "python",
   "name": "python3"
  },
  "language_info": {
   "codemirror_mode": {
    "name": "ipython",
    "version": 3
   },
   "file_extension": ".py",
   "mimetype": "text/x-python",
   "name": "python",
   "nbconvert_exporter": "python",
   "pygments_lexer": "ipython3",
   "version": "3.10.8"
  }
 },
 "nbformat": 4,
 "nbformat_minor": 5
}
