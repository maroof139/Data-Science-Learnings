{
 "cells": [
  {
   "cell_type": "markdown",
   "id": "33b4502a-e084-4ee6-a025-f382809c8642",
   "metadata": {},
   "source": [
    "Numpy - Sort, Search and Counting Functions"
   ]
  },
  {
   "cell_type": "code",
   "execution_count": 1,
   "id": "954c4329-f683-45fd-ab00-287e545d5047",
   "metadata": {},
   "outputs": [],
   "source": [
    "import numpy as np"
   ]
  },
  {
   "cell_type": "code",
   "execution_count": 2,
   "id": "b8685d5f-2102-4ae6-a2a8-6986fe7c19b4",
   "metadata": {},
   "outputs": [],
   "source": [
    "arr=np.array([4,2,8,5,3,9,12,56])"
   ]
  },
  {
   "cell_type": "code",
   "execution_count": 3,
   "id": "3c048241-d9e5-4d76-bb0c-d82f35f7e2f5",
   "metadata": {},
   "outputs": [
    {
     "data": {
      "text/plain": [
       "array([ 2,  3,  4,  5,  8,  9, 12, 56])"
      ]
     },
     "execution_count": 3,
     "metadata": {},
     "output_type": "execute_result"
    }
   ],
   "source": [
    "np.sort(arr)"
   ]
  },
  {
   "cell_type": "code",
   "execution_count": 4,
   "id": "649a4ca8-afee-4f8e-8420-85622ad9be58",
   "metadata": {},
   "outputs": [
    {
     "data": {
      "text/plain": [
       "5"
      ]
     },
     "execution_count": 4,
     "metadata": {},
     "output_type": "execute_result"
    }
   ],
   "source": [
    "#searchsorted function in numpy is used this way - np.searchsorted(in this case we have data stored in arr variable, and \n",
    "#then we pass the element we want to insert), this way it gives indice where the element needs to be placed so that order\n",
    "#is maintained\n",
    "np.searchsorted(arr,6)"
   ]
  },
  {
   "cell_type": "code",
   "execution_count": 5,
   "id": "6fa4eeaf-d5e9-426f-a78e-fbb90d1abe5d",
   "metadata": {},
   "outputs": [
    {
     "data": {
      "text/plain": [
       "6"
      ]
     },
     "execution_count": 5,
     "metadata": {},
     "output_type": "execute_result"
    }
   ],
   "source": [
    "np.searchsorted(arr,12)"
   ]
  },
  {
   "cell_type": "code",
   "execution_count": 6,
   "id": "a397546b-70af-4d8d-aead-2c7df3d1e224",
   "metadata": {},
   "outputs": [
    {
     "data": {
      "text/plain": [
       "6"
      ]
     },
     "execution_count": 6,
     "metadata": {},
     "output_type": "execute_result"
    }
   ],
   "source": [
    "np.searchsorted(arr,11)"
   ]
  },
  {
   "cell_type": "code",
   "execution_count": 7,
   "id": "6d767450-3a26-4a56-9079-c84628763a9d",
   "metadata": {},
   "outputs": [
    {
     "data": {
      "text/plain": [
       "7"
      ]
     },
     "execution_count": 7,
     "metadata": {},
     "output_type": "execute_result"
    }
   ],
   "source": [
    "np.searchsorted(arr,43)"
   ]
  },
  {
   "cell_type": "code",
   "execution_count": 8,
   "id": "1caffe53-6f65-491e-9312-52b45a38909a",
   "metadata": {},
   "outputs": [],
   "source": [
    "arr1=np.array([0,324,645,65,6,6,0,0,0,234])"
   ]
  },
  {
   "cell_type": "code",
   "execution_count": 9,
   "id": "15a932d0-71c5-461f-b545-d004614a7565",
   "metadata": {},
   "outputs": [
    {
     "data": {
      "text/plain": [
       "array([  0, 324, 645,  65,   6,   6,   0,   0,   0, 234])"
      ]
     },
     "execution_count": 9,
     "metadata": {},
     "output_type": "execute_result"
    }
   ],
   "source": [
    "arr1"
   ]
  },
  {
   "cell_type": "code",
   "execution_count": 10,
   "id": "0f4decbd-4baf-49a6-9dfe-f45559c88fad",
   "metadata": {},
   "outputs": [
    {
     "data": {
      "text/plain": [
       "6"
      ]
     },
     "execution_count": 10,
     "metadata": {},
     "output_type": "execute_result"
    }
   ],
   "source": [
    "#to find nonzero elements we use np.count_nonzero, this gives the count of elements that are non zero\n",
    "np.count_nonzero(arr1)"
   ]
  },
  {
   "cell_type": "code",
   "execution_count": 11,
   "id": "b0c0f376-c571-40c3-b148-644e4302617f",
   "metadata": {},
   "outputs": [
    {
     "data": {
      "text/plain": [
       "(array([1, 2, 3, 4, 5, 9]),)"
      ]
     },
     "execution_count": 11,
     "metadata": {},
     "output_type": "execute_result"
    }
   ],
   "source": [
    "#where function in numpy - we use it this way - np.where(pass the variable where are data is stored, in this case arr1> 1  \n",
    "#or 2 or any condition)this will return all the indexes where are results are true\n",
    "np.where(arr1>0)"
   ]
  },
  {
   "cell_type": "code",
   "execution_count": 13,
   "id": "4d19e3e4-f313-4345-a2c8-53b7d2be2f80",
   "metadata": {},
   "outputs": [
    {
     "data": {
      "text/plain": [
       "array([324, 645,  65,   6,   6, 234])"
      ]
     },
     "execution_count": 13,
     "metadata": {},
     "output_type": "execute_result"
    }
   ],
   "source": [
    "np.extract(arr1>2,arr1)\n",
    "#extarct function will fetch and give all the elements as per the conditions"
   ]
  },
  {
   "cell_type": "markdown",
   "id": "2c2bb1c1-eb85-456c-9a10-e7eb8b6c001c",
   "metadata": {},
   "source": [
    "Numpy - Byte Swapping"
   ]
  },
  {
   "cell_type": "code",
   "execution_count": 16,
   "id": "543e32ce-25a7-4a6d-ab06-4239e2b7c7e2",
   "metadata": {},
   "outputs": [
    {
     "data": {
      "text/plain": [
       "array([ 4,  2,  8,  5,  3,  9, 12, 56])"
      ]
     },
     "execution_count": 16,
     "metadata": {},
     "output_type": "execute_result"
    }
   ],
   "source": [
    "arr"
   ]
  },
  {
   "cell_type": "code",
   "execution_count": 18,
   "id": "365a6f26-0fba-4128-af09-74358b9267ad",
   "metadata": {},
   "outputs": [
    {
     "data": {
      "text/plain": [
       "array([ 288230376151711744,  144115188075855872,  576460752303423488,\n",
       "        360287970189639680,  216172782113783808,  648518346341351424,\n",
       "        864691128455135232, 4035225266123964416])"
      ]
     },
     "execution_count": 18,
     "metadata": {},
     "output_type": "execute_result"
    }
   ],
   "source": [
    "arr.byteswap()\n",
    "#byteswap will show how the above elements are stored in byte, and if you byte info to be displayed everytime you display \n",
    "#arr, just type true inside the parenthesis\n",
    "#arr.byteswap(True)"
   ]
  },
  {
   "cell_type": "markdown",
   "id": "bcaa0fa7-823b-43e7-90ec-b83a9ebe912d",
   "metadata": {},
   "source": [
    "Numpy - Copy and Views"
   ]
  },
  {
   "cell_type": "code",
   "execution_count": 19,
   "id": "79293506-4ec1-4a85-b6ff-219189960314",
   "metadata": {},
   "outputs": [
    {
     "data": {
      "text/plain": [
       "array([  0, 324, 645,  65,   6,   6,   0,   0,   0, 234])"
      ]
     },
     "execution_count": 19,
     "metadata": {},
     "output_type": "execute_result"
    }
   ],
   "source": [
    "arr1"
   ]
  },
  {
   "cell_type": "code",
   "execution_count": null,
   "id": "f7d6a87d-a279-47a0-b83a-08ce938e6c40",
   "metadata": {},
   "outputs": [],
   "source": [
    "a=np.copy(arr1)\n",
    "#this is deep copy, meaning if we make changes in a, arr1 will not be affected and vice versa"
   ]
  },
  {
   "cell_type": "code",
   "execution_count": 21,
   "id": "95d29683-f214-4507-9c4c-dc834d080171",
   "metadata": {},
   "outputs": [],
   "source": [
    "b=arr1.view()\n",
    "#view means it does shallow copy meaning if we make any changes in b, the changes will be reflected in arr1 also,\n",
    "#likewise if we do any changes in arr1, those changes will be reflected in b also\n",
    "#so view is also done the other way, other way of doin it is  - b=arr1"
   ]
  },
  {
   "cell_type": "code",
   "execution_count": 22,
   "id": "ecef0cf2-65d3-45e8-9eaf-009e0afa8827",
   "metadata": {},
   "outputs": [
    {
     "data": {
      "text/plain": [
       "array([  0, 324, 645,  65,   6,   6,   0,   0,   0, 234])"
      ]
     },
     "execution_count": 22,
     "metadata": {},
     "output_type": "execute_result"
    }
   ],
   "source": [
    "arr1"
   ]
  },
  {
   "cell_type": "code",
   "execution_count": 23,
   "id": "41aa0863-e76e-46e1-a5fd-e89989693543",
   "metadata": {},
   "outputs": [
    {
     "data": {
      "text/plain": [
       "array([  0, 324, 645,  65,   6,   6,   0,   0,   0, 234])"
      ]
     },
     "execution_count": 23,
     "metadata": {},
     "output_type": "execute_result"
    }
   ],
   "source": [
    "b"
   ]
  },
  {
   "cell_type": "code",
   "execution_count": 24,
   "id": "3256f39d-cbd5-4e06-87b4-261cb0638953",
   "metadata": {},
   "outputs": [],
   "source": [
    "b[0]=234"
   ]
  },
  {
   "cell_type": "code",
   "execution_count": 25,
   "id": "cbcb183b-9c03-4e10-808f-e1c8def19273",
   "metadata": {},
   "outputs": [
    {
     "data": {
      "text/plain": [
       "array([234, 324, 645,  65,   6,   6,   0,   0,   0, 234])"
      ]
     },
     "execution_count": 25,
     "metadata": {},
     "output_type": "execute_result"
    }
   ],
   "source": [
    "b"
   ]
  },
  {
   "cell_type": "code",
   "execution_count": 26,
   "id": "5b583cfb-b958-485d-9b86-c5b369538f64",
   "metadata": {},
   "outputs": [
    {
     "data": {
      "text/plain": [
       "array([234, 324, 645,  65,   6,   6,   0,   0,   0, 234])"
      ]
     },
     "execution_count": 26,
     "metadata": {},
     "output_type": "execute_result"
    }
   ],
   "source": [
    "arr1"
   ]
  },
  {
   "cell_type": "markdown",
   "id": "fa49e64d-d081-436a-bfcc-05fc06fbd2c4",
   "metadata": {},
   "source": [
    "Numpy - Matrix Library"
   ]
  },
  {
   "cell_type": "code",
   "execution_count": 27,
   "id": "e4eac14e-bd6e-4ef8-aca7-7d7349bcc70d",
   "metadata": {},
   "outputs": [],
   "source": [
    "import numpy.matlib as nm"
   ]
  },
  {
   "cell_type": "code",
   "execution_count": 29,
   "id": "8a92a9d6-267b-45c9-8166-4777eb66c28a",
   "metadata": {},
   "outputs": [
    {
     "data": {
      "text/plain": [
       "matrix([[0., 0., 0., 0., 0.]])"
      ]
     },
     "execution_count": 29,
     "metadata": {},
     "output_type": "execute_result"
    }
   ],
   "source": [
    "nm.zeros(5)\n",
    "#this performs same operations that we can on normal matrix, as you can see we can generate zeros using np matrix also\n",
    "#thes result is same having 2d(1 bracket means 1d, 2 bracket mean 2d)"
   ]
  },
  {
   "cell_type": "code",
   "execution_count": 31,
   "id": "af0c32f5-918f-4876-b14c-2c4f22c3da5b",
   "metadata": {},
   "outputs": [
    {
     "data": {
      "text/plain": [
       "matrix([[1., 1., 1., 1.],\n",
       "        [1., 1., 1., 1.],\n",
       "        [1., 1., 1., 1.]])"
      ]
     },
     "execution_count": 31,
     "metadata": {},
     "output_type": "execute_result"
    }
   ],
   "source": [
    "nm.ones((3,4))"
   ]
  },
  {
   "cell_type": "code",
   "execution_count": 32,
   "id": "8c24ab06-ede7-4c25-8391-fb9d1a3b3b4c",
   "metadata": {},
   "outputs": [
    {
     "data": {
      "text/plain": [
       "matrix([[1., 0., 0., 0.],\n",
       "        [0., 1., 0., 0.],\n",
       "        [0., 0., 1., 0.],\n",
       "        [0., 0., 0., 1.]])"
      ]
     },
     "execution_count": 32,
     "metadata": {},
     "output_type": "execute_result"
    }
   ],
   "source": [
    "#lets create matrix with diagonals\n",
    "nm.eye(4)\n",
    "#4 means 4 rows and 4 columns"
   ]
  },
  {
   "cell_type": "markdown",
   "id": "a1a14a19-eb9c-430b-9bee-10c1bc619ccd",
   "metadata": {},
   "source": [
    "Numpy - linear algebra"
   ]
  },
  {
   "cell_type": "code",
   "execution_count": 33,
   "id": "3dcb1c00-6066-4cd7-8c60-89435089a256",
   "metadata": {},
   "outputs": [
    {
     "data": {
      "text/plain": [
       "array([234, 324, 645,  65,   6,   6,   0,   0,   0, 234])"
      ]
     },
     "execution_count": 33,
     "metadata": {},
     "output_type": "execute_result"
    }
   ],
   "source": [
    "arr1"
   ]
  },
  {
   "cell_type": "code",
   "execution_count": 34,
   "id": "ee6bd73b-e425-4ed7-a2a3-5fca9f3b5e8b",
   "metadata": {},
   "outputs": [],
   "source": [
    "arr1=np.random.randint([[2,3],[4,5]])"
   ]
  },
  {
   "cell_type": "code",
   "execution_count": 35,
   "id": "5bf861cd-0cae-4e73-991d-e9a14ca8d6a1",
   "metadata": {},
   "outputs": [],
   "source": [
    "arr2=np.random.randint([[5,3],[2,5]])"
   ]
  },
  {
   "cell_type": "code",
   "execution_count": 36,
   "id": "6afbce3c-e953-43fb-8410-a57e03a924a1",
   "metadata": {},
   "outputs": [
    {
     "data": {
      "text/plain": [
       "array([[1, 0],\n",
       "       [2, 2]])"
      ]
     },
     "execution_count": 36,
     "metadata": {},
     "output_type": "execute_result"
    }
   ],
   "source": [
    "arr1"
   ]
  },
  {
   "cell_type": "code",
   "execution_count": 37,
   "id": "9093a544-1a6d-442d-b8d2-27149a6f0bf5",
   "metadata": {},
   "outputs": [
    {
     "data": {
      "text/plain": [
       "array([[3, 1],\n",
       "       [0, 2]])"
      ]
     },
     "execution_count": 37,
     "metadata": {},
     "output_type": "execute_result"
    }
   ],
   "source": [
    "arr2"
   ]
  },
  {
   "cell_type": "code",
   "execution_count": 38,
   "id": "478edd34-a3e2-4def-b7c5-14fc1eebe4d2",
   "metadata": {},
   "outputs": [
    {
     "data": {
      "text/plain": [
       "array([[3, 1],\n",
       "       [6, 6]])"
      ]
     },
     "execution_count": 38,
     "metadata": {},
     "output_type": "execute_result"
    }
   ],
   "source": [
    "np.dot(arr1,arr2)\n",
    "#The Dot product is a way to multiply two equal-length vectors together."
   ]
  },
  {
   "cell_type": "code",
   "execution_count": 40,
   "id": "354d4d66-7b0d-4921-97c0-98b1ee9780a5",
   "metadata": {},
   "outputs": [
    {
     "data": {
      "text/plain": [
       "array([[3, 1],\n",
       "       [6, 6]])"
      ]
     },
     "execution_count": 40,
     "metadata": {},
     "output_type": "execute_result"
    }
   ],
   "source": [
    "arr1@arr2"
   ]
  },
  {
   "cell_type": "code",
   "execution_count": null,
   "id": "1ca29c5e-295c-46d3-9ead-7f2088dca64d",
   "metadata": {},
   "outputs": [],
   "source": []
  }
 ],
 "metadata": {
  "kernelspec": {
   "display_name": "Python 3 (ipykernel)",
   "language": "python",
   "name": "python3"
  },
  "language_info": {
   "codemirror_mode": {
    "name": "ipython",
    "version": 3
   },
   "file_extension": ".py",
   "mimetype": "text/x-python",
   "name": "python",
   "nbconvert_exporter": "python",
   "pygments_lexer": "ipython3",
   "version": "3.10.8"
  }
 },
 "nbformat": 4,
 "nbformat_minor": 5
}
