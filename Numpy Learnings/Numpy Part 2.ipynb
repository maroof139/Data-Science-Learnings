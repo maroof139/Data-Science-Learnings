{
 "cells": [
  {
   "cell_type": "code",
   "execution_count": 2,
   "id": "5340f6da-88e5-40f4-9150-70391a4ef4b6",
   "metadata": {},
   "outputs": [],
   "source": [
    "import numpy as np"
   ]
  },
  {
   "cell_type": "code",
   "execution_count": 3,
   "id": "62a1d16c-f989-49cf-8849-adae21db36f6",
   "metadata": {},
   "outputs": [
    {
     "data": {
      "text/plain": [
       "[0, 1, 2, 3, 4]"
      ]
     },
     "execution_count": 3,
     "metadata": {},
     "output_type": "execute_result"
    }
   ],
   "source": [
    "#lets make a list with a range 0 till 5\n",
    "list(range(5))"
   ]
  },
  {
   "cell_type": "code",
   "execution_count": 4,
   "id": "7e68a85e-733c-4ba8-856e-c80f394e0db7",
   "metadata": {},
   "outputs": [
    {
     "data": {
      "text/plain": [
       "[0, 1, 2, 3, 4, 5, 6, 7, 8, 9]"
      ]
     },
     "execution_count": 4,
     "metadata": {},
     "output_type": "execute_result"
    }
   ],
   "source": [
    "list(range(0,10))"
   ]
  },
  {
   "cell_type": "code",
   "execution_count": 5,
   "id": "732203c8-f365-4c31-974e-80dbd2c6186f",
   "metadata": {},
   "outputs": [
    {
     "ename": "TypeError",
     "evalue": "'float' object cannot be interpreted as an integer",
     "output_type": "error",
     "traceback": [
      "\u001b[0;31m---------------------------------------------------------------------------\u001b[0m",
      "\u001b[0;31mTypeError\u001b[0m                                 Traceback (most recent call last)",
      "Cell \u001b[0;32mIn[5], line 2\u001b[0m\n\u001b[1;32m      1\u001b[0m \u001b[38;5;66;03m#lets try to produce a list with range 0 to 10 in decimal numbers\u001b[39;00m\n\u001b[0;32m----> 2\u001b[0m \u001b[38;5;28mlist\u001b[39m(\u001b[38;5;28;43mrange\u001b[39;49m\u001b[43m(\u001b[49m\u001b[38;5;241;43m0.4\u001b[39;49m\u001b[43m,\u001b[49m\u001b[38;5;241;43m10.4\u001b[39;49m\u001b[43m)\u001b[49m)\n\u001b[1;32m      3\u001b[0m \u001b[38;5;66;03m#this is because range deals with only integers\u001b[39;00m\n",
      "\u001b[0;31mTypeError\u001b[0m: 'float' object cannot be interpreted as an integer"
     ]
    }
   ],
   "source": [
    "#lets try to produce a list with range 0 to 10 in decimal numbers\n",
    "list(range(0.4,10.4))\n",
    "#this is because range deals with only integers"
   ]
  },
  {
   "cell_type": "code",
   "execution_count": 6,
   "id": "21af7158-d160-4a50-b8f6-703ec19a6637",
   "metadata": {},
   "outputs": [
    {
     "data": {
      "text/plain": [
       "array([0.4, 1.4, 2.4, 3.4, 4.4, 5.4, 6.4, 7.4, 8.4, 9.4])"
      ]
     },
     "execution_count": 6,
     "metadata": {},
     "output_type": "execute_result"
    }
   ],
   "source": [
    "#if we want a list of range of decimal numbers we need to use arange(usage:np.arange)\n",
    "np.arange(0.4,10.4)"
   ]
  },
  {
   "cell_type": "code",
   "execution_count": 7,
   "id": "69264642-f22c-4ab0-9ea5-e57d6fc46748",
   "metadata": {},
   "outputs": [
    {
     "data": {
      "text/plain": [
       "array([ 0.4,  0.6,  0.8,  1. ,  1.2,  1.4,  1.6,  1.8,  2. ,  2.2,  2.4,\n",
       "        2.6,  2.8,  3. ,  3.2,  3.4,  3.6,  3.8,  4. ,  4.2,  4.4,  4.6,\n",
       "        4.8,  5. ,  5.2,  5.4,  5.6,  5.8,  6. ,  6.2,  6.4,  6.6,  6.8,\n",
       "        7. ,  7.2,  7.4,  7.6,  7.8,  8. ,  8.2,  8.4,  8.6,  8.8,  9. ,\n",
       "        9.2,  9.4,  9.6,  9.8, 10. , 10.2])"
      ]
     },
     "execution_count": 7,
     "metadata": {},
     "output_type": "execute_result"
    }
   ],
   "source": [
    "#with arange we can also give step size also\n",
    "np.arange(0.4,10.4,0.2)"
   ]
  },
  {
   "cell_type": "code",
   "execution_count": 8,
   "id": "c6ad12a5-8952-415e-9e7f-b2668d89fc74",
   "metadata": {},
   "outputs": [
    {
     "data": {
      "text/plain": [
       "[0.4,\n",
       " 0.6000000000000001,\n",
       " 0.8000000000000002,\n",
       " 1.0000000000000002,\n",
       " 1.2000000000000002,\n",
       " 1.4000000000000004,\n",
       " 1.6000000000000005,\n",
       " 1.8000000000000003,\n",
       " 2.0000000000000004,\n",
       " 2.2000000000000006,\n",
       " 2.400000000000001,\n",
       " 2.6000000000000005,\n",
       " 2.8000000000000007,\n",
       " 3.000000000000001,\n",
       " 3.2000000000000006,\n",
       " 3.400000000000001,\n",
       " 3.600000000000001,\n",
       " 3.800000000000001,\n",
       " 4.000000000000002,\n",
       " 4.200000000000001,\n",
       " 4.400000000000002,\n",
       " 4.600000000000001,\n",
       " 4.800000000000002,\n",
       " 5.000000000000002,\n",
       " 5.200000000000002,\n",
       " 5.400000000000002,\n",
       " 5.600000000000002,\n",
       " 5.8000000000000025,\n",
       " 6.000000000000002,\n",
       " 6.200000000000002,\n",
       " 6.400000000000002,\n",
       " 6.600000000000002,\n",
       " 6.8000000000000025,\n",
       " 7.000000000000003,\n",
       " 7.200000000000003,\n",
       " 7.400000000000003,\n",
       " 7.600000000000003,\n",
       " 7.8000000000000025,\n",
       " 8.000000000000002,\n",
       " 8.200000000000003,\n",
       " 8.400000000000004,\n",
       " 8.600000000000003,\n",
       " 8.800000000000002,\n",
       " 9.000000000000004,\n",
       " 9.200000000000003,\n",
       " 9.400000000000004,\n",
       " 9.600000000000003,\n",
       " 9.800000000000004,\n",
       " 10.000000000000004,\n",
       " 10.200000000000003]"
      ]
     },
     "execution_count": 8,
     "metadata": {},
     "output_type": "execute_result"
    }
   ],
   "source": [
    "#we can convert the range of number in a list\n",
    "list(np.arange(0.4,10.4,0.2))"
   ]
  },
  {
   "cell_type": "code",
   "execution_count": 9,
   "id": "d786db83-cdb8-438c-aac4-6bb397bd6188",
   "metadata": {},
   "outputs": [
    {
     "data": {
      "text/plain": [
       "array([1.        , 1.21052632, 1.42105263, 1.63157895, 1.84210526,\n",
       "       2.05263158, 2.26315789, 2.47368421, 2.68421053, 2.89473684,\n",
       "       3.10526316, 3.31578947, 3.52631579, 3.73684211, 3.94736842,\n",
       "       4.15789474, 4.36842105, 4.57894737, 4.78947368, 5.        ])"
      ]
     },
     "execution_count": 9,
     "metadata": {},
     "output_type": "execute_result"
    }
   ],
   "source": [
    "#if we want to genearte data between 1 to 5 and we want to generate 20 such datas, we use linspace\n",
    "np.linspace(1,5,20)"
   ]
  },
  {
   "cell_type": "code",
   "execution_count": 10,
   "id": "1d683127-2a73-41d3-8a6f-3d6016d24fe3",
   "metadata": {},
   "outputs": [
    {
     "data": {
      "text/plain": [
       "array([ 2.        ,  2.72158   ,  3.70349885,  5.0396842 ,  6.85795186,\n",
       "        9.33223232, 12.69920842, 17.28095582, 23.51575188, 32.        ])"
      ]
     },
     "execution_count": 10,
     "metadata": {},
     "output_type": "execute_result"
    }
   ],
   "source": [
    "#similarly we can generate logspace, example if we want to generate logspace of 1 to 5 and we want 10 such datas\n",
    "#by default the base is 10, but if we want diff base we can mention\n",
    "np.logspace(1,5,10,base=2)"
   ]
  },
  {
   "cell_type": "code",
   "execution_count": 11,
   "id": "3172c01d-9407-43a0-9e43-d7eb319c7155",
   "metadata": {},
   "outputs": [
    {
     "data": {
      "text/plain": [
       "array([0., 0., 0., 0., 0.])"
      ]
     },
     "execution_count": 11,
     "metadata": {},
     "output_type": "execute_result"
    }
   ],
   "source": [
    "#if we want to generate zeroes\n",
    "np.zeros(5)"
   ]
  },
  {
   "cell_type": "code",
   "execution_count": 12,
   "id": "16d42260-96ad-4ccb-9ddf-058335af8b54",
   "metadata": {},
   "outputs": [
    {
     "data": {
      "text/plain": [
       "array([[0., 0., 0., 0.],\n",
       "       [0., 0., 0., 0.],\n",
       "       [0., 0., 0., 0.]])"
      ]
     },
     "execution_count": 12,
     "metadata": {},
     "output_type": "execute_result"
    }
   ],
   "source": [
    "#similarly we can generate 0 as matriz with all zeros present\n",
    "np.zeros((3,4))\n",
    "#that is 3 rows and 4 columns"
   ]
  },
  {
   "cell_type": "code",
   "execution_count": 13,
   "id": "c6d56cb3-ffa8-4099-9ad1-545414ecd3f6",
   "metadata": {},
   "outputs": [
    {
     "data": {
      "text/plain": [
       "array([[[0., 0.],\n",
       "        [0., 0.],\n",
       "        [0., 0.],\n",
       "        [0., 0.]],\n",
       "\n",
       "       [[0., 0.],\n",
       "        [0., 0.],\n",
       "        [0., 0.],\n",
       "        [0., 0.]],\n",
       "\n",
       "       [[0., 0.],\n",
       "        [0., 0.],\n",
       "        [0., 0.],\n",
       "        [0., 0.]]])"
      ]
     },
     "execution_count": 13,
     "metadata": {},
     "output_type": "execute_result"
    }
   ],
   "source": [
    "np.zeros((3,4,2))\n",
    "#here we are generating 3 matrices with 4 rows nd 2 columns"
   ]
  },
  {
   "cell_type": "code",
   "execution_count": 14,
   "id": "5822fe52-d1e2-49b7-8858-fa70f9eaaab8",
   "metadata": {},
   "outputs": [
    {
     "data": {
      "text/plain": [
       "array([[[[0., 0.],\n",
       "         [0., 0.],\n",
       "         [0., 0.],\n",
       "         [0., 0.]],\n",
       "\n",
       "        [[0., 0.],\n",
       "         [0., 0.],\n",
       "         [0., 0.],\n",
       "         [0., 0.]],\n",
       "\n",
       "        [[0., 0.],\n",
       "         [0., 0.],\n",
       "         [0., 0.],\n",
       "         [0., 0.]],\n",
       "\n",
       "        [[0., 0.],\n",
       "         [0., 0.],\n",
       "         [0., 0.],\n",
       "         [0., 0.]]],\n",
       "\n",
       "\n",
       "       [[[0., 0.],\n",
       "         [0., 0.],\n",
       "         [0., 0.],\n",
       "         [0., 0.]],\n",
       "\n",
       "        [[0., 0.],\n",
       "         [0., 0.],\n",
       "         [0., 0.],\n",
       "         [0., 0.]],\n",
       "\n",
       "        [[0., 0.],\n",
       "         [0., 0.],\n",
       "         [0., 0.],\n",
       "         [0., 0.]],\n",
       "\n",
       "        [[0., 0.],\n",
       "         [0., 0.],\n",
       "         [0., 0.],\n",
       "         [0., 0.]]],\n",
       "\n",
       "\n",
       "       [[[0., 0.],\n",
       "         [0., 0.],\n",
       "         [0., 0.],\n",
       "         [0., 0.]],\n",
       "\n",
       "        [[0., 0.],\n",
       "         [0., 0.],\n",
       "         [0., 0.],\n",
       "         [0., 0.]],\n",
       "\n",
       "        [[0., 0.],\n",
       "         [0., 0.],\n",
       "         [0., 0.],\n",
       "         [0., 0.]],\n",
       "\n",
       "        [[0., 0.],\n",
       "         [0., 0.],\n",
       "         [0., 0.],\n",
       "         [0., 0.]]]])"
      ]
     },
     "execution_count": 14,
     "metadata": {},
     "output_type": "execute_result"
    }
   ],
   "source": [
    "np.zeros((3,4,4,2))\n",
    "#here we are generating 3 sets of 4 matrices having 4 rows  2 columns"
   ]
  },
  {
   "cell_type": "code",
   "execution_count": 15,
   "id": "864e3ffb-a05f-4fae-8b02-c7ed9cd74846",
   "metadata": {},
   "outputs": [
    {
     "data": {
      "text/plain": [
       "array([1., 1., 1., 1., 1.])"
      ]
     },
     "execution_count": 15,
     "metadata": {},
     "output_type": "execute_result"
    }
   ],
   "source": [
    "#similary we can generate 1's\n",
    "np.ones(5)"
   ]
  },
  {
   "cell_type": "code",
   "execution_count": 16,
   "id": "0526a9fd-09ef-43f4-a740-23f99d4f1fe9",
   "metadata": {},
   "outputs": [
    {
     "data": {
      "text/plain": [
       "array([[1., 1., 1., 1.],\n",
       "       [1., 1., 1., 1.],\n",
       "       [1., 1., 1., 1.]])"
      ]
     },
     "execution_count": 16,
     "metadata": {},
     "output_type": "execute_result"
    }
   ],
   "source": [
    "np.ones((3,4))"
   ]
  },
  {
   "cell_type": "code",
   "execution_count": 17,
   "id": "68dced53-06f2-4562-b671-c7daee5defed",
   "metadata": {},
   "outputs": [],
   "source": [
    "#lets put the above matrix in arr variable\n",
    "arr=np.ones((3,4))"
   ]
  },
  {
   "cell_type": "code",
   "execution_count": 18,
   "id": "35d620ab-e910-48ee-9bb9-ea31c1eedc74",
   "metadata": {},
   "outputs": [
    {
     "data": {
      "text/plain": [
       "array([[1., 1., 1., 1.],\n",
       "       [1., 1., 1., 1.],\n",
       "       [1., 1., 1., 1.]])"
      ]
     },
     "execution_count": 18,
     "metadata": {},
     "output_type": "execute_result"
    }
   ],
   "source": [
    "arr"
   ]
  },
  {
   "cell_type": "code",
   "execution_count": 19,
   "id": "5237d7cf-9bdc-47c8-a68c-db4325b6007b",
   "metadata": {},
   "outputs": [
    {
     "data": {
      "text/plain": [
       "array([[6., 6., 6., 6.],\n",
       "       [6., 6., 6., 6.],\n",
       "       [6., 6., 6., 6.]])"
      ]
     },
     "execution_count": 19,
     "metadata": {},
     "output_type": "execute_result"
    }
   ],
   "source": [
    "#if we want to add 5 to each of the matrix elements\n",
    "arr+5"
   ]
  },
  {
   "cell_type": "code",
   "execution_count": 20,
   "id": "35d92f96-4fa0-43e5-9103-749857fe67cd",
   "metadata": {},
   "outputs": [
    {
     "data": {
      "text/plain": [
       "array([[4., 4., 4., 4.],\n",
       "       [4., 4., 4., 4.],\n",
       "       [4., 4., 4., 4.]])"
      ]
     },
     "execution_count": 20,
     "metadata": {},
     "output_type": "execute_result"
    }
   ],
   "source": [
    "#if we want to multiply all the 1's in the matrix with 4\n",
    "arr*4"
   ]
  },
  {
   "cell_type": "code",
   "execution_count": 21,
   "id": "6ba50d1f-0ac3-4743-8d0c-fd29a3b3c813",
   "metadata": {},
   "outputs": [
    {
     "data": {
      "text/plain": [
       "array([[4., 4., 4., 4.],\n",
       "       [4., 4., 4., 4.],\n",
       "       [4., 4., 4., 4.]])"
      ]
     },
     "execution_count": 21,
     "metadata": {},
     "output_type": "execute_result"
    }
   ],
   "source": [
    "#if we want to generate an empty matrix\n",
    "np.empty((3,4))\n",
    "#this will create a small matrix"
   ]
  },
  {
   "cell_type": "code",
   "execution_count": 22,
   "id": "a6cfac93-407c-4d27-805b-0cc04fea6454",
   "metadata": {},
   "outputs": [
    {
     "data": {
      "text/plain": [
       "array([[1., 0., 0., 0., 0.],\n",
       "       [0., 1., 0., 0., 0.],\n",
       "       [0., 0., 1., 0., 0.],\n",
       "       [0., 0., 0., 1., 0.],\n",
       "       [0., 0., 0., 0., 1.]])"
      ]
     },
     "execution_count": 22,
     "metadata": {},
     "output_type": "execute_result"
    }
   ],
   "source": [
    "#if we want to generate identity matrix, we use np.eye\n",
    "np.eye(5)\n",
    "#we can notice in a identity matrix, no of rows=no of columns, in this case it has 5 rows and 5 columns"
   ]
  },
  {
   "cell_type": "code",
   "execution_count": 23,
   "id": "1aad61b6-78cb-4b3f-b0cd-d88b5310a8aa",
   "metadata": {},
   "outputs": [],
   "source": [
    "arr1=np.eye(5)\n",
    "#lets place this matrix in a dataframe"
   ]
  },
  {
   "cell_type": "code",
   "execution_count": 24,
   "id": "dd4be50a-7e7f-4eaa-be7d-d29c98d71d07",
   "metadata": {},
   "outputs": [],
   "source": [
    "import pandas as pd"
   ]
  },
  {
   "cell_type": "code",
   "execution_count": 25,
   "id": "b7d15558-edb9-41d9-92d3-74e13002eef6",
   "metadata": {},
   "outputs": [
    {
     "data": {
      "text/html": [
       "<div>\n",
       "<style scoped>\n",
       "    .dataframe tbody tr th:only-of-type {\n",
       "        vertical-align: middle;\n",
       "    }\n",
       "\n",
       "    .dataframe tbody tr th {\n",
       "        vertical-align: top;\n",
       "    }\n",
       "\n",
       "    .dataframe thead th {\n",
       "        text-align: right;\n",
       "    }\n",
       "</style>\n",
       "<table border=\"1\" class=\"dataframe\">\n",
       "  <thead>\n",
       "    <tr style=\"text-align: right;\">\n",
       "      <th></th>\n",
       "      <th>0</th>\n",
       "      <th>1</th>\n",
       "      <th>2</th>\n",
       "      <th>3</th>\n",
       "      <th>4</th>\n",
       "    </tr>\n",
       "  </thead>\n",
       "  <tbody>\n",
       "    <tr>\n",
       "      <th>0</th>\n",
       "      <td>1.0</td>\n",
       "      <td>0.0</td>\n",
       "      <td>0.0</td>\n",
       "      <td>0.0</td>\n",
       "      <td>0.0</td>\n",
       "    </tr>\n",
       "    <tr>\n",
       "      <th>1</th>\n",
       "      <td>0.0</td>\n",
       "      <td>1.0</td>\n",
       "      <td>0.0</td>\n",
       "      <td>0.0</td>\n",
       "      <td>0.0</td>\n",
       "    </tr>\n",
       "    <tr>\n",
       "      <th>2</th>\n",
       "      <td>0.0</td>\n",
       "      <td>0.0</td>\n",
       "      <td>1.0</td>\n",
       "      <td>0.0</td>\n",
       "      <td>0.0</td>\n",
       "    </tr>\n",
       "    <tr>\n",
       "      <th>3</th>\n",
       "      <td>0.0</td>\n",
       "      <td>0.0</td>\n",
       "      <td>0.0</td>\n",
       "      <td>1.0</td>\n",
       "      <td>0.0</td>\n",
       "    </tr>\n",
       "    <tr>\n",
       "      <th>4</th>\n",
       "      <td>0.0</td>\n",
       "      <td>0.0</td>\n",
       "      <td>0.0</td>\n",
       "      <td>0.0</td>\n",
       "      <td>1.0</td>\n",
       "    </tr>\n",
       "  </tbody>\n",
       "</table>\n",
       "</div>"
      ],
      "text/plain": [
       "     0    1    2    3    4\n",
       "0  1.0  0.0  0.0  0.0  0.0\n",
       "1  0.0  1.0  0.0  0.0  0.0\n",
       "2  0.0  0.0  1.0  0.0  0.0\n",
       "3  0.0  0.0  0.0  1.0  0.0\n",
       "4  0.0  0.0  0.0  0.0  1.0"
      ]
     },
     "execution_count": 25,
     "metadata": {},
     "output_type": "execute_result"
    }
   ],
   "source": [
    "pd.DataFrame(arr1)"
   ]
  },
  {
   "cell_type": "code",
   "execution_count": 26,
   "id": "17ec7ea7-ba9c-4b69-8e29-3fe7bc525bab",
   "metadata": {},
   "outputs": [
    {
     "data": {
      "text/plain": [
       "array([[0.04301935, 0.24548783, 0.28057662],\n",
       "       [0.76561235, 0.74980735, 0.1171048 ]])"
      ]
     },
     "execution_count": 26,
     "metadata": {},
     "output_type": "execute_result"
    }
   ],
   "source": [
    "#another way of generating data in numpy is using randon.rand\n",
    "np.random.rand(2,3)"
   ]
  },
  {
   "cell_type": "code",
   "execution_count": 27,
   "id": "727cf167-6fd7-4d96-ad15-e9b542e0a7f2",
   "metadata": {},
   "outputs": [
    {
     "data": {
      "text/plain": [
       "array([[ 0.87418401,  0.43459565,  0.84834037],\n",
       "       [-0.01936604,  1.33145219, -0.62237698]])"
      ]
     },
     "execution_count": 27,
     "metadata": {},
     "output_type": "execute_result"
    }
   ],
   "source": [
    "#similary we have one more way\n",
    "np.random.randn(2,3)"
   ]
  },
  {
   "cell_type": "code",
   "execution_count": 28,
   "id": "beb8c216-02fb-462b-9efe-0c9c0339786e",
   "metadata": {},
   "outputs": [],
   "source": [
    "#the difference between the 2 is randn generates numbers from a normal distribution with a mean of 0 and a standard \n",
    "#deviation of 1,while `rand` generates numbers from a uniform distribution between 0 and 1 that is mean, avg or standard deviation \n",
    "#could be anything."
   ]
  },
  {
   "cell_type": "code",
   "execution_count": 31,
   "id": "d7780ec2-3305-4745-81a0-a27d347404ae",
   "metadata": {},
   "outputs": [
    {
     "data": {
      "text/plain": [
       "array([[4, 3, 1, 1],\n",
       "       [1, 2, 3, 1],\n",
       "       [1, 1, 1, 2]])"
      ]
     },
     "execution_count": 31,
     "metadata": {},
     "output_type": "execute_result"
    }
   ],
   "source": [
    "#another way of generating randon numbers is using random.randint\n",
    "np.random.randint(1,5,(3,4))\n",
    "#here we are asking to generate numbers between 1 to 5 and the shape will be 3 rows 4 columns"
   ]
  },
  {
   "cell_type": "code",
   "execution_count": 32,
   "id": "ff96d37b-c969-4a91-8a77-348390b3c17e",
   "metadata": {},
   "outputs": [],
   "source": [
    "#lets save the above data in arr2 variable\n",
    "arr2=np.random.randint(1,5,(3,4))"
   ]
  },
  {
   "cell_type": "code",
   "execution_count": 33,
   "id": "848a582c-eb0c-4c71-bffe-0a49a635e758",
   "metadata": {},
   "outputs": [
    {
     "data": {
      "text/plain": [
       "array([[4, 2, 3, 3],\n",
       "       [4, 3, 3, 1],\n",
       "       [3, 3, 2, 3]])"
      ]
     },
     "execution_count": 33,
     "metadata": {},
     "output_type": "execute_result"
    }
   ],
   "source": [
    "arr2"
   ]
  },
  {
   "cell_type": "code",
   "execution_count": 34,
   "id": "7b828ca6-8b86-4c70-b17d-edd7a49acaca",
   "metadata": {},
   "outputs": [
    {
     "data": {
      "text/plain": [
       "12"
      ]
     },
     "execution_count": 34,
     "metadata": {},
     "output_type": "execute_result"
    }
   ],
   "source": [
    "#if we want to know the number of elements in the matrix\n",
    "arr2.size"
   ]
  },
  {
   "cell_type": "code",
   "execution_count": 35,
   "id": "9e104fd6-6368-4f77-a800-2644c4dfd160",
   "metadata": {},
   "outputs": [
    {
     "data": {
      "text/plain": [
       "(3, 4)"
      ]
     },
     "execution_count": 35,
     "metadata": {},
     "output_type": "execute_result"
    }
   ],
   "source": [
    "#lets find the shape of matrix\n",
    "arr2.shape"
   ]
  },
  {
   "cell_type": "code",
   "execution_count": 36,
   "id": "b7ad638b-b16f-4e5f-a13f-9b8364ec37eb",
   "metadata": {},
   "outputs": [
    {
     "data": {
      "text/plain": [
       "array([[4, 2],\n",
       "       [3, 3],\n",
       "       [4, 3],\n",
       "       [3, 1],\n",
       "       [3, 3],\n",
       "       [2, 3]])"
      ]
     },
     "execution_count": 36,
     "metadata": {},
     "output_type": "execute_result"
    }
   ],
   "source": [
    "#now if we want to change the shape or do reshape, also by doing re-shape no of elements will not change(i,e., in this case it is 12)\n",
    "#before doing reshape we need to make sure that shape should give us a product of the no of elements(should be 12 in this case)\n",
    "arr2.reshape(6,2)"
   ]
  },
  {
   "cell_type": "code",
   "execution_count": 37,
   "id": "9ac9bb76-038e-47f9-909c-ce3fdd46384b",
   "metadata": {},
   "outputs": [
    {
     "data": {
      "text/plain": [
       "array([[4, 2, 3, 3, 4, 3],\n",
       "       [3, 1, 3, 3, 2, 3]])"
      ]
     },
     "execution_count": 37,
     "metadata": {},
     "output_type": "execute_result"
    }
   ],
   "source": [
    "arr2.reshape(2,6)"
   ]
  },
  {
   "cell_type": "code",
   "execution_count": 38,
   "id": "5ebdbcd2-04ac-408a-9f2f-d1bf3a21ed2f",
   "metadata": {},
   "outputs": [
    {
     "data": {
      "text/plain": [
       "array([[4, 2, 3],\n",
       "       [3, 4, 3],\n",
       "       [3, 1, 3],\n",
       "       [3, 2, 3]])"
      ]
     },
     "execution_count": 38,
     "metadata": {},
     "output_type": "execute_result"
    }
   ],
   "source": [
    "arr2.reshape(4,3)"
   ]
  },
  {
   "cell_type": "code",
   "execution_count": 39,
   "id": "ce3d512c-6ccd-41c2-8abd-0c6b22ce4364",
   "metadata": {},
   "outputs": [
    {
     "data": {
      "text/plain": [
       "array([[4, 2, 3, 3, 4, 3, 3, 1, 3, 3, 2, 3]])"
      ]
     },
     "execution_count": 39,
     "metadata": {},
     "output_type": "execute_result"
    }
   ],
   "source": [
    "arr2.reshape(1,12)"
   ]
  },
  {
   "cell_type": "code",
   "execution_count": 40,
   "id": "1d9c8f6f-d48e-4872-8059-1eecfd35d186",
   "metadata": {},
   "outputs": [
    {
     "data": {
      "text/plain": [
       "array([[4, 2, 3],\n",
       "       [3, 4, 3],\n",
       "       [3, 1, 3],\n",
       "       [3, 2, 3]])"
      ]
     },
     "execution_count": 40,
     "metadata": {},
     "output_type": "execute_result"
    }
   ],
   "source": [
    "#we can also negative numbers also\n",
    "arr2.reshape(4,-1)"
   ]
  },
  {
   "cell_type": "code",
   "execution_count": 41,
   "id": "e317ea54-3bc1-4df8-baea-51de0f0698e7",
   "metadata": {},
   "outputs": [
    {
     "data": {
      "text/plain": [
       "array([[4, 2, 3],\n",
       "       [3, 4, 3],\n",
       "       [3, 1, 3],\n",
       "       [3, 2, 3]])"
      ]
     },
     "execution_count": 41,
     "metadata": {},
     "output_type": "execute_result"
    }
   ],
   "source": [
    "arr2.reshape(4,-6)"
   ]
  },
  {
   "cell_type": "code",
   "execution_count": 42,
   "id": "e7b46ce5-7c95-41b2-a530-0d9f6df71421",
   "metadata": {},
   "outputs": [
    {
     "data": {
      "text/plain": [
       "array([[[4, 2, 3],\n",
       "        [3, 4, 3]],\n",
       "\n",
       "       [[3, 1, 3],\n",
       "        [3, 2, 3]]])"
      ]
     },
     "execution_count": 42,
     "metadata": {},
     "output_type": "execute_result"
    }
   ],
   "source": [
    "#we can also do reshape in 3d\n",
    "arr2.reshape(2,2,3)"
   ]
  },
  {
   "cell_type": "code",
   "execution_count": 45,
   "id": "a0b92bca-1a21-4115-a060-b7636ea8c15d",
   "metadata": {},
   "outputs": [],
   "source": [
    "#lets generate random numbers between 1 to 10 with shape as 5 rows and 6 columns\n",
    "arr1=np.random.randint(1,10,(5,6))"
   ]
  },
  {
   "cell_type": "code",
   "execution_count": 47,
   "id": "b56f1c6b-f2f3-49e5-9170-8db9f966787a",
   "metadata": {},
   "outputs": [
    {
     "data": {
      "text/plain": [
       "array([[9, 7, 8, 4, 7, 1],\n",
       "       [2, 4, 3, 1, 8, 5],\n",
       "       [1, 4, 8, 7, 3, 3],\n",
       "       [6, 5, 8, 1, 4, 7],\n",
       "       [1, 6, 8, 7, 3, 3]])"
      ]
     },
     "execution_count": 47,
     "metadata": {},
     "output_type": "execute_result"
    }
   ],
   "source": [
    "arr1"
   ]
  },
  {
   "cell_type": "code",
   "execution_count": 48,
   "id": "a56e9b2d-c8fb-419a-a2bf-4b1419f3f3f0",
   "metadata": {},
   "outputs": [
    {
     "data": {
      "text/plain": [
       "array([[ True, False, False, False, False, False],\n",
       "       [False, False, False, False, False, False],\n",
       "       [False, False, False, False, False, False],\n",
       "       [False, False, False, False, False, False],\n",
       "       [False, False, False, False, False, False]])"
      ]
     },
     "execution_count": 48,
     "metadata": {},
     "output_type": "execute_result"
    }
   ],
   "source": [
    "#if we want to which all elements in the matrix are greater than 8 for example\n",
    "arr1>8\n",
    "#so here in the o/p it will mark true for all elements greater than 8 and false for all elements lesser than 8"
   ]
  },
  {
   "cell_type": "code",
   "execution_count": 51,
   "id": "35c357f7-6164-4caa-abc5-6115d40d3bb0",
   "metadata": {},
   "outputs": [
    {
     "data": {
      "text/plain": [
       "array([9])"
      ]
     },
     "execution_count": 51,
     "metadata": {},
     "output_type": "execute_result"
    }
   ],
   "source": [
    "#to filter out and give the o/p in terms of numbers, which are greater than 8\n",
    "arr1[arr1 >8]"
   ]
  },
  {
   "cell_type": "code",
   "execution_count": 52,
   "id": "10a99871-ae5e-49ed-938a-6a61bd50fb15",
   "metadata": {},
   "outputs": [
    {
     "data": {
      "text/plain": [
       "array([[9, 7, 8, 4, 7, 1],\n",
       "       [2, 4, 3, 1, 8, 5],\n",
       "       [1, 4, 8, 7, 3, 3],\n",
       "       [6, 5, 8, 1, 4, 7],\n",
       "       [1, 6, 8, 7, 3, 3]])"
      ]
     },
     "execution_count": 52,
     "metadata": {},
     "output_type": "execute_result"
    }
   ],
   "source": [
    "arr1"
   ]
  },
  {
   "cell_type": "code",
   "execution_count": 53,
   "id": "15c579c6-fa6c-4431-aa8c-3064345fa66a",
   "metadata": {},
   "outputs": [
    {
     "data": {
      "text/plain": [
       "array([9, 7])"
      ]
     },
     "execution_count": 53,
     "metadata": {},
     "output_type": "execute_result"
    }
   ],
   "source": [
    "#suppose we want to fetch only 9 and 7 present in 0th row and 1 and 2nd columns\n",
    "arr1[0,[0,1]]"
   ]
  },
  {
   "cell_type": "code",
   "execution_count": 55,
   "id": "8e518f0e-debf-489f-93af-ded91c483ca5",
   "metadata": {},
   "outputs": [
    {
     "data": {
      "text/plain": [
       "array([[8, 7],\n",
       "       [8, 1]])"
      ]
     },
     "execution_count": 55,
     "metadata": {},
     "output_type": "execute_result"
    }
   ],
   "source": [
    "#suppose we want to fetch 8,7 in 2 row and 2nd and 3rd column, and want to fetch 8,1 in 3rd row, 2 and 3rd column\n",
    "#basically we want to fetch data from row 2,3 and column 2,3\n",
    "arr1[2:4,[2,3]]\n",
    "#2:4 mean slice and rows 2 and 3 and exclude 4, 2 and 3 are column"
   ]
  },
  {
   "cell_type": "code",
   "execution_count": 56,
   "id": "ff3ed192-730e-4307-ae0b-240e0fac4bea",
   "metadata": {},
   "outputs": [],
   "source": [
    "#lets generate 2 matrixes usinf=g random.randint and perform addition\n",
    "arr1=np.random.randint(1,3,(3,3))\n",
    "arr2=np.random.randint(1,3,(3,3))"
   ]
  },
  {
   "cell_type": "code",
   "execution_count": 58,
   "id": "b10e5be8-b6eb-488f-9f61-39e0a31404fc",
   "metadata": {},
   "outputs": [
    {
     "data": {
      "text/plain": [
       "array([[1, 1, 2],\n",
       "       [1, 1, 1],\n",
       "       [2, 1, 2]])"
      ]
     },
     "execution_count": 58,
     "metadata": {},
     "output_type": "execute_result"
    }
   ],
   "source": [
    "arr1"
   ]
  },
  {
   "cell_type": "code",
   "execution_count": 59,
   "id": "97d86db3-47df-4c14-ad4e-30b0b95347f9",
   "metadata": {},
   "outputs": [
    {
     "data": {
      "text/plain": [
       "array([[2, 1, 1],\n",
       "       [2, 1, 1],\n",
       "       [1, 2, 1]])"
      ]
     },
     "execution_count": 59,
     "metadata": {},
     "output_type": "execute_result"
    }
   ],
   "source": [
    "arr2"
   ]
  },
  {
   "cell_type": "code",
   "execution_count": 60,
   "id": "25d65aa0-97a2-4fa5-a5ea-c627063ebbb6",
   "metadata": {},
   "outputs": [
    {
     "data": {
      "text/plain": [
       "array([[3, 2, 3],\n",
       "       [3, 2, 2],\n",
       "       [3, 3, 3]])"
      ]
     },
     "execution_count": 60,
     "metadata": {},
     "output_type": "execute_result"
    }
   ],
   "source": [
    "arr1+arr2"
   ]
  },
  {
   "cell_type": "code",
   "execution_count": 61,
   "id": "3f324069-0983-4847-b93b-ae652a03f430",
   "metadata": {},
   "outputs": [
    {
     "data": {
      "text/plain": [
       "array([[2, 1, 2],\n",
       "       [2, 1, 1],\n",
       "       [2, 2, 2]])"
      ]
     },
     "execution_count": 61,
     "metadata": {},
     "output_type": "execute_result"
    }
   ],
   "source": [
    "#lets perform multiplication\n",
    "arr1*arr2\n",
    "#note this is index wise multiplication and not matrix multiplication"
   ]
  },
  {
   "cell_type": "code",
   "execution_count": 62,
   "id": "88347084-55d1-4c2e-a6b3-4abdf9edb0ca",
   "metadata": {},
   "outputs": [
    {
     "data": {
      "text/plain": [
       "array([[6, 6, 4],\n",
       "       [5, 4, 3],\n",
       "       [8, 7, 5]])"
      ]
     },
     "execution_count": 62,
     "metadata": {},
     "output_type": "execute_result"
    }
   ],
   "source": [
    "#if we want to do matrix multiplication, we use @ operator\n",
    "arr1@arr2"
   ]
  },
  {
   "cell_type": "code",
   "execution_count": 63,
   "id": "b4c23d21-e34c-44f8-aeda-31f2d9a87610",
   "metadata": {},
   "outputs": [
    {
     "data": {
      "text/plain": [
       "array([[0.5, 1. , 2. ],\n",
       "       [0.5, 1. , 1. ],\n",
       "       [2. , 0.5, 2. ]])"
      ]
     },
     "execution_count": 63,
     "metadata": {},
     "output_type": "execute_result"
    }
   ],
   "source": [
    "#if we want to do division operation\n",
    "arr1/arr2"
   ]
  },
  {
   "cell_type": "code",
   "execution_count": 64,
   "id": "6cd18f9e-f7f9-4ac3-a28b-38e84284fedb",
   "metadata": {},
   "outputs": [
    {
     "name": "stderr",
     "output_type": "stream",
     "text": [
      "/tmp/ipykernel_77/2456945294.py:2: RuntimeWarning: divide by zero encountered in divide\n",
      "  arr1/0\n"
     ]
    },
    {
     "data": {
      "text/plain": [
       "array([[inf, inf, inf],\n",
       "       [inf, inf, inf],\n",
       "       [inf, inf, inf]])"
      ]
     },
     "execution_count": 64,
     "metadata": {},
     "output_type": "execute_result"
    }
   ],
   "source": [
    "#if we want to divide an matrix by 0 or any number\n",
    "arr1/0"
   ]
  },
  {
   "cell_type": "code",
   "execution_count": 65,
   "id": "4ce26192-d92b-4c41-9300-2a5e4129f06b",
   "metadata": {},
   "outputs": [
    {
     "data": {
      "text/plain": [
       "array([[0.33333333, 0.33333333, 0.66666667],\n",
       "       [0.33333333, 0.33333333, 0.33333333],\n",
       "       [0.66666667, 0.33333333, 0.66666667]])"
      ]
     },
     "execution_count": 65,
     "metadata": {},
     "output_type": "execute_result"
    }
   ],
   "source": [
    "arr1/3"
   ]
  },
  {
   "cell_type": "markdown",
   "id": "7f39f429-e0e5-4d62-b979-e2608060094b",
   "metadata": {},
   "source": [
    "Numpy Broadcasting"
   ]
  },
  {
   "cell_type": "code",
   "execution_count": 66,
   "id": "30ce50c4-6e21-4906-9bb0-12bd09533b42",
   "metadata": {},
   "outputs": [],
   "source": [
    "#lets generate matrix with all 0s\n",
    "arr1=np.zeros((3,4))"
   ]
  },
  {
   "cell_type": "code",
   "execution_count": 67,
   "id": "17ffc2af-acba-4f22-b2e0-9fcec57a9987",
   "metadata": {},
   "outputs": [
    {
     "data": {
      "text/plain": [
       "array([[0., 0., 0., 0.],\n",
       "       [0., 0., 0., 0.],\n",
       "       [0., 0., 0., 0.]])"
      ]
     },
     "execution_count": 67,
     "metadata": {},
     "output_type": "execute_result"
    }
   ],
   "source": [
    "arr1"
   ]
  },
  {
   "cell_type": "code",
   "execution_count": 68,
   "id": "b4b216e3-18c0-4608-bded-2d0ef0e9d220",
   "metadata": {},
   "outputs": [
    {
     "data": {
      "text/plain": [
       "array([[5., 5., 5., 5.],\n",
       "       [5., 5., 5., 5.],\n",
       "       [5., 5., 5., 5.]])"
      ]
     },
     "execution_count": 68,
     "metadata": {},
     "output_type": "execute_result"
    }
   ],
   "source": [
    "arr1+5\n",
    "#this is called broadcasting, here we are broadcasting 5 to the matrix"
   ]
  },
  {
   "cell_type": "code",
   "execution_count": 70,
   "id": "9d9f0b37-6e6e-4fd1-9b2c-47792f73c230",
   "metadata": {},
   "outputs": [],
   "source": [
    "#lets create an array\n",
    "a=np.array([1,2,3,4,])"
   ]
  },
  {
   "cell_type": "code",
   "execution_count": 72,
   "id": "0d05ae3d-0806-4417-8851-3977788f5439",
   "metadata": {},
   "outputs": [
    {
     "data": {
      "text/plain": [
       "array([[0., 0., 0., 0.],\n",
       "       [0., 0., 0., 0.],\n",
       "       [0., 0., 0., 0.]])"
      ]
     },
     "execution_count": 72,
     "metadata": {},
     "output_type": "execute_result"
    }
   ],
   "source": [
    "arr1"
   ]
  },
  {
   "cell_type": "code",
   "execution_count": 73,
   "id": "78f45531-a6ec-40a1-8497-8536cee72223",
   "metadata": {},
   "outputs": [
    {
     "data": {
      "text/plain": [
       "array([[1., 2., 3., 4.],\n",
       "       [1., 2., 3., 4.],\n",
       "       [1., 2., 3., 4.]])"
      ]
     },
     "execution_count": 73,
     "metadata": {},
     "output_type": "execute_result"
    }
   ],
   "source": [
    "arr1+a"
   ]
  },
  {
   "cell_type": "code",
   "execution_count": 74,
   "id": "047377c1-c704-4299-996e-c628e4acfcc1",
   "metadata": {},
   "outputs": [
    {
     "data": {
      "text/plain": [
       "array([[1., 1., 1., 1.],\n",
       "       [1., 1., 1., 1.],\n",
       "       [1., 1., 1., 1.]])"
      ]
     },
     "execution_count": 74,
     "metadata": {},
     "output_type": "execute_result"
    }
   ],
   "source": [
    "arr"
   ]
  },
  {
   "cell_type": "code",
   "execution_count": 78,
   "id": "8e46e7f6-6147-46d9-af29-c212c67d77fd",
   "metadata": {},
   "outputs": [],
   "source": [
    "b=np.array([[3,4,5]])"
   ]
  },
  {
   "cell_type": "code",
   "execution_count": 79,
   "id": "62e9855d-2165-481f-94ae-b3c7dfa667d4",
   "metadata": {},
   "outputs": [
    {
     "ename": "ValueError",
     "evalue": "operands could not be broadcast together with shapes (3,4) (1,3) ",
     "output_type": "error",
     "traceback": [
      "\u001b[0;31m---------------------------------------------------------------------------\u001b[0m",
      "\u001b[0;31mValueError\u001b[0m                                Traceback (most recent call last)",
      "Cell \u001b[0;32mIn[79], line 1\u001b[0m\n\u001b[0;32m----> 1\u001b[0m \u001b[43marr\u001b[49m\u001b[38;5;241;43m+\u001b[39;49m\u001b[43mb\u001b[49m\n\u001b[1;32m      2\u001b[0m \u001b[38;5;66;03m#we got this error because shape do ot match, so to fix this error we need to transpose b\u001b[39;00m\n",
      "\u001b[0;31mValueError\u001b[0m: operands could not be broadcast together with shapes (3,4) (1,3) "
     ]
    }
   ],
   "source": [
    "arr+b\n",
    "#we got this error because shape do ot match, so to fix this error we need to transpose b"
   ]
  },
  {
   "cell_type": "code",
   "execution_count": 81,
   "id": "17c7ffda-11f3-482a-862e-d2af22a96842",
   "metadata": {},
   "outputs": [],
   "source": [
    "arr1=arr+b.T"
   ]
  },
  {
   "cell_type": "code",
   "execution_count": 82,
   "id": "74283680-c7be-444f-8a03-53b547ec284a",
   "metadata": {},
   "outputs": [
    {
     "data": {
      "text/plain": [
       "array([[4., 4., 4., 4.],\n",
       "       [5., 5., 5., 5.],\n",
       "       [6., 6., 6., 6.]])"
      ]
     },
     "execution_count": 82,
     "metadata": {},
     "output_type": "execute_result"
    }
   ],
   "source": [
    "arr1"
   ]
  },
  {
   "cell_type": "code",
   "execution_count": 83,
   "id": "63ab9bc1-d16a-4400-99d5-fa0e4cc0245d",
   "metadata": {},
   "outputs": [
    {
     "data": {
      "text/plain": [
       "array([[2.        , 2.        , 2.        , 2.        ],\n",
       "       [2.23606798, 2.23606798, 2.23606798, 2.23606798],\n",
       "       [2.44948974, 2.44948974, 2.44948974, 2.44948974]])"
      ]
     },
     "execution_count": 83,
     "metadata": {},
     "output_type": "execute_result"
    }
   ],
   "source": [
    "#if we want to perform square root of all elements in the arr1\n",
    "np.sqrt(arr1)"
   ]
  },
  {
   "cell_type": "code",
   "execution_count": 84,
   "id": "539c603f-e02b-4e93-90df-026169f39c87",
   "metadata": {},
   "outputs": [
    {
     "data": {
      "text/plain": [
       "array([[ 54.59815003,  54.59815003,  54.59815003,  54.59815003],\n",
       "       [148.4131591 , 148.4131591 , 148.4131591 , 148.4131591 ],\n",
       "       [403.42879349, 403.42879349, 403.42879349, 403.42879349]])"
      ]
     },
     "execution_count": 84,
     "metadata": {},
     "output_type": "execute_result"
    }
   ],
   "source": [
    "#if we want to perform exponent operation\n",
    "np.exp(arr1)"
   ]
  },
  {
   "cell_type": "code",
   "execution_count": 85,
   "id": "49e5e67e-d972-4ad8-9bbf-941560b22641",
   "metadata": {},
   "outputs": [
    {
     "data": {
      "text/plain": [
       "6.0"
      ]
     },
     "execution_count": 85,
     "metadata": {},
     "output_type": "execute_result"
    }
   ],
   "source": [
    "#we can also find max and min inside the array\n",
    "np.max(arr1)"
   ]
  },
  {
   "cell_type": "code",
   "execution_count": 86,
   "id": "de07e62a-b5d6-4f99-85f0-7560ce20dac1",
   "metadata": {},
   "outputs": [
    {
     "data": {
      "text/plain": [
       "4.0"
      ]
     },
     "execution_count": 86,
     "metadata": {},
     "output_type": "execute_result"
    }
   ],
   "source": [
    "np.min(arr1)"
   ]
  },
  {
   "cell_type": "code",
   "execution_count": null,
   "id": "666bb8cb-aebd-41c7-be1c-2a74cafd9658",
   "metadata": {},
   "outputs": [],
   "source": []
  }
 ],
 "metadata": {
  "kernelspec": {
   "display_name": "Python 3 (ipykernel)",
   "language": "python",
   "name": "python3"
  },
  "language_info": {
   "codemirror_mode": {
    "name": "ipython",
    "version": 3
   },
   "file_extension": ".py",
   "mimetype": "text/x-python",
   "name": "python",
   "nbconvert_exporter": "python",
   "pygments_lexer": "ipython3",
   "version": "3.10.8"
  }
 },
 "nbformat": 4,
 "nbformat_minor": 5
}
