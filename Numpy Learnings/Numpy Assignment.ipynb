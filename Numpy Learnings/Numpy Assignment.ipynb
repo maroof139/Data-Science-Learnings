{
 "cells": [
  {
   "cell_type": "markdown",
   "id": "1d37ea2b-1077-47fc-bd28-fcb1507d2101",
   "metadata": {},
   "source": [
    "## Consider the below code to answer further questions:\n",
    "### import numpy as np\n",
    "### list_ = [ ‘1’ , ’2’ , ‘3’ , ‘4’ , ‘5’ ]\n",
    "### array_list = np.array(object = list_)\n",
    "### Q1. Is there any difference in the data type of variables list_ and array_list? If there is then write a code\n",
    "### to print the data types of both the variables."
   ]
  },
  {
   "cell_type": "code",
   "execution_count": 2,
   "id": "a1ecb11c-c680-4636-93c3-c12b0007d51a",
   "metadata": {},
   "outputs": [],
   "source": [
    "import numpy as np"
   ]
  },
  {
   "cell_type": "code",
   "execution_count": 8,
   "id": "19b83800-6015-4807-9a1f-751f0d30e13d",
   "metadata": {},
   "outputs": [],
   "source": [
    "list_1 = [ '1' , '2' , '3' , '4' , '5' ]"
   ]
  },
  {
   "cell_type": "code",
   "execution_count": 9,
   "id": "b029cf7d-1de3-48c5-b5ed-717e04048f59",
   "metadata": {},
   "outputs": [],
   "source": [
    "array_list = np.array(object = list_1)"
   ]
  },
  {
   "cell_type": "code",
   "execution_count": 10,
   "id": "a8b2fa89-5da1-4d80-8b45-7388d308f683",
   "metadata": {},
   "outputs": [
    {
     "data": {
      "text/plain": [
       "list"
      ]
     },
     "execution_count": 10,
     "metadata": {},
     "output_type": "execute_result"
    }
   ],
   "source": [
    "type(list_1)"
   ]
  },
  {
   "cell_type": "code",
   "execution_count": 11,
   "id": "f2c3726f-5c91-44d9-b5da-c06ad125b892",
   "metadata": {},
   "outputs": [
    {
     "data": {
      "text/plain": [
       "numpy.ndarray"
      ]
     },
     "execution_count": 11,
     "metadata": {},
     "output_type": "execute_result"
    }
   ],
   "source": [
    "type(array_list)"
   ]
  },
  {
   "cell_type": "markdown",
   "id": "c61d3ac9-f65e-49f6-8758-5f74c640d382",
   "metadata": {},
   "source": [
    "## Q2. Write a code to print the data type of each and every element of both the variables list_ and array_list."
   ]
  },
  {
   "cell_type": "code",
   "execution_count": 16,
   "id": "273c2780-d9ac-4962-ab93-be5077d08fc4",
   "metadata": {},
   "outputs": [
    {
     "name": "stdout",
     "output_type": "stream",
     "text": [
      "Data types of elements in list_:\n",
      "<class 'str'>\n",
      "<class 'str'>\n",
      "<class 'str'>\n",
      "<class 'str'>\n",
      "<class 'str'>\n",
      "\n",
      "Data types of elements in array_list:\n",
      "<class 'numpy.str_'>\n",
      "<class 'numpy.str_'>\n",
      "<class 'numpy.str_'>\n",
      "<class 'numpy.str_'>\n",
      "<class 'numpy.str_'>\n"
     ]
    }
   ],
   "source": [
    "import numpy as np\n",
    "\n",
    "list_1 = ['1', '2', '3', '4', '5']\n",
    "array_list = np.array(object=list_)\n",
    "\n",
    "# Print data type of each element in list_\n",
    "print(\"Data types of elements in list_:\")\n",
    "for element in list_1:\n",
    "    print(type(element))\n",
    "\n",
    "# Print data type of each element in array_list\n",
    "print(\"\\nData types of elements in array_list:\")\n",
    "for element in array_list:\n",
    "    print(type(element))\n"
   ]
  },
  {
   "cell_type": "markdown",
   "id": "de9daeed-2c95-45ee-ad5b-3b87d3c10826",
   "metadata": {},
   "source": [
    "## Q3. Considering the following changes in the variable, array_list:\n",
    "### array_list = np.array(object = list_, dtype = int)\n",
    "### Will there be any difference in the data type of the elements present in both the variables, list_1 and\n",
    "### array_list? If so then print the data types of each and every element present in both the variables, list_\n",
    "### and array_list."
   ]
  },
  {
   "cell_type": "markdown",
   "id": "bb359e81-2a5d-4458-817f-3f3b31ac5a20",
   "metadata": {},
   "source": [
    "### Answer. Yes, there will be a difference in the data type of the elements present in the variables list_ and array_list dueto the specified dtype=int in the creation of array_list. The elements of array_list will be of integer type."
   ]
  },
  {
   "cell_type": "code",
   "execution_count": 17,
   "id": "86eddaa9-a317-42f9-9d63-de20c8aeeee5",
   "metadata": {},
   "outputs": [
    {
     "name": "stdout",
     "output_type": "stream",
     "text": [
      "Data types of elements in list_:\n",
      "<class 'str'>\n",
      "<class 'str'>\n",
      "<class 'str'>\n",
      "<class 'str'>\n",
      "<class 'str'>\n",
      "\n",
      "Data types of elements in array_list:\n",
      "<class 'numpy.int64'>\n",
      "<class 'numpy.int64'>\n",
      "<class 'numpy.int64'>\n",
      "<class 'numpy.int64'>\n",
      "<class 'numpy.int64'>\n"
     ]
    }
   ],
   "source": [
    "import numpy as np\n",
    "\n",
    "list_ = ['1', '2', '3', '4', '5']\n",
    "array_list = np.array(object=list_, dtype=int)\n",
    "\n",
    "# Print data type of each element in list_\n",
    "print(\"Data types of elements in list_:\")\n",
    "for element in list_:\n",
    "    print(type(element))\n",
    "\n",
    "# Print data type of each element in array_list\n",
    "print(\"\\nData types of elements in array_list:\")\n",
    "for element in array_list:\n",
    "    print(type(element))\n"
   ]
  },
  {
   "cell_type": "markdown",
   "id": "5e6055a4-7151-4953-8861-628ae267297d",
   "metadata": {},
   "source": [
    "## Consider the below code to answer further questions:\n",
    "### import numpy as np\n",
    "### num_list = [ [ 1 , 2 , 3 ] , [ 4 , 5 , 6 ] ]\n",
    "### num_array = np.array(object = num_list)\n",
    "\n",
    "### Q4. Write a code to find the following characteristics of variable, num_array:\n",
    "### (i) shape\n",
    "### (ii) size"
   ]
  },
  {
   "cell_type": "code",
   "execution_count": 18,
   "id": "2b2fde56-6bec-43f9-8970-0a753039236f",
   "metadata": {},
   "outputs": [],
   "source": [
    "import numpy as np"
   ]
  },
  {
   "cell_type": "code",
   "execution_count": 19,
   "id": "82f17cb1-6ba1-4096-8aa0-294d80022568",
   "metadata": {},
   "outputs": [],
   "source": [
    "num_list=[[1,2,3],[4,5,6]]"
   ]
  },
  {
   "cell_type": "code",
   "execution_count": 20,
   "id": "cd9fd8f9-8c28-4835-a9f4-4364b216505d",
   "metadata": {},
   "outputs": [],
   "source": [
    "num_array=np.array(object=num_list)"
   ]
  },
  {
   "cell_type": "code",
   "execution_count": 21,
   "id": "68b741b3-296f-43c8-baec-ee426f015553",
   "metadata": {},
   "outputs": [
    {
     "data": {
      "text/plain": [
       "array([[1, 2, 3],\n",
       "       [4, 5, 6]])"
      ]
     },
     "execution_count": 21,
     "metadata": {},
     "output_type": "execute_result"
    }
   ],
   "source": [
    "num_array"
   ]
  },
  {
   "cell_type": "code",
   "execution_count": 23,
   "id": "d9814a25-cc97-4007-a5cd-d8ba17786467",
   "metadata": {},
   "outputs": [
    {
     "data": {
      "text/plain": [
       "(2, 3)"
      ]
     },
     "execution_count": 23,
     "metadata": {},
     "output_type": "execute_result"
    }
   ],
   "source": [
    "num_array.shape"
   ]
  },
  {
   "cell_type": "code",
   "execution_count": 24,
   "id": "91aac2a7-9417-424d-99ae-0c45eed60f8d",
   "metadata": {},
   "outputs": [
    {
     "data": {
      "text/plain": [
       "6"
      ]
     },
     "execution_count": 24,
     "metadata": {},
     "output_type": "execute_result"
    }
   ],
   "source": [
    "num_array.size"
   ]
  },
  {
   "cell_type": "markdown",
   "id": "309ab413-fcce-48c6-8c1e-07056a593c9b",
   "metadata": {},
   "source": [
    "## Q5. Write a code to create numpy array of 3*3 matrix containing zeros only, using a numpy array creation function."
   ]
  },
  {
   "cell_type": "code",
   "execution_count": 28,
   "id": "c8f82db8-0272-4132-8a36-08ec4217f0f6",
   "metadata": {},
   "outputs": [
    {
     "data": {
      "text/plain": [
       "array([[0., 0., 0.],\n",
       "       [0., 0., 0.],\n",
       "       [0., 0., 0.]])"
      ]
     },
     "execution_count": 28,
     "metadata": {},
     "output_type": "execute_result"
    }
   ],
   "source": [
    "np.zeros((3,3))"
   ]
  },
  {
   "cell_type": "markdown",
   "id": "3e34c208-cbb8-4668-8410-fd014309a9a8",
   "metadata": {},
   "source": [
    "## Q6. Create an identity matrix of shape (5,5) using numpy functions?"
   ]
  },
  {
   "cell_type": "code",
   "execution_count": 29,
   "id": "1a272470-5044-422a-b773-113116658be1",
   "metadata": {},
   "outputs": [
    {
     "data": {
      "text/plain": [
       "array([[1., 0., 0., 0., 0.],\n",
       "       [0., 1., 0., 0., 0.],\n",
       "       [0., 0., 1., 0., 0.],\n",
       "       [0., 0., 0., 1., 0.],\n",
       "       [0., 0., 0., 0., 1.]])"
      ]
     },
     "execution_count": 29,
     "metadata": {},
     "output_type": "execute_result"
    }
   ],
   "source": [
    "np.eye(5,5)"
   ]
  },
  {
   "cell_type": "code",
   "execution_count": null,
   "id": "605fed97-be1e-442c-bdf5-2ca1fd30a413",
   "metadata": {},
   "outputs": [],
   "source": []
  }
 ],
 "metadata": {
  "kernelspec": {
   "display_name": "Python 3 (ipykernel)",
   "language": "python",
   "name": "python3"
  },
  "language_info": {
   "codemirror_mode": {
    "name": "ipython",
    "version": 3
   },
   "file_extension": ".py",
   "mimetype": "text/x-python",
   "name": "python",
   "nbconvert_exporter": "python",
   "pygments_lexer": "ipython3",
   "version": "3.10.8"
  }
 },
 "nbformat": 4,
 "nbformat_minor": 5
}
