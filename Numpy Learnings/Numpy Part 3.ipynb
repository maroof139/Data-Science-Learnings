{
 "cells": [
  {
   "cell_type": "code",
   "execution_count": 1,
   "id": "c20562b4-1fd8-4302-aa3c-e5d7a577a448",
   "metadata": {},
   "outputs": [],
   "source": [
    "import numpy as np"
   ]
  },
  {
   "cell_type": "markdown",
   "id": "b6ba35ba-7431-43d2-b6d8-ffa8e51f073b",
   "metadata": {},
   "source": [
    "Numpy - Array Manipulation"
   ]
  },
  {
   "cell_type": "code",
   "execution_count": 2,
   "id": "c1b66d3a-88a5-422e-b11d-7766978d3421",
   "metadata": {},
   "outputs": [],
   "source": [
    "arr=np.random.randint(1,10,(4,4))"
   ]
  },
  {
   "cell_type": "code",
   "execution_count": 3,
   "id": "0c3d05c3-ad5f-444d-9051-10e36fe523ac",
   "metadata": {},
   "outputs": [
    {
     "data": {
      "text/plain": [
       "array([[1, 5, 3, 8],\n",
       "       [7, 1, 8, 1],\n",
       "       [8, 5, 5, 2],\n",
       "       [5, 3, 1, 1]])"
      ]
     },
     "execution_count": 3,
     "metadata": {},
     "output_type": "execute_result"
    }
   ],
   "source": [
    "arr"
   ]
  },
  {
   "cell_type": "code",
   "execution_count": 4,
   "id": "ae3af751-09fb-4b12-8262-61363b74482a",
   "metadata": {},
   "outputs": [
    {
     "data": {
      "text/plain": [
       "array([[1, 5],\n",
       "       [3, 8],\n",
       "       [7, 1],\n",
       "       [8, 1],\n",
       "       [8, 5],\n",
       "       [5, 2],\n",
       "       [5, 3],\n",
       "       [1, 1]])"
      ]
     },
     "execution_count": 4,
     "metadata": {},
     "output_type": "execute_result"
    }
   ],
   "source": [
    "#lets try reshaping the matrix\n",
    "arr.reshape(8,2)"
   ]
  },
  {
   "cell_type": "code",
   "execution_count": 5,
   "id": "0915678d-c991-479d-a6be-12af3961027d",
   "metadata": {},
   "outputs": [
    {
     "data": {
      "text/plain": [
       "array([[1, 7, 8, 5],\n",
       "       [5, 1, 5, 3],\n",
       "       [3, 8, 5, 1],\n",
       "       [8, 1, 2, 1]])"
      ]
     },
     "execution_count": 5,
     "metadata": {},
     "output_type": "execute_result"
    }
   ],
   "source": [
    "#T means transpose, it is used for rotating array, that is row will become column and column will become row\n",
    "arr.T"
   ]
  },
  {
   "cell_type": "code",
   "execution_count": 6,
   "id": "d35e2bb3-ff6d-4081-9a57-ace6c74197be",
   "metadata": {},
   "outputs": [
    {
     "data": {
      "text/plain": [
       "array([1, 5, 3, 8, 7, 1, 8, 1, 8, 5, 5, 2, 5, 3, 1, 1])"
      ]
     },
     "execution_count": 6,
     "metadata": {},
     "output_type": "execute_result"
    }
   ],
   "source": [
    "#to make a 1d array we use flatten function, in this case arr.flatten, this way all the array elements will be in 1d\n",
    "arr.flatten()"
   ]
  },
  {
   "cell_type": "code",
   "execution_count": 7,
   "id": "579e590d-34cd-4f38-9b3f-896aca9c99bd",
   "metadata": {},
   "outputs": [
    {
     "data": {
      "text/plain": [
       "array([[[1, 5, 3, 8]],\n",
       "\n",
       "       [[7, 1, 8, 1]],\n",
       "\n",
       "       [[8, 5, 5, 2]],\n",
       "\n",
       "       [[5, 3, 1, 1]]])"
      ]
     },
     "execution_count": 7,
     "metadata": {},
     "output_type": "execute_result"
    }
   ],
   "source": [
    "#if we want to expand dimension that is expand from 2d to 3d or 4d we use np.expand_dims, while doing its important to mention\n",
    "#the axis \n",
    "np.expand_dims(arr,axis=1)"
   ]
  },
  {
   "cell_type": "code",
   "execution_count": 8,
   "id": "319539d0-1910-44c2-b25f-a41efacf1f6b",
   "metadata": {},
   "outputs": [
    {
     "data": {
      "text/plain": [
       "array([[[1],\n",
       "        [5],\n",
       "        [3],\n",
       "        [8]],\n",
       "\n",
       "       [[7],\n",
       "        [1],\n",
       "        [8],\n",
       "        [1]],\n",
       "\n",
       "       [[8],\n",
       "        [5],\n",
       "        [5],\n",
       "        [2]],\n",
       "\n",
       "       [[5],\n",
       "        [3],\n",
       "        [1],\n",
       "        [1]]])"
      ]
     },
     "execution_count": 8,
     "metadata": {},
     "output_type": "execute_result"
    }
   ],
   "source": [
    "np.expand_dims(arr,axis=2)"
   ]
  },
  {
   "cell_type": "code",
   "execution_count": 9,
   "id": "113f55e5-0764-4651-a3ae-414a9ee0f64c",
   "metadata": {},
   "outputs": [
    {
     "data": {
      "text/plain": [
       "array([[[1, 5, 3, 8],\n",
       "        [7, 1, 8, 1],\n",
       "        [8, 5, 5, 2],\n",
       "        [5, 3, 1, 1]]])"
      ]
     },
     "execution_count": 9,
     "metadata": {},
     "output_type": "execute_result"
    }
   ],
   "source": [
    "np.expand_dims(arr,axis=0)"
   ]
  },
  {
   "cell_type": "code",
   "execution_count": 10,
   "id": "863afe28-f719-41be-bf56-ff4a18e9a8ea",
   "metadata": {},
   "outputs": [],
   "source": [
    "#lets create a data set of 2d\n",
    "data=np.array([[1],[2],[3]])"
   ]
  },
  {
   "cell_type": "code",
   "execution_count": 11,
   "id": "3d10da4d-4931-4aa5-b806-29cf73b3dae8",
   "metadata": {},
   "outputs": [
    {
     "data": {
      "text/plain": [
       "array([[1],\n",
       "       [2],\n",
       "       [3]])"
      ]
     },
     "execution_count": 11,
     "metadata": {},
     "output_type": "execute_result"
    }
   ],
   "source": [
    "data"
   ]
  },
  {
   "cell_type": "code",
   "execution_count": 12,
   "id": "2a365712-9997-4b4b-8e2a-b79234784a83",
   "metadata": {},
   "outputs": [
    {
     "data": {
      "text/plain": [
       "array([1, 2, 3])"
      ]
     },
     "execution_count": 12,
     "metadata": {},
     "output_type": "execute_result"
    }
   ],
   "source": [
    "#if we want to reduce dimension we use squeeze function\n",
    "np.squeeze(data)"
   ]
  },
  {
   "cell_type": "code",
   "execution_count": 13,
   "id": "13c2e3fb-21de-402b-be70-28414a52f23b",
   "metadata": {},
   "outputs": [
    {
     "data": {
      "text/plain": [
       "array([1, 1, 2, 2, 3, 3])"
      ]
     },
     "execution_count": 13,
     "metadata": {},
     "output_type": "execute_result"
    }
   ],
   "source": [
    "#if we want the elements to be repeated in an array, while doing its important to mention how many time we want the elements to\n",
    "#be repeated, in this case i have mentioned 2 as no of times i want the element to be repeated\n",
    "np.repeat(data,2)"
   ]
  },
  {
   "cell_type": "code",
   "execution_count": 14,
   "id": "790d1996-a8dc-41ba-95ec-e5e1f5c9784f",
   "metadata": {},
   "outputs": [
    {
     "data": {
      "text/plain": [
       "array([1, 1, 1, 1, 2, 2, 2, 2, 3, 3, 3, 3])"
      ]
     },
     "execution_count": 14,
     "metadata": {},
     "output_type": "execute_result"
    }
   ],
   "source": [
    "np.repeat(data,4)"
   ]
  },
  {
   "cell_type": "code",
   "execution_count": 15,
   "id": "920bfc11-4d23-43d7-a68c-6817a9a09c80",
   "metadata": {},
   "outputs": [
    {
     "data": {
      "text/plain": [
       "array([[3],\n",
       "       [1],\n",
       "       [2]])"
      ]
     },
     "execution_count": 15,
     "metadata": {},
     "output_type": "execute_result"
    }
   ],
   "source": [
    "#if we want to roll the data, we use np.roll, important to mention the step size, in this case its 1\n",
    "np.roll(data,1)\n",
    "#to roll means it roll the data, here step size is 1 means, initially we elements 1 2 3, to roll by 1 means 1 will \n",
    "#move by 1 step to 2s position, 2 will move by 1 step to 3s position, 3 will move by 1 step to 1s position "
   ]
  },
  {
   "cell_type": "code",
   "execution_count": 16,
   "id": "e58caa15-e21c-48c1-b3ab-4d7921573894",
   "metadata": {},
   "outputs": [
    {
     "data": {
      "text/plain": [
       "array([[2],\n",
       "       [3],\n",
       "       [1]])"
      ]
     },
     "execution_count": 16,
     "metadata": {},
     "output_type": "execute_result"
    }
   ],
   "source": [
    "np.roll(data,2)"
   ]
  },
  {
   "cell_type": "code",
   "execution_count": 17,
   "id": "f68f535f-d853-4e41-8470-f95ad8f21d51",
   "metadata": {},
   "outputs": [
    {
     "data": {
      "text/plain": [
       "array([[1, 0, 0, 0, 0],\n",
       "       [0, 2, 0, 0, 0],\n",
       "       [0, 0, 3, 0, 0],\n",
       "       [0, 0, 0, 4, 0],\n",
       "       [0, 0, 0, 0, 5]])"
      ]
     },
     "execution_count": 17,
     "metadata": {},
     "output_type": "execute_result"
    }
   ],
   "source": [
    "#if we want to the elements to be places in diagonal manner,we use np.diag\n",
    "np.diag(np.array([1,2,3,4,5]))"
   ]
  },
  {
   "cell_type": "markdown",
   "id": "afde2a59-ff29-45d7-a097-57b1aac89f9f",
   "metadata": {},
   "source": [
    "Numpy - Binary Operations"
   ]
  },
  {
   "cell_type": "code",
   "execution_count": 20,
   "id": "e16a53ba-d0e7-4d45-ae42-3d6818b1811f",
   "metadata": {},
   "outputs": [],
   "source": [
    "#lets create random numbers\n",
    "arr1=np.random.randint(1,10,(3,4))\n",
    "arr2=np.random.randint(1,10,(3,4))"
   ]
  },
  {
   "cell_type": "code",
   "execution_count": 21,
   "id": "cbf0b328-632c-45d6-b6ac-bfe545713cf0",
   "metadata": {},
   "outputs": [
    {
     "data": {
      "text/plain": [
       "array([[6, 2, 1, 5],\n",
       "       [3, 3, 7, 5],\n",
       "       [7, 8, 4, 7]])"
      ]
     },
     "execution_count": 21,
     "metadata": {},
     "output_type": "execute_result"
    }
   ],
   "source": [
    "arr1"
   ]
  },
  {
   "cell_type": "code",
   "execution_count": 22,
   "id": "b2a195be-eec3-4d9d-8e8e-d3ee77ca82ce",
   "metadata": {},
   "outputs": [
    {
     "data": {
      "text/plain": [
       "array([[1, 6, 2, 7],\n",
       "       [6, 7, 7, 1],\n",
       "       [3, 7, 7, 7]])"
      ]
     },
     "execution_count": 22,
     "metadata": {},
     "output_type": "execute_result"
    }
   ],
   "source": [
    "arr2"
   ]
  },
  {
   "cell_type": "markdown",
   "id": "fe8094f7-2e92-461a-8848-c7a32a3fdc41",
   "metadata": {},
   "source": [
    "#we can perform binary operations in numpy like add,subtract,multiple,divide,negate, all these operation are done index wise\n",
    "arr1+arr2\n",
    "#we can notice it will perform index wise additiion"
   ]
  },
  {
   "cell_type": "code",
   "execution_count": 25,
   "id": "7c2c7075-fe3a-4305-b0db-2c5649fe35a1",
   "metadata": {},
   "outputs": [
    {
     "data": {
      "text/plain": [
       "array([[ 6, 12,  2, 35],\n",
       "       [18, 21, 49,  5],\n",
       "       [21, 56, 28, 49]])"
      ]
     },
     "execution_count": 25,
     "metadata": {},
     "output_type": "execute_result"
    }
   ],
   "source": [
    "arr1*arr2\n",
    "#this is also index wise multiplication"
   ]
  },
  {
   "cell_type": "code",
   "execution_count": 26,
   "id": "55c614db-9812-41c8-9fd3-7258f0cfdd46",
   "metadata": {},
   "outputs": [
    {
     "data": {
      "text/plain": [
       "array([[6.        , 0.33333333, 0.5       , 0.71428571],\n",
       "       [0.5       , 0.42857143, 1.        , 5.        ],\n",
       "       [2.33333333, 1.14285714, 0.57142857, 1.        ]])"
      ]
     },
     "execution_count": 26,
     "metadata": {},
     "output_type": "execute_result"
    }
   ],
   "source": [
    "arr1/arr2"
   ]
  },
  {
   "cell_type": "code",
   "execution_count": 27,
   "id": "64690a1c-cd94-48f7-8463-7264a2adf92b",
   "metadata": {},
   "outputs": [
    {
     "data": {
      "text/plain": [
       "array([[ 5, -4, -1, -2],\n",
       "       [-3, -4,  0,  4],\n",
       "       [ 4,  1, -3,  0]])"
      ]
     },
     "execution_count": 27,
     "metadata": {},
     "output_type": "execute_result"
    }
   ],
   "source": [
    "arr1-arr2"
   ]
  },
  {
   "cell_type": "code",
   "execution_count": 28,
   "id": "ca14b3bd-c2c9-4b8f-8a28-26b160b18b78",
   "metadata": {},
   "outputs": [
    {
     "data": {
      "text/plain": [
       "array([[      6,      64,       1,   78125],\n",
       "       [    729,    2187,  823543,       5],\n",
       "       [    343, 2097152,   16384,  823543]])"
      ]
     },
     "execution_count": 28,
     "metadata": {},
     "output_type": "execute_result"
    }
   ],
   "source": [
    "#** means power of\n",
    "arr1**arr2"
   ]
  },
  {
   "cell_type": "code",
   "execution_count": 29,
   "id": "36f1afad-3f87-4742-b5f8-21da5f1f95aa",
   "metadata": {},
   "outputs": [
    {
     "data": {
      "text/plain": [
       "array([[-7, -3, -2, -6],\n",
       "       [-4, -4, -8, -6],\n",
       "       [-8, -9, -5, -8]])"
      ]
     },
     "execution_count": 29,
     "metadata": {},
     "output_type": "execute_result"
    }
   ],
   "source": [
    "~arr1"
   ]
  },
  {
   "cell_type": "code",
   "execution_count": 30,
   "id": "13de3fa7-eec3-4ff5-b5a0-ca4c2e9e8aca",
   "metadata": {},
   "outputs": [
    {
     "data": {
      "text/plain": [
       "array([[ True, False, False, False],\n",
       "       [False, False, False,  True],\n",
       "       [ True,  True, False, False]])"
      ]
     },
     "execution_count": 30,
     "metadata": {},
     "output_type": "execute_result"
    }
   ],
   "source": [
    "arr1>arr2"
   ]
  },
  {
   "cell_type": "markdown",
   "id": "a2c10887-bfc6-42cd-bbbf-3cbbd9849d54",
   "metadata": {},
   "source": [
    "Numpy - String Operations"
   ]
  },
  {
   "cell_type": "code",
   "execution_count": 32,
   "id": "a8d1d8ac-2369-4eba-acee-4bfeecd7566e",
   "metadata": {},
   "outputs": [],
   "source": [
    "#lets create an array of strings\n",
    "arr=np.array([\"Sudh\",\"Kumar\"])"
   ]
  },
  {
   "cell_type": "code",
   "execution_count": 33,
   "id": "6befbac9-392f-4f1e-a763-3dc77ad604b1",
   "metadata": {},
   "outputs": [
    {
     "data": {
      "text/plain": [
       "array(['Sudh', 'Kumar'], dtype='<U5')"
      ]
     },
     "execution_count": 33,
     "metadata": {},
     "output_type": "execute_result"
    }
   ],
   "source": [
    "arr"
   ]
  },
  {
   "cell_type": "code",
   "execution_count": 34,
   "id": "56873f9f-f607-497f-b25b-9731fa594ea6",
   "metadata": {},
   "outputs": [
    {
     "data": {
      "text/plain": [
       "array(['SUDH', 'KUMAR'], dtype='<U5')"
      ]
     },
     "execution_count": 34,
     "metadata": {},
     "output_type": "execute_result"
    }
   ],
   "source": [
    "#if we want to convert this into upper case, we use np.char.upper()\n",
    "np.char.upper(arr)"
   ]
  },
  {
   "cell_type": "code",
   "execution_count": 35,
   "id": "7c24e130-931d-45a6-9b4c-45ee443d6ff4",
   "metadata": {},
   "outputs": [
    {
     "data": {
      "text/plain": [
       "array(['Sudh', 'Kumar'], dtype='<U5')"
      ]
     },
     "execution_count": 35,
     "metadata": {},
     "output_type": "execute_result"
    }
   ],
   "source": [
    "#if we want to capitalize the data,we use np.char.capitalize()\n",
    "np.char.capitalize(arr)"
   ]
  },
  {
   "cell_type": "code",
   "execution_count": 36,
   "id": "56978ac8-691c-483e-a3a4-f5c2c5a46c6b",
   "metadata": {},
   "outputs": [
    {
     "data": {
      "text/plain": [
       "array(['Sudh', 'Kumar'], dtype='<U5')"
      ]
     },
     "execution_count": 36,
     "metadata": {},
     "output_type": "execute_result"
    }
   ],
   "source": [
    "#if we want to provide title \n",
    "np.char.title(arr)"
   ]
  },
  {
   "cell_type": "markdown",
   "id": "61db4b63-79db-4c7c-876c-925181c6f4c6",
   "metadata": {},
   "source": [
    "Numpy - Mathematical Functions"
   ]
  },
  {
   "cell_type": "code",
   "execution_count": 37,
   "id": "b720bf56-2b6c-44d1-9ee7-8968f009126a",
   "metadata": {},
   "outputs": [
    {
     "data": {
      "text/plain": [
       "array([[6, 2, 1, 5],\n",
       "       [3, 3, 7, 5],\n",
       "       [7, 8, 4, 7]])"
      ]
     },
     "execution_count": 37,
     "metadata": {},
     "output_type": "execute_result"
    }
   ],
   "source": [
    "arr1"
   ]
  },
  {
   "cell_type": "code",
   "execution_count": 38,
   "id": "a2ba5b32-f7c8-47e6-958e-cd4de4f33ee8",
   "metadata": {},
   "outputs": [
    {
     "data": {
      "text/plain": [
       "array([[-0.2794155 ,  0.90929743,  0.84147098, -0.95892427],\n",
       "       [ 0.14112001,  0.14112001,  0.6569866 , -0.95892427],\n",
       "       [ 0.6569866 ,  0.98935825, -0.7568025 ,  0.6569866 ]])"
      ]
     },
     "execution_count": 38,
     "metadata": {},
     "output_type": "execute_result"
    }
   ],
   "source": [
    "#using numpy we can perform mathematical functions like finding sin, cos\n",
    "np.sin(arr1)"
   ]
  },
  {
   "cell_type": "code",
   "execution_count": 39,
   "id": "71bbcbb8-7995-4abf-8a3b-736f66419257",
   "metadata": {},
   "outputs": [
    {
     "data": {
      "text/plain": [
       "array([[ 0.96017029, -0.41614684,  0.54030231,  0.28366219],\n",
       "       [-0.9899925 , -0.9899925 ,  0.75390225,  0.28366219],\n",
       "       [ 0.75390225, -0.14550003, -0.65364362,  0.75390225]])"
      ]
     },
     "execution_count": 39,
     "metadata": {},
     "output_type": "execute_result"
    }
   ],
   "source": [
    "np.cos(arr1)"
   ]
  },
  {
   "cell_type": "code",
   "execution_count": 40,
   "id": "b8bbb784-220c-4475-9150-ba3ce1b3b722",
   "metadata": {},
   "outputs": [
    {
     "data": {
      "text/plain": [
       "array([[-0.29100619, -2.18503986,  1.55740772, -3.38051501],\n",
       "       [-0.14254654, -0.14254654,  0.87144798, -3.38051501],\n",
       "       [ 0.87144798, -6.79971146,  1.15782128,  0.87144798]])"
      ]
     },
     "execution_count": 40,
     "metadata": {},
     "output_type": "execute_result"
    }
   ],
   "source": [
    "np.tan(arr1)"
   ]
  },
  {
   "cell_type": "code",
   "execution_count": 41,
   "id": "61178c96-60ee-4870-947f-efb065c8e1bd",
   "metadata": {},
   "outputs": [
    {
     "data": {
      "text/plain": [
       "array([[0.77815125, 0.30103   , 0.        , 0.69897   ],\n",
       "       [0.47712125, 0.47712125, 0.84509804, 0.69897   ],\n",
       "       [0.84509804, 0.90308999, 0.60205999, 0.84509804]])"
      ]
     },
     "execution_count": 41,
     "metadata": {},
     "output_type": "execute_result"
    }
   ],
   "source": [
    "np.log10(arr1)"
   ]
  },
  {
   "cell_type": "code",
   "execution_count": 42,
   "id": "53979265-2a36-4698-a8ef-df8b48fe97d4",
   "metadata": {},
   "outputs": [
    {
     "data": {
      "text/plain": [
       "array([[4.03428793e+02, 7.38905610e+00, 2.71828183e+00, 1.48413159e+02],\n",
       "       [2.00855369e+01, 2.00855369e+01, 1.09663316e+03, 1.48413159e+02],\n",
       "       [1.09663316e+03, 2.98095799e+03, 5.45981500e+01, 1.09663316e+03]])"
      ]
     },
     "execution_count": 42,
     "metadata": {},
     "output_type": "execute_result"
    }
   ],
   "source": [
    "np.exp(arr1)"
   ]
  },
  {
   "cell_type": "code",
   "execution_count": 44,
   "id": "356bc158-5fb1-4a9f-87a4-630145f50e58",
   "metadata": {},
   "outputs": [
    {
     "data": {
      "text/plain": [
       "array([[36,  4,  1, 25],\n",
       "       [ 9,  9, 49, 25],\n",
       "       [49, 64, 16, 49]])"
      ]
     },
     "execution_count": 44,
     "metadata": {},
     "output_type": "execute_result"
    }
   ],
   "source": [
    "#when use numpy's power function, its important to mention power along with the data that we are passing, in this case \n",
    "#we are passing arr1 as our data 2 is power\n",
    "np.power(arr1,2)"
   ]
  },
  {
   "cell_type": "code",
   "execution_count": 45,
   "id": "8213d7e6-b6d5-45b5-acc8-885612a79e68",
   "metadata": {},
   "outputs": [
    {
     "data": {
      "text/plain": [
       "4.833333333333333"
      ]
     },
     "execution_count": 45,
     "metadata": {},
     "output_type": "execute_result"
    }
   ],
   "source": [
    "np.mean(arr1)"
   ]
  },
  {
   "cell_type": "code",
   "execution_count": 46,
   "id": "caa7b9aa-4991-4c40-a23b-371b4da25ee7",
   "metadata": {},
   "outputs": [
    {
     "data": {
      "text/plain": [
       "5.0"
      ]
     },
     "execution_count": 46,
     "metadata": {},
     "output_type": "execute_result"
    }
   ],
   "source": [
    "np.median(arr1)"
   ]
  },
  {
   "cell_type": "code",
   "execution_count": 47,
   "id": "26a825cc-3e2d-4d51-a6ad-ba6298a3fc77",
   "metadata": {},
   "outputs": [
    {
     "data": {
      "text/plain": [
       "2.153807997220014"
      ]
     },
     "execution_count": 47,
     "metadata": {},
     "output_type": "execute_result"
    }
   ],
   "source": [
    "np.std(arr1)"
   ]
  },
  {
   "cell_type": "code",
   "execution_count": 48,
   "id": "1775c146-4790-485c-a2f1-ba33699aa9fe",
   "metadata": {},
   "outputs": [
    {
     "data": {
      "text/plain": [
       "4.638888888888888"
      ]
     },
     "execution_count": 48,
     "metadata": {},
     "output_type": "execute_result"
    }
   ],
   "source": [
    "np.var(arr1)"
   ]
  },
  {
   "cell_type": "code",
   "execution_count": 49,
   "id": "72f123d2-2720-4475-a3e7-114d9e47c26d",
   "metadata": {},
   "outputs": [
    {
     "data": {
      "text/plain": [
       "1"
      ]
     },
     "execution_count": 49,
     "metadata": {},
     "output_type": "execute_result"
    }
   ],
   "source": [
    "np.min(arr1)"
   ]
  },
  {
   "cell_type": "code",
   "execution_count": 50,
   "id": "b0c73b99-64b4-48c2-9965-517877a300da",
   "metadata": {},
   "outputs": [
    {
     "data": {
      "text/plain": [
       "8"
      ]
     },
     "execution_count": 50,
     "metadata": {},
     "output_type": "execute_result"
    }
   ],
   "source": [
    "np.max(arr1)"
   ]
  },
  {
   "cell_type": "markdown",
   "id": "35d99886-a6b7-4c1c-90b4-e2237deed5f9",
   "metadata": {},
   "source": [
    "Numpy - Arithematic Operations"
   ]
  },
  {
   "cell_type": "code",
   "execution_count": 51,
   "id": "fb39f756-1549-42e8-9fdd-0cd1bfafcce4",
   "metadata": {},
   "outputs": [
    {
     "data": {
      "text/plain": [
       "array([[6, 2, 1, 5],\n",
       "       [3, 3, 7, 5],\n",
       "       [7, 8, 4, 7]])"
      ]
     },
     "execution_count": 51,
     "metadata": {},
     "output_type": "execute_result"
    }
   ],
   "source": [
    "arr1"
   ]
  },
  {
   "cell_type": "code",
   "execution_count": 52,
   "id": "fe2ea008-a659-4806-b9ce-59d353641c9e",
   "metadata": {},
   "outputs": [
    {
     "data": {
      "text/plain": [
       "array([[1, 6, 2, 7],\n",
       "       [6, 7, 7, 1],\n",
       "       [3, 7, 7, 7]])"
      ]
     },
     "execution_count": 52,
     "metadata": {},
     "output_type": "execute_result"
    }
   ],
   "source": [
    "arr2"
   ]
  },
  {
   "cell_type": "code",
   "execution_count": 54,
   "id": "91b2ff42-46c3-4c30-9832-de2454e8b705",
   "metadata": {},
   "outputs": [
    {
     "data": {
      "text/plain": [
       "array([[ 5, -4, -1, -2],\n",
       "       [-3, -4,  0,  4],\n",
       "       [ 4,  1, -3,  0]])"
      ]
     },
     "execution_count": 54,
     "metadata": {},
     "output_type": "execute_result"
    }
   ],
   "source": [
    "#incase we want to do subtract, there are 2 methods, either we can do arr1-arr2 or use np.subtract\n",
    "arr1-arr2"
   ]
  },
  {
   "cell_type": "code",
   "execution_count": 55,
   "id": "d316df9a-6262-4539-93e6-aa6e3847a692",
   "metadata": {},
   "outputs": [
    {
     "data": {
      "text/plain": [
       "array([[ 5, -4, -1, -2],\n",
       "       [-3, -4,  0,  4],\n",
       "       [ 4,  1, -3,  0]])"
      ]
     },
     "execution_count": 55,
     "metadata": {},
     "output_type": "execute_result"
    }
   ],
   "source": [
    "np.subtract(arr1,arr2)"
   ]
  },
  {
   "cell_type": "code",
   "execution_count": 56,
   "id": "10e99af7-2013-4338-95f5-4492351c6fd2",
   "metadata": {},
   "outputs": [
    {
     "data": {
      "text/plain": [
       "array([[ 6, 12,  2, 35],\n",
       "       [18, 21, 49,  5],\n",
       "       [21, 56, 28, 49]])"
      ]
     },
     "execution_count": 56,
     "metadata": {},
     "output_type": "execute_result"
    }
   ],
   "source": [
    "np.multiply(arr1,arr2)"
   ]
  },
  {
   "cell_type": "code",
   "execution_count": 57,
   "id": "f78f9377-8cb2-4b3b-9a70-195d78a66b91",
   "metadata": {},
   "outputs": [
    {
     "data": {
      "text/plain": [
       "array([[0, 2, 1, 5],\n",
       "       [3, 3, 0, 0],\n",
       "       [1, 1, 4, 0]])"
      ]
     },
     "execution_count": 57,
     "metadata": {},
     "output_type": "execute_result"
    }
   ],
   "source": [
    "#if we want to fetch remainder, we use mod\n",
    "np.mod(arr1,arr2)"
   ]
  },
  {
   "cell_type": "code",
   "execution_count": 58,
   "id": "12f1c89d-7b92-4b86-a894-c8342896d7c3",
   "metadata": {},
   "outputs": [
    {
     "data": {
      "text/plain": [
       "array([[      6,      64,       1,   78125],\n",
       "       [    729,    2187,  823543,       5],\n",
       "       [    343, 2097152,   16384,  823543]])"
      ]
     },
     "execution_count": 58,
     "metadata": {},
     "output_type": "execute_result"
    }
   ],
   "source": [
    "np.power(arr1,arr2)"
   ]
  },
  {
   "cell_type": "code",
   "execution_count": 59,
   "id": "76c8317c-ca34-409f-98ea-4e748060e5e5",
   "metadata": {},
   "outputs": [
    {
     "data": {
      "text/plain": [
       "array([[2.44948974, 1.41421356, 1.        , 2.23606798],\n",
       "       [1.73205081, 1.73205081, 2.64575131, 2.23606798],\n",
       "       [2.64575131, 2.82842712, 2.        , 2.64575131]])"
      ]
     },
     "execution_count": 59,
     "metadata": {},
     "output_type": "execute_result"
    }
   ],
   "source": [
    "np.sqrt(arr1)"
   ]
  },
  {
   "cell_type": "markdown",
   "id": "ae36f2d1-d4bb-495b-9e5b-c7063ddabefb",
   "metadata": {},
   "source": [
    "Numpy - Statistical Functions"
   ]
  },
  {
   "cell_type": "code",
   "execution_count": 60,
   "id": "f58253b9-50b2-41d0-9ec3-508ebdcff629",
   "metadata": {},
   "outputs": [
    {
     "data": {
      "text/plain": [
       "4.833333333333333"
      ]
     },
     "execution_count": 60,
     "metadata": {},
     "output_type": "execute_result"
    }
   ],
   "source": [
    "np.mean(arr1)"
   ]
  },
  {
   "cell_type": "code",
   "execution_count": 61,
   "id": "593db1e5-93df-4435-b0e6-436dbf69838d",
   "metadata": {},
   "outputs": [
    {
     "data": {
      "text/plain": [
       "2.153807997220014"
      ]
     },
     "execution_count": 61,
     "metadata": {},
     "output_type": "execute_result"
    }
   ],
   "source": [
    "np.std(arr1)"
   ]
  },
  {
   "cell_type": "code",
   "execution_count": 62,
   "id": "f8fe2750-3eaa-452c-8839-665bfcff0019",
   "metadata": {},
   "outputs": [
    {
     "data": {
      "text/plain": [
       "5.0"
      ]
     },
     "execution_count": 62,
     "metadata": {},
     "output_type": "execute_result"
    }
   ],
   "source": [
    "np.median(arr1)"
   ]
  },
  {
   "cell_type": "code",
   "execution_count": null,
   "id": "d82397a2-787c-48b1-a951-d2181b09fb4c",
   "metadata": {},
   "outputs": [],
   "source": []
  }
 ],
 "metadata": {
  "kernelspec": {
   "display_name": "Python 3 (ipykernel)",
   "language": "python",
   "name": "python3"
  },
  "language_info": {
   "codemirror_mode": {
    "name": "ipython",
    "version": 3
   },
   "file_extension": ".py",
   "mimetype": "text/x-python",
   "name": "python",
   "nbconvert_exporter": "python",
   "pygments_lexer": "ipython3",
   "version": "3.10.8"
  }
 },
 "nbformat": 4,
 "nbformat_minor": 5
}
