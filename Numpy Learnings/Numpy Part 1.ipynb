{
 "cells": [
  {
   "cell_type": "code",
   "execution_count": 1,
   "id": "ee05fdf7-cf9a-4a15-9fe0-469dde7abb08",
   "metadata": {},
   "outputs": [],
   "source": [
    "#numpy is mostly used array and matrix calculation\n",
    "#first we import Numpy\n",
    "import numpy as np"
   ]
  },
  {
   "cell_type": "code",
   "execution_count": 2,
   "id": "6ab663ae-5858-4cd0-8cb2-726ab48a3b11",
   "metadata": {},
   "outputs": [],
   "source": [
    "#lets create a simple list and try to convert it into array\n",
    "l=[1,2,3,4,5]\n",
    "#this is our list"
   ]
  },
  {
   "cell_type": "code",
   "execution_count": 3,
   "id": "538efc3e-4de9-4119-a2f0-e1666a606520",
   "metadata": {},
   "outputs": [],
   "source": [
    "#now to convert this into numpy array we np.array()\n",
    "arr=np.array(l)"
   ]
  },
  {
   "cell_type": "code",
   "execution_count": 4,
   "id": "3f23b2fa-a8bc-41b7-a017-104088568528",
   "metadata": {},
   "outputs": [
    {
     "data": {
      "text/plain": [
       "array([1, 2, 3, 4, 5])"
      ]
     },
     "execution_count": 4,
     "metadata": {},
     "output_type": "execute_result"
    }
   ],
   "source": [
    "arr"
   ]
  },
  {
   "cell_type": "code",
   "execution_count": 5,
   "id": "4045efb4-f659-41cc-98f6-6c31aae1384f",
   "metadata": {},
   "outputs": [
    {
     "data": {
      "text/plain": [
       "numpy.ndarray"
      ]
     },
     "execution_count": 5,
     "metadata": {},
     "output_type": "execute_result"
    }
   ],
   "source": [
    "#lets check the type of arr\n",
    "type(arr)\n",
    "#ndarray means n dimensional array"
   ]
  },
  {
   "cell_type": "code",
   "execution_count": 6,
   "id": "66e7e2fb-e742-4005-8f81-0b289fcae1a4",
   "metadata": {},
   "outputs": [
    {
     "data": {
      "text/plain": [
       "array([1, 2, 3, 4, 5])"
      ]
     },
     "execution_count": 6,
     "metadata": {},
     "output_type": "execute_result"
    }
   ],
   "source": [
    "#another way of converting array into array is using asarray, it works the same way as np.arrar\n",
    "np.asarray(l)"
   ]
  },
  {
   "cell_type": "code",
   "execution_count": 7,
   "id": "0791421f-97da-4629-9108-486e5b680532",
   "metadata": {},
   "outputs": [],
   "source": [
    "#lets try create an array by passing a list inside a list\n",
    "arr1=np.array([[1,2,3],[2,3,4]])"
   ]
  },
  {
   "cell_type": "code",
   "execution_count": 8,
   "id": "67d4c0e1-5406-4da4-9847-6e54ef654418",
   "metadata": {},
   "outputs": [
    {
     "data": {
      "text/plain": [
       "array([[1, 2, 3],\n",
       "       [2, 3, 4]])"
      ]
     },
     "execution_count": 8,
     "metadata": {},
     "output_type": "execute_result"
    }
   ],
   "source": [
    "arr1\n",
    "#we can notice its a 2 dimensional array"
   ]
  },
  {
   "cell_type": "code",
   "execution_count": 9,
   "id": "f8415c70-7dd5-49dd-ad99-9467b244b2ba",
   "metadata": {},
   "outputs": [
    {
     "data": {
      "text/plain": [
       "1"
      ]
     },
     "execution_count": 9,
     "metadata": {},
     "output_type": "execute_result"
    }
   ],
   "source": [
    "#to check dimension of an array, we do it this way using .ndim\n",
    "arr.ndim"
   ]
  },
  {
   "cell_type": "code",
   "execution_count": 10,
   "id": "1207f766-e81b-41e6-b4c3-54124b44761e",
   "metadata": {},
   "outputs": [
    {
     "data": {
      "text/plain": [
       "2"
      ]
     },
     "execution_count": 10,
     "metadata": {},
     "output_type": "execute_result"
    }
   ],
   "source": [
    "arr1.ndim"
   ]
  },
  {
   "cell_type": "code",
   "execution_count": 11,
   "id": "a45b852a-160e-4496-b2ec-16b90084dc23",
   "metadata": {},
   "outputs": [],
   "source": [
    "#to make a matrix\n",
    "mat=np.matrix(l)"
   ]
  },
  {
   "cell_type": "code",
   "execution_count": 12,
   "id": "4ff7b395-80be-49fe-a9fe-5d7c9859fd65",
   "metadata": {},
   "outputs": [
    {
     "data": {
      "text/plain": [
       "matrix([[1, 2, 3, 4, 5]])"
      ]
     },
     "execution_count": 12,
     "metadata": {},
     "output_type": "execute_result"
    }
   ],
   "source": [
    "mat\n",
    "#we can notice matrix will have a minimum dimension of 2(op is coming as list under a list, this means its a 2d)"
   ]
  },
  {
   "cell_type": "markdown",
   "id": "b7f896fd-7904-4b27-9685-bcb6ddadbd5a",
   "metadata": {},
   "source": []
  },
  {
   "cell_type": "code",
   "execution_count": 13,
   "id": "252e8011-c802-4c83-9e59-60c54292943d",
   "metadata": {},
   "outputs": [
    {
     "data": {
      "text/plain": [
       "array([1, 2, 3, 4, 5])"
      ]
     },
     "execution_count": 13,
     "metadata": {},
     "output_type": "execute_result"
    }
   ],
   "source": [
    "np.asanyarray(l)\n",
    "#this will convert into an array\n",
    "#asanyarray,asarray or array are functions that will convert any type of thing into an n dimension array"
   ]
  },
  {
   "cell_type": "code",
   "execution_count": 14,
   "id": "f0c2b5d8-7a61-4cdc-be6e-da6dc1c8d442",
   "metadata": {},
   "outputs": [
    {
     "data": {
      "text/plain": [
       "matrix([[1, 2, 3, 4, 5]])"
      ]
     },
     "execution_count": 14,
     "metadata": {},
     "output_type": "execute_result"
    }
   ],
   "source": [
    "#lets try the same asanyarray with matrix\n",
    "np.asanyarray(mat)\n",
    "#we can notice its still a 2d array no change has happened"
   ]
  },
  {
   "cell_type": "code",
   "execution_count": 15,
   "id": "43aa1fdf-7734-4745-9b59-f722ffc8ff51",
   "metadata": {},
   "outputs": [],
   "source": [
    "#lets assign arr to a\n",
    "a=arr"
   ]
  },
  {
   "cell_type": "code",
   "execution_count": 16,
   "id": "cd528a31-636f-4065-a010-6111964b6823",
   "metadata": {},
   "outputs": [
    {
     "data": {
      "text/plain": [
       "array([1, 2, 3, 4, 5])"
      ]
     },
     "execution_count": 16,
     "metadata": {},
     "output_type": "execute_result"
    }
   ],
   "source": [
    "#lets check value of arr now\n",
    "arr\n",
    "#arr is still the same"
   ]
  },
  {
   "cell_type": "code",
   "execution_count": 17,
   "id": "1e967577-5d60-4cc5-b1fe-7d4cb0856963",
   "metadata": {},
   "outputs": [
    {
     "data": {
      "text/plain": [
       "array([1, 2, 3, 4, 5])"
      ]
     },
     "execution_count": 17,
     "metadata": {},
     "output_type": "execute_result"
    }
   ],
   "source": [
    "a\n",
    "#a is also the same as arr"
   ]
  },
  {
   "cell_type": "code",
   "execution_count": 18,
   "id": "05d83b7f-256d-48db-b384-a90c13b06218",
   "metadata": {},
   "outputs": [],
   "source": [
    "#now lets try to change the value at index at 0 in arr and check both a and arr\n",
    "arr[0]=100"
   ]
  },
  {
   "cell_type": "code",
   "execution_count": 19,
   "id": "1aef7d91-70a1-4004-9a70-fefa1accc0b4",
   "metadata": {},
   "outputs": [
    {
     "data": {
      "text/plain": [
       "array([100,   2,   3,   4,   5])"
      ]
     },
     "execution_count": 19,
     "metadata": {},
     "output_type": "execute_result"
    }
   ],
   "source": [
    "arr"
   ]
  },
  {
   "cell_type": "code",
   "execution_count": 20,
   "id": "82f6fe01-488e-4990-ae29-04ea936fc59e",
   "metadata": {},
   "outputs": [
    {
     "data": {
      "text/plain": [
       "array([100,   2,   3,   4,   5])"
      ]
     },
     "execution_count": 20,
     "metadata": {},
     "output_type": "execute_result"
    }
   ],
   "source": [
    "a\n",
    "#this is called shallow copy, here we have just created a and assigned to arr to make another reference\n",
    "#this is why both have same values\n",
    "#A shallow copy of an object is a copy whose properties share the same references (point to the same underlying values) \n",
    "#as those of the source object from which the copy was made"
   ]
  },
  {
   "cell_type": "code",
   "execution_count": 21,
   "id": "eb594ecd-1943-41f2-afa3-fcfebb21e86f",
   "metadata": {},
   "outputs": [],
   "source": [
    "#lets create a variable called and assign arr and do np.copy\n",
    "b=np.copy(arr)"
   ]
  },
  {
   "cell_type": "code",
   "execution_count": 22,
   "id": "946abc26-ba67-4032-a16a-e7133b5b5d31",
   "metadata": {},
   "outputs": [
    {
     "data": {
      "text/plain": [
       "array([100,   2,   3,   4,   5])"
      ]
     },
     "execution_count": 22,
     "metadata": {},
     "output_type": "execute_result"
    }
   ],
   "source": [
    "b"
   ]
  },
  {
   "cell_type": "code",
   "execution_count": 23,
   "id": "86f63a29-1e52-40ba-ac95-ff5547d24029",
   "metadata": {},
   "outputs": [],
   "source": [
    "#now if we make any changes in arr or b, it will not effect the other, example\n",
    "b[0]=234"
   ]
  },
  {
   "cell_type": "code",
   "execution_count": 24,
   "id": "32675eb4-2752-4a27-9404-ca52c898a8de",
   "metadata": {},
   "outputs": [
    {
     "data": {
      "text/plain": [
       "array([234,   2,   3,   4,   5])"
      ]
     },
     "execution_count": 24,
     "metadata": {},
     "output_type": "execute_result"
    }
   ],
   "source": [
    "b\n",
    "#here we can notice b has changed"
   ]
  },
  {
   "cell_type": "code",
   "execution_count": 25,
   "id": "5517d393-7cfa-4584-9bbe-3d0429ffd410",
   "metadata": {},
   "outputs": [
    {
     "data": {
      "text/plain": [
       "array([[ True, False, False],\n",
       "       [False,  True, False],\n",
       "       [False, False,  True]])"
      ]
     },
     "execution_count": 25,
     "metadata": {},
     "output_type": "execute_result"
    }
   ],
   "source": [
    "#np.fromfunction is inbuilt numpy function where we can create our own function function to create \n",
    "#anything like array, matrix etc\n",
    "np.fromfunction(lambda i,j:i==j,(3,3))\n",
    "#here i and j, i are rows and j is columns such that i==j and (3,3) is shape so this way we have 3 x 3 matrix \n",
    "# when i and j will be same it will return true and false if not same, that is if i=0 and j=0 it will be true\n",
    "#when i=1,j=1 true,else false\n",
    "#when i=2 j=2 true,else false"
   ]
  },
  {
   "cell_type": "code",
   "execution_count": 26,
   "id": "b62259e3-f4f4-461d-8189-2ce6d6aa37a3",
   "metadata": {},
   "outputs": [
    {
     "data": {
      "text/plain": [
       "array([100,   2,   3,   4,   5])"
      ]
     },
     "execution_count": 26,
     "metadata": {},
     "output_type": "execute_result"
    }
   ],
   "source": [
    "arr\n",
    "#even when b is changed arr is still the same, it still has 100 in the 0th position\n",
    "#what has happened is whenever we call np.copy and then assign values, it will create separate memory where it will copy \n",
    "#the arr values into the new memory and give reference = b, this way arr dataset is different and b dataset is different\n",
    "# and any changes made in each other will not effect the other one, meaning any changes made in b dataset will npt effect in \n",
    "#arr dataset, and any change made in arr dataset will not effect b dataset. This is called as deep copy."
   ]
  },
  {
   "cell_type": "code",
   "execution_count": 27,
   "id": "46d8efad-c0d0-4a74-aa8e-b435adfb9675",
   "metadata": {},
   "outputs": [
    {
     "data": {
      "text/plain": [
       "array([[0., 0., 0.],\n",
       "       [0., 1., 2.],\n",
       "       [0., 2., 4.]])"
      ]
     },
     "execution_count": 27,
     "metadata": {},
     "output_type": "execute_result"
    }
   ],
   "source": [
    "#lets try i*j\n",
    "np.fromfunction(lambda i,j:i*j,(3,3))"
   ]
  },
  {
   "cell_type": "code",
   "execution_count": 28,
   "id": "1bd0fdd7-6a4b-4f4b-9579-4ec554bd83cd",
   "metadata": {},
   "outputs": [
    {
     "data": {
      "text/plain": [
       "[0, 1, 4, 9, 16]"
      ]
     },
     "execution_count": 28,
     "metadata": {},
     "output_type": "execute_result"
    }
   ],
   "source": [
    "list(i*i for i in range(5))"
   ]
  },
  {
   "cell_type": "code",
   "execution_count": 29,
   "id": "f72540d9-3866-49bb-b8c2-e64d14023ddb",
   "metadata": {},
   "outputs": [],
   "source": [
    "iterable=(i*i for i in range(5))"
   ]
  },
  {
   "cell_type": "code",
   "execution_count": 30,
   "id": "50385c67-7560-48a6-9d81-aae606ab8116",
   "metadata": {},
   "outputs": [
    {
     "data": {
      "text/plain": [
       "array([ 0,  1,  4,  9, 16])"
      ]
     },
     "execution_count": 30,
     "metadata": {},
     "output_type": "execute_result"
    }
   ],
   "source": [
    "np.fromiter(iterable,dtype=int)"
   ]
  },
  {
   "cell_type": "code",
   "execution_count": 31,
   "id": "7b50f68a-f7ca-4384-9865-e81983c5fdf0",
   "metadata": {},
   "outputs": [
    {
     "data": {
      "text/plain": [
       "array([23., 45., 68.])"
      ]
     },
     "execution_count": 31,
     "metadata": {},
     "output_type": "execute_result"
    }
   ],
   "source": [
    "np.fromstring('23 45 68',sep=' ')\n",
    "#here 23 45 68 are passed as string, sep is separator, and in here we have specified sep as space"
   ]
  },
  {
   "cell_type": "code",
   "execution_count": 32,
   "id": "2978657e-4df4-4919-a542-9672e1e1b160",
   "metadata": {},
   "outputs": [
    {
     "data": {
      "text/plain": [
       "array([23., 45., 68.])"
      ]
     },
     "execution_count": 32,
     "metadata": {},
     "output_type": "execute_result"
    }
   ],
   "source": [
    "np.fromstring('23,45,68',sep=',')\n",
    "#here we have specified separator as ,"
   ]
  },
  {
   "cell_type": "code",
   "execution_count": 33,
   "id": "3447098d-385d-4ed3-8d19-d5bb743a7522",
   "metadata": {},
   "outputs": [
    {
     "data": {
      "text/plain": [
       "1"
      ]
     },
     "execution_count": 33,
     "metadata": {},
     "output_type": "execute_result"
    }
   ],
   "source": [
    "#so now we know ndim means it will tell how many dimensions are there, 1bracket means 1 dimension, 2 bracket means \n",
    "#2dimensions\n",
    "arr.ndim"
   ]
  },
  {
   "cell_type": "code",
   "execution_count": 34,
   "id": "092761f1-7f79-4e94-9064-9b898b17734d",
   "metadata": {},
   "outputs": [
    {
     "data": {
      "text/plain": [
       "2"
      ]
     },
     "execution_count": 34,
     "metadata": {},
     "output_type": "execute_result"
    }
   ],
   "source": [
    "arr1.ndim"
   ]
  },
  {
   "cell_type": "code",
   "execution_count": 35,
   "id": "03b06dce-2c3c-4243-a8bb-a7136cf6a8f5",
   "metadata": {},
   "outputs": [
    {
     "data": {
      "text/plain": [
       "5"
      ]
     },
     "execution_count": 35,
     "metadata": {},
     "output_type": "execute_result"
    }
   ],
   "source": [
    "#if we want to know how many elements are present in an array, we use np.size\n",
    "arr.size"
   ]
  },
  {
   "cell_type": "code",
   "execution_count": 36,
   "id": "1d917c98-a45d-4643-815f-7fc9a4817b69",
   "metadata": {},
   "outputs": [
    {
     "data": {
      "text/plain": [
       "6"
      ]
     },
     "execution_count": 36,
     "metadata": {},
     "output_type": "execute_result"
    }
   ],
   "source": [
    "arr1.size"
   ]
  },
  {
   "cell_type": "code",
   "execution_count": 37,
   "id": "4005bb3f-951b-4d26-8e0f-1f5068dd806a",
   "metadata": {},
   "outputs": [
    {
     "data": {
      "text/plain": [
       "(5,)"
      ]
     },
     "execution_count": 37,
     "metadata": {},
     "output_type": "execute_result"
    }
   ],
   "source": [
    "#to know shape of matrix we use .shape\n",
    "arr.shape\n",
    "#this means its a 1d array "
   ]
  },
  {
   "cell_type": "code",
   "execution_count": 38,
   "id": "1befb6b2-4ade-4881-b5bf-f59800e182b9",
   "metadata": {},
   "outputs": [
    {
     "data": {
      "text/plain": [
       "(2, 3)"
      ]
     },
     "execution_count": 38,
     "metadata": {},
     "output_type": "execute_result"
    }
   ],
   "source": [
    "arr1.shape\n",
    "#this means it is 2x3 matrix that is 2 rows, 3 columns"
   ]
  },
  {
   "cell_type": "code",
   "execution_count": 39,
   "id": "2add28de-0f92-4da4-87c5-19bfa494a442",
   "metadata": {},
   "outputs": [
    {
     "data": {
      "text/plain": [
       "dtype('int64')"
      ]
     },
     "execution_count": 39,
     "metadata": {},
     "output_type": "execute_result"
    }
   ],
   "source": [
    "#to check datatype we can use .dtype\n",
    "arr.dtype"
   ]
  },
  {
   "cell_type": "code",
   "execution_count": 40,
   "id": "e84fa698-8b85-4644-9356-01fed42b351b",
   "metadata": {},
   "outputs": [
    {
     "data": {
      "text/plain": [
       "dtype('int64')"
      ]
     },
     "execution_count": 40,
     "metadata": {},
     "output_type": "execute_result"
    }
   ],
   "source": [
    "arr1.dtype"
   ]
  },
  {
   "cell_type": "code",
   "execution_count": null,
   "id": "bb9526a1-3d83-4f15-becd-c33ee2683102",
   "metadata": {},
   "outputs": [],
   "source": []
  }
 ],
 "metadata": {
  "kernelspec": {
   "display_name": "Python 3 (ipykernel)",
   "language": "python",
   "name": "python3"
  },
  "language_info": {
   "codemirror_mode": {
    "name": "ipython",
    "version": 3
   },
   "file_extension": ".py",
   "mimetype": "text/x-python",
   "name": "python",
   "nbconvert_exporter": "python",
   "pygments_lexer": "ipython3",
   "version": "3.10.8"
  }
 },
 "nbformat": 4,
 "nbformat_minor": 5
}
