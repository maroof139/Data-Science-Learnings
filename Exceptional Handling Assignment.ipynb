{
 "cells": [
  {
   "cell_type": "markdown",
   "id": "72e5e605-1aa3-4376-8645-e6a5ad65cbe2",
   "metadata": {},
   "source": [
    "## 1. What is Exception in python? What are the differences between Exceptions and Syntax errors"
   ]
  },
  {
   "cell_type": "markdown",
   "id": "eea9e891-0f2d-454a-a23d-ced685fcfa08",
   "metadata": {},
   "source": [
    "### An exception is an abnormal event that occurs during the execution of a program. Exceptions are usually caused by runtime errors, such as dividing by zero, trying to access an element in an array with an out-of-bounds index, or trying to access a file that does not exist. Exceptions are not syntax errors, but they can still prevent the program from running if they are not handled properly.\n",
    "### A syntax error occurs when the structure of a program does not conform to the rules of the programming language. Syntax errors are usually detected by the compiler or interpreter when the program is being compiled or executed, and they prevent the program from running. Syntax errors are usually caused by mistakes in the source code, such as typos, omissions, or incorrect use of syntax.\n",
    "### A syntax error is a mistake in the structure of the program that prevents it from running, while an exception is an abnormal event that occurs during the execution of the program and can be handled to allow the program to continue running."
   ]
  },
  {
   "cell_type": "markdown",
   "id": "97bff7df-ba11-4dde-ad9f-9762c89a0941",
   "metadata": {},
   "source": [
    "## 2. What happens when an exception is not handled? Explain with an example "
   ]
  },
  {
   "cell_type": "markdown",
   "id": "c96f1288-9802-488e-81d7-d358f6e3b97a",
   "metadata": {},
   "source": [
    "### When syntactically correct code runs into an error, Python will throw an exception error. This exception error will crash the program if it is unhandled."
   ]
  },
  {
   "cell_type": "code",
   "execution_count": 1,
   "id": "6788535a-8eb2-4555-82fb-ac329a409b84",
   "metadata": {},
   "outputs": [
    {
     "name": "stdout",
     "output_type": "stream",
     "text": [
      "Error: Denominator cannot be 0.\n"
     ]
    }
   ],
   "source": [
    "try:\n",
    "    numerator = 10\n",
    "    denominator = 0\n",
    "\n",
    "    result = numerator/denominator\n",
    "\n",
    "    print(result)\n",
    "except:\n",
    "    print(\"Error: Denominator cannot be 0.\")\n"
   ]
  },
  {
   "cell_type": "markdown",
   "id": "6d8353b7-2b45-40d7-a844-937f7a70f836",
   "metadata": {},
   "source": [
    "### In the example, we are trying to divide a number by 0. Here, this code generates an exception.\n",
    "### To handle the exception, we have put the code, result = numerator/denominator inside the try block. Now when an exception occurs, the rest of the code inside the try block is skipped.\n",
    "### The except block catches the exception and statements inside the except block are executed.\n",
    "### If none of the statements in the try block generates an exception, the except block is skipped."
   ]
  },
  {
   "cell_type": "markdown",
   "id": "3b34fca3-4268-44c5-8d77-2ccd64cffd32",
   "metadata": {},
   "source": [
    "## 3. Which python statements ae used to catch and handle Exceptions? Explain with an example"
   ]
  },
  {
   "cell_type": "markdown",
   "id": "aaa68588-e55b-43fb-a699-90e61b1d6199",
   "metadata": {},
   "source": [
    "### Try and except statements are used to catch and handle exceptions in Python. Statements that can raise exceptions are kept inside the try clause and the statements that handle the exception are written inside except clause. Example : "
   ]
  },
  {
   "cell_type": "code",
   "execution_count": 2,
   "id": "ce64c9d8-e709-4560-9be7-3606dcb3fb54",
   "metadata": {},
   "outputs": [
    {
     "name": "stdout",
     "output_type": "stream",
     "text": [
      "Second element = 2\n",
      "An error occurred\n"
     ]
    }
   ],
   "source": [
    "a = [1, 2, 3] \n",
    "try:  \n",
    "    print (\"Second element = %d\" %(a[1])) \n",
    "    print (\"Fourth element = %d\" %(a[3])) \n",
    "except: \n",
    "    print (\"An error occurred\") "
   ]
  },
  {
   "cell_type": "markdown",
   "id": "7676f419-bd2e-4ff5-89d1-a8eeb1e6f7a4",
   "metadata": {},
   "source": [
    "### In the above example, the statements that can cause the error are placed inside the try statement (second print statement in our case). The second print statement tries to access the fourth element of the list which is not there and this throws an exception. This exception is then caught by the except statement."
   ]
  },
  {
   "cell_type": "markdown",
   "id": "620ec918-a947-40eb-b979-dc92b5a97b1c",
   "metadata": {},
   "source": [
    "## 4. Explain with an example\n",
    "  ### a. Try and Else\n",
    "  ### b. Finally \n",
    "  ### c. Raise"
   ]
  },
  {
   "cell_type": "markdown",
   "id": "5038e2d6-fc7e-44f3-896f-a4f57778772c",
   "metadata": {},
   "source": [
    "### a. Try and Else - First try clause is executed i.e. the code between try and except clause.\n",
    "### If there is no exception, then only try clause will run, except clause will not get executed.\n",
    "### If any exception occurs, the try clause will be skipped and except clause will run.\n",
    "### If any exception occurs, but the except clause within the code doesn’t handle it, it is passed on to the outer try statements. If the exception is left unhandled, then the execution stops.\n",
    "### A try statement can have more than one except clause.\n"
   ]
  },
  {
   "cell_type": "code",
   "execution_count": 4,
   "id": "15bf08c9-ced9-4d4b-b64f-5b08a914a93f",
   "metadata": {},
   "outputs": [
    {
     "name": "stdin",
     "output_type": "stream",
     "text": [
      "Enter a number:  0\n"
     ]
    },
    {
     "name": "stdout",
     "output_type": "stream",
     "text": [
      "You cannot divide by zero.\n"
     ]
    }
   ],
   "source": [
    "try:\n",
    "    x = int(input(\"Enter a number: \"))\n",
    "    result = 10 / x\n",
    "except ZeroDivisionError:\n",
    "    print(\"You cannot divide by zero.\")\n",
    "except ValueError:\n",
    "    print(\"Invalid input. Please enter a valid number.\")\n",
    "except Exception as e:\n",
    "    print(f\"An error occurred: {e}\")"
   ]
  },
  {
   "cell_type": "markdown",
   "id": "7d91bb93-c1cf-4ab6-962d-c35eb9484d92",
   "metadata": {},
   "source": [
    "### b. Finally - Python provides a keyword finally, which is always executed after try and except blocks. The finally block always executes after normal termination of try block or after try block terminates due to some exception. Even if you return in the except block still the finally block will execute"
   ]
  },
  {
   "cell_type": "code",
   "execution_count": 5,
   "id": "cb1cde35-f33f-4499-9595-29bd240b4f2a",
   "metadata": {},
   "outputs": [
    {
     "name": "stdout",
     "output_type": "stream",
     "text": [
      "Yeah ! Your answer is : 1\n",
      "This is always executed\n",
      "Sorry ! You are dividing by zero \n",
      "This is always executed\n"
     ]
    }
   ],
   "source": [
    "def divide(x, y): \n",
    "    try: \n",
    "        result = x // y \n",
    "    except ZeroDivisionError: \n",
    "        print(\"Sorry ! You are dividing by zero \") \n",
    "    else:\n",
    "        print(\"Yeah ! Your answer is :\", result) \n",
    "    finally:  \n",
    "        print('This is always executed')   \n",
    "divide(3, 2) \n",
    "divide(3, 0)"
   ]
  },
  {
   "cell_type": "markdown",
   "id": "e25d491f-eede-42d3-b394-1397e28560d1",
   "metadata": {},
   "source": [
    "### c. Finally - raise Keyword is used to raise exceptions or errors. The raise keyword raises an error and stops the control flow of the program. It is used to bring up the current exception in an exception handler so that it can be handled further up the call stack."
   ]
  },
  {
   "cell_type": "code",
   "execution_count": 6,
   "id": "b085e8a3-2e97-4aae-bf00-21a2b38370ed",
   "metadata": {},
   "outputs": [
    {
     "ename": "ValueError",
     "evalue": "String can't be changed into integer",
     "output_type": "error",
     "traceback": [
      "\u001b[0;31m---------------------------------------------------------------------------\u001b[0m",
      "\u001b[0;31mValueError\u001b[0m                                Traceback (most recent call last)",
      "Cell \u001b[0;32mIn[6], line 3\u001b[0m\n\u001b[1;32m      2\u001b[0m \u001b[38;5;28;01mtry\u001b[39;00m:\n\u001b[0;32m----> 3\u001b[0m     num \u001b[38;5;241m=\u001b[39m \u001b[38;5;28;43mint\u001b[39;49m\u001b[43m(\u001b[49m\u001b[43ms\u001b[49m\u001b[43m)\u001b[49m\n\u001b[1;32m      4\u001b[0m \u001b[38;5;28;01mexcept\u001b[39;00m \u001b[38;5;167;01mValueError\u001b[39;00m:\n",
      "\u001b[0;31mValueError\u001b[0m: invalid literal for int() with base 10: 'apple'",
      "\nDuring handling of the above exception, another exception occurred:\n",
      "\u001b[0;31mValueError\u001b[0m                                Traceback (most recent call last)",
      "Cell \u001b[0;32mIn[6], line 5\u001b[0m\n\u001b[1;32m      3\u001b[0m     num \u001b[38;5;241m=\u001b[39m \u001b[38;5;28mint\u001b[39m(s)\n\u001b[1;32m      4\u001b[0m \u001b[38;5;28;01mexcept\u001b[39;00m \u001b[38;5;167;01mValueError\u001b[39;00m:\n\u001b[0;32m----> 5\u001b[0m     \u001b[38;5;28;01mraise\u001b[39;00m \u001b[38;5;167;01mValueError\u001b[39;00m(\u001b[38;5;124m\"\u001b[39m\u001b[38;5;124mString can\u001b[39m\u001b[38;5;124m'\u001b[39m\u001b[38;5;124mt be changed into integer\u001b[39m\u001b[38;5;124m\"\u001b[39m)\n",
      "\u001b[0;31mValueError\u001b[0m: String can't be changed into integer"
     ]
    }
   ],
   "source": [
    "s = 'apple'\n",
    "try:\n",
    "    num = int(s)\n",
    "except ValueError:\n",
    "    raise ValueError(\"String can't be changed into integer\")"
   ]
  },
  {
   "cell_type": "markdown",
   "id": "fa0b034e-3952-462d-9da1-1724b2a94137",
   "metadata": {},
   "source": [
    "## 5. What are custom Exceptions in python?"
   ]
  },
  {
   "cell_type": "markdown",
   "id": "d582edb8-66e7-40c0-9e70-5b0d23b69883",
   "metadata": {},
   "source": [
    "### 5. Custom or User-defined Exceptions are designed as per the requirement of the program. Using custom Exception we can have our own Exception and a meaningful message explaining the cause of the exception. We can create an exception by extending the Exception or RuntimeException class in our own Exception class.Custom exceptions are helpful in many situations. They allow you to define your own error conditions and handle them in a more specific and meaningful way. For example, let’s say you are writing a program that reads data from a file. If the file is not found, Python will raise a FileNotFoundError. However, this exception may not provide enough information to the user about what went wrong. In this case, you can define your own custom exception, such as FileNotFoundCustomError, which can provide more specific details about the error. "
   ]
  },
  {
   "cell_type": "code",
   "execution_count": 7,
   "id": "cf13f993-1098-478d-a9c3-f6eb0b9be13e",
   "metadata": {},
   "outputs": [
    {
     "name": "stdin",
     "output_type": "stream",
     "text": [
      "Enter a number:  19\n"
     ]
    },
    {
     "name": "stdout",
     "output_type": "stream",
     "text": [
      "Eligible to Vote\n"
     ]
    }
   ],
   "source": [
    "class InvalidAgeException(Exception):\n",
    "    \"Raised when the input value is less than 18\"\n",
    "    pass\n",
    "number = 18\n",
    "try:\n",
    "    input_num = int(input(\"Enter a number: \"))\n",
    "    if input_num < number:\n",
    "        raise InvalidAgeException\n",
    "    else:\n",
    "        print(\"Eligible to Vote\")        \n",
    "except InvalidAgeException:\n",
    "    print(\"Exception occurred: Invalid Age\")"
   ]
  },
  {
   "cell_type": "code",
   "execution_count": 8,
   "id": "edb22ae8-3382-49bb-9615-4a754f72506b",
   "metadata": {},
   "outputs": [
    {
     "name": "stdin",
     "output_type": "stream",
     "text": [
      "Enter salary amount:  456000\n"
     ]
    },
    {
     "ename": "SalaryNotInRangeError",
     "evalue": "Salary is not in (5000, 15000) range",
     "output_type": "error",
     "traceback": [
      "\u001b[0;31m---------------------------------------------------------------------------\u001b[0m",
      "\u001b[0;31mSalaryNotInRangeError\u001b[0m                     Traceback (most recent call last)",
      "Cell \u001b[0;32mIn[8], line 10\u001b[0m\n\u001b[1;32m      8\u001b[0m salary \u001b[38;5;241m=\u001b[39m \u001b[38;5;28mint\u001b[39m(\u001b[38;5;28minput\u001b[39m(\u001b[38;5;124m\"\u001b[39m\u001b[38;5;124mEnter salary amount: \u001b[39m\u001b[38;5;124m\"\u001b[39m))\n\u001b[1;32m      9\u001b[0m \u001b[38;5;28;01mif\u001b[39;00m \u001b[38;5;129;01mnot\u001b[39;00m \u001b[38;5;241m5000\u001b[39m \u001b[38;5;241m<\u001b[39m salary \u001b[38;5;241m<\u001b[39m \u001b[38;5;241m15000\u001b[39m:\n\u001b[0;32m---> 10\u001b[0m     \u001b[38;5;28;01mraise\u001b[39;00m SalaryNotInRangeError(salary)\n",
      "\u001b[0;31mSalaryNotInRangeError\u001b[0m: Salary is not in (5000, 15000) range"
     ]
    }
   ],
   "source": [
    "class SalaryNotInRangeError(Exception):\n",
    "    def __init__(self, salary, message=\"Salary is not in (5000, 15000) range\"):\n",
    "        self.salary = salary\n",
    "        self.message = message\n",
    "        super().__init__(self.message)\n",
    "\n",
    "\n",
    "salary = int(input(\"Enter salary amount: \"))\n",
    "if not 5000 < salary < 15000:\n",
    "    raise SalaryNotInRangeError(salary)"
   ]
  },
  {
   "cell_type": "code",
   "execution_count": null,
   "id": "75915254-d542-48a8-9b6d-ad0d29b64f53",
   "metadata": {},
   "outputs": [],
   "source": []
  },
  {
   "cell_type": "code",
   "execution_count": null,
   "id": "347ceff8-01a5-43d7-a2bd-6c387d129601",
   "metadata": {},
   "outputs": [],
   "source": []
  }
 ],
 "metadata": {
  "kernelspec": {
   "display_name": "Python 3 (ipykernel)",
   "language": "python",
   "name": "python3"
  },
  "language_info": {
   "codemirror_mode": {
    "name": "ipython",
    "version": 3
   },
   "file_extension": ".py",
   "mimetype": "text/x-python",
   "name": "python",
   "nbconvert_exporter": "python",
   "pygments_lexer": "ipython3",
   "version": "3.10.8"
  }
 },
 "nbformat": 4,
 "nbformat_minor": 5
}
