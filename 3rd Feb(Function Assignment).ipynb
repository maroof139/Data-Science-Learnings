{
 "cells": [
  {
   "cell_type": "markdown",
   "id": "f7d52b21-637d-4c47-9db7-50f45c41d441",
   "metadata": {},
   "source": [
    "## 1. Which keyword is used to create a function? Create a function to return a list of odd numbers in the range of 1 to 25."
   ]
  },
  {
   "cell_type": "markdown",
   "id": "3021e4ef-44f5-4982-996d-4a867eb7ab0f",
   "metadata": {},
   "source": [
    "### Answer. The keyword used in creating a function is \"def\", \"def\" means definition followed by function name and colon. An example of creating a function is :\n",
    "### def test():\n",
    "### To create a function to return list of odd numbers between 1 and 25, here's an example"
   ]
  },
  {
   "cell_type": "code",
   "execution_count": 8,
   "id": "e67610df-27f2-47b3-9f71-824d1451301e",
   "metadata": {},
   "outputs": [],
   "source": [
    "def test1(a):\n",
    "    n=[]\n",
    "    for i in a:\n",
    "        if i % 2 !=0:\n",
    "            n.append(i)\n",
    "    return n"
   ]
  },
  {
   "cell_type": "code",
   "execution_count": 9,
   "id": "ab166d5c-f406-44dd-b230-8ec399693b95",
   "metadata": {},
   "outputs": [],
   "source": [
    "lst=[1,2,3,4,5,6,7,8,9,10,11,12,13,14,15,16,17,18,19,20,21,22,23,24,25,26]"
   ]
  },
  {
   "cell_type": "code",
   "execution_count": 10,
   "id": "77001c2f-f3d6-4276-8c52-67497e1e3a12",
   "metadata": {},
   "outputs": [
    {
     "data": {
      "text/plain": [
       "[1, 3, 5, 7, 9, 11, 13, 15, 17, 19, 21, 23, 25]"
      ]
     },
     "execution_count": 10,
     "metadata": {},
     "output_type": "execute_result"
    }
   ],
   "source": [
    "test1(lst)"
   ]
  },
  {
   "cell_type": "markdown",
   "id": "8f9e701b-6b14-441b-b976-a3346eafcfc9",
   "metadata": {},
   "source": [
    "### Another way of creating using range functiom is"
   ]
  },
  {
   "cell_type": "code",
   "execution_count": 23,
   "id": "412b6e9b-2b69-428f-b8f3-952a79debd22",
   "metadata": {},
   "outputs": [
    {
     "name": "stdout",
     "output_type": "stream",
     "text": [
      "1\n",
      "3\n",
      "5\n",
      "7\n",
      "9\n",
      "11\n",
      "13\n",
      "15\n",
      "17\n",
      "19\n",
      "21\n",
      "23\n"
     ]
    }
   ],
   "source": [
    "for i in range(1,25):\n",
    "    if i %2!=0:\n",
    "        print(i)"
   ]
  },
  {
   "cell_type": "markdown",
   "id": "172d3ca9-42e6-498e-8bab-57a4c4794829",
   "metadata": {},
   "source": [
    "## 2. Why *args and **kwargs is used in some functions? Create a function each for *args and **kwargs to demonstrate their use."
   ]
  },
  {
   "cell_type": "markdown",
   "id": "04e0fb79-0bce-4ac6-9d33-511e8a991734",
   "metadata": {},
   "source": [
    "### Answer. *args are used as an argument inside a function. The purpose of using *args is that it allows us to pass any number of arguments and also any type of arguments.\n",
    "### **kwargs are also used an argument inside a function which allows us to extract any number of arguments and any type of arguments. The main purpose of using this is that incase we are returning a dictionary data type, it helps us in extracting Keys and values in the dictionary.\n",
    "### A simple example to demonstarte both is :"
   ]
  },
  {
   "cell_type": "code",
   "execution_count": 5,
   "id": "c6b224fe-5c7e-44ba-9492-fe704b1be665",
   "metadata": {},
   "outputs": [],
   "source": [
    "def test2(*args):\n",
    "    return args"
   ]
  },
  {
   "cell_type": "code",
   "execution_count": 6,
   "id": "44e6f53e-84f9-48b8-866d-394bb3c31069",
   "metadata": {},
   "outputs": [
    {
     "data": {
      "text/plain": [
       "(1,\n",
       " 2,\n",
       " 3,\n",
       " 4,\n",
       " 5,\n",
       " 6,\n",
       " 7,\n",
       " 7,\n",
       " 7,\n",
       " 7,\n",
       " 8,\n",
       " 9,\n",
       " 'Maroof',\n",
       " 'Data Science',\n",
       " [1, 2, 3, 4, 5],\n",
       " (1, 1, 1, 34, 2, 64))"
      ]
     },
     "execution_count": 6,
     "metadata": {},
     "output_type": "execute_result"
    }
   ],
   "source": [
    "test2(1,2,3,4,5,6,7,7,7,7,8,9,\"Maroof\",\"Data Science\",[1,2,3,4,5],(1,1,1,34,2,64))"
   ]
  },
  {
   "cell_type": "code",
   "execution_count": 13,
   "id": "0fd82412-9110-456e-a4cd-f1e7a2f00fca",
   "metadata": {},
   "outputs": [],
   "source": [
    "def test3(**kwarg):\n",
    "    return kwarg"
   ]
  },
  {
   "cell_type": "code",
   "execution_count": 15,
   "id": "0fc556ab-4a8b-4f10-a351-310e843b6c97",
   "metadata": {},
   "outputs": [
    {
     "data": {
      "text/plain": [
       "{'a': 54, 'b': 23, 'c': [1, 2, 3, 4], 'd': ('Maroof', 'Pwskills')}"
      ]
     },
     "execution_count": 15,
     "metadata": {},
     "output_type": "execute_result"
    }
   ],
   "source": [
    "test3(a=54,b=23,c=[1,2,3,4],d=(\"Maroof\",\"Pwskills\"))"
   ]
  },
  {
   "cell_type": "markdown",
   "id": "6fbbcd48-395e-49a4-9985-9db46426fa0c",
   "metadata": {},
   "source": [
    "## 3. What is an iterator in python? Name the method used to initialise the iterator object and the method used for iteration. Use these methods to print the first five elements of the given list [2, 4, 6, 8, 10, 12, 14, 16, 18, 20]."
   ]
  },
  {
   "cell_type": "markdown",
   "id": "5b4901f8-0475-4bc5-87ca-1829161a83d0",
   "metadata": {},
   "source": [
    "### Answer. An iterator in Python is an object that is used to iterate over iterable objects like lists, tuples, dicts, and sets. The Python iterators object is initialized using the iter() method. It uses the next() method for iteration.\n",
    "### __iter__(): The iter() method is called for the initialization of an iterator. This returns an iterator object\n",
    "### __next__(): The next method returns the next value for the iterable. When we use a for loop to traverse any iterable object, internally it uses the iter() method to get an iterator object, which further uses the next() method to iterate over. This method raises a StopIteration to signal the end of the iteration.\n",
    "### To print first 5 elements using this method here is an example :"
   ]
  },
  {
   "cell_type": "markdown",
   "id": "7421159d-fc96-4ea8-b975-dfb45db382e5",
   "metadata": {},
   "source": [
    "lst=[2,4,6,8,10,12,14,16,18,20]\n",
    "it=iter(lst)\n",
    "print(next(it))\n",
    "print(next(it))\n",
    "print(next(it))\n",
    "print(next(it))\n",
    "print(next(it))"
   ]
  },
  {
   "cell_type": "markdown",
   "id": "496a1f4e-6d7f-41c2-b687-9b8f9b5862b6",
   "metadata": {},
   "source": [
    "## 4. What is a generator function in python? Why yield keyword is used? Give an example of a generator function."
   ]
  },
  {
   "cell_type": "markdown",
   "id": "f1a7ff07-5641-4931-a2e3-e90368d7c7d3",
   "metadata": {},
   "source": [
    "### Answer. A generator is a function that returns an iterator that produces a sequence of values when iterated over. To implement range like function we can use Generators, the reason is, in range we can only have limited value but Generators are useful when we want to produce a large sequence of values, but we don't want to store all of them in memory at once.\n",
    "### The yield keyword is used to produce a value from the generator and pause the generator function's execution until the next value is requested.\n",
    "### Here's an example : "
   ]
  },
  {
   "cell_type": "code",
   "execution_count": 30,
   "id": "aa648715-8eaa-4fd4-b3ed-ac2b2c9294f6",
   "metadata": {},
   "outputs": [],
   "source": [
    "def test(n):\n",
    "    a=0\n",
    "    for i in range(n):\n",
    "        yield a\n",
    "        a=a*2\n",
    "        a=a+1"
   ]
  },
  {
   "cell_type": "code",
   "execution_count": 31,
   "id": "912c8521-f3d5-4b56-aeba-209b4fa2205b",
   "metadata": {},
   "outputs": [
    {
     "data": {
      "text/plain": [
       "<generator object test at 0x7faf241ce2d0>"
      ]
     },
     "execution_count": 31,
     "metadata": {},
     "output_type": "execute_result"
    }
   ],
   "source": [
    "test(10)"
   ]
  },
  {
   "cell_type": "code",
   "execution_count": 32,
   "id": "858ecd26-148f-414c-9035-0d8b45e8e721",
   "metadata": {},
   "outputs": [
    {
     "name": "stdout",
     "output_type": "stream",
     "text": [
      "0\n",
      "1\n",
      "3\n",
      "7\n",
      "15\n",
      "31\n",
      "63\n",
      "127\n",
      "255\n",
      "511\n"
     ]
    }
   ],
   "source": [
    "for i in test(10):\n",
    "    print(i)"
   ]
  },
  {
   "cell_type": "markdown",
   "id": "cba2f950-e399-48b4-adac-fc0d2c53c2de",
   "metadata": {},
   "source": [
    "## 5. Create a generator function for prime numbers less than 1000. Use the next() method to print the first 20 prime numbers."
   ]
  },
  {
   "cell_type": "code",
   "execution_count": 1,
   "id": "6f1b5c49-aaff-4be2-882b-188cac9e4d24",
   "metadata": {},
   "outputs": [
    {
     "name": "stdout",
     "output_type": "stream",
     "text": [
      "2\n",
      "3\n",
      "5\n",
      "7\n",
      "11\n",
      "13\n",
      "17\n",
      "19\n",
      "23\n",
      "29\n",
      "31\n",
      "37\n",
      "41\n",
      "43\n",
      "47\n",
      "53\n",
      "59\n",
      "61\n",
      "67\n",
      "71\n"
     ]
    }
   ],
   "source": [
    "def primes():\n",
    "    \"\"\"Create a generator function for prime numbers less than 1000.\"\"\"\n",
    "    yield 2\n",
    "    primes_list = [2]\n",
    "    for i in range(3, 1000):\n",
    "        is_prime = True\n",
    "        for prime in primes_list:\n",
    "            if i % prime == 0:\n",
    "                is_prime = False\n",
    "                break\n",
    "        if is_prime:\n",
    "            primes_list.append(i)\n",
    "            yield i\n",
    "\n",
    "prime_gen = primes()\n",
    "# the next() method to print the first 20 prime numbers.\n",
    "for i in range(20):\n",
    "    print(next(prime_gen))"
   ]
  },
  {
   "cell_type": "code",
   "execution_count": 14,
   "id": "90fc4d66-8eeb-47da-a80d-6c0f66e6abb3",
   "metadata": {},
   "outputs": [],
   "source": [
    "def prime_gen(n):\n",
    "    a=2\n",
    "    while n>0:\n",
    "        if isPrime(a):\n",
    "            yield a\n",
    "            a=a+1\n",
    "    return\n",
    "def isPrime(a):\n",
    "    for i in range(2,1000):\n",
    "        if a%2!=0:\n",
    "            return True\n",
    "        else:\n",
    "            return False\n"
   ]
  },
  {
   "cell_type": "code",
   "execution_count": 15,
   "id": "ee56c75c-8e9f-4590-ac84-6b49366aa815",
   "metadata": {},
   "outputs": [
    {
     "ename": "TypeError",
     "evalue": "'function' object is not an iterator",
     "output_type": "error",
     "traceback": [
      "\u001b[0;31m---------------------------------------------------------------------------\u001b[0m",
      "\u001b[0;31mTypeError\u001b[0m                                 Traceback (most recent call last)",
      "Cell \u001b[0;32mIn[15], line 3\u001b[0m\n\u001b[1;32m      1\u001b[0m it \u001b[38;5;241m=\u001b[39m prime_gen\n\u001b[1;32m      2\u001b[0m \u001b[38;5;28;01mfor\u001b[39;00m i \u001b[38;5;129;01min\u001b[39;00m \u001b[38;5;28mrange\u001b[39m(\u001b[38;5;241m2\u001b[39m,\u001b[38;5;241m25\u001b[39m):\n\u001b[0;32m----> 3\u001b[0m     \u001b[38;5;28mprint\u001b[39m(\u001b[38;5;28;43mnext\u001b[39;49m\u001b[43m(\u001b[49m\u001b[43mit\u001b[49m\u001b[43m)\u001b[49m)\n",
      "\u001b[0;31mTypeError\u001b[0m: 'function' object is not an iterator"
     ]
    }
   ],
   "source": [
    "it = prime_gen\n",
    "for i in range(2,25):\n",
    "    print(next(it))"
   ]
  },
  {
   "cell_type": "code",
   "execution_count": null,
   "id": "6a072ee2-97c2-4c89-9fd8-2660d9c044c4",
   "metadata": {},
   "outputs": [],
   "source": []
  }
 ],
 "metadata": {
  "kernelspec": {
   "display_name": "Python 3 (ipykernel)",
   "language": "python",
   "name": "python3"
  },
  "language_info": {
   "codemirror_mode": {
    "name": "ipython",
    "version": 3
   },
   "file_extension": ".py",
   "mimetype": "text/x-python",
   "name": "python",
   "nbconvert_exporter": "python",
   "pygments_lexer": "ipython3",
   "version": "3.10.8"
  }
 },
 "nbformat": 4,
 "nbformat_minor": 5
}
