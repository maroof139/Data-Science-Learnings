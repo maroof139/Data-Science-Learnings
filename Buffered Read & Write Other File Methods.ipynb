{
 "cells": [
  {
   "cell_type": "code",
   "execution_count": 2,
   "id": "8825f2a6-0224-418b-9965-801aa9302453",
   "metadata": {},
   "outputs": [],
   "source": [
    "import io"
   ]
  },
  {
   "cell_type": "code",
   "execution_count": 5,
   "id": "e947782f-1a96-4b92-8923-ed4c26c3866c",
   "metadata": {},
   "outputs": [],
   "source": [
    "with open(\"test_1.txt\",\"wb\") as f:\n",
    "    file=io.BufferedWriter(f)\n",
    "    file.write(b\"Nature can refer to the general realm of living plants and animals and in some cases to the processes associated with inanimate objects the way that particular types of things exist and change of their own accord such as the weather and geology of the Earth\\n\")\n",
    "    file.write(b\"this is the second line i am trying to write\")\n",
    "    file.flush()"
   ]
  },
  {
   "cell_type": "code",
   "execution_count": 6,
   "id": "91ddf58c-7c4e-4934-a868-c1c95ac799ea",
   "metadata": {},
   "outputs": [
    {
     "name": "stdout",
     "output_type": "stream",
     "text": [
      "b'Nature can refer to the general realm of living plants and animals and in some cases to the processes associated with inanimate objects the way that particular types of things exist and change of their own accord such as the weather and geology of the Earth\\nthis is the second line i am trying to write'\n"
     ]
    }
   ],
   "source": [
    "with open(\"test_1.txt\",\"rb\") as f:\n",
    "    file=io.BufferedReader(f)\n",
    "    data=file.read()\n",
    "    print(data)"
   ]
  },
  {
   "cell_type": "code",
   "execution_count": null,
   "id": "1a3d9a9a-a62d-464c-a888-700268fdb365",
   "metadata": {},
   "outputs": [],
   "source": []
  },
  {
   "cell_type": "code",
   "execution_count": null,
   "id": "4b649e63-9e64-415c-85be-cadcd62198bc",
   "metadata": {},
   "outputs": [],
   "source": []
  }
 ],
 "metadata": {
  "kernelspec": {
   "display_name": "Python 3 (ipykernel)",
   "language": "python",
   "name": "python3"
  },
  "language_info": {
   "codemirror_mode": {
    "name": "ipython",
    "version": 3
   },
   "file_extension": ".py",
   "mimetype": "text/x-python",
   "name": "python",
   "nbconvert_exporter": "python",
   "pygments_lexer": "ipython3",
   "version": "3.10.8"
  }
 },
 "nbformat": 4,
 "nbformat_minor": 5
}
