{
 "cells": [
  {
   "cell_type": "code",
   "execution_count": 1,
   "id": "74ffe658-3e47-41e8-9d01-ed71370df9d5",
   "metadata": {},
   "outputs": [],
   "source": [
    "name=\"Data Science MAsters\""
   ]
  },
  {
   "cell_type": "code",
   "execution_count": 5,
   "id": "5d427355-bec0-4199-b871-1d812805953d",
   "metadata": {},
   "outputs": [
    {
     "data": {
      "text/plain": [
       "'sretsAM ecneicS ataD'"
      ]
     },
     "execution_count": 5,
     "metadata": {},
     "output_type": "execute_result"
    }
   ],
   "source": [
    "name[: : - 1]"
   ]
  },
  {
   "cell_type": "code",
   "execution_count": 4,
   "id": "cf706278-75a6-4b46-9f6f-371fadbeda15",
   "metadata": {},
   "outputs": [
    {
     "data": {
      "text/plain": [
       "'s r e t s A M   e c n e i c S   a t a D'"
      ]
     },
     "execution_count": 4,
     "metadata": {},
     "output_type": "execute_result"
    }
   ],
   "source": [
    "' '.join(reversed(name))"
   ]
  },
  {
   "cell_type": "code",
   "execution_count": 11,
   "id": "b84999ed-2c27-4b79-a0cd-7e39aad46e48",
   "metadata": {},
   "outputs": [
    {
     "data": {
      "text/plain": [
       "'s Maroof r Maroof e Maroof t Maroof s Maroof A Maroof M Maroof   Maroof e Maroof c Maroof n Maroof e Maroof i Maroof c Maroof S Maroof   Maroof a Maroof t Maroof a Maroof D'"
      ]
     },
     "execution_count": 11,
     "metadata": {},
     "output_type": "execute_result"
    }
   ],
   "source": [
    "' Maroof '.join(reversed(name))"
   ]
  },
  {
   "cell_type": "code",
   "execution_count": 1,
   "id": "cc0029ac-3448-4ea3-998a-99603ccc38c0",
   "metadata": {},
   "outputs": [
    {
     "data": {
      "text/plain": [
       "'a b c d'"
      ]
     },
     "execution_count": 1,
     "metadata": {},
     "output_type": "execute_result"
    }
   ],
   "source": [
    "\" \".join('abcd')"
   ]
  },
  {
   "cell_type": "code",
   "execution_count": 2,
   "id": "3be1891b-c642-4970-85ac-37866d9b46c8",
   "metadata": {},
   "outputs": [
    {
     "data": {
      "text/plain": [
       "'a b c d'"
      ]
     },
     "execution_count": 2,
     "metadata": {},
     "output_type": "execute_result"
    }
   ],
   "source": [
    "' '.join('abcd')"
   ]
  },
  {
   "cell_type": "code",
   "execution_count": 3,
   "id": "39119e47-1f0f-4f45-98cf-c2857051184d",
   "metadata": {},
   "outputs": [
    {
     "data": {
      "text/plain": [
       "'t n a'"
      ]
     },
     "execution_count": 3,
     "metadata": {},
     "output_type": "execute_result"
    }
   ],
   "source": [
    "' '.join(reversed(\"ant\"))"
   ]
  },
  {
   "cell_type": "code",
   "execution_count": 6,
   "id": "dabde47f-9e5f-4d94-8ccf-05aaa4bb974a",
   "metadata": {},
   "outputs": [
    {
     "data": {
      "text/plain": [
       "'t PWskills n PWskills a'"
      ]
     },
     "execution_count": 6,
     "metadata": {},
     "output_type": "execute_result"
    }
   ],
   "source": [
    "' PWskills '.join(reversed('ant'))"
   ]
  },
  {
   "cell_type": "code",
   "execution_count": 7,
   "id": "caf69023-e0d3-4351-98dd-64917c9bd7c5",
   "metadata": {},
   "outputs": [
    {
     "data": {
      "text/plain": [
       "['t', 'n', 'a']"
      ]
     },
     "execution_count": 7,
     "metadata": {},
     "output_type": "execute_result"
    }
   ],
   "source": [
    "list(reversed(\"ant\"))"
   ]
  },
  {
   "cell_type": "code",
   "execution_count": 9,
   "id": "80c97f0a-ede2-47e6-a575-55fb033cb6a2",
   "metadata": {},
   "outputs": [],
   "source": [
    "str1='Pw is a good company'"
   ]
  },
  {
   "cell_type": "code",
   "execution_count": 10,
   "id": "abb2b617-126b-4786-ab3d-cdd583f79bb4",
   "metadata": {},
   "outputs": [
    {
     "data": {
      "text/plain": [
       "'PSkillswSkills SkillsiSkillssSkills SkillsaSkills SkillsgSkillsoSkillsoSkillsdSkills SkillscSkillsoSkillsmSkillspSkillsaSkillsnSkillsy'"
      ]
     },
     "execution_count": 10,
     "metadata": {},
     "output_type": "execute_result"
    }
   ],
   "source": [
    "\"Skills\".join(str1)"
   ]
  },
  {
   "cell_type": "code",
   "execution_count": 11,
   "id": "0ba74297-cd66-484c-bb75-d29d1662e488",
   "metadata": {},
   "outputs": [],
   "source": [
    "str1=' Maroof '"
   ]
  },
  {
   "cell_type": "code",
   "execution_count": 12,
   "id": "45b0f745-a88f-4463-80ad-53f2929a0dcc",
   "metadata": {},
   "outputs": [
    {
     "data": {
      "text/plain": [
       "'Maroof'"
      ]
     },
     "execution_count": 12,
     "metadata": {},
     "output_type": "execute_result"
    }
   ],
   "source": [
    "str1.strip()"
   ]
  },
  {
   "cell_type": "code",
   "execution_count": 13,
   "id": "fbb2d461-d4bf-4f76-a472-6220f019b4b7",
   "metadata": {},
   "outputs": [
    {
     "data": {
      "text/plain": [
       "'Maroof '"
      ]
     },
     "execution_count": 13,
     "metadata": {},
     "output_type": "execute_result"
    }
   ],
   "source": [
    "str1.lstrip()"
   ]
  },
  {
   "cell_type": "code",
   "execution_count": 14,
   "id": "2bfc9cc6-6ad2-4279-a2f5-aa3c560aea6f",
   "metadata": {},
   "outputs": [
    {
     "data": {
      "text/plain": [
       "' Maroof'"
      ]
     },
     "execution_count": 14,
     "metadata": {},
     "output_type": "execute_result"
    }
   ],
   "source": [
    "str1.rstrip()"
   ]
  },
  {
   "cell_type": "code",
   "execution_count": 15,
   "id": "2bab0fb4-932f-449b-b45d-908dd78f1107",
   "metadata": {},
   "outputs": [
    {
     "data": {
      "text/plain": [
       "'Greetings from Maroof'"
      ]
     },
     "execution_count": 15,
     "metadata": {},
     "output_type": "execute_result"
    }
   ],
   "source": [
    "str1=\"Greetings to Maroof\"\n",
    "str1.replace(\"to\",\"from\")"
   ]
  },
  {
   "cell_type": "code",
   "execution_count": 17,
   "id": "a3a77a81-69c2-490a-8138-6ce641a8e44b",
   "metadata": {},
   "outputs": [
    {
     "data": {
      "text/plain": [
       "'test gmail.com'"
      ]
     },
     "execution_count": 17,
     "metadata": {},
     "output_type": "execute_result"
    }
   ],
   "source": [
    "str1='test@gmail.com'\n",
    "var_a=str1.replace(\"@\",\" \")\n",
    "var_a"
   ]
  },
  {
   "cell_type": "code",
   "execution_count": 18,
   "id": "c7aafa38-71c2-48bc-a5b6-2dc3f94abe72",
   "metadata": {},
   "outputs": [],
   "source": [
    "str1=\"Welcome to Pwskills.Welcome to Dat cience Masters\""
   ]
  },
  {
   "cell_type": "code",
   "execution_count": 19,
   "id": "d73922cc-3000-41af-bac4-61440bcb6063",
   "metadata": {},
   "outputs": [
    {
     "data": {
      "text/plain": [
       "'Welcome to Pwskills.Welcome to Data Science Masters'"
      ]
     },
     "execution_count": 19,
     "metadata": {},
     "output_type": "execute_result"
    }
   ],
   "source": [
    "str1.replace(\"Dat cience\", \"Data Science\")"
   ]
  },
  {
   "cell_type": "code",
   "execution_count": 1,
   "id": "8aa75489-8294-4398-a4c8-419ebea99349",
   "metadata": {},
   "outputs": [],
   "source": [
    "str1=\"Hi There\""
   ]
  },
  {
   "cell_type": "code",
   "execution_count": 2,
   "id": "12dbbabb-4b72-43ec-9b45-cf264321d5a6",
   "metadata": {},
   "outputs": [
    {
     "data": {
      "text/plain": [
       "False"
      ]
     },
     "execution_count": 2,
     "metadata": {},
     "output_type": "execute_result"
    }
   ],
   "source": [
    "str1.isupper()"
   ]
  },
  {
   "cell_type": "code",
   "execution_count": 3,
   "id": "de4bc745-38c2-4660-b7de-df05fbc0f53e",
   "metadata": {},
   "outputs": [
    {
     "data": {
      "text/plain": [
       "True"
      ]
     },
     "execution_count": 3,
     "metadata": {},
     "output_type": "execute_result"
    }
   ],
   "source": [
    "str1=\"HELLO\"\n",
    "str1.isupper()"
   ]
  },
  {
   "cell_type": "code",
   "execution_count": 4,
   "id": "eda051da-8d67-43d7-9080-a8d5f1482a0e",
   "metadata": {},
   "outputs": [
    {
     "data": {
      "text/plain": [
       "True"
      ]
     },
     "execution_count": 4,
     "metadata": {},
     "output_type": "execute_result"
    }
   ],
   "source": [
    "str1=\"hello\"\n",
    "str1.islower()"
   ]
  },
  {
   "cell_type": "code",
   "execution_count": 5,
   "id": "d19b039b-1b97-457d-b867-e4a90bdf8914",
   "metadata": {},
   "outputs": [
    {
     "data": {
      "text/plain": [
       "False"
      ]
     },
     "execution_count": 5,
     "metadata": {},
     "output_type": "execute_result"
    }
   ],
   "source": [
    "str1.isspace()"
   ]
  },
  {
   "cell_type": "code",
   "execution_count": 6,
   "id": "c8ebbfeb-f3b2-4d6b-b082-2256bcad4486",
   "metadata": {},
   "outputs": [
    {
     "data": {
      "text/plain": [
       "False"
      ]
     },
     "execution_count": 6,
     "metadata": {},
     "output_type": "execute_result"
    }
   ],
   "source": [
    "str1=\"H e l l o\"\n",
    "str1.isspace()"
   ]
  },
  {
   "cell_type": "code",
   "execution_count": 7,
   "id": "960fecfa-ea1c-4e35-ba26-87461444b28c",
   "metadata": {},
   "outputs": [
    {
     "name": "stdout",
     "output_type": "stream",
     "text": [
      "Hi\n"
     ]
    }
   ],
   "source": [
    "if ' '.isspace():\n",
    "    print(\"Hi\")"
   ]
  },
  {
   "cell_type": "code",
   "execution_count": 8,
   "id": "6ed0c4c7-70d4-46f3-8a8f-67a17eb4fbfd",
   "metadata": {},
   "outputs": [],
   "source": [
    "if str1.isspace():\n",
    "    print(\"Hi\")"
   ]
  },
  {
   "cell_type": "code",
   "execution_count": 10,
   "id": "83c29ee8-39af-45c2-9800-015da522ccbe",
   "metadata": {},
   "outputs": [
    {
     "data": {
      "text/plain": [
       "True"
      ]
     },
     "execution_count": 10,
     "metadata": {},
     "output_type": "execute_result"
    }
   ],
   "source": [
    "str1=\"Hello\"\n",
    "str1.endswith(\"o\")"
   ]
  },
  {
   "cell_type": "code",
   "execution_count": 11,
   "id": "25a8093f-8bdd-4e43-bbba-31443fd4f924",
   "metadata": {},
   "outputs": [
    {
     "data": {
      "text/plain": [
       "True"
      ]
     },
     "execution_count": 11,
     "metadata": {},
     "output_type": "execute_result"
    }
   ],
   "source": [
    "str1=\"Hello\"\n",
    "str1.startswith(\"H\")"
   ]
  },
  {
   "cell_type": "code",
   "execution_count": 13,
   "id": "b62341da-35d4-4dde-9999-e13c81d41226",
   "metadata": {},
   "outputs": [
    {
     "data": {
      "text/plain": [
       "True"
      ]
     },
     "execution_count": 13,
     "metadata": {},
     "output_type": "execute_result"
    }
   ],
   "source": [
    "str1=\"abc123\"\n",
    "str1.isalnum()"
   ]
  },
  {
   "cell_type": "code",
   "execution_count": 14,
   "id": "eb436589-7e51-4b40-8a91-a60e8d897b7e",
   "metadata": {},
   "outputs": [
    {
     "data": {
      "text/plain": [
       "6"
      ]
     },
     "execution_count": 14,
     "metadata": {},
     "output_type": "execute_result"
    }
   ],
   "source": [
    "len(str1)"
   ]
  },
  {
   "cell_type": "code",
   "execution_count": 16,
   "id": "e8d936c7-e06b-4ad3-883f-7ab908fa0473",
   "metadata": {},
   "outputs": [
    {
     "name": "stdout",
     "output_type": "stream",
     "text": [
      "6\n"
     ]
    }
   ],
   "source": [
    "count=0\n",
    "for i in str1:\n",
    "    count=count+1\n",
    "print(count)"
   ]
  },
  {
   "cell_type": "code",
   "execution_count": 18,
   "id": "bc5e8980-1b28-4b4c-8a89-8b2cb7a7aaa6",
   "metadata": {},
   "outputs": [
    {
     "name": "stdout",
     "output_type": "stream",
     "text": [
      "a\n",
      "b\n",
      "c\n",
      "1\n",
      "2\n",
      "3\n"
     ]
    }
   ],
   "source": [
    "for i in range(len(str1)):\n",
    "    print(str1[i])"
   ]
  },
  {
   "cell_type": "code",
   "execution_count": 19,
   "id": "2e779d00-1ba3-4a81-80e1-164bceac4e7a",
   "metadata": {},
   "outputs": [
    {
     "name": "stdout",
     "output_type": "stream",
     "text": [
      "0 = a\n",
      "1 = b\n",
      "2 = c\n",
      "3 = 1\n",
      "4 = 2\n",
      "5 = 3\n"
     ]
    }
   ],
   "source": [
    "for i in range(len(str1)):\n",
    "    print(i,\"=\",str1[i])"
   ]
  },
  {
   "cell_type": "code",
   "execution_count": 20,
   "id": "a669f58d-8eb5-4138-9b09-3c3840509313",
   "metadata": {},
   "outputs": [
    {
     "data": {
      "text/plain": [
       "'abc123'"
      ]
     },
     "execution_count": 20,
     "metadata": {},
     "output_type": "execute_result"
    }
   ],
   "source": [
    "str1=\"abc123\"\n",
    "str1"
   ]
  },
  {
   "cell_type": "code",
   "execution_count": 28,
   "id": "99627699-9c05-40a3-83e0-50cacfc9d756",
   "metadata": {},
   "outputs": [
    {
     "name": "stdout",
     "output_type": "stream",
     "text": [
      "s\n",
      "l\n",
      "l\n",
      "i\n",
      "k\n",
      "s\n",
      "w\n",
      "p\n"
     ]
    }
   ],
   "source": [
    "str1=\"pwskills\"\n",
    "count=len(str1)-1\n",
    "while count >= 0:\n",
    "    print(str1[count])\n",
    "    count=count-1"
   ]
  },
  {
   "cell_type": "code",
   "execution_count": 33,
   "id": "aa48b04d-478a-44f9-8090-caad11cbacf5",
   "metadata": {},
   "outputs": [
    {
     "name": "stdout",
     "output_type": "stream",
     "text": [
      "P is not vowel\n",
      "w is not vowel\n",
      "S is not vowel\n",
      "k is not vowel\n",
      "i is vowel\n",
      "l is not vowel\n",
      "l is not vowel\n",
      "s is not vowel\n"
     ]
    }
   ],
   "source": [
    "name=\"PwSkills\"\n",
    "vowels=\"AaEeIiOoUu\"\n",
    "for i in name:\n",
    "    if i in vowels:\n",
    "        print(\"{} is vowel\".format(i))\n",
    "    else:\n",
    "        print(\"{} is not vowel\".format(i))"
   ]
  },
  {
   "cell_type": "markdown",
   "id": "5f322233-dae8-49da-857d-7d4716832932",
   "metadata": {},
   "source": [
    "# List"
   ]
  },
  {
   "cell_type": "code",
   "execution_count": 35,
   "id": "5f033a87-0035-42fe-9e3e-aeab0c6765c5",
   "metadata": {},
   "outputs": [
    {
     "data": {
      "text/plain": [
       "['Pw', 'Skills', 'Data', 'Science', 'Master']"
      ]
     },
     "execution_count": 35,
     "metadata": {},
     "output_type": "execute_result"
    }
   ],
   "source": [
    "str1=\"Pw Skills Data Science Master\"\n",
    "list(str1.split(\" \"))"
   ]
  },
  {
   "cell_type": "code",
   "execution_count": 36,
   "id": "ebd267c1-797e-4fc7-b399-bc55ddd6a792",
   "metadata": {},
   "outputs": [],
   "source": [
    "lst=str1.split()"
   ]
  },
  {
   "cell_type": "code",
   "execution_count": 37,
   "id": "4f38d2a1-4843-4570-a04d-19ecd4a08308",
   "metadata": {},
   "outputs": [
    {
     "data": {
      "text/plain": [
       "['Pw', 'Skills', 'Data', 'Science', 'Master']"
      ]
     },
     "execution_count": 37,
     "metadata": {},
     "output_type": "execute_result"
    }
   ],
   "source": [
    "lst"
   ]
  },
  {
   "cell_type": "code",
   "execution_count": 38,
   "id": "27956028-f910-4f59-ab13-c447a3242c15",
   "metadata": {},
   "outputs": [],
   "source": [
    "lst[1]=\"Skill\""
   ]
  },
  {
   "cell_type": "code",
   "execution_count": 39,
   "id": "a955820b-c580-4c20-9845-915a37acfd8f",
   "metadata": {},
   "outputs": [
    {
     "data": {
      "text/plain": [
       "['Pw', 'Skill', 'Data', 'Science', 'Master']"
      ]
     },
     "execution_count": 39,
     "metadata": {},
     "output_type": "execute_result"
    }
   ],
   "source": [
    "lst"
   ]
  },
  {
   "cell_type": "code",
   "execution_count": 40,
   "id": "81b9c911-85b9-46f0-bef4-d27a81c95dc9",
   "metadata": {},
   "outputs": [
    {
     "data": {
      "text/plain": [
       "['Master', 'Data', 'Pw']"
      ]
     },
     "execution_count": 40,
     "metadata": {},
     "output_type": "execute_result"
    }
   ],
   "source": [
    "lst[::-2]"
   ]
  },
  {
   "cell_type": "code",
   "execution_count": 41,
   "id": "fce1969b-9ceb-48e9-903c-d61f31b7a868",
   "metadata": {},
   "outputs": [
    {
     "data": {
      "text/plain": [
       "['Skill']"
      ]
     },
     "execution_count": 41,
     "metadata": {},
     "output_type": "execute_result"
    }
   ],
   "source": [
    "lst[1::-2]"
   ]
  },
  {
   "cell_type": "code",
   "execution_count": 42,
   "id": "ab13de41-7912-4c3b-ad0a-439363859d7b",
   "metadata": {},
   "outputs": [
    {
     "data": {
      "text/plain": [
       "['Pw']"
      ]
     },
     "execution_count": 42,
     "metadata": {},
     "output_type": "execute_result"
    }
   ],
   "source": [
    "lst[-5::-2]"
   ]
  },
  {
   "cell_type": "code",
   "execution_count": 46,
   "id": "6b187180-875e-40f6-bbd8-b16828793271",
   "metadata": {},
   "outputs": [],
   "source": [
    "lst1=lst+[['new element',3]]"
   ]
  },
  {
   "cell_type": "code",
   "execution_count": 47,
   "id": "41fa3415-804e-40f9-be82-eb32243418a7",
   "metadata": {},
   "outputs": [
    {
     "data": {
      "text/plain": [
       "['Pw', 'Skill', 'Data', 'Science', 'Master', ['new element', 3]]"
      ]
     },
     "execution_count": 47,
     "metadata": {},
     "output_type": "execute_result"
    }
   ],
   "source": [
    "lst1"
   ]
  },
  {
   "cell_type": "code",
   "execution_count": 48,
   "id": "cef126b8-fe39-4e21-a16b-bed67654214a",
   "metadata": {},
   "outputs": [
    {
     "data": {
      "text/plain": [
       "['Pw',\n",
       " 'Skill',\n",
       " 'Data',\n",
       " 'Science',\n",
       " 'Master',\n",
       " 'Pw',\n",
       " 'Skill',\n",
       " 'Data',\n",
       " 'Science',\n",
       " 'Master']"
      ]
     },
     "execution_count": 48,
     "metadata": {},
     "output_type": "execute_result"
    }
   ],
   "source": [
    "lst*2"
   ]
  },
  {
   "cell_type": "code",
   "execution_count": 50,
   "id": "39a88a5d-d6f9-4140-80f6-4d1339a6852f",
   "metadata": {},
   "outputs": [
    {
     "data": {
      "text/plain": [
       "['Pw', 'Skill', 'Data', 'Science', 'Master']"
      ]
     },
     "execution_count": 50,
     "metadata": {},
     "output_type": "execute_result"
    }
   ],
   "source": [
    "lst"
   ]
  },
  {
   "cell_type": "code",
   "execution_count": 54,
   "id": "f83e3ee0-5c31-4bf3-a45d-1fde41ff1eca",
   "metadata": {},
   "outputs": [
    {
     "ename": "IndentationError",
     "evalue": "expected an indented block after 'if' statement on line 2 (1055075805.py, line 3)",
     "output_type": "error",
     "traceback": [
      "\u001b[0;36m  Cell \u001b[0;32mIn[54], line 3\u001b[0;36m\u001b[0m\n\u001b[0;31m    print(i)\u001b[0m\n\u001b[0m            ^\u001b[0m\n\u001b[0;31mIndentationError\u001b[0m\u001b[0;31m:\u001b[0m expected an indented block after 'if' statement on line 2\n"
     ]
    }
   ],
   "source": [
    "for i in lst:\n",
    "    if i == 'Science':\n",
    "print(i)\n",
    "    "
   ]
  },
  {
   "cell_type": "code",
   "execution_count": 56,
   "id": "1d865fae-dbd3-4cff-877f-57c22e7af8ec",
   "metadata": {},
   "outputs": [
    {
     "name": "stdout",
     "output_type": "stream",
     "text": [
      "Pw\n"
     ]
    }
   ],
   "source": [
    "for i in lst:\n",
    "    if \"Science\" in lst:\n",
    "        print(i)\n",
    "        break"
   ]
  },
  {
   "cell_type": "code",
   "execution_count": 57,
   "id": "6f04bae9-f43c-46fc-871a-408816b68605",
   "metadata": {},
   "outputs": [
    {
     "name": "stdout",
     "output_type": "stream",
     "text": [
      "Science\n"
     ]
    }
   ],
   "source": [
    "for i in lst:\n",
    "    if i == \"Science\":\n",
    "        print(i)\n",
    "        break"
   ]
  },
  {
   "cell_type": "code",
   "execution_count": 58,
   "id": "35791e29-69fa-47cf-98ec-73de768de155",
   "metadata": {},
   "outputs": [
    {
     "data": {
      "text/plain": [
       "True"
      ]
     },
     "execution_count": 58,
     "metadata": {},
     "output_type": "execute_result"
    }
   ],
   "source": [
    "lst=[1,2,3,4]\n",
    "3 in lst"
   ]
  },
  {
   "cell_type": "code",
   "execution_count": 60,
   "id": "74581a36-4f27-404a-8684-44872ce5c437",
   "metadata": {},
   "outputs": [],
   "source": [
    "lst1=[\"Zebra\",\"Monkey\",\"Donkey\", \"Lion\"]\n",
    "lst2=[1,2,3,4,5,6,7,8,9,10]"
   ]
  },
  {
   "cell_type": "code",
   "execution_count": 61,
   "id": "03c3fecf-28a5-453e-a6f6-c7785bd95bbb",
   "metadata": {},
   "outputs": [
    {
     "data": {
      "text/plain": [
       "'Zebra'"
      ]
     },
     "execution_count": 61,
     "metadata": {},
     "output_type": "execute_result"
    }
   ],
   "source": [
    "max(lst1)"
   ]
  },
  {
   "cell_type": "code",
   "execution_count": 62,
   "id": "75932dd5-648a-4c39-82a5-c8b9660c9ccc",
   "metadata": {},
   "outputs": [
    {
     "data": {
      "text/plain": [
       "10"
      ]
     },
     "execution_count": 62,
     "metadata": {},
     "output_type": "execute_result"
    }
   ],
   "source": [
    "max(lst2)"
   ]
  },
  {
   "cell_type": "code",
   "execution_count": 64,
   "id": "207b38b7-3ac1-49fa-8e3c-9d7278373e9c",
   "metadata": {},
   "outputs": [
    {
     "data": {
      "text/plain": [
       "'Donkey'"
      ]
     },
     "execution_count": 64,
     "metadata": {},
     "output_type": "execute_result"
    }
   ],
   "source": [
    "min(lst1)\n"
   ]
  },
  {
   "cell_type": "code",
   "execution_count": 65,
   "id": "f2998e14-5178-415e-8f7d-cde71547dcaa",
   "metadata": {},
   "outputs": [
    {
     "data": {
      "text/plain": [
       "1"
      ]
     },
     "execution_count": 65,
     "metadata": {},
     "output_type": "execute_result"
    }
   ],
   "source": [
    "min(lst2)"
   ]
  },
  {
   "cell_type": "code",
   "execution_count": 66,
   "id": "b520532c-cb34-45db-8615-56496b7dd577",
   "metadata": {},
   "outputs": [],
   "source": [
    "lst=[1,2,3,4]"
   ]
  },
  {
   "cell_type": "code",
   "execution_count": 67,
   "id": "21dd1915-2d73-4d33-aae9-b2c8936eac64",
   "metadata": {},
   "outputs": [
    {
     "data": {
      "text/plain": [
       "[1, 2, 3, 4, 'Maroof']"
      ]
     },
     "execution_count": 67,
     "metadata": {},
     "output_type": "execute_result"
    }
   ],
   "source": [
    "lst.append(\"Maroof\")\n",
    "lst"
   ]
  },
  {
   "cell_type": "code",
   "execution_count": 68,
   "id": "e93906c6-ba26-41c1-b9fe-2f3763d47d4c",
   "metadata": {},
   "outputs": [
    {
     "data": {
      "text/plain": [
       "[1, 2, 3, 4, 'Maroof', ['data', 'science', 'master']]"
      ]
     },
     "execution_count": 68,
     "metadata": {},
     "output_type": "execute_result"
    }
   ],
   "source": [
    "lst.append([\"data\",\"science\",\"master\"])\n",
    "lst"
   ]
  },
  {
   "cell_type": "code",
   "execution_count": 69,
   "id": "ac50829f-0428-4c16-8b07-814497ebcd61",
   "metadata": {},
   "outputs": [
    {
     "data": {
      "text/plain": [
       "'Lion'"
      ]
     },
     "execution_count": 69,
     "metadata": {},
     "output_type": "execute_result"
    }
   ],
   "source": [
    "lst=['Zebra','Monkey','Donkey','Lion']\n",
    "lst.pop()"
   ]
  },
  {
   "cell_type": "code",
   "execution_count": 70,
   "id": "641025dc-cbcd-4154-a982-9a77a6dd333e",
   "metadata": {},
   "outputs": [
    {
     "data": {
      "text/plain": [
       "['Zebra', 'Monkey', 'Donkey']"
      ]
     },
     "execution_count": 70,
     "metadata": {},
     "output_type": "execute_result"
    }
   ],
   "source": [
    "lst"
   ]
  },
  {
   "cell_type": "code",
   "execution_count": 71,
   "id": "1ac8447a-1696-4f38-9b2c-c433757228dc",
   "metadata": {},
   "outputs": [
    {
     "data": {
      "text/plain": [
       "'Monkey'"
      ]
     },
     "execution_count": 71,
     "metadata": {},
     "output_type": "execute_result"
    }
   ],
   "source": [
    "lst.pop(1)"
   ]
  },
  {
   "cell_type": "markdown",
   "id": "3ebcfe52-4849-4d1e-a395-d417408aa039",
   "metadata": {},
   "source": [
    "## Sorting and Reversing a List"
   ]
  },
  {
   "cell_type": "code",
   "execution_count": 73,
   "id": "bbb90c41-3b8f-4b3f-906f-72d3be40b110",
   "metadata": {},
   "outputs": [
    {
     "data": {
      "text/plain": [
       "['u', 't', 's', 'f', 'e', 'q']"
      ]
     },
     "execution_count": 73,
     "metadata": {},
     "output_type": "execute_result"
    }
   ],
   "source": [
    "lst=['q','e','f','s','t','u']\n",
    "lst[::-1]"
   ]
  },
  {
   "cell_type": "code",
   "execution_count": 74,
   "id": "24239071-8415-48c1-abf2-2297be125fab",
   "metadata": {},
   "outputs": [],
   "source": [
    "lst.reverse()"
   ]
  },
  {
   "cell_type": "code",
   "execution_count": 75,
   "id": "de53029c-f9b8-4a0b-9bf8-56f7aa09bba0",
   "metadata": {},
   "outputs": [
    {
     "data": {
      "text/plain": [
       "['u', 't', 's', 'f', 'e', 'q']"
      ]
     },
     "execution_count": 75,
     "metadata": {},
     "output_type": "execute_result"
    }
   ],
   "source": [
    "lst"
   ]
  },
  {
   "cell_type": "code",
   "execution_count": 3,
   "id": "e9ee46da-8ebb-44a4-a0c7-4f7c5041bbdf",
   "metadata": {},
   "outputs": [],
   "source": [
    "lst=['q','e,','f','s','t','u']"
   ]
  },
  {
   "cell_type": "code",
   "execution_count": 4,
   "id": "19cdf755-ef21-4bf8-b368-43e7c354a4af",
   "metadata": {},
   "outputs": [],
   "source": [
    "lst.sort()"
   ]
  },
  {
   "cell_type": "code",
   "execution_count": 5,
   "id": "736f32e5-096c-42bb-ae6b-b72d4f4c753a",
   "metadata": {},
   "outputs": [
    {
     "data": {
      "text/plain": [
       "['e,', 'f', 'q', 's', 't', 'u']"
      ]
     },
     "execution_count": 5,
     "metadata": {},
     "output_type": "execute_result"
    }
   ],
   "source": [
    "lst"
   ]
  },
  {
   "cell_type": "code",
   "execution_count": 11,
   "id": "8860eb5f-96e0-4f4e-b262-1a8677dc5e73",
   "metadata": {},
   "outputs": [
    {
     "data": {
      "text/plain": [
       "[1, 2, 3, 4, 6]"
      ]
     },
     "execution_count": 11,
     "metadata": {},
     "output_type": "execute_result"
    }
   ],
   "source": [
    "lst=[1,2,3,4]\n",
    "lst.append(6)\n",
    "lst"
   ]
  },
  {
   "cell_type": "code",
   "execution_count": 12,
   "id": "60d29b8d-0abf-4377-b056-02ed77c0c99c",
   "metadata": {},
   "outputs": [],
   "source": [
    "lst.append([\"PW\",\"Skills\"])"
   ]
  },
  {
   "cell_type": "code",
   "execution_count": 13,
   "id": "1054f0a7-19c1-402b-898d-61bc2d2e7e01",
   "metadata": {},
   "outputs": [
    {
     "data": {
      "text/plain": [
       "[1, 2, 3, 4, 6, ['PW', 'Skills']]"
      ]
     },
     "execution_count": 13,
     "metadata": {},
     "output_type": "execute_result"
    }
   ],
   "source": [
    "lst"
   ]
  },
  {
   "cell_type": "code",
   "execution_count": 14,
   "id": "76acca88-a07a-4f5e-9ef7-5f1365d250d9",
   "metadata": {},
   "outputs": [],
   "source": [
    "lst.extend([\"Pw\",\"Skills\"])"
   ]
  },
  {
   "cell_type": "code",
   "execution_count": 15,
   "id": "90720b6e-2f97-4d4b-9711-e6f979202943",
   "metadata": {},
   "outputs": [
    {
     "data": {
      "text/plain": [
       "[1, 2, 3, 4, 6, ['PW', 'Skills'], 'Pw', 'Skills']"
      ]
     },
     "execution_count": 15,
     "metadata": {},
     "output_type": "execute_result"
    }
   ],
   "source": [
    "lst"
   ]
  },
  {
   "cell_type": "code",
   "execution_count": 16,
   "id": "edfdcd4e-e951-45a7-bdfd-865aef6c2884",
   "metadata": {},
   "outputs": [],
   "source": [
    "lst=['q','e,','f','s','t','u']"
   ]
  },
  {
   "cell_type": "code",
   "execution_count": 18,
   "id": "a92349c3-0ec9-42f3-98df-6cd655744917",
   "metadata": {},
   "outputs": [
    {
     "data": {
      "text/plain": [
       "['u', 't', 's', 'q', 'f', 'e,']"
      ]
     },
     "execution_count": 18,
     "metadata": {},
     "output_type": "execute_result"
    }
   ],
   "source": [
    "lst.sort(reverse=True)\n",
    "lst"
   ]
  },
  {
   "cell_type": "code",
   "execution_count": 19,
   "id": "e4bf2ff8-761d-4bac-a064-ba28310907a6",
   "metadata": {},
   "outputs": [],
   "source": [
    "lst1=[1,2,3]\n",
    "lst2=[4,5,6]\n",
    "lst3=[7,8,9]\n",
    "matrix=(lst1,lst2,lst3)"
   ]
  },
  {
   "cell_type": "code",
   "execution_count": 20,
   "id": "7a24a116-3db4-49c4-94e3-b46d2e638725",
   "metadata": {},
   "outputs": [
    {
     "data": {
      "text/plain": [
       "([1, 2, 3], [4, 5, 6], [7, 8, 9])"
      ]
     },
     "execution_count": 20,
     "metadata": {},
     "output_type": "execute_result"
    }
   ],
   "source": [
    "matrix"
   ]
  },
  {
   "cell_type": "code",
   "execution_count": 21,
   "id": "513883f9-e9a4-4a7c-9a90-e452fb5841d6",
   "metadata": {},
   "outputs": [
    {
     "data": {
      "text/plain": [
       "6"
      ]
     },
     "execution_count": 21,
     "metadata": {},
     "output_type": "execute_result"
    }
   ],
   "source": [
    "matrix[1][2]"
   ]
  },
  {
   "cell_type": "code",
   "execution_count": 23,
   "id": "02eea06f-6ba3-43b5-9330-e238a6029688",
   "metadata": {},
   "outputs": [
    {
     "data": {
      "text/plain": [
       "[8, 9]"
      ]
     },
     "execution_count": 23,
     "metadata": {},
     "output_type": "execute_result"
    }
   ],
   "source": [
    "matrix[2][1::]"
   ]
  },
  {
   "cell_type": "code",
   "execution_count": 24,
   "id": "8dd33afd-c6ea-4221-affa-efc317e9fc00",
   "metadata": {},
   "outputs": [
    {
     "data": {
      "text/plain": [
       "[0, 1, 2, 3, 4, 5, 6, 7, 8, 9, 10, 11, 12, 13, 14, 15, 16, 17, 18, 19]"
      ]
     },
     "execution_count": 24,
     "metadata": {},
     "output_type": "execute_result"
    }
   ],
   "source": [
    "[i for i in range(20)]"
   ]
  },
  {
   "cell_type": "code",
   "execution_count": 25,
   "id": "4d4609e2-fc36-4d20-b332-e8c27012e623",
   "metadata": {},
   "outputs": [
    {
     "data": {
      "text/plain": [
       "[0,\n",
       " 'ODD',\n",
       " 2,\n",
       " 'ODD',\n",
       " 4,\n",
       " 'ODD',\n",
       " 6,\n",
       " 'ODD',\n",
       " 8,\n",
       " 'ODD',\n",
       " 10,\n",
       " 'ODD',\n",
       " 12,\n",
       " 'ODD',\n",
       " 14,\n",
       " 'ODD',\n",
       " 16,\n",
       " 'ODD',\n",
       " 18,\n",
       " 'ODD']"
      ]
     },
     "execution_count": 25,
     "metadata": {},
     "output_type": "execute_result"
    }
   ],
   "source": [
    "[i if i%2==0 else \"ODD\" for i in range(20)]"
   ]
  },
  {
   "cell_type": "code",
   "execution_count": 30,
   "id": "27a610a3-d328-47bc-8342-c3137c745304",
   "metadata": {},
   "outputs": [
    {
     "name": "stdout",
     "output_type": "stream",
     "text": [
      "25\n",
      "20\n"
     ]
    }
   ],
   "source": [
    "lst=[1,2,3,4,5,6,7,8,9]\n",
    "odd=0\n",
    "even=0\n",
    "for i in lst:\n",
    "    if i%2==0:\n",
    "        even=even+i\n",
    "    else:\n",
    "        odd=odd+i\n",
    "print(odd)\n",
    "print(even)"
   ]
  },
  {
   "cell_type": "code",
   "execution_count": 32,
   "id": "d0956c19-dacc-42c2-9206-b31aa56827fe",
   "metadata": {},
   "outputs": [
    {
     "data": {
      "text/plain": [
       "20"
      ]
     },
     "execution_count": 32,
     "metadata": {},
     "output_type": "execute_result"
    }
   ],
   "source": [
    "even=sum([i for i in lst if i%2==0])\n",
    "even"
   ]
  },
  {
   "cell_type": "code",
   "execution_count": 33,
   "id": "46093d01-b3f2-4a73-a00a-1f402c58a614",
   "metadata": {},
   "outputs": [
    {
     "data": {
      "text/plain": [
       "25"
      ]
     },
     "execution_count": 33,
     "metadata": {},
     "output_type": "execute_result"
    }
   ],
   "source": [
    "odd=sum([i for i in lst if i%2!=0])\n",
    "odd"
   ]
  },
  {
   "cell_type": "code",
   "execution_count": 38,
   "id": "3609675f-7589-4cdf-a479-7ee3463326e8",
   "metadata": {},
   "outputs": [
    {
     "data": {
      "text/plain": [
       "[3, 6, 9]"
      ]
     },
     "execution_count": 38,
     "metadata": {},
     "output_type": "execute_result"
    }
   ],
   "source": [
    "[i for i in lst if i%3==0]"
   ]
  },
  {
   "cell_type": "code",
   "execution_count": 39,
   "id": "40c34425-5d88-431c-ab4e-b8242ca36722",
   "metadata": {},
   "outputs": [
    {
     "data": {
      "text/plain": [
       "[1, 4, 9, 16, 25, 36, 49, 64, 81]"
      ]
     },
     "execution_count": 39,
     "metadata": {},
     "output_type": "execute_result"
    }
   ],
   "source": [
    "[i**2 for i in lst]"
   ]
  },
  {
   "cell_type": "code",
   "execution_count": 43,
   "id": "dddb08db-f840-4718-8b80-7203c80142c8",
   "metadata": {},
   "outputs": [
    {
     "data": {
      "text/plain": [
       "[1, 2, 3, 4]"
      ]
     },
     "execution_count": 43,
     "metadata": {},
     "output_type": "execute_result"
    }
   ],
   "source": [
    "lst=[-2,-1,0,1,2,3,4]\n",
    "[i for i in lst if i>0] "
   ]
  },
  {
   "cell_type": "code",
   "execution_count": 44,
   "id": "5797ac4c-b493-4b44-834c-1cde9896ba74",
   "metadata": {},
   "outputs": [
    {
     "data": {
      "text/plain": [
       "['A', 'B', 'C', 'D']"
      ]
     },
     "execution_count": 44,
     "metadata": {},
     "output_type": "execute_result"
    }
   ],
   "source": [
    "lst=[\"Apple\",\"Banana\",\"Cherry\",\"Date\"]\n",
    "[i[0] for i in lst]"
   ]
  },
  {
   "cell_type": "code",
   "execution_count": 47,
   "id": "e473c6b7-aed2-4f64-b5c3-dfa28d44f377",
   "metadata": {},
   "outputs": [
    {
     "data": {
      "text/plain": [
       "[32.0, 50.0, 68.0, 86.0, 104.0, 122.0]"
      ]
     },
     "execution_count": 47,
     "metadata": {},
     "output_type": "execute_result"
    }
   ],
   "source": [
    "temp=[0,10,20,30,40,50]\n",
    "[(9/5)*i+32 for i in temp]"
   ]
  },
  {
   "cell_type": "code",
   "execution_count": 2,
   "id": "33455cfc-f29e-4a35-9d7f-fdf74f65e478",
   "metadata": {},
   "outputs": [
    {
     "data": {
      "text/plain": [
       "[[1, 2, 3],\n",
       " [1, 2, 3],\n",
       " [1, 2, 3],\n",
       " [4, 5, 6],\n",
       " [4, 5, 6],\n",
       " [4, 5, 6],\n",
       " [7, 8, 9],\n",
       " [7, 8, 9],\n",
       " [7, 8, 9]]"
      ]
     },
     "execution_count": 2,
     "metadata": {},
     "output_type": "execute_result"
    }
   ],
   "source": [
    "lst=[[1,2,3],[4,5,6],[7,8,9]]\n",
    "[i for i in lst for j in i]"
   ]
  },
  {
   "cell_type": "code",
   "execution_count": 1,
   "id": "9923b145-4174-4c08-9e66-07a389ae5b87",
   "metadata": {},
   "outputs": [
    {
     "ename": "NameError",
     "evalue": "name 'lst' is not defined",
     "output_type": "error",
     "traceback": [
      "\u001b[0;31m---------------------------------------------------------------------------\u001b[0m",
      "\u001b[0;31mNameError\u001b[0m                                 Traceback (most recent call last)",
      "Cell \u001b[0;32mIn[1], line 1\u001b[0m\n\u001b[0;32m----> 1\u001b[0m \u001b[43mlst\u001b[49m\n",
      "\u001b[0;31mNameError\u001b[0m: name 'lst' is not defined"
     ]
    }
   ],
   "source": []
  },
  {
   "cell_type": "code",
   "execution_count": null,
   "id": "c3e8e3a2-fdc2-48ac-a455-71448825c3df",
   "metadata": {},
   "outputs": [],
   "source": []
  }
 ],
 "metadata": {
  "kernelspec": {
   "display_name": "Python 3 (ipykernel)",
   "language": "python",
   "name": "python3"
  },
  "language_info": {
   "codemirror_mode": {
    "name": "ipython",
    "version": 3
   },
   "file_extension": ".py",
   "mimetype": "text/x-python",
   "name": "python",
   "nbconvert_exporter": "python",
   "pygments_lexer": "ipython3",
   "version": "3.10.8"
  }
 },
 "nbformat": 4,
 "nbformat_minor": 5
}
