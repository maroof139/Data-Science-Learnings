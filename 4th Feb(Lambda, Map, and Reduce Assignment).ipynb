{
 "cells": [
  {
   "cell_type": "markdown",
   "id": "da0a8577-c7ce-4d38-886b-07aecc16370f",
   "metadata": {},
   "source": [
    "## 1. Create a python program to sort the given list of tuples based on integer value using a lambda function.\n",
    "[('Sachin Tendulkar', 34357), ('Ricky Ponting', 27483), ('Jack Kallis', 25534), ('Virat Kohli', 24936)]"
   ]
  },
  {
   "cell_type": "code",
   "execution_count": 10,
   "id": "25d6f8fd-95c4-4ff3-bc67-78e6265f3971",
   "metadata": {},
   "outputs": [],
   "source": [
    "l=[('Sachin Tendulkar', 34357), ('Ricky Ponting', 27483), ('Jack Kallis', 25534), ('Virat Kohli', 24936)]"
   ]
  },
  {
   "cell_type": "code",
   "execution_count": 15,
   "id": "fc57bbcc-6b2c-4bcb-ba49-b224959ae0c2",
   "metadata": {},
   "outputs": [
    {
     "data": {
      "text/plain": [
       "[('Virat Kohli', 24936),\n",
       " ('Jack Kallis', 25534),\n",
       " ('Ricky Ponting', 27483),\n",
       " ('Sachin Tendulkar', 34357)]"
      ]
     },
     "execution_count": 15,
     "metadata": {},
     "output_type": "execute_result"
    }
   ],
   "source": [
    "sorted(l,key=lambda x:x[1])"
   ]
  },
  {
   "cell_type": "markdown",
   "id": "90fa6efa-f35e-4084-ac43-343f1c60de7f",
   "metadata": {},
   "source": [
    "## 2. Write a Python Program to find the squares of all the numbers in the given list of integers using lambda and map functions.\n",
    "[1, 2, 3, 4, 5, 6, 7, 8, 9, 10]"
   ]
  },
  {
   "cell_type": "code",
   "execution_count": 16,
   "id": "e8bf85c4-a725-407a-b6e7-5f6a6f65bd57",
   "metadata": {},
   "outputs": [],
   "source": [
    "l1=[1,2,3,4,5,6,7,8,9,10]"
   ]
  },
  {
   "cell_type": "code",
   "execution_count": 17,
   "id": "a5dd3107-3f9a-44f3-8234-bfbc8b6bd457",
   "metadata": {},
   "outputs": [
    {
     "data": {
      "text/plain": [
       "[1, 4, 9, 16, 25, 36, 49, 64, 81, 100]"
      ]
     },
     "execution_count": 17,
     "metadata": {},
     "output_type": "execute_result"
    }
   ],
   "source": [
    "list(map(lambda x:x**2,l1))"
   ]
  },
  {
   "cell_type": "markdown",
   "id": "3eee75de-9005-49cf-b2d5-00610c0b58fd",
   "metadata": {},
   "source": [
    "## 3. Write a python program to convert the given list of integers into a tuple of strings. Use map and lambda functions\n",
    "### Given String: [1, 2, 3, 4, 5, 6, 7, 8, 9, 10]\n",
    "### Expected output: ('1', '2', '3', '4', '5', '6', '7', '8', '9', '10') "
   ]
  },
  {
   "cell_type": "code",
   "execution_count": 18,
   "id": "fbe81ff3-24bd-4357-8d26-df76f62c77eb",
   "metadata": {},
   "outputs": [],
   "source": [
    "l2=[1,2,3,4,5,6,7,8,9,10]"
   ]
  },
  {
   "cell_type": "code",
   "execution_count": 19,
   "id": "bf9e0b29-c86a-462b-ae14-875d689f1cbe",
   "metadata": {},
   "outputs": [
    {
     "data": {
      "text/plain": [
       "['1', '2', '3', '4', '5', '6', '7', '8', '9', '10']"
      ]
     },
     "execution_count": 19,
     "metadata": {},
     "output_type": "execute_result"
    }
   ],
   "source": [
    "list(map(lambda x:str(x),l2))"
   ]
  },
  {
   "cell_type": "markdown",
   "id": "59d75043-0a7a-4a34-8c8a-b955148738e1",
   "metadata": {},
   "source": [
    "## 4. Write a python program using reduce function to compute the product of a list containing numbers from 1 to 25."
   ]
  },
  {
   "cell_type": "code",
   "execution_count": 25,
   "id": "d0edab5a-6511-4e78-9290-4e80a17cbac0",
   "metadata": {},
   "outputs": [],
   "source": [
    "def prod(x,y):\n",
    "        return x*y"
   ]
  },
  {
   "cell_type": "code",
   "execution_count": 26,
   "id": "06314ee6-95af-4500-b5e8-879f1377002f",
   "metadata": {},
   "outputs": [],
   "source": [
    "from functools import reduce"
   ]
  },
  {
   "cell_type": "code",
   "execution_count": 29,
   "id": "f1151992-c29a-4c40-81a3-c9f039393eb1",
   "metadata": {},
   "outputs": [
    {
     "data": {
      "text/plain": [
       "15511210043330985984000000"
      ]
     },
     "execution_count": 29,
     "metadata": {},
     "output_type": "execute_result"
    }
   ],
   "source": [
    "reduce(prod,[1,2,3,4,5,6,7,8,9,10,11,12,13,14,15,16,17,18,19,20,21,22,23,24,25])"
   ]
  },
  {
   "cell_type": "markdown",
   "id": "0a9e4aa0-e0a1-4833-adfa-861fea11462e",
   "metadata": {},
   "source": [
    "## 5. Write a python program to filter the numbers in a given list that are divisible by 2 and 3 using the filter function.\n",
    "[2, 3, 6, 9, 27, 60, 90, 120, 55, 46]"
   ]
  },
  {
   "cell_type": "code",
   "execution_count": 1,
   "id": "ead987de-2abd-4428-819b-de6afcc06f9a",
   "metadata": {},
   "outputs": [],
   "source": [
    "l3=[2,3,6,9,27,60,90,120,55,46]"
   ]
  },
  {
   "cell_type": "code",
   "execution_count": 2,
   "id": "ed37232e-d577-4330-833f-7a87d4a0686b",
   "metadata": {},
   "outputs": [
    {
     "data": {
      "text/plain": [
       "[2, 6, 60, 90, 120, 46]"
      ]
     },
     "execution_count": 2,
     "metadata": {},
     "output_type": "execute_result"
    }
   ],
   "source": [
    "list(filter(lambda x:x%2==0,l3))"
   ]
  },
  {
   "cell_type": "code",
   "execution_count": 3,
   "id": "d69c6046-af19-4cc9-9cd6-bca115267fc9",
   "metadata": {},
   "outputs": [
    {
     "data": {
      "text/plain": [
       "[3, 6, 9, 27, 60, 90, 120]"
      ]
     },
     "execution_count": 3,
     "metadata": {},
     "output_type": "execute_result"
    }
   ],
   "source": [
    "list(filter(lambda x:x%3==0,l3))"
   ]
  },
  {
   "cell_type": "markdown",
   "id": "9b263625-6a98-4284-905c-dfa443291faa",
   "metadata": {},
   "source": [
    "## 6. Write a python program to find palindromes in the given list of strings using lambda and filter function.\n",
    "['python', 'php', 'aba', 'radar', 'level']"
   ]
  },
  {
   "cell_type": "code",
   "execution_count": 4,
   "id": "85367a96-7009-4b8f-ac5d-7a3a28c53fa6",
   "metadata": {},
   "outputs": [],
   "source": [
    "l4=[\"python\",\"php\",\"aba\",\"radar\",\"level\"]"
   ]
  },
  {
   "cell_type": "code",
   "execution_count": 5,
   "id": "16890ddf-e667-4eaa-a438-e1dabe796af2",
   "metadata": {},
   "outputs": [
    {
     "data": {
      "text/plain": [
       "['php', 'aba', 'radar', 'level']"
      ]
     },
     "execution_count": 5,
     "metadata": {},
     "output_type": "execute_result"
    }
   ],
   "source": [
    "list(filter(lambda x: (x == ''.join(reversed(x))),l4))"
   ]
  },
  {
   "cell_type": "code",
   "execution_count": null,
   "id": "17d5eb49-ddb0-4186-ad3d-a8ff2aba1cda",
   "metadata": {},
   "outputs": [],
   "source": []
  }
 ],
 "metadata": {
  "kernelspec": {
   "display_name": "Python 3 (ipykernel)",
   "language": "python",
   "name": "python3"
  },
  "language_info": {
   "codemirror_mode": {
    "name": "ipython",
    "version": 3
   },
   "file_extension": ".py",
   "mimetype": "text/x-python",
   "name": "python",
   "nbconvert_exporter": "python",
   "pygments_lexer": "ipython3",
   "version": "3.10.8"
  }
 },
 "nbformat": 4,
 "nbformat_minor": 5
}
