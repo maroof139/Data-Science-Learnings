{
 "cells": [
  {
   "cell_type": "markdown",
   "id": "85c7f1bb-8a73-4fb8-97f7-b198aaf48f70",
   "metadata": {},
   "source": [
    "## 1. What is multithreading in python? Why is it used? Name the module used to handle threads in python"
   ]
  },
  {
   "cell_type": "markdown",
   "id": "b2873b78-f71b-47bf-a537-dcb1f957b27f",
   "metadata": {},
   "source": [
    "### Multithreading is defined as the ability of a processor to execute multiple threads concurrently. In a simple, single-core CPU, it is achieved using frequent switching between threads. This is termed context switching. In context switching, the state of a thread is saved and the state of another thread is loaded whenever any interrupt (due to I/O or manually set) takes place. Context switching takes place so frequently that all the threads appear to be running parallelly (this is termed multitasking).\n",
    "### The threading module provides a very simple and intuitive API for spawning multiple threads in a program."
   ]
  },
  {
   "cell_type": "markdown",
   "id": "3acb43b3-1169-46ba-b4f3-8afd0bf6d91c",
   "metadata": {},
   "source": [
    "## 2. Why threading module used? Write the use of the following functions\n",
    " a. activeCount()\n",
    " b. currentThread()\n",
    " c. enumerate()"
   ]
  },
  {
   "cell_type": "markdown",
   "id": "3134361a-5f5b-4025-9570-b34e4c8e0eb8",
   "metadata": {},
   "source": [
    "### Python threading allows you to have different parts of your program run concurrently and can simplify your design. "
   ]
  },
  {
   "cell_type": "markdown",
   "id": "d89f3954-dae7-4764-aee9-5829a4bd03ad",
   "metadata": {},
   "source": [
    "### a)activeCount() - Return the number of Thread objects currently alive. The returned count is equal to the length of the list returned by enumerate().\n",
    "### The function activeCount is a deprecated alias for this function."
   ]
  },
  {
   "cell_type": "markdown",
   "id": "cd3639c9-350d-4ae9-a6b4-089e34663535",
   "metadata": {},
   "source": [
    "### b) currentThread() - Return the current Thread object, corresponding to the caller’s thread of control. If the caller’s thread of control was not created through the threading module, a dummy thread object with limited functionality is returned.\n",
    "### The function currentThread is a deprecated alias for this function."
   ]
  },
  {
   "cell_type": "markdown",
   "id": "750e2e33-aba8-418b-901b-b4fc46c76637",
   "metadata": {},
   "source": [
    "### c) enumerate() -Return a list of all Thread objects currently active. The list includes daemonic threads and dummy thread objects created by current_thread(). It excludes terminated threads and threads that have not yet been started. However, the main thread is always part of the result, even when terminated. "
   ]
  },
  {
   "cell_type": "markdown",
   "id": "82422a86-fd20-445e-862f-3ffcc84038ee",
   "metadata": {},
   "source": [
    "## 3. Explain the following functions\n",
    "run()\n",
    "start()\n",
    "join()\n",
    "isAlive()"
   ]
  },
  {
   "cell_type": "markdown",
   "id": "32402fc5-dec3-4b5d-8ed7-c7036424606c",
   "metadata": {},
   "source": [
    "### run() - The run() method is the entry point for a thread."
   ]
  },
  {
   "cell_type": "markdown",
   "id": "94f3fc09-cd6a-4a95-a2c1-8fbb829b1d96",
   "metadata": {},
   "source": [
    "### start() - The start() method starts a thread by calling the run method."
   ]
  },
  {
   "cell_type": "markdown",
   "id": "fc85c719-e69e-4f11-a4b8-3cc12492b4b8",
   "metadata": {},
   "source": [
    "### join() - The join() waits for threads to terminate."
   ]
  },
  {
   "cell_type": "markdown",
   "id": "50774d85-17ca-4017-b914-c5df9eeb9931",
   "metadata": {},
   "source": [
    "### isAlive() - The isAlive() method checks whether a thread is still executing."
   ]
  },
  {
   "cell_type": "markdown",
   "id": "d2c6c540-5451-428e-a9e9-3c62bb8bb664",
   "metadata": {},
   "source": [
    "## 4. Write a python program to create two threads. Thread one must print the list of squares and thread two must print the list of cubes"
   ]
  },
  {
   "cell_type": "code",
   "execution_count": 18,
   "id": "d48e4e2f-d456-47a2-a0b5-a91c3cc97f7e",
   "metadata": {},
   "outputs": [
    {
     "name": "stdout",
     "output_type": "stream",
     "text": [
      "Square: 100\n",
      "Cube: 1000\n"
     ]
    }
   ],
   "source": [
    "import threading\n",
    " \n",
    "def print_cube(num):\n",
    "    print(\"Cube: {}\" .format(num * num * num))\n",
    " \n",
    " \n",
    "def print_square(num):\n",
    "    print(\"Square: {}\" .format(num * num))\n",
    " \n",
    " \n",
    "if __name__ ==\"__main__\":\n",
    "    t1 = threading.Thread(target=print_square, args=(10,))\n",
    "    t2 = threading.Thread(target=print_cube, args=(10,))\n",
    " \n",
    "    t1.start()\n",
    "    t2.start()\n",
    " \n",
    "    t1.join()\n",
    "    t2.join()"
   ]
  },
  {
   "cell_type": "markdown",
   "id": "c56cbc30-9595-4b9f-a43e-5f06359ddd3e",
   "metadata": {},
   "source": [
    "## 5. State advantages and disadvantages of multithreading"
   ]
  },
  {
   "cell_type": "markdown",
   "id": "79aa3c1d-c921-4cd8-b91e-5709b4dc15ad",
   "metadata": {},
   "source": [
    "### Advantages:\n",
    "### Enhanced performance by decreased development time\n",
    "### Simplified and streamlined program coding\n",
    "### Improvised GUI responsiveness\n",
    "### Simultaneous and parallelized occurrence of tasks\n",
    "### Better use of cache storage by utilization of resources\n",
    "### Decreased cost of maintenance\n",
    "### Better use of CPU resource"
   ]
  },
  {
   "cell_type": "markdown",
   "id": "c803c994-0991-46ba-8efa-da8641067aa2",
   "metadata": {},
   "source": [
    "### Disadvantages\n",
    "### Complex debugging and testing processes\n",
    "### Overhead switching of context\n",
    "### Increased potential for deadlock occurrence\n",
    "### Increased difficulty level in writing a program\n",
    "### Unpredictable results"
   ]
  },
  {
   "cell_type": "markdown",
   "id": "2ed9eafc-67e2-4219-be51-98923ed7f6ac",
   "metadata": {},
   "source": [
    "## 6. Explain deadlocks and race conditions."
   ]
  },
  {
   "cell_type": "markdown",
   "id": "5cdebe68-db2b-4c86-9978-c29eec665a69",
   "metadata": {},
   "source": [
    "###  When two processes are waiting for each other directly or indirectly, it is called deadlock.This usually occurs when two processes are waiting for shared resources acquired by others. For example, If thread T1 acquired resource R1 and it also needs resource R2 for it to accomplish its task. But the resource R2 is acquired by thread T2 which is waiting for resource R1(which is acquired by T1).. Neither of them will be able to accomplish its task, as they keep waiting for the other resources they need."
   ]
  },
  {
   "cell_type": "markdown",
   "id": "5a9c21c8-8981-4096-8ee5-27864ef2478b",
   "metadata": {},
   "source": [
    "### A race condition occurs when two threads use the same variable at a given time. Deadlock exists when two threads seek one lock simultaneously.This situation will stop both threads from processing or executing the functions. In racing, two tasks compete with each other and try to complete a task before each other."
   ]
  },
  {
   "cell_type": "code",
   "execution_count": null,
   "id": "71fc3aa3-9390-41e9-9847-5808a9ee4514",
   "metadata": {},
   "outputs": [],
   "source": []
  }
 ],
 "metadata": {
  "kernelspec": {
   "display_name": "Python 3 (ipykernel)",
   "language": "python",
   "name": "python3"
  },
  "language_info": {
   "codemirror_mode": {
    "name": "ipython",
    "version": 3
   },
   "file_extension": ".py",
   "mimetype": "text/x-python",
   "name": "python",
   "nbconvert_exporter": "python",
   "pygments_lexer": "ipython3",
   "version": "3.10.8"
  }
 },
 "nbformat": 4,
 "nbformat_minor": 5
}
