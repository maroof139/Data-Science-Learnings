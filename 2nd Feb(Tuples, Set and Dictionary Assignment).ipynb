{
 "cells": [
  {
   "cell_type": "markdown",
   "id": "60dad0b0-f92f-4104-94eb-bcbd4edd306b",
   "metadata": {},
   "source": [
    "## 1. What are the characteristics of the tuples? Is tuple immutable?"
   ]
  },
  {
   "cell_type": "markdown",
   "id": "50f282a9-ddeb-46e0-9ef9-806eca281eed",
   "metadata": {},
   "source": [
    "### Answer. Tuples are created in Python by placing a sequence of values separated by a 'comma', with or without the use of parenthesis for data grouping. Tuples can have any number of elements and any type of data (like strings, integers, lists, etc.). \n",
    "### They are indexed. \n",
    "### Tuples are ordered. \n",
    "### These are immutable. \n",
    "### They can contain duplicate items. \n",
    "### No, Tuples are immutable meaning it cannot be modified. "
   ]
  },
  {
   "cell_type": "markdown",
   "id": "e0fabd75-0200-4012-b9cd-95dd7cb6c857",
   "metadata": {},
   "source": [
    "## 2. What are the two tuple methods in python? Give an example of each method. Give a reason why tuples have only two in-built methods as compared to Lists."
   ]
  },
  {
   "cell_type": "markdown",
   "id": "50ad6b9f-2bd5-4bd0-85cf-ae1d3f6719cf",
   "metadata": {},
   "source": [
    "### Answer. index() :This method takes one argument and returns the index of the first appearance of an item in a tuple. Let’s take a new tuple. Here's an example :-"
   ]
  },
  {
   "cell_type": "code",
   "execution_count": 2,
   "id": "54a795c6-480f-429e-a8d1-2aef0c4d5182",
   "metadata": {},
   "outputs": [
    {
     "data": {
      "text/plain": [
       "4"
      ]
     },
     "execution_count": 2,
     "metadata": {},
     "output_type": "execute_result"
    }
   ],
   "source": [
    "t1=(1,1,2,3,56,6,6,4,2,2,6,7,\"Maroof\",45,45+6j)\n",
    "t1.index(56)"
   ]
  },
  {
   "cell_type": "markdown",
   "id": "b1f96734-aaa5-402c-b67c-ca73e982e0aa",
   "metadata": {},
   "source": [
    "### Count() :This method takes one argument and returns the number of times an item appears in the tuple. Here's an example :-"
   ]
  },
  {
   "cell_type": "code",
   "execution_count": 3,
   "id": "9a7e7227-2624-457a-920f-3a8d2effdd9d",
   "metadata": {},
   "outputs": [
    {
     "data": {
      "text/plain": [
       "3"
      ]
     },
     "execution_count": 3,
     "metadata": {},
     "output_type": "execute_result"
    }
   ],
   "source": [
    "t1.count(6)"
   ]
  },
  {
   "cell_type": "markdown",
   "id": "5084981f-333a-45d9-a474-7676b2d003e1",
   "metadata": {},
   "source": [
    "## 3. Which collection datatypes in python do not allow duplicate items? Write a code using a set to remove duplicates from the given list.List = [1, 1, 1, 2, 1, 3, 1, 4, 2, 1, 2, 2, 2, 3, 2, 4, 3, 1, 3, 2, 3, 3, 3, 4, 4, 1, 4, 2, 4, 3, 4, 4]"
   ]
  },
  {
   "cell_type": "markdown",
   "id": "c7d1b491-1d14-4058-954e-203135d8449c",
   "metadata": {},
   "source": [
    "### Answer. Sets are a collection that is unordered and unindexed. They are mutable (changeable) but do not allow duplicate values to be held. To remove duplicates from the given list"
   ]
  },
  {
   "cell_type": "code",
   "execution_count": 5,
   "id": "e5181d47-8f57-450b-8d4a-555ec952a5eb",
   "metadata": {},
   "outputs": [
    {
     "data": {
      "text/plain": [
       "list"
      ]
     },
     "execution_count": 5,
     "metadata": {},
     "output_type": "execute_result"
    }
   ],
   "source": [
    "lst = [1, 1, 1, 2, 1, 3, 1, 4, 2, 1, 2, 2, 2, 3, 2, 4, 3, 1, 3, 2, 3, 3, 3, 4, 4, 1, 4, 2, 4, 3, 4, 4]\n",
    "type(lst)"
   ]
  },
  {
   "cell_type": "code",
   "execution_count": 6,
   "id": "74df21af-e1da-4c94-bf6e-c5588c2249ea",
   "metadata": {},
   "outputs": [
    {
     "data": {
      "text/plain": [
       "{1, 2, 3, 4}"
      ]
     },
     "execution_count": 6,
     "metadata": {},
     "output_type": "execute_result"
    }
   ],
   "source": [
    "set(lst)"
   ]
  },
  {
   "cell_type": "markdown",
   "id": "db6d65a9-298a-414b-99b1-2afd6d85a919",
   "metadata": {},
   "source": [
    "## 4. Explain the difference between the union() and update() methods for a set. Give an example of each method."
   ]
  },
  {
   "cell_type": "markdown",
   "id": "de4f43ce-87d6-462b-b2c7-7f26df78bb60",
   "metadata": {},
   "source": [
    "### Answer. union Method():This method is used to return the union of a set and the set of elements from one or more iterable like string, list, set. This method takes arbitrary number of iterable objects as argument, which means one or more iterable can be passed. If iterable other than set is passed, it first converts the iterable object to set object and then perform the union operation. It returns a newly created set, which contains all the elements ( distinct ) present in all the iterables\n",
    "### Update Method(): This method is used to return the union of a set and the set of elements from one or more iterable like string, list, set. It is very similar to union() method, with difference is that where union() method create and return a new set, containing all the elements ( distinct ) present in all the iterables, update() method updates the set on which this method is called with all the distinct elements present in all the iterables. Example:"
   ]
  },
  {
   "cell_type": "code",
   "execution_count": 7,
   "id": "2624e5c9-e401-4c9c-b7ad-e5c24d226377",
   "metadata": {},
   "outputs": [
    {
     "name": "stdout",
     "output_type": "stream",
     "text": [
      "{'apple', 'google', 'banana', 'cherry', 'microsoft'}\n"
     ]
    }
   ],
   "source": [
    "x = {\"apple\", \"banana\", \"cherry\"}\n",
    "y = {\"google\", \"microsoft\", \"apple\"}\n",
    "z = x.union(y) \n",
    "print(z)"
   ]
  },
  {
   "cell_type": "code",
   "execution_count": 8,
   "id": "98c0c1f8-1133-4fdd-80b6-cb197da770e5",
   "metadata": {},
   "outputs": [
    {
     "name": "stdout",
     "output_type": "stream",
     "text": [
      "{'apple', 'google', 'banana', 'cherry', 'microsoft'}\n"
     ]
    }
   ],
   "source": [
    "x = {\"apple\", \"banana\", \"cherry\"}\n",
    "y = {\"google\", \"microsoft\", \"apple\"}\n",
    "x.update(y) \n",
    "print(x)"
   ]
  },
  {
   "cell_type": "markdown",
   "id": "a0d19cfd-a6cd-4861-a0ca-a44298ae08af",
   "metadata": {},
   "source": [
    "## 4. What is a dictionary? Give an example. Also, state whether a dictionary is ordered or unordered."
   ]
  },
  {
   "cell_type": "markdown",
   "id": "a33cb2e2-5550-4d8d-a5f6-e06bdadff406",
   "metadata": {},
   "source": [
    "### Answer. Dictionaries are used to store data values in key:value pairs. A dictionary is a collection which is ordered*, changeable and do not allow duplicates. Example : "
   ]
  },
  {
   "cell_type": "code",
   "execution_count": 9,
   "id": "39253c41-1be4-493e-b198-d6b4a77f3b4c",
   "metadata": {},
   "outputs": [
    {
     "data": {
      "text/plain": [
       "{'Batch_Name': ['DSM', 'Web Dev', 'JDS'],\n",
       " 'Start_Date': (28, 14, 21),\n",
       " 'Mentor_Name': {'Anurag',\n",
       "  'Haider',\n",
       "  'Hitesh',\n",
       "  'Krish Naik',\n",
       "  'Naveen',\n",
       "  'Sudhanshu'}}"
      ]
     },
     "execution_count": 9,
     "metadata": {},
     "output_type": "execute_result"
    }
   ],
   "source": [
    "d11={\"Batch_Name\":[\"DSM\",\"Web Dev\",\"JDS\"],\"Start_Date\":(28,14,21),\"Mentor_Name\":{\"Krish Naik\",\"Sudhanshu\",\"Anurag\",\"Naveen\",\"Hitesh\",\"Haider\"}}\n",
    "d11"
   ]
  },
  {
   "cell_type": "markdown",
   "id": "e7986882-630d-4045-8282-9e9a1826247b",
   "metadata": {},
   "source": [
    "## 6. Can we create a nested dictionary? If so, please give an example by creating a simple one-level nested dictionary."
   ]
  },
  {
   "cell_type": "markdown",
   "id": "e17e83de-bbaf-4bd9-baae-17b63ffbd3d0",
   "metadata": {},
   "source": [
    "### Answer. The dict() constructor is a built-in function in Python that allows you to create a dictionary. It can be used to create a nested dictionary by providing it with key-value pairs where the values are dictionaries themselves. Example :"
   ]
  },
  {
   "cell_type": "code",
   "execution_count": 10,
   "id": "003b5aca-868d-44b9-af9d-ecadfcaa5fdd",
   "metadata": {},
   "outputs": [
    {
     "name": "stdout",
     "output_type": "stream",
     "text": [
      "{'Py': {'year': 1991, 'creator': 'G. van Rossum'}, 'Java': {'year': 1995, 'creator': 'J. Gosling'}, 'C#': {'year': 2000, 'creator': 'Microsoft'}}\n"
     ]
    }
   ],
   "source": [
    "languages = {\n",
    "    \"Py\": {\n",
    "        \"year\": 1991,\n",
    "        \"creator\": \"G. van Rossum\",\n",
    "    },\n",
    "    \"Java\": {\n",
    "        \"year\": 1995,\n",
    "        \"creator\": \"J. Gosling\",\n",
    "    },\n",
    "    \"C#\": {\n",
    "        \"year\": 2000,\n",
    "        \"creator\": \"Microsoft\",\n",
    "    }\n",
    "}\n",
    "print(languages )"
   ]
  },
  {
   "cell_type": "markdown",
   "id": "95d37b47-3bae-4ee3-b14e-acc14977ac71",
   "metadata": {},
   "source": [
    "## 7. Using setdefault() method, create key named topics in the given dictionary and also add the value ofthe key as this list ['Python', 'Machine Learning’, 'Deep Learning']\n",
    "dict1 = {'language' : 'Python', 'course': 'Data Science Masters'}"
   ]
  },
  {
   "cell_type": "code",
   "execution_count": 6,
   "id": "78b31ff2-092e-48b5-a192-2b6fd5693a3e",
   "metadata": {},
   "outputs": [
    {
     "data": {
      "text/plain": [
       "{'language': 'Python',\n",
       " 'course': 'Data Science Masters',\n",
       " 'topics': ['Python', 'Machine Learning', 'Deep Learning']}"
      ]
     },
     "execution_count": 6,
     "metadata": {},
     "output_type": "execute_result"
    }
   ],
   "source": [
    "dict1 = {'language': 'Python', 'course': 'Data Science Masters'}\n",
    "dict1.setdefault('topics', ['Python', 'Machine Learning', 'Deep Learning'])\n",
    "dict1"
   ]
  },
  {
   "cell_type": "markdown",
   "id": "eecbc45b-eccc-4869-8aa6-8aaaa3a7b05b",
   "metadata": {},
   "source": [
    "## 8. What are the three view objects in dictionaries? Use the three in-built methods in python to display these three view objects for the given dictionary. \n",
    "## dict1 = {'Sport': 'Cricket' , 'Teams': ['India', 'Australia', 'England', 'South Africa', 'Sri Lanka', 'New Zealand']}"
   ]
  },
  {
   "cell_type": "markdown",
   "id": "8e602dca-6f69-4349-a25c-7e208f03c31d",
   "metadata": {},
   "source": [
    "### Answer. The three view objects in Dictionaries are Keys, Values and Items. To display the three view objects in dictionary, here's and example"
   ]
  },
  {
   "cell_type": "code",
   "execution_count": 7,
   "id": "14cff56b-33e4-47f2-9c87-2aa84029715e",
   "metadata": {},
   "outputs": [],
   "source": [
    "dict1 = {'Sport': 'Cricket' , 'Teams': ['India', 'Australia', 'England', 'South Africa', 'Sri Lanka', 'New Zealand']}"
   ]
  },
  {
   "cell_type": "code",
   "execution_count": 8,
   "id": "26a40ffa-c817-42c2-b8ff-a3d8434c901f",
   "metadata": {},
   "outputs": [
    {
     "data": {
      "text/plain": [
       "dict_keys(['Sport', 'Teams'])"
      ]
     },
     "execution_count": 8,
     "metadata": {},
     "output_type": "execute_result"
    }
   ],
   "source": [
    "dict1.keys()"
   ]
  },
  {
   "cell_type": "code",
   "execution_count": 9,
   "id": "20c44e2f-c22d-4675-8ace-5392f64d4ecd",
   "metadata": {},
   "outputs": [
    {
     "data": {
      "text/plain": [
       "dict_values(['Cricket', ['India', 'Australia', 'England', 'South Africa', 'Sri Lanka', 'New Zealand']])"
      ]
     },
     "execution_count": 9,
     "metadata": {},
     "output_type": "execute_result"
    }
   ],
   "source": [
    "dict1.values()"
   ]
  },
  {
   "cell_type": "code",
   "execution_count": 10,
   "id": "907aee96-f5f8-4dd9-aab3-1f48b3056e2b",
   "metadata": {},
   "outputs": [
    {
     "data": {
      "text/plain": [
       "dict_items([('Sport', 'Cricket'), ('Teams', ['India', 'Australia', 'England', 'South Africa', 'Sri Lanka', 'New Zealand'])])"
      ]
     },
     "execution_count": 10,
     "metadata": {},
     "output_type": "execute_result"
    }
   ],
   "source": [
    "dict1.items()"
   ]
  },
  {
   "cell_type": "code",
   "execution_count": null,
   "id": "d6e71d44-d0e2-4561-912e-521d28b9ed7d",
   "metadata": {},
   "outputs": [],
   "source": []
  }
 ],
 "metadata": {
  "kernelspec": {
   "display_name": "Python 3 (ipykernel)",
   "language": "python",
   "name": "python3"
  },
  "language_info": {
   "codemirror_mode": {
    "name": "ipython",
    "version": 3
   },
   "file_extension": ".py",
   "mimetype": "text/x-python",
   "name": "python",
   "nbconvert_exporter": "python",
   "pygments_lexer": "ipython3",
   "version": "3.10.8"
  }
 },
 "nbformat": 4,
 "nbformat_minor": 5
}
