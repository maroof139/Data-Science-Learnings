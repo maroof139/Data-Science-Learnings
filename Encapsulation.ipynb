{
 "cells": [
  {
   "cell_type": "code",
   "execution_count": 1,
   "id": "e94afb33-1052-4fa7-8285-03af10c2c5c1",
   "metadata": {},
   "outputs": [],
   "source": [
    "class test:\n",
    "    def __init__(self,a,b):\n",
    "        self.a=a\n",
    "        self.b=b"
   ]
  },
  {
   "cell_type": "code",
   "execution_count": 2,
   "id": "1d8d4047-4fd1-42ab-ab77-de0de46ee709",
   "metadata": {},
   "outputs": [],
   "source": [
    "t=test(45,56)"
   ]
  },
  {
   "cell_type": "code",
   "execution_count": 3,
   "id": "4cb6c3eb-52e4-4242-978e-e5ee468e5472",
   "metadata": {},
   "outputs": [
    {
     "data": {
      "text/plain": [
       "45"
      ]
     },
     "execution_count": 3,
     "metadata": {},
     "output_type": "execute_result"
    }
   ],
   "source": [
    "t.a"
   ]
  },
  {
   "cell_type": "code",
   "execution_count": 4,
   "id": "9a750970-3b86-4e44-b40b-07afc89c1f55",
   "metadata": {},
   "outputs": [
    {
     "data": {
      "text/plain": [
       "56"
      ]
     },
     "execution_count": 4,
     "metadata": {},
     "output_type": "execute_result"
    }
   ],
   "source": [
    "t.b"
   ]
  },
  {
   "cell_type": "code",
   "execution_count": 5,
   "id": "99b4b7e3-19f4-457f-8c69-4b5f28294bcb",
   "metadata": {},
   "outputs": [],
   "source": [
    "t.a=3245"
   ]
  },
  {
   "cell_type": "code",
   "execution_count": 6,
   "id": "fdad2f89-c86b-4682-b135-1b488097623e",
   "metadata": {},
   "outputs": [
    {
     "data": {
      "text/plain": [
       "3245"
      ]
     },
     "execution_count": 6,
     "metadata": {},
     "output_type": "execute_result"
    }
   ],
   "source": [
    "t.a"
   ]
  },
  {
   "cell_type": "code",
   "execution_count": 7,
   "id": "b907ae30-23a2-4a95-94db-e842f105751e",
   "metadata": {},
   "outputs": [],
   "source": [
    "class car:\n",
    "    def __init__(self,year,make,model,speed):\n",
    "        self.__year=year\n",
    "        self.__make=make\n",
    "        self.__model=model\n",
    "        self.__speed=0\n",
    "        \n",
    "    def set_speed(self,speed):\n",
    "            self.__speed=0 if speed < 0 else speed\n",
    "            \n",
    "    def get_speed(self):\n",
    "            return self.__speed"
   ]
  },
  {
   "cell_type": "code",
   "execution_count": 8,
   "id": "dc51fd1e-e63b-41fe-a643-ecae871fff77",
   "metadata": {},
   "outputs": [],
   "source": [
    "obj_car=car(2021,\"Toyota\",\"Innova\",12)"
   ]
  },
  {
   "cell_type": "code",
   "execution_count": 9,
   "id": "507a8d75-fe5c-4c1a-ae2a-e6d60a4ae5a0",
   "metadata": {},
   "outputs": [
    {
     "data": {
      "text/plain": [
       "2021"
      ]
     },
     "execution_count": 9,
     "metadata": {},
     "output_type": "execute_result"
    }
   ],
   "source": [
    "obj_car._car__year"
   ]
  },
  {
   "cell_type": "code",
   "execution_count": 10,
   "id": "57db7e67-bf8d-4b9e-a918-0896256abe4b",
   "metadata": {},
   "outputs": [],
   "source": [
    "obj_car._car__year=2023"
   ]
  },
  {
   "cell_type": "code",
   "execution_count": 11,
   "id": "eaadff1e-a1e0-4773-b416-9711bf2644c5",
   "metadata": {},
   "outputs": [
    {
     "data": {
      "text/plain": [
       "2023"
      ]
     },
     "execution_count": 11,
     "metadata": {},
     "output_type": "execute_result"
    }
   ],
   "source": [
    "obj_car._car__year"
   ]
  },
  {
   "cell_type": "code",
   "execution_count": 12,
   "id": "018cdc9b-e533-4804-91bd-1f272e5902a6",
   "metadata": {},
   "outputs": [
    {
     "data": {
      "text/plain": [
       "0"
      ]
     },
     "execution_count": 12,
     "metadata": {},
     "output_type": "execute_result"
    }
   ],
   "source": [
    "obj_car._car__speed"
   ]
  },
  {
   "cell_type": "code",
   "execution_count": 13,
   "id": "bc3a6799-3a8b-4b1b-ab83-bde187954ea2",
   "metadata": {},
   "outputs": [
    {
     "data": {
      "text/plain": [
       "0"
      ]
     },
     "execution_count": 13,
     "metadata": {},
     "output_type": "execute_result"
    }
   ],
   "source": [
    "obj_car._car__speed"
   ]
  },
  {
   "cell_type": "code",
   "execution_count": 14,
   "id": "5f031a3f-c263-4534-92a5-cc34c708b913",
   "metadata": {},
   "outputs": [],
   "source": [
    "obj_car.set_speed(-456)"
   ]
  },
  {
   "cell_type": "code",
   "execution_count": 15,
   "id": "53f1e375-5703-4a71-ae4f-d539b9ca0b1b",
   "metadata": {},
   "outputs": [
    {
     "data": {
      "text/plain": [
       "0"
      ]
     },
     "execution_count": 15,
     "metadata": {},
     "output_type": "execute_result"
    }
   ],
   "source": [
    "obj_car._car__speed"
   ]
  },
  {
   "cell_type": "code",
   "execution_count": 16,
   "id": "fbe2e3b1-30c1-4819-ad0e-dc7b6b28529c",
   "metadata": {},
   "outputs": [],
   "source": [
    "obj_car.set_speed(456)"
   ]
  },
  {
   "cell_type": "code",
   "execution_count": 17,
   "id": "9924daa3-ddd8-4db3-a0e9-4be00a347cdf",
   "metadata": {},
   "outputs": [
    {
     "data": {
      "text/plain": [
       "456"
      ]
     },
     "execution_count": 17,
     "metadata": {},
     "output_type": "execute_result"
    }
   ],
   "source": [
    "obj_car._car__speed"
   ]
  },
  {
   "cell_type": "code",
   "execution_count": 18,
   "id": "7eebf2fa-6f8b-4a4a-bd55-28972e8d6f0e",
   "metadata": {},
   "outputs": [
    {
     "data": {
      "text/plain": [
       "456"
      ]
     },
     "execution_count": 18,
     "metadata": {},
     "output_type": "execute_result"
    }
   ],
   "source": [
    "obj_car.get_speed()"
   ]
  },
  {
   "cell_type": "code",
   "execution_count": 39,
   "id": "c9e480ad-5b91-4051-953c-36d097a029c2",
   "metadata": {},
   "outputs": [],
   "source": [
    "class bank_account:\n",
    "    def __init__(self,balance):\n",
    "        self.__balance=balance\n",
    "    def deposit(self,amount):\n",
    "        self.__balance=self.__balance + amount\n",
    "    def withdraw(self,amount):\n",
    "        if self.__balance >= amount:\n",
    "            self.__balance=self.__balance-amount\n",
    "            return True\n",
    "        else:\n",
    "            return False\n",
    "    def get_balance(self):\n",
    "        return self.__balance"
   ]
  },
  {
   "cell_type": "code",
   "execution_count": 40,
   "id": "b99f55a1-c5f6-4235-8a3a-253aac86a18d",
   "metadata": {},
   "outputs": [],
   "source": [
    "obj_bank_acc=bank_account(1000)"
   ]
  },
  {
   "cell_type": "code",
   "execution_count": 41,
   "id": "c521923c-17f4-41b3-8bcf-0735c7047488",
   "metadata": {},
   "outputs": [
    {
     "data": {
      "text/plain": [
       "1000"
      ]
     },
     "execution_count": 41,
     "metadata": {},
     "output_type": "execute_result"
    }
   ],
   "source": [
    "obj_bank_acc.get_balance()"
   ]
  },
  {
   "cell_type": "code",
   "execution_count": 42,
   "id": "cc5bf723-a0e7-4562-80d7-c0d858aea8af",
   "metadata": {},
   "outputs": [],
   "source": [
    "obj_bank_acc.deposit(6000)"
   ]
  },
  {
   "cell_type": "code",
   "execution_count": 43,
   "id": "bb01322c-8fa5-458a-a7b2-541ac490d1be",
   "metadata": {},
   "outputs": [
    {
     "data": {
      "text/plain": [
       "7000"
      ]
     },
     "execution_count": 43,
     "metadata": {},
     "output_type": "execute_result"
    }
   ],
   "source": [
    "obj_bank_acc.get_balance()"
   ]
  },
  {
   "cell_type": "code",
   "execution_count": 44,
   "id": "096a4746-081b-44f1-826f-244397436e7e",
   "metadata": {},
   "outputs": [
    {
     "data": {
      "text/plain": [
       "False"
      ]
     },
     "execution_count": 44,
     "metadata": {},
     "output_type": "execute_result"
    }
   ],
   "source": [
    "obj_bank_acc.withdraw(8000)"
   ]
  },
  {
   "cell_type": "code",
   "execution_count": 45,
   "id": "06439bb2-ebab-4d4c-90f5-cd6c570a0cf9",
   "metadata": {},
   "outputs": [
    {
     "data": {
      "text/plain": [
       "7000"
      ]
     },
     "execution_count": 45,
     "metadata": {},
     "output_type": "execute_result"
    }
   ],
   "source": [
    "obj_bank_acc.get_balance()"
   ]
  },
  {
   "cell_type": "code",
   "execution_count": 46,
   "id": "fae5eaec-c5a4-4c17-a9cd-8c06dfef2560",
   "metadata": {},
   "outputs": [
    {
     "data": {
      "text/plain": [
       "True"
      ]
     },
     "execution_count": 46,
     "metadata": {},
     "output_type": "execute_result"
    }
   ],
   "source": [
    "obj_bank_acc.withdraw(2000)"
   ]
  },
  {
   "cell_type": "code",
   "execution_count": 47,
   "id": "304fe991-b5ad-49ea-9de0-18ff94db07d5",
   "metadata": {},
   "outputs": [
    {
     "data": {
      "text/plain": [
       "5000"
      ]
     },
     "execution_count": 47,
     "metadata": {},
     "output_type": "execute_result"
    }
   ],
   "source": [
    "obj_bank_acc.get_balance()"
   ]
  }
 ],
 "metadata": {
  "kernelspec": {
   "display_name": "Python 3 (ipykernel)",
   "language": "python",
   "name": "python3"
  },
  "language_info": {
   "codemirror_mode": {
    "name": "ipython",
    "version": 3
   },
   "file_extension": ".py",
   "mimetype": "text/x-python",
   "name": "python",
   "nbconvert_exporter": "python",
   "pygments_lexer": "ipython3",
   "version": "3.10.8"
  }
 },
 "nbformat": 4,
 "nbformat_minor": 5
}
