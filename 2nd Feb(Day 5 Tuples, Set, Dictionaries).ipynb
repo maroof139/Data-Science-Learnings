{
 "cells": [
  {
   "cell_type": "markdown",
   "id": "46d08f31-3e46-4c5a-a672-c03161634046",
   "metadata": {},
   "source": [
    "## Tuples ##"
   ]
  },
  {
   "cell_type": "code",
   "execution_count": 1,
   "id": "b9944c6d-1cb4-4a26-babc-d480734b863a",
   "metadata": {},
   "outputs": [
    {
     "data": {
      "text/plain": [
       "()"
      ]
     },
     "execution_count": 1,
     "metadata": {},
     "output_type": "execute_result"
    }
   ],
   "source": [
    "t=()\n",
    "t"
   ]
  },
  {
   "cell_type": "code",
   "execution_count": 2,
   "id": "496018ad-fd05-4e54-bdd7-d2625804fdb1",
   "metadata": {},
   "outputs": [
    {
     "data": {
      "text/plain": [
       "tuple"
      ]
     },
     "execution_count": 2,
     "metadata": {},
     "output_type": "execute_result"
    }
   ],
   "source": [
    "type(t)"
   ]
  },
  {
   "cell_type": "code",
   "execution_count": 5,
   "id": "57a916a4-067f-405a-a142-bfad7153fa12",
   "metadata": {},
   "outputs": [
    {
     "data": {
      "text/plain": [
       "tuple"
      ]
     },
     "execution_count": 5,
     "metadata": {},
     "output_type": "execute_result"
    }
   ],
   "source": [
    "t1=(1,2,3,4,5,45,45+4j,\"Maroof\",False)\n",
    "type(t1)"
   ]
  },
  {
   "cell_type": "code",
   "execution_count": 6,
   "id": "c6ec2d23-f837-4dfd-8421-146e67b23bb7",
   "metadata": {},
   "outputs": [
    {
     "data": {
      "text/plain": [
       "1"
      ]
     },
     "execution_count": 6,
     "metadata": {},
     "output_type": "execute_result"
    }
   ],
   "source": [
    "t1[0]"
   ]
  },
  {
   "cell_type": "code",
   "execution_count": 7,
   "id": "7eaa5fe3-b579-43f3-869a-2af3e723806a",
   "metadata": {},
   "outputs": [
    {
     "data": {
      "text/plain": [
       "'Maroof'"
      ]
     },
     "execution_count": 7,
     "metadata": {},
     "output_type": "execute_result"
    }
   ],
   "source": [
    "t1[7]"
   ]
  },
  {
   "cell_type": "code",
   "execution_count": 8,
   "id": "2333394a-e214-446d-aadc-3f5ed5005eeb",
   "metadata": {},
   "outputs": [
    {
     "data": {
      "text/plain": [
       "(45+4j)"
      ]
     },
     "execution_count": 8,
     "metadata": {},
     "output_type": "execute_result"
    }
   ],
   "source": [
    "t1[6]"
   ]
  },
  {
   "cell_type": "code",
   "execution_count": 9,
   "id": "39139ad8-94a2-48b7-9768-184440922c4c",
   "metadata": {},
   "outputs": [
    {
     "data": {
      "text/plain": [
       "(False, 'Maroof', (45+4j), 45, 5, 4, 3, 2, 1)"
      ]
     },
     "execution_count": 9,
     "metadata": {},
     "output_type": "execute_result"
    }
   ],
   "source": [
    "t1[::-1]"
   ]
  },
  {
   "cell_type": "code",
   "execution_count": 1,
   "id": "256dfd6f-6fc6-4108-a8fd-7a5cb64862aa",
   "metadata": {},
   "outputs": [
    {
     "data": {
      "text/plain": [
       "tuple"
      ]
     },
     "execution_count": 1,
     "metadata": {},
     "output_type": "execute_result"
    }
   ],
   "source": [
    "t1=(1,2,3,4,5,45,45+4j,\"Maroof\",False)\n",
    "type(t1)"
   ]
  },
  {
   "cell_type": "code",
   "execution_count": 2,
   "id": "9e552653-ac98-4cc4-9153-99019d4cecd0",
   "metadata": {},
   "outputs": [
    {
     "data": {
      "text/plain": [
       "(False, 'Maroof', (45+4j), 45, 5, 4, 3, 2, 1)"
      ]
     },
     "execution_count": 2,
     "metadata": {},
     "output_type": "execute_result"
    }
   ],
   "source": [
    "t1[::-1]"
   ]
  },
  {
   "cell_type": "code",
   "execution_count": 3,
   "id": "f6cc0586-dc93-4b55-a9bb-227e2a7888f2",
   "metadata": {},
   "outputs": [
    {
     "data": {
      "text/plain": [
       "(1, 2, 3)"
      ]
     },
     "execution_count": 3,
     "metadata": {},
     "output_type": "execute_result"
    }
   ],
   "source": [
    "t1[0:3]"
   ]
  },
  {
   "cell_type": "code",
   "execution_count": 4,
   "id": "560145e8-b0a1-4e1d-a8d9-81c5332f5199",
   "metadata": {},
   "outputs": [
    {
     "data": {
      "text/plain": [
       "1"
      ]
     },
     "execution_count": 4,
     "metadata": {},
     "output_type": "execute_result"
    }
   ],
   "source": [
    "t1.count(4)"
   ]
  },
  {
   "cell_type": "code",
   "execution_count": 5,
   "id": "d780653f-a51e-4f85-84ec-012831051035",
   "metadata": {},
   "outputs": [
    {
     "data": {
      "text/plain": [
       "0"
      ]
     },
     "execution_count": 5,
     "metadata": {},
     "output_type": "execute_result"
    }
   ],
   "source": [
    "t1.count(\"abc\")"
   ]
  },
  {
   "cell_type": "code",
   "execution_count": 12,
   "id": "5331d79b-faf0-4ce0-bfc1-0b3c709b7729",
   "metadata": {},
   "outputs": [],
   "source": [
    "t1=(True,\"Maroof\",45+7j,45,5,4,3,2,1)"
   ]
  },
  {
   "cell_type": "code",
   "execution_count": 13,
   "id": "748ab76c-76c6-4c56-b288-eee774d07471",
   "metadata": {},
   "outputs": [
    {
     "data": {
      "text/plain": [
       "(True, 'Maroof', (45+7j), 45, 5, 4, 3, 2, 1)"
      ]
     },
     "execution_count": 13,
     "metadata": {},
     "output_type": "execute_result"
    }
   ],
   "source": [
    "t1"
   ]
  },
  {
   "cell_type": "code",
   "execution_count": 8,
   "id": "7526ef43-8739-41e5-98d2-fb3c59ed8d05",
   "metadata": {},
   "outputs": [
    {
     "data": {
      "text/plain": [
       "8"
      ]
     },
     "execution_count": 8,
     "metadata": {},
     "output_type": "execute_result"
    }
   ],
   "source": [
    "t1.index(1)"
   ]
  },
  {
   "cell_type": "code",
   "execution_count": 10,
   "id": "d1eddc9c-43e4-44c5-8e26-478f487bacbb",
   "metadata": {},
   "outputs": [
    {
     "data": {
      "text/plain": [
       "1"
      ]
     },
     "execution_count": 10,
     "metadata": {},
     "output_type": "execute_result"
    }
   ],
   "source": [
    "t1.index(\"Maroof\")"
   ]
  },
  {
   "cell_type": "code",
   "execution_count": 14,
   "id": "9e475d32-30a1-4771-a4ef-490a50e18df6",
   "metadata": {},
   "outputs": [
    {
     "data": {
      "text/plain": [
       "2"
      ]
     },
     "execution_count": 14,
     "metadata": {},
     "output_type": "execute_result"
    }
   ],
   "source": [
    "t1.count(True)"
   ]
  },
  {
   "cell_type": "code",
   "execution_count": 15,
   "id": "5673d407-8856-49ed-b6f7-b2bce837a9bb",
   "metadata": {},
   "outputs": [
    {
     "data": {
      "text/plain": [
       "2"
      ]
     },
     "execution_count": 15,
     "metadata": {},
     "output_type": "execute_result"
    }
   ],
   "source": [
    "t1.count(1)"
   ]
  },
  {
   "cell_type": "code",
   "execution_count": 16,
   "id": "adf6c4f3-42fc-44c9-9a11-4ec9d28bff99",
   "metadata": {},
   "outputs": [],
   "source": [
    "lst=[1,2,3,4]"
   ]
  },
  {
   "cell_type": "code",
   "execution_count": 17,
   "id": "ac0c06a1-7c99-4852-83d1-9fb7d98afc4d",
   "metadata": {},
   "outputs": [
    {
     "data": {
      "text/plain": [
       "[1, 2, 3, 4]"
      ]
     },
     "execution_count": 17,
     "metadata": {},
     "output_type": "execute_result"
    }
   ],
   "source": [
    "lst"
   ]
  },
  {
   "cell_type": "code",
   "execution_count": 18,
   "id": "f51806d5-e8d9-4259-a766-df282353fa0c",
   "metadata": {},
   "outputs": [
    {
     "ename": "TypeError",
     "evalue": "'tuple' object does not support item assignment",
     "output_type": "error",
     "traceback": [
      "\u001b[0;31m---------------------------------------------------------------------------\u001b[0m",
      "\u001b[0;31mTypeError\u001b[0m                                 Traceback (most recent call last)",
      "Cell \u001b[0;32mIn[18], line 1\u001b[0m\n\u001b[0;32m----> 1\u001b[0m \u001b[43mt1\u001b[49m\u001b[43m[\u001b[49m\u001b[38;5;241;43m0\u001b[39;49m\u001b[43m]\u001b[49m\u001b[38;5;241m=\u001b[39m\u001b[38;5;241m12\u001b[39m\n",
      "\u001b[0;31mTypeError\u001b[0m: 'tuple' object does not support item assignment"
     ]
    }
   ],
   "source": [
    "t1[0]=12"
   ]
  },
  {
   "cell_type": "code",
   "execution_count": 19,
   "id": "4b19ce20-53ed-4e63-815c-0dc1304b2e72",
   "metadata": {},
   "outputs": [],
   "source": [
    "lst[0]=15"
   ]
  },
  {
   "cell_type": "code",
   "execution_count": 20,
   "id": "ca8be58b-f0b2-44cc-926b-bdc7dddd9438",
   "metadata": {},
   "outputs": [
    {
     "data": {
      "text/plain": [
       "[15, 2, 3, 4]"
      ]
     },
     "execution_count": 20,
     "metadata": {},
     "output_type": "execute_result"
    }
   ],
   "source": [
    "lst"
   ]
  },
  {
   "cell_type": "code",
   "execution_count": 2,
   "id": "0dc751e0-7b7f-4371-8a0f-1c52d8f84c17",
   "metadata": {},
   "outputs": [
    {
     "name": "stdout",
     "output_type": "stream",
     "text": [
      "True\n",
      "Maroof\n",
      "(45+7j)\n",
      "45\n",
      "5\n",
      "4\n",
      "3\n",
      "2\n",
      "1\n"
     ]
    }
   ],
   "source": [
    "t1=(True,\"Maroof\",45+7j,45,5,4,3,2,1)\n",
    "for i in t1:\n",
    "    print(i)"
   ]
  },
  {
   "cell_type": "code",
   "execution_count": 3,
   "id": "419c9ae4-c6dd-4000-93c6-2c274388f0c4",
   "metadata": {},
   "outputs": [
    {
     "name": "stdout",
     "output_type": "stream",
     "text": [
      "True <class 'bool'>\n",
      "Maroof <class 'str'>\n",
      "(45+7j) <class 'complex'>\n",
      "45 <class 'int'>\n",
      "5 <class 'int'>\n",
      "4 <class 'int'>\n",
      "3 <class 'int'>\n",
      "2 <class 'int'>\n",
      "1 <class 'int'>\n"
     ]
    }
   ],
   "source": [
    "for i in t1:\n",
    "    print(i,type(i))"
   ]
  },
  {
   "cell_type": "code",
   "execution_count": 4,
   "id": "cb3d1b8b-b736-4fea-8fe3-c30bda7d928a",
   "metadata": {},
   "outputs": [
    {
     "data": {
      "text/plain": [
       "(1, 2, 3, 4, 1, 2, 3, 4, 1, 2, 3, 4)"
      ]
     },
     "execution_count": 4,
     "metadata": {},
     "output_type": "execute_result"
    }
   ],
   "source": [
    "t2=(1,2,3,4)\n",
    "t2*3"
   ]
  },
  {
   "cell_type": "code",
   "execution_count": 5,
   "id": "fa11686e-dd45-440c-8ae1-3163111f371f",
   "metadata": {},
   "outputs": [
    {
     "data": {
      "text/plain": [
       "4"
      ]
     },
     "execution_count": 5,
     "metadata": {},
     "output_type": "execute_result"
    }
   ],
   "source": [
    "max(t2)"
   ]
  },
  {
   "cell_type": "code",
   "execution_count": 6,
   "id": "6a15b6d5-aa81-4432-beaa-5f62b40040d3",
   "metadata": {},
   "outputs": [
    {
     "data": {
      "text/plain": [
       "1"
      ]
     },
     "execution_count": 6,
     "metadata": {},
     "output_type": "execute_result"
    }
   ],
   "source": [
    "min(t2)"
   ]
  },
  {
   "cell_type": "code",
   "execution_count": 7,
   "id": "56da82a3-c453-4915-a611-02f38885501b",
   "metadata": {},
   "outputs": [],
   "source": [
    "t1=(1,2,3,4)\n",
    "t2=(4,5,6,7,8)\n",
    "t3=(t1,t2)"
   ]
  },
  {
   "cell_type": "code",
   "execution_count": 8,
   "id": "1ded11f7-b22b-4677-b374-35adf552d2da",
   "metadata": {},
   "outputs": [
    {
     "data": {
      "text/plain": [
       "((1, 2, 3, 4), (4, 5, 6, 7, 8))"
      ]
     },
     "execution_count": 8,
     "metadata": {},
     "output_type": "execute_result"
    }
   ],
   "source": [
    "t3"
   ]
  },
  {
   "cell_type": "code",
   "execution_count": 9,
   "id": "31fbc14a-22e5-4de4-9728-3fae0aefc3b6",
   "metadata": {},
   "outputs": [],
   "source": [
    "t4=((1,2,3,4),[5,6,7,8])"
   ]
  },
  {
   "cell_type": "code",
   "execution_count": 10,
   "id": "22fb9205-da81-4d30-ad12-dd8595fc5240",
   "metadata": {},
   "outputs": [
    {
     "data": {
      "text/plain": [
       "((1, 2, 3, 4), [5, 6, 7, 8])"
      ]
     },
     "execution_count": 10,
     "metadata": {},
     "output_type": "execute_result"
    }
   ],
   "source": [
    "t4"
   ]
  },
  {
   "cell_type": "code",
   "execution_count": 11,
   "id": "2d493510-c707-4897-b4dc-1e60d0e6c4bd",
   "metadata": {},
   "outputs": [],
   "source": [
    "del t4"
   ]
  },
  {
   "cell_type": "code",
   "execution_count": 12,
   "id": "30a4d6cb-985e-4374-8e61-05903c2be6b4",
   "metadata": {},
   "outputs": [
    {
     "ename": "NameError",
     "evalue": "name 't4' is not defined",
     "output_type": "error",
     "traceback": [
      "\u001b[0;31m---------------------------------------------------------------------------\u001b[0m",
      "\u001b[0;31mNameError\u001b[0m                                 Traceback (most recent call last)",
      "Cell \u001b[0;32mIn[12], line 1\u001b[0m\n\u001b[0;32m----> 1\u001b[0m \u001b[43mt4\u001b[49m\n",
      "\u001b[0;31mNameError\u001b[0m: name 't4' is not defined"
     ]
    }
   ],
   "source": [
    "t4"
   ]
  },
  {
   "cell_type": "code",
   "execution_count": 13,
   "id": "e7fa506d-08ab-4c07-b889-c72dfdfdcabc",
   "metadata": {},
   "outputs": [
    {
     "data": {
      "text/plain": [
       "(1, 2, 3, 4)"
      ]
     },
     "execution_count": 13,
     "metadata": {},
     "output_type": "execute_result"
    }
   ],
   "source": [
    "t1"
   ]
  },
  {
   "cell_type": "code",
   "execution_count": 14,
   "id": "63ec1601-40a7-409c-9770-74374aa3e17f",
   "metadata": {},
   "outputs": [
    {
     "data": {
      "text/plain": [
       "4"
      ]
     },
     "execution_count": 14,
     "metadata": {},
     "output_type": "execute_result"
    }
   ],
   "source": [
    "len(t1)"
   ]
  },
  {
   "cell_type": "code",
   "execution_count": 15,
   "id": "4a8d8177-3e9e-4234-bc7b-cdb45629d2b8",
   "metadata": {},
   "outputs": [
    {
     "ename": "AttributeError",
     "evalue": "'tuple' object has no attribute 'len'",
     "output_type": "error",
     "traceback": [
      "\u001b[0;31m---------------------------------------------------------------------------\u001b[0m",
      "\u001b[0;31mAttributeError\u001b[0m                            Traceback (most recent call last)",
      "Cell \u001b[0;32mIn[15], line 1\u001b[0m\n\u001b[0;32m----> 1\u001b[0m \u001b[43mt1\u001b[49m\u001b[38;5;241;43m.\u001b[39;49m\u001b[43mlen\u001b[49m()\n",
      "\u001b[0;31mAttributeError\u001b[0m: 'tuple' object has no attribute 'len'"
     ]
    }
   ],
   "source": [
    "t1.len()"
   ]
  },
  {
   "cell_type": "code",
   "execution_count": 16,
   "id": "e42cd17d-c0a4-4c9b-ab1a-97283fff5de4",
   "metadata": {},
   "outputs": [
    {
     "data": {
      "text/plain": [
       "False"
      ]
     },
     "execution_count": 16,
     "metadata": {},
     "output_type": "execute_result"
    }
   ],
   "source": [
    "\"Maroof\" in t1"
   ]
  },
  {
   "cell_type": "code",
   "execution_count": 17,
   "id": "806456a7-805e-4c92-90ed-563b13ec5db7",
   "metadata": {},
   "outputs": [
    {
     "data": {
      "text/plain": [
       "True"
      ]
     },
     "execution_count": 17,
     "metadata": {},
     "output_type": "execute_result"
    }
   ],
   "source": [
    "2 in t1"
   ]
  },
  {
   "cell_type": "markdown",
   "id": "cbabfaf4-7d2e-45e6-a57e-dac9957c8f71",
   "metadata": {},
   "source": [
    "## Sets "
   ]
  },
  {
   "cell_type": "code",
   "execution_count": 19,
   "id": "b22b59dd-63fc-4bf5-9cea-1565997c04d4",
   "metadata": {},
   "outputs": [],
   "source": [
    "s={}"
   ]
  },
  {
   "cell_type": "code",
   "execution_count": 20,
   "id": "37d2ed52-e5fd-4860-b5a5-5d1d021ef14c",
   "metadata": {},
   "outputs": [
    {
     "data": {
      "text/plain": [
       "dict"
      ]
     },
     "execution_count": 20,
     "metadata": {},
     "output_type": "execute_result"
    }
   ],
   "source": [
    "type(s)"
   ]
  },
  {
   "cell_type": "code",
   "execution_count": 21,
   "id": "84fd4ec4-0121-4ab1-99fd-5c42077f7989",
   "metadata": {},
   "outputs": [
    {
     "data": {
      "text/plain": [
       "set"
      ]
     },
     "execution_count": 21,
     "metadata": {},
     "output_type": "execute_result"
    }
   ],
   "source": [
    "s={1,2,3,4,5}\n",
    "type(s)"
   ]
  },
  {
   "cell_type": "code",
   "execution_count": 1,
   "id": "ee2e3bbf-dfbf-4912-9652-c225482243cb",
   "metadata": {},
   "outputs": [],
   "source": [
    "s2={1,1,1,2,2,2,2,3,3,3,3,4,4,4,4,5,5,55,67,32,32,45,45,523,6,67}"
   ]
  },
  {
   "cell_type": "code",
   "execution_count": 2,
   "id": "a5adddce-4fcf-427d-9119-6361c0945be2",
   "metadata": {},
   "outputs": [
    {
     "data": {
      "text/plain": [
       "{1, 2, 3, 4, 5, 6, 32, 45, 55, 67, 523}"
      ]
     },
     "execution_count": 2,
     "metadata": {},
     "output_type": "execute_result"
    }
   ],
   "source": [
    "s2"
   ]
  },
  {
   "cell_type": "code",
   "execution_count": 5,
   "id": "845c3e9a-3694-430a-b164-b7de85195305",
   "metadata": {},
   "outputs": [],
   "source": [
    "lst=list(s2)"
   ]
  },
  {
   "cell_type": "code",
   "execution_count": 6,
   "id": "d14104b5-10d7-4e83-aee8-dcac5f49bca6",
   "metadata": {},
   "outputs": [
    {
     "data": {
      "text/plain": [
       "[32, 1, 2, 3, 4, 5, 67, 6, 523, 45, 55]"
      ]
     },
     "execution_count": 6,
     "metadata": {},
     "output_type": "execute_result"
    }
   ],
   "source": [
    "lst"
   ]
  },
  {
   "cell_type": "code",
   "execution_count": 9,
   "id": "29fdc64b-5c82-44a1-9b49-6014cd95203c",
   "metadata": {},
   "outputs": [
    {
     "data": {
      "text/plain": [
       "(32, 1, 2, 3, 4, 5, 67, 6, 523, 45, 55)"
      ]
     },
     "execution_count": 9,
     "metadata": {},
     "output_type": "execute_result"
    }
   ],
   "source": [
    "tuple(lst)"
   ]
  },
  {
   "cell_type": "code",
   "execution_count": 10,
   "id": "e9f1462e-fdc2-4a81-a407-fb92ea81ff97",
   "metadata": {},
   "outputs": [
    {
     "data": {
      "text/plain": [
       "list"
      ]
     },
     "execution_count": 10,
     "metadata": {},
     "output_type": "execute_result"
    }
   ],
   "source": [
    "type(lst)"
   ]
  },
  {
   "cell_type": "code",
   "execution_count": 11,
   "id": "3cffb882-fc1e-450b-9785-a644abcc71c3",
   "metadata": {},
   "outputs": [
    {
     "data": {
      "text/plain": [
       "{1, 2, 3, 4, 5, 6, 32, 45, 55, 67, 523}"
      ]
     },
     "execution_count": 11,
     "metadata": {},
     "output_type": "execute_result"
    }
   ],
   "source": [
    "set(lst)"
   ]
  },
  {
   "cell_type": "code",
   "execution_count": 13,
   "id": "94bc641c-6f05-4e8a-bbff-093be635ca1e",
   "metadata": {},
   "outputs": [
    {
     "ename": "TypeError",
     "evalue": "unhashable type: 'list'",
     "output_type": "error",
     "traceback": [
      "\u001b[0;31m---------------------------------------------------------------------------\u001b[0m",
      "\u001b[0;31mTypeError\u001b[0m                                 Traceback (most recent call last)",
      "Cell \u001b[0;32mIn[13], line 1\u001b[0m\n\u001b[0;32m----> 1\u001b[0m s3\u001b[38;5;241m=\u001b[39m{\u001b[38;5;241m1\u001b[39m,\u001b[38;5;241m2\u001b[39m,\u001b[38;5;241m3\u001b[39m,\u001b[38;5;241m4\u001b[39m,[\u001b[38;5;241m1\u001b[39m,\u001b[38;5;241m2\u001b[39m,\u001b[38;5;241m3\u001b[39m,\u001b[38;5;241m4\u001b[39m]}\n",
      "\u001b[0;31mTypeError\u001b[0m: unhashable type: 'list'"
     ]
    }
   ],
   "source": [
    "s3={1,2,3,4,[1,2,3,4]}"
   ]
  },
  {
   "cell_type": "code",
   "execution_count": 14,
   "id": "6cbde4b9-ab65-4f9c-bd83-181885b63c5b",
   "metadata": {},
   "outputs": [],
   "source": [
    "s4={1,2,3,4,(1,2,3,4)}"
   ]
  },
  {
   "cell_type": "code",
   "execution_count": 15,
   "id": "ae894731-2fdc-458a-9d14-6ad0f1b13b89",
   "metadata": {},
   "outputs": [
    {
     "data": {
      "text/plain": [
       "{(1, 2, 3, 4), 1, 2, 3, 4}"
      ]
     },
     "execution_count": 15,
     "metadata": {},
     "output_type": "execute_result"
    }
   ],
   "source": [
    "s4"
   ]
  },
  {
   "cell_type": "code",
   "execution_count": 16,
   "id": "a67ea7bd-6962-42d9-856e-2931b3ec3bd4",
   "metadata": {},
   "outputs": [
    {
     "data": {
      "text/plain": [
       "{2, 3, 4, 'Maroof', 'maroof'}"
      ]
     },
     "execution_count": 16,
     "metadata": {},
     "output_type": "execute_result"
    }
   ],
   "source": [
    "s5={\"Maroof\",\"maroof\",2,3,4}\n",
    "s5"
   ]
  },
  {
   "cell_type": "code",
   "execution_count": 18,
   "id": "bd3259ad-bbe1-4bec-ac03-a45d4ddd13b3",
   "metadata": {},
   "outputs": [
    {
     "data": {
      "text/plain": [
       "{2, 3, 4, 'maroof'}"
      ]
     },
     "execution_count": 18,
     "metadata": {},
     "output_type": "execute_result"
    }
   ],
   "source": [
    "s6={\"maroof\",\"maroof\",2,3,4}\n",
    "s6"
   ]
  },
  {
   "cell_type": "code",
   "execution_count": 19,
   "id": "48b53bf7-7897-418a-b422-25bc81ce5c69",
   "metadata": {},
   "outputs": [
    {
     "data": {
      "text/plain": [
       "{2, 3, 4, 'maroof'}"
      ]
     },
     "execution_count": 19,
     "metadata": {},
     "output_type": "execute_result"
    }
   ],
   "source": [
    "s6"
   ]
  },
  {
   "cell_type": "code",
   "execution_count": 20,
   "id": "dacb5261-c5d1-4b2d-ba3e-9f3be308d170",
   "metadata": {},
   "outputs": [
    {
     "ename": "TypeError",
     "evalue": "'set' object is not subscriptable",
     "output_type": "error",
     "traceback": [
      "\u001b[0;31m---------------------------------------------------------------------------\u001b[0m",
      "\u001b[0;31mTypeError\u001b[0m                                 Traceback (most recent call last)",
      "Cell \u001b[0;32mIn[20], line 1\u001b[0m\n\u001b[0;32m----> 1\u001b[0m \u001b[43ms6\u001b[49m\u001b[43m[\u001b[49m\u001b[38;5;241;43m0\u001b[39;49m\u001b[43m]\u001b[49m\n",
      "\u001b[0;31mTypeError\u001b[0m: 'set' object is not subscriptable"
     ]
    }
   ],
   "source": [
    "s6[0]"
   ]
  },
  {
   "cell_type": "code",
   "execution_count": 21,
   "id": "b702d395-f06d-4641-9925-5c6524b9ae92",
   "metadata": {},
   "outputs": [
    {
     "ename": "TypeError",
     "evalue": "'set' object is not subscriptable",
     "output_type": "error",
     "traceback": [
      "\u001b[0;31m---------------------------------------------------------------------------\u001b[0m",
      "\u001b[0;31mTypeError\u001b[0m                                 Traceback (most recent call last)",
      "Cell \u001b[0;32mIn[21], line 1\u001b[0m\n\u001b[0;32m----> 1\u001b[0m \u001b[43ms6\u001b[49m\u001b[43m[\u001b[49m\u001b[43m:\u001b[49m\u001b[43m:\u001b[49m\u001b[38;5;241;43m-\u001b[39;49m\u001b[38;5;241;43m1\u001b[39;49m\u001b[43m]\u001b[49m\n",
      "\u001b[0;31mTypeError\u001b[0m: 'set' object is not subscriptable"
     ]
    }
   ],
   "source": [
    "s6[::-1]"
   ]
  },
  {
   "cell_type": "code",
   "execution_count": 22,
   "id": "05216826-a1cc-4cb8-8101-23ec05707086",
   "metadata": {},
   "outputs": [
    {
     "name": "stdout",
     "output_type": "stream",
     "text": [
      "2\n",
      "3\n",
      "maroof\n",
      "4\n"
     ]
    }
   ],
   "source": [
    "for i in s6:\n",
    "    print(i)"
   ]
  },
  {
   "cell_type": "code",
   "execution_count": 23,
   "id": "16ae0b85-446e-4ee2-a7f5-cc0dec4a89d5",
   "metadata": {},
   "outputs": [
    {
     "data": {
      "text/plain": [
       "{2, 3, 34, 4, 'maroof'}"
      ]
     },
     "execution_count": 23,
     "metadata": {},
     "output_type": "execute_result"
    }
   ],
   "source": [
    "s6.add(34)\n",
    "s6"
   ]
  },
  {
   "cell_type": "code",
   "execution_count": 24,
   "id": "511f7167-424a-467f-9cf0-4b8f4ff651c9",
   "metadata": {},
   "outputs": [
    {
     "data": {
      "text/plain": [
       "{2, 3, 34, 4, 'maroof'}"
      ]
     },
     "execution_count": 24,
     "metadata": {},
     "output_type": "execute_result"
    }
   ],
   "source": [
    "s6.add(2)\n",
    "s6"
   ]
  },
  {
   "cell_type": "code",
   "execution_count": 26,
   "id": "f7c5d48e-9324-4bf1-8792-132c5c6cd8df",
   "metadata": {},
   "outputs": [
    {
     "data": {
      "text/plain": [
       "5"
      ]
     },
     "execution_count": 26,
     "metadata": {},
     "output_type": "execute_result"
    }
   ],
   "source": [
    "len(s6)"
   ]
  },
  {
   "cell_type": "code",
   "execution_count": 27,
   "id": "474bb80f-d19c-4001-b7ef-a5f9727a362b",
   "metadata": {},
   "outputs": [],
   "source": [
    "s6.add(7)"
   ]
  },
  {
   "cell_type": "code",
   "execution_count": 28,
   "id": "fcc410a7-0f6b-4418-bd5b-0def328a4b5a",
   "metadata": {},
   "outputs": [
    {
     "data": {
      "text/plain": [
       "{2, 3, 34, 4, 7, 'maroof'}"
      ]
     },
     "execution_count": 28,
     "metadata": {},
     "output_type": "execute_result"
    }
   ],
   "source": [
    "s6"
   ]
  },
  {
   "cell_type": "code",
   "execution_count": 29,
   "id": "7c5eb259-019c-41d4-9784-fa67631b14ae",
   "metadata": {},
   "outputs": [
    {
     "data": {
      "text/plain": [
       "6"
      ]
     },
     "execution_count": 29,
     "metadata": {},
     "output_type": "execute_result"
    }
   ],
   "source": [
    "len(s6)"
   ]
  },
  {
   "cell_type": "code",
   "execution_count": 30,
   "id": "c0c70fa3-0133-4d94-9999-332ffc32fd03",
   "metadata": {},
   "outputs": [
    {
     "data": {
      "text/plain": [
       "34"
      ]
     },
     "execution_count": 30,
     "metadata": {},
     "output_type": "execute_result"
    }
   ],
   "source": [
    "s6.pop()"
   ]
  },
  {
   "cell_type": "code",
   "execution_count": 31,
   "id": "b61cb1b4-d063-41bf-8162-ad213c7a10af",
   "metadata": {},
   "outputs": [
    {
     "data": {
      "text/plain": [
       "2"
      ]
     },
     "execution_count": 31,
     "metadata": {},
     "output_type": "execute_result"
    }
   ],
   "source": [
    "s6.pop()"
   ]
  },
  {
   "cell_type": "code",
   "execution_count": 32,
   "id": "642062fa-91eb-4b33-b828-b4ae5b4ad07e",
   "metadata": {},
   "outputs": [
    {
     "data": {
      "text/plain": [
       "3"
      ]
     },
     "execution_count": 32,
     "metadata": {},
     "output_type": "execute_result"
    }
   ],
   "source": [
    "s6.pop()"
   ]
  },
  {
   "cell_type": "code",
   "execution_count": 33,
   "id": "36328b04-ae8b-4385-b314-636751b24f82",
   "metadata": {},
   "outputs": [
    {
     "data": {
      "text/plain": [
       "4"
      ]
     },
     "execution_count": 33,
     "metadata": {},
     "output_type": "execute_result"
    }
   ],
   "source": [
    "s6.pop()"
   ]
  },
  {
   "cell_type": "code",
   "execution_count": 34,
   "id": "1eff7e0d-f26b-4f6e-abd1-84b1414417f6",
   "metadata": {},
   "outputs": [
    {
     "data": {
      "text/plain": [
       "{7, 'maroof'}"
      ]
     },
     "execution_count": 34,
     "metadata": {},
     "output_type": "execute_result"
    }
   ],
   "source": [
    "s6"
   ]
  },
  {
   "cell_type": "code",
   "execution_count": 35,
   "id": "958dd179-9f68-433d-bd5f-3ec83a8cf6a0",
   "metadata": {},
   "outputs": [
    {
     "data": {
      "text/plain": [
       "set()"
      ]
     },
     "execution_count": 35,
     "metadata": {},
     "output_type": "execute_result"
    }
   ],
   "source": [
    "s6.clear()\n",
    "s6"
   ]
  },
  {
   "cell_type": "code",
   "execution_count": 2,
   "id": "54a15ced-30c4-4ba1-bd87-01491b39f1e5",
   "metadata": {},
   "outputs": [
    {
     "data": {
      "text/plain": [
       "{4}"
      ]
     },
     "execution_count": 2,
     "metadata": {},
     "output_type": "execute_result"
    }
   ],
   "source": [
    "s8={1,2,3,4}\n",
    "s9={1,2,3,5}\n",
    "s8.difference(s9)"
   ]
  },
  {
   "cell_type": "code",
   "execution_count": 7,
   "id": "2b44f7bf-a542-465f-aaf5-89c88ce70f12",
   "metadata": {},
   "outputs": [
    {
     "data": {
      "text/plain": [
       "set()"
      ]
     },
     "execution_count": 7,
     "metadata": {},
     "output_type": "execute_result"
    }
   ],
   "source": [
    "s9.difference(s8)"
   ]
  },
  {
   "cell_type": "code",
   "execution_count": 38,
   "id": "fb63d8ca-caae-47c4-8e62-678b90296dc5",
   "metadata": {},
   "outputs": [
    {
     "data": {
      "text/plain": [
       "{1, 2, 3, 4, 5}"
      ]
     },
     "execution_count": 38,
     "metadata": {},
     "output_type": "execute_result"
    }
   ],
   "source": [
    "s8.union(s9)"
   ]
  },
  {
   "cell_type": "code",
   "execution_count": 8,
   "id": "5c5f3984-40ed-4b71-9339-03313e28aa13",
   "metadata": {},
   "outputs": [],
   "source": [
    "s8.update(s9)"
   ]
  },
  {
   "cell_type": "markdown",
   "id": "7f33b001-4b03-477b-a982-946dbf700b2d",
   "metadata": {},
   "source": [
    "## Dictionary"
   ]
  },
  {
   "cell_type": "code",
   "execution_count": 45,
   "id": "1cfbc4e2-8cf8-46c1-9a4f-3b8acd12b6a5",
   "metadata": {},
   "outputs": [],
   "source": [
    "d={}"
   ]
  },
  {
   "cell_type": "code",
   "execution_count": 2,
   "id": "86bf9221-8c1c-416f-9f4b-be61b403351f",
   "metadata": {},
   "outputs": [
    {
     "data": {
      "text/plain": [
       "dict"
      ]
     },
     "execution_count": 2,
     "metadata": {},
     "output_type": "execute_result"
    }
   ],
   "source": [
    "type(d)"
   ]
  },
  {
   "cell_type": "code",
   "execution_count": 5,
   "id": "4b476f0d-c15b-4ec6-8d2a-f3f44e3ac566",
   "metadata": {},
   "outputs": [],
   "source": [
    "d1={\"name\":\"Maroof\",\"email\":\"maroof@gmail.com\",\"number\":2345678}"
   ]
  },
  {
   "cell_type": "code",
   "execution_count": 6,
   "id": "3f3c9ef1-07ce-4f29-aad7-92b16d6520ea",
   "metadata": {},
   "outputs": [
    {
     "data": {
      "text/plain": [
       "{'name': 'Maroof', 'email': 'maroof@gmail.com', 'number': 2345678}"
      ]
     },
     "execution_count": 6,
     "metadata": {},
     "output_type": "execute_result"
    }
   ],
   "source": [
    "d1"
   ]
  },
  {
   "cell_type": "code",
   "execution_count": 7,
   "id": "2cf2d631-1c86-4490-9f28-cf48d003e8e6",
   "metadata": {},
   "outputs": [
    {
     "data": {
      "text/plain": [
       "{'name': 'maroof'}"
      ]
     },
     "execution_count": 7,
     "metadata": {},
     "output_type": "execute_result"
    }
   ],
   "source": [
    "d2={\"name\":\"mar\",\"name\":\"maroof\"}\n",
    "d2"
   ]
  },
  {
   "cell_type": "code",
   "execution_count": 9,
   "id": "5b47d6e2-7eca-482e-a904-4ab97cbdfbc6",
   "metadata": {},
   "outputs": [
    {
     "data": {
      "text/plain": [
       "{'name': 'abcd'}"
      ]
     },
     "execution_count": 9,
     "metadata": {},
     "output_type": "execute_result"
    }
   ],
   "source": [
    "d02={\"name\":\"mar\",\"name\":\"abcd\"}\n",
    "d02"
   ]
  },
  {
   "cell_type": "code",
   "execution_count": 10,
   "id": "d3b6e64b-adf6-4af6-b821-624b180744d8",
   "metadata": {},
   "outputs": [
    {
     "data": {
      "text/plain": [
       "{123: 'maroof'}"
      ]
     },
     "execution_count": 10,
     "metadata": {},
     "output_type": "execute_result"
    }
   ],
   "source": [
    "d3={123:\"maroof\"}\n",
    "d3"
   ]
  },
  {
   "cell_type": "code",
   "execution_count": 1,
   "id": "c3b679d4-e792-4c5d-b4bd-0ec959f3f9b1",
   "metadata": {},
   "outputs": [
    {
     "data": {
      "text/plain": [
       "{12.05: 'Maroof'}"
      ]
     },
     "execution_count": 1,
     "metadata": {},
     "output_type": "execute_result"
    }
   ],
   "source": [
    "d4={12.05:\"Maroof\"}\n",
    "d4"
   ]
  },
  {
   "cell_type": "code",
   "execution_count": 2,
   "id": "d5c8f39c-e1d6-4c13-b1a6-154bb0fb958f",
   "metadata": {},
   "outputs": [
    {
     "data": {
      "text/plain": [
       "{True: 'abc'}"
      ]
     },
     "execution_count": 2,
     "metadata": {},
     "output_type": "execute_result"
    }
   ],
   "source": [
    "d5={True:\"abc\"}\n",
    "d5"
   ]
  },
  {
   "cell_type": "code",
   "execution_count": 3,
   "id": "42362b8c-c581-4548-8fd7-cf82de946a16",
   "metadata": {},
   "outputs": [
    {
     "data": {
      "text/plain": [
       "{(1, 2, 3): 'abc'}"
      ]
     },
     "execution_count": 3,
     "metadata": {},
     "output_type": "execute_result"
    }
   ],
   "source": [
    "d6={(1,2,3):\"abc\"}\n",
    "d6"
   ]
  },
  {
   "cell_type": "code",
   "execution_count": 4,
   "id": "50227027-d7b4-4e17-ba59-59010d439084",
   "metadata": {},
   "outputs": [
    {
     "data": {
      "text/plain": [
       "{'Course_name': ['Data Science Master',\n",
       "  'Web Dev',\n",
       "  'Java with DSA and System Design']}"
      ]
     },
     "execution_count": 4,
     "metadata": {},
     "output_type": "execute_result"
    }
   ],
   "source": [
    "d7={\"Course_name\":[\"Data Science Master\",\"Web Dev\",\"Java with DSA and System Design\"]}\n",
    "d7"
   ]
  },
  {
   "cell_type": "code",
   "execution_count": 5,
   "id": "b85215c2-1ec0-475c-be11-3632a4c029cf",
   "metadata": {},
   "outputs": [
    {
     "data": {
      "text/plain": [
       "{'Key': (1, 2, 3, 4)}"
      ]
     },
     "execution_count": 5,
     "metadata": {},
     "output_type": "execute_result"
    }
   ],
   "source": [
    "d8={\"Key\":(1,2,3,4)}\n",
    "d8"
   ]
  },
  {
   "cell_type": "code",
   "execution_count": 6,
   "id": "562e643d-06b6-44fa-8c6e-fb8744f6f0dd",
   "metadata": {},
   "outputs": [
    {
     "data": {
      "text/plain": [
       "{'Key': {1, 2, 3, 4}}"
      ]
     },
     "execution_count": 6,
     "metadata": {},
     "output_type": "execute_result"
    }
   ],
   "source": [
    "d9={\"Key\":{1,2,3,4}}\n",
    "d9"
   ]
  },
  {
   "cell_type": "code",
   "execution_count": 7,
   "id": "e028b462-8138-4d38-b78d-9fa34523352c",
   "metadata": {},
   "outputs": [
    {
     "data": {
      "text/plain": [
       "{'Key': {'Name': 'Maroof', 'Class': 'DSM'}}"
      ]
     },
     "execution_count": 7,
     "metadata": {},
     "output_type": "execute_result"
    }
   ],
   "source": [
    "d10={\"Key\":{\"Name\":\"Maroof\",\"Class\":\"DSM\"}}\n",
    "d10"
   ]
  },
  {
   "cell_type": "code",
   "execution_count": 8,
   "id": "06f6e6ba-0e13-4fad-9e2a-d1b8b16626d5",
   "metadata": {},
   "outputs": [
    {
     "data": {
      "text/plain": [
       "{'Batch_Name': ['DSM', 'Web Dev', 'JDS'],\n",
       " 'Start_Date': (28, 14, 21),\n",
       " 'Mentor_Name': {'Anurag',\n",
       "  'Haider',\n",
       "  'Hitesh',\n",
       "  'Krish Naik',\n",
       "  'Naveen',\n",
       "  'Sudhanshu'}}"
      ]
     },
     "execution_count": 8,
     "metadata": {},
     "output_type": "execute_result"
    }
   ],
   "source": [
    "d11={\"Batch_Name\":[\"DSM\",\"Web Dev\",\"JDS\"],\"Start_Date\":(28,14,21),\"Mentor_Name\":{\"Krish Naik\",\"Sudhanshu\",\"Anurag\",\"Naveen\",\"Hitesh\",\"Haider\"}}\n",
    "d11"
   ]
  },
  {
   "cell_type": "code",
   "execution_count": 9,
   "id": "5481afe6-6a99-4f49-8e15-252b654b7c41",
   "metadata": {},
   "outputs": [
    {
     "data": {
      "text/plain": [
       "{'Batch_Name': ['DSM', 'Web Dev', 'JDS'],\n",
       " 'Start_Date': (28, 14, 21),\n",
       " 'Mentor_Name': {'Anurag',\n",
       "  'Haider',\n",
       "  'Hitesh',\n",
       "  'Krish Naik',\n",
       "  'Naveen',\n",
       "  'Sudhanshu'},\n",
       " 'Timing': (8, 8, 8)}"
      ]
     },
     "execution_count": 9,
     "metadata": {},
     "output_type": "execute_result"
    }
   ],
   "source": [
    "d11[\"Timing\"]=(8,8,8)\n",
    "d11"
   ]
  },
  {
   "cell_type": "code",
   "execution_count": 10,
   "id": "69d5eb2b-e6f6-40c2-b72c-f0195052a848",
   "metadata": {},
   "outputs": [
    {
     "data": {
      "text/plain": [
       "['DSM', 'Web Dev', 'JDS']"
      ]
     },
     "execution_count": 10,
     "metadata": {},
     "output_type": "execute_result"
    }
   ],
   "source": [
    "d11[\"Batch_Name\"]"
   ]
  },
  {
   "cell_type": "code",
   "execution_count": 11,
   "id": "435a37eb-baf7-4ae4-93a7-b358f743757c",
   "metadata": {},
   "outputs": [
    {
     "data": {
      "text/plain": [
       "['DSM', 'Web Dev', 'JDS']"
      ]
     },
     "execution_count": 11,
     "metadata": {},
     "output_type": "execute_result"
    }
   ],
   "source": [
    "d11['Batch_Name']"
   ]
  },
  {
   "cell_type": "code",
   "execution_count": 13,
   "id": "100c4028-0c05-4e75-9457-f40537ca9725",
   "metadata": {},
   "outputs": [
    {
     "data": {
      "text/plain": [
       "{'Anurag', 'Haider', 'Hitesh', 'Krish Naik', 'Naveen', 'Sudhanshu'}"
      ]
     },
     "execution_count": 13,
     "metadata": {},
     "output_type": "execute_result"
    }
   ],
   "source": [
    "d11[\"Mentor_Name\"]"
   ]
  },
  {
   "cell_type": "code",
   "execution_count": 14,
   "id": "9bf30ef1-6b90-47d0-9081-fba9ac1fc20b",
   "metadata": {},
   "outputs": [
    {
     "data": {
      "text/plain": [
       "set"
      ]
     },
     "execution_count": 14,
     "metadata": {},
     "output_type": "execute_result"
    }
   ],
   "source": [
    "type(d11[\"Mentor_Name\"])"
   ]
  },
  {
   "cell_type": "code",
   "execution_count": 17,
   "id": "7cf5d395-dfab-4087-9557-053a7c831066",
   "metadata": {},
   "outputs": [
    {
     "data": {
      "text/plain": [
       "{'Batch_Name': ['DSM', 'Web Dev', 'JDS'],\n",
       " 'Start_Date': (28, 14, 21),\n",
       " 'Mentor_Name': {'Anurag',\n",
       "  'Haider',\n",
       "  'Hitesh',\n",
       "  'Krish Naik',\n",
       "  'Naveen',\n",
       "  'Sudhanshu'},\n",
       " 'Timing': (8, 8, 8),\n",
       " 'Name': 'Sudhanshu'}"
      ]
     },
     "execution_count": 17,
     "metadata": {},
     "output_type": "execute_result"
    }
   ],
   "source": [
    "d11[\"Name\"]=\"Sudhanshu\"\n",
    "d11"
   ]
  },
  {
   "cell_type": "code",
   "execution_count": 16,
   "id": "11f7a12d-681d-47cd-bc84-a7bf7b07451a",
   "metadata": {},
   "outputs": [
    {
     "data": {
      "text/plain": [
       "'SUDHANSU'"
      ]
     },
     "execution_count": 16,
     "metadata": {},
     "output_type": "execute_result"
    }
   ],
   "source": [
    "d11[\"Name\"].upper()"
   ]
  },
  {
   "cell_type": "code",
   "execution_count": 18,
   "id": "4ac47250-63aa-4da3-9eeb-2f482ae7e9a5",
   "metadata": {},
   "outputs": [
    {
     "data": {
      "text/plain": [
       "{'Key': {'Name': 'Maroof', 'Class': 'DSM'}}"
      ]
     },
     "execution_count": 18,
     "metadata": {},
     "output_type": "execute_result"
    }
   ],
   "source": [
    "d10"
   ]
  },
  {
   "cell_type": "code",
   "execution_count": 20,
   "id": "391df3f3-3fe1-46ab-8bba-3811c5edc684",
   "metadata": {},
   "outputs": [
    {
     "data": {
      "text/plain": [
       "dict"
      ]
     },
     "execution_count": 20,
     "metadata": {},
     "output_type": "execute_result"
    }
   ],
   "source": [
    "type(d10[\"Key\"])"
   ]
  },
  {
   "cell_type": "code",
   "execution_count": 21,
   "id": "5339d8b0-74b2-4c89-a925-e1e09db86f25",
   "metadata": {},
   "outputs": [
    {
     "data": {
      "text/plain": [
       "{'Name': 'Maroof', 'Class': 'DSM'}"
      ]
     },
     "execution_count": 21,
     "metadata": {},
     "output_type": "execute_result"
    }
   ],
   "source": [
    "d10['Key']"
   ]
  },
  {
   "cell_type": "code",
   "execution_count": 22,
   "id": "04b62048-2cdc-468b-95e0-20606553587a",
   "metadata": {},
   "outputs": [
    {
     "data": {
      "text/plain": [
       "'DSM'"
      ]
     },
     "execution_count": 22,
     "metadata": {},
     "output_type": "execute_result"
    }
   ],
   "source": [
    "d10['Key']['Class']"
   ]
  },
  {
   "cell_type": "code",
   "execution_count": 23,
   "id": "a65addf7-95f8-4b9c-97aa-51c162106a2f",
   "metadata": {},
   "outputs": [
    {
     "data": {
      "text/plain": [
       "{'Key': {'Name': 'Maroof', 'Class': 'DSM'}}"
      ]
     },
     "execution_count": 23,
     "metadata": {},
     "output_type": "execute_result"
    }
   ],
   "source": [
    "d10"
   ]
  },
  {
   "cell_type": "code",
   "execution_count": 24,
   "id": "257bf125-325d-41c8-addc-1ad8ef31cbd4",
   "metadata": {},
   "outputs": [],
   "source": [
    "d10[\"Key1\"]=\"abc\""
   ]
  },
  {
   "cell_type": "code",
   "execution_count": 25,
   "id": "52bc8154-855d-4dd8-8fc5-7f7fa774ea1d",
   "metadata": {},
   "outputs": [
    {
     "data": {
      "text/plain": [
       "{'Key': {'Name': 'Maroof', 'Class': 'DSM'}, 'Key1': 'abc'}"
      ]
     },
     "execution_count": 25,
     "metadata": {},
     "output_type": "execute_result"
    }
   ],
   "source": [
    "d10"
   ]
  },
  {
   "cell_type": "code",
   "execution_count": 26,
   "id": "4469a224-c1db-49be-889b-2f87591fba17",
   "metadata": {},
   "outputs": [],
   "source": [
    "del d10['Key1']"
   ]
  },
  {
   "cell_type": "code",
   "execution_count": 27,
   "id": "823e8251-f9b5-4c4d-a3fb-751a8867e9b7",
   "metadata": {},
   "outputs": [
    {
     "data": {
      "text/plain": [
       "{'Key': {'Name': 'Maroof', 'Class': 'DSM'}}"
      ]
     },
     "execution_count": 27,
     "metadata": {},
     "output_type": "execute_result"
    }
   ],
   "source": [
    "d10"
   ]
  },
  {
   "cell_type": "code",
   "execution_count": 28,
   "id": "a9feb428-c9d8-4522-8891-c891867ffe0d",
   "metadata": {},
   "outputs": [],
   "source": [
    "d10.clear()"
   ]
  },
  {
   "cell_type": "code",
   "execution_count": 29,
   "id": "2fe93407-1247-4e96-8439-bd8326b4a381",
   "metadata": {},
   "outputs": [
    {
     "data": {
      "text/plain": [
       "{}"
      ]
     },
     "execution_count": 29,
     "metadata": {},
     "output_type": "execute_result"
    }
   ],
   "source": [
    "d10"
   ]
  },
  {
   "cell_type": "code",
   "execution_count": 31,
   "id": "11b2c005-0f76-4818-a5c8-50976eb49089",
   "metadata": {},
   "outputs": [
    {
     "data": {
      "text/plain": [
       "5"
      ]
     },
     "execution_count": 31,
     "metadata": {},
     "output_type": "execute_result"
    }
   ],
   "source": [
    "len(d11)"
   ]
  },
  {
   "cell_type": "code",
   "execution_count": 32,
   "id": "8342d016-e44d-4863-a3df-da64e4f75759",
   "metadata": {},
   "outputs": [
    {
     "data": {
      "text/plain": [
       "dict_keys(['Batch_Name', 'Start_Date', 'Mentor_Name', 'Timing', 'Name'])"
      ]
     },
     "execution_count": 32,
     "metadata": {},
     "output_type": "execute_result"
    }
   ],
   "source": [
    "d11.keys()"
   ]
  },
  {
   "cell_type": "code",
   "execution_count": 33,
   "id": "9768f6e1-37e3-4c7f-b011-978a9e5e0a36",
   "metadata": {},
   "outputs": [
    {
     "data": {
      "text/plain": [
       "dict_values([['DSM', 'Web Dev', 'JDS'], (28, 14, 21), {'Anurag', 'Sudhanshu', 'Haider', 'Hitesh', 'Naveen', 'Krish Naik'}, (8, 8, 8), 'Sudhanshu'])"
      ]
     },
     "execution_count": 33,
     "metadata": {},
     "output_type": "execute_result"
    }
   ],
   "source": [
    "d11.values()"
   ]
  },
  {
   "cell_type": "code",
   "execution_count": 34,
   "id": "db22b33c-3cff-4547-9126-fe3876208427",
   "metadata": {},
   "outputs": [
    {
     "data": {
      "text/plain": [
       "[['DSM', 'Web Dev', 'JDS'],\n",
       " (28, 14, 21),\n",
       " {'Anurag', 'Haider', 'Hitesh', 'Krish Naik', 'Naveen', 'Sudhanshu'},\n",
       " (8, 8, 8),\n",
       " 'Sudhanshu']"
      ]
     },
     "execution_count": 34,
     "metadata": {},
     "output_type": "execute_result"
    }
   ],
   "source": [
    "list(d11.values())"
   ]
  },
  {
   "cell_type": "code",
   "execution_count": 35,
   "id": "ef0052d8-1a96-4837-9185-79d79aced47a",
   "metadata": {},
   "outputs": [
    {
     "data": {
      "text/plain": [
       "['Batch_Name', 'Start_Date', 'Mentor_Name', 'Timing', 'Name']"
      ]
     },
     "execution_count": 35,
     "metadata": {},
     "output_type": "execute_result"
    }
   ],
   "source": [
    "list(d11.keys())"
   ]
  },
  {
   "cell_type": "code",
   "execution_count": 36,
   "id": "0eb76dfb-d5be-4752-a84c-03c201216218",
   "metadata": {},
   "outputs": [
    {
     "data": {
      "text/plain": [
       "dict_items([('Batch_Name', ['DSM', 'Web Dev', 'JDS']), ('Start_Date', (28, 14, 21)), ('Mentor_Name', {'Anurag', 'Sudhanshu', 'Haider', 'Hitesh', 'Naveen', 'Krish Naik'}), ('Timing', (8, 8, 8)), ('Name', 'Sudhanshu')])"
      ]
     },
     "execution_count": 36,
     "metadata": {},
     "output_type": "execute_result"
    }
   ],
   "source": [
    "d11.items()"
   ]
  },
  {
   "cell_type": "code",
   "execution_count": 37,
   "id": "e5195e40-1cff-4f0a-8f7e-4fd521f02581",
   "metadata": {},
   "outputs": [
    {
     "data": {
      "text/plain": [
       "[('Batch_Name', ['DSM', 'Web Dev', 'JDS']),\n",
       " ('Start_Date', (28, 14, 21)),\n",
       " ('Mentor_Name',\n",
       "  {'Anurag', 'Haider', 'Hitesh', 'Krish Naik', 'Naveen', 'Sudhanshu'}),\n",
       " ('Timing', (8, 8, 8)),\n",
       " ('Name', 'Sudhanshu')]"
      ]
     },
     "execution_count": 37,
     "metadata": {},
     "output_type": "execute_result"
    }
   ],
   "source": [
    "list(d11.items())"
   ]
  },
  {
   "cell_type": "code",
   "execution_count": 38,
   "id": "d56d8c51-c060-43b5-a580-db938286c43d",
   "metadata": {},
   "outputs": [],
   "source": [
    "d12=d11.copy()"
   ]
  },
  {
   "cell_type": "code",
   "execution_count": 39,
   "id": "5913580d-d267-4430-9858-09d86514fafa",
   "metadata": {},
   "outputs": [
    {
     "data": {
      "text/plain": [
       "{'Batch_Name': ['DSM', 'Web Dev', 'JDS'],\n",
       " 'Start_Date': (28, 14, 21),\n",
       " 'Mentor_Name': {'Anurag',\n",
       "  'Haider',\n",
       "  'Hitesh',\n",
       "  'Krish Naik',\n",
       "  'Naveen',\n",
       "  'Sudhanshu'},\n",
       " 'Timing': (8, 8, 8),\n",
       " 'Name': 'Sudhanshu'}"
      ]
     },
     "execution_count": 39,
     "metadata": {},
     "output_type": "execute_result"
    }
   ],
   "source": [
    "d12"
   ]
  },
  {
   "cell_type": "code",
   "execution_count": 40,
   "id": "71544283-e28c-4164-9a56-b3ea79998ddd",
   "metadata": {},
   "outputs": [
    {
     "data": {
      "text/plain": [
       "(8, 8, 8)"
      ]
     },
     "execution_count": 40,
     "metadata": {},
     "output_type": "execute_result"
    }
   ],
   "source": [
    "d11.pop(\"Timing\")"
   ]
  },
  {
   "cell_type": "code",
   "execution_count": 41,
   "id": "b45b8f0f-d53e-4b31-8f96-71dbd550f872",
   "metadata": {},
   "outputs": [
    {
     "data": {
      "text/plain": [
       "{'Batch_Name': ['DSM', 'Web Dev', 'JDS'],\n",
       " 'Start_Date': (28, 14, 21),\n",
       " 'Mentor_Name': {'Anurag',\n",
       "  'Haider',\n",
       "  'Hitesh',\n",
       "  'Krish Naik',\n",
       "  'Naveen',\n",
       "  'Sudhanshu'},\n",
       " 'Name': 'Sudhanshu'}"
      ]
     },
     "execution_count": 41,
     "metadata": {},
     "output_type": "execute_result"
    }
   ],
   "source": [
    "d11"
   ]
  },
  {
   "cell_type": "code",
   "execution_count": 42,
   "id": "ea73d40e-2d3c-482d-a292-2e93c5805e43",
   "metadata": {},
   "outputs": [
    {
     "data": {
      "text/plain": [
       "{'Anurag', 'Haider', 'Hitesh', 'Krish Naik', 'Naveen', 'Sudhanshu'}"
      ]
     },
     "execution_count": 42,
     "metadata": {},
     "output_type": "execute_result"
    }
   ],
   "source": [
    "d11.pop(\"Mentor_Name\")"
   ]
  },
  {
   "cell_type": "code",
   "execution_count": 43,
   "id": "17a8550a-d31a-4f17-bdd8-71a29a93f2a6",
   "metadata": {},
   "outputs": [
    {
     "data": {
      "text/plain": [
       "{'Batch_Name': ['DSM', 'Web Dev', 'JDS'],\n",
       " 'Start_Date': (28, 14, 21),\n",
       " 'Name': 'Sudhanshu'}"
      ]
     },
     "execution_count": 43,
     "metadata": {},
     "output_type": "execute_result"
    }
   ],
   "source": [
    "d11"
   ]
  },
  {
   "cell_type": "code",
   "execution_count": 46,
   "id": "f0e993fb-6ab2-4f4d-8a2a-fe43f73dcafd",
   "metadata": {},
   "outputs": [
    {
     "data": {
      "text/plain": [
       "{1: {'a', 'b', 'c'}, 2: {'a', 'b', 'c'}, 3: {'a', 'b', 'c'}}"
      ]
     },
     "execution_count": 46,
     "metadata": {},
     "output_type": "execute_result"
    }
   ],
   "source": [
    "d.fromkeys({1,2,3},{'a','b','c'})"
   ]
  },
  {
   "cell_type": "code",
   "execution_count": 47,
   "id": "9d3b8e21-d5a6-4149-ae0c-c359105105be",
   "metadata": {},
   "outputs": [
    {
     "data": {
      "text/plain": [
       "{1: ('a', 'b', 'c'), 2: ('a', 'b', 'c'), 3: ('a', 'b', 'c')}"
      ]
     },
     "execution_count": 47,
     "metadata": {},
     "output_type": "execute_result"
    }
   ],
   "source": [
    "d.fromkeys((1,2,3),('a','b','c'))"
   ]
  },
  {
   "cell_type": "code",
   "execution_count": 48,
   "id": "1b907755-8944-4163-9566-613eb6e429b0",
   "metadata": {},
   "outputs": [
    {
     "data": {
      "text/plain": [
       "({'key1': 'value1', 'key2': 'value2'}, {'key3': 'value3', 'key4': 'value4'})"
      ]
     },
     "execution_count": 48,
     "metadata": {},
     "output_type": "execute_result"
    }
   ],
   "source": [
    "d12={'key1':'value1','key2':'value2'}\n",
    "d13={'key3':'value3','key4':'value4'}\n",
    "(d12,d13)"
   ]
  },
  {
   "cell_type": "code",
   "execution_count": 49,
   "id": "43c66628-4c6c-4bc0-bc27-1f805f31bdeb",
   "metadata": {},
   "outputs": [],
   "source": [
    "d12.update(d13)"
   ]
  },
  {
   "cell_type": "code",
   "execution_count": 50,
   "id": "7d265d95-3f99-4359-b07f-6448c813ee78",
   "metadata": {},
   "outputs": [
    {
     "data": {
      "text/plain": [
       "{'key1': 'value1', 'key2': 'value2', 'key3': 'value3', 'key4': 'value4'}"
      ]
     },
     "execution_count": 50,
     "metadata": {},
     "output_type": "execute_result"
    }
   ],
   "source": [
    "d12"
   ]
  },
  {
   "cell_type": "code",
   "execution_count": 57,
   "id": "6bee0b02-fa81-490a-ae67-2977adb26422",
   "metadata": {},
   "outputs": [
    {
     "data": {
      "text/plain": [
       "{'key3': 'value3', 'key4': 'value4', 'key1': 'value1', 'key2': 'value2'}"
      ]
     },
     "execution_count": 57,
     "metadata": {},
     "output_type": "execute_result"
    }
   ],
   "source": [
    "d13"
   ]
  },
  {
   "cell_type": "code",
   "execution_count": 52,
   "id": "8a957e6b-75ed-4528-b3a1-05ac0a5a96c2",
   "metadata": {},
   "outputs": [
    {
     "data": {
      "text/plain": [
       "{'key3': 'value3', 'key4': 'value4', 'key1': 'value1', 'key2': 'value2'}"
      ]
     },
     "execution_count": 52,
     "metadata": {},
     "output_type": "execute_result"
    }
   ],
   "source": [
    "d13.update(d12)\n",
    "d13"
   ]
  },
  {
   "cell_type": "code",
   "execution_count": 53,
   "id": "3cffb74c-34fb-4378-9df0-e68f12803e64",
   "metadata": {},
   "outputs": [
    {
     "data": {
      "text/plain": [
       "{'key1': 'value1', 'key2': 'value2', 'key3': 'value3', 'key4': 'value4'}"
      ]
     },
     "execution_count": 53,
     "metadata": {},
     "output_type": "execute_result"
    }
   ],
   "source": [
    "d12"
   ]
  },
  {
   "cell_type": "code",
   "execution_count": 54,
   "id": "1e9bf40a-effc-49ac-ba96-560cba6a0a43",
   "metadata": {},
   "outputs": [],
   "source": [
    "d13.get[\"Maroof\"]"
   ]
  },
  {
   "cell_type": "code",
   "execution_count": 60,
   "id": "fd75c9e5-e663-46ab-b9b7-3827e22e1189",
   "metadata": {},
   "outputs": [
    {
     "data": {
      "text/plain": [
       "'value3'"
      ]
     },
     "execution_count": 60,
     "metadata": {},
     "output_type": "execute_result"
    }
   ],
   "source": [
    "d13[\"key3\"]"
   ]
  },
  {
   "cell_type": "code",
   "execution_count": 61,
   "id": "a13223f2-014f-481f-b9ef-7545e023fd25",
   "metadata": {},
   "outputs": [
    {
     "data": {
      "text/plain": [
       "{1: 1, 2: 4, 3: 9, 4: 16, 5: 25, 6: 36, 7: 49, 8: 64, 9: 81, 10: 100}"
      ]
     },
     "execution_count": 61,
     "metadata": {},
     "output_type": "execute_result"
    }
   ],
   "source": [
    "{i:i**2 for i in range(1,11)}"
   ]
  },
  {
   "cell_type": "code",
   "execution_count": 62,
   "id": "e7be4da3-7fab-4631-8b8e-32a097348220",
   "metadata": {},
   "outputs": [
    {
     "data": {
      "text/plain": [
       "{1: 11, 2: 12, 3: 13, 4: 14, 5: 15, 6: 16, 7: 17, 8: 18, 9: 19, 10: 20}"
      ]
     },
     "execution_count": 62,
     "metadata": {},
     "output_type": "execute_result"
    }
   ],
   "source": [
    "{i:i+10 for i in range(1,11)}"
   ]
  },
  {
   "cell_type": "code",
   "execution_count": 68,
   "id": "94da3181-43e5-4cb9-8817-c9ff21548619",
   "metadata": {},
   "outputs": [],
   "source": [
    "import math\n",
    "d14={i:math.log10(i) for i in range(1,11)}"
   ]
  },
  {
   "cell_type": "code",
   "execution_count": 69,
   "id": "b458d680-dc78-4321-b7ed-0b4dbfb125b2",
   "metadata": {},
   "outputs": [
    {
     "data": {
      "text/plain": [
       "{1: 0.0,\n",
       " 2: 0.3010299956639812,\n",
       " 3: 0.47712125471966244,\n",
       " 4: 0.6020599913279624,\n",
       " 5: 0.6989700043360189,\n",
       " 6: 0.7781512503836436,\n",
       " 7: 0.8450980400142568,\n",
       " 8: 0.9030899869919435,\n",
       " 9: 0.9542425094393249,\n",
       " 10: 1.0}"
      ]
     },
     "execution_count": 69,
     "metadata": {},
     "output_type": "execute_result"
    }
   ],
   "source": [
    "d14"
   ]
  },
  {
   "cell_type": "code",
   "execution_count": 65,
   "id": "8252fcb0-3607-4d5a-a452-c0a050f97a28",
   "metadata": {},
   "outputs": [
    {
     "data": {
      "text/plain": [
       "{'Batch_Name': ['DSM', 'Web Dev', 'JDS'],\n",
       " 'Start_Date': (28, 14, 21),\n",
       " 'Name': 'Sudhanshu'}"
      ]
     },
     "execution_count": 65,
     "metadata": {},
     "output_type": "execute_result"
    }
   ],
   "source": [
    "d11"
   ]
  },
  {
   "cell_type": "code",
   "execution_count": 66,
   "id": "bc215d6b-ab9e-48a3-a78c-6b8301193d93",
   "metadata": {},
   "outputs": [
    {
     "data": {
      "text/plain": [
       "True"
      ]
     },
     "execution_count": 66,
     "metadata": {},
     "output_type": "execute_result"
    }
   ],
   "source": [
    "'Batch_Name' in d11"
   ]
  },
  {
   "cell_type": "code",
   "execution_count": 73,
   "id": "5f6be1a7-0a75-4328-974a-ae4914510495",
   "metadata": {},
   "outputs": [
    {
     "name": "stdout",
     "output_type": "stream",
     "text": [
      "0.3010299956639812\n",
      "0.6020599913279624\n",
      "0.7781512503836436\n",
      "0.9030899869919435\n",
      "1.0\n"
     ]
    }
   ],
   "source": [
    "for i in d14.keys():\n",
    "    if i % 2==0:\n",
    "        print(d14[i])"
   ]
  },
  {
   "cell_type": "code",
   "execution_count": 9,
   "id": "17bfa55e-2c2c-46de-8e2f-1669c3b3e1dd",
   "metadata": {},
   "outputs": [
    {
     "data": {
      "text/plain": [
       "{'language': 'Python',\n",
       " 'course': 'Data Science Masters',\n",
       " 'topics': ['Python', 'Machine Learning', 'Deep Learning'],\n",
       " 'Mentor': {'Anurag', 'Krish Naik'},\n",
       " 'Teacher': ['Sudhanshu']}"
      ]
     },
     "execution_count": 9,
     "metadata": {},
     "output_type": "execute_result"
    }
   ],
   "source": [
    "dict1 = {'language': 'Python', 'course': 'Data Science Masters'}\n",
    "dict1.setdefault('topics', ['Python', 'Machine Learning', 'Deep Learning'])\n",
    "dict1['Mentor']= {'Anurag','Krish Naik'}\n",
    "dict1.setdefault('Teacher',['Sudhanshu'])\n",
    "dict1"
   ]
  },
  {
   "cell_type": "code",
   "execution_count": null,
   "id": "216a39c8-36be-404d-b654-3396cb79ac2d",
   "metadata": {},
   "outputs": [],
   "source": []
  }
 ],
 "metadata": {
  "kernelspec": {
   "display_name": "Python 3 (ipykernel)",
   "language": "python",
   "name": "python3"
  },
  "language_info": {
   "codemirror_mode": {
    "name": "ipython",
    "version": 3
   },
   "file_extension": ".py",
   "mimetype": "text/x-python",
   "name": "python",
   "nbconvert_exporter": "python",
   "pygments_lexer": "ipython3",
   "version": "3.10.8"
  }
 },
 "nbformat": 4,
 "nbformat_minor": 5
}
