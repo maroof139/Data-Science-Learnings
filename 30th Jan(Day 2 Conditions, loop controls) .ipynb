{
 "cells": [
  {
   "cell_type": "code",
   "execution_count": 1,
   "id": "fb4c274f-1a14-4b46-a0d2-ae6a48fcbc33",
   "metadata": {},
   "outputs": [
    {
     "name": "stdout",
     "output_type": "stream",
     "text": [
      "Hello World\n"
     ]
    }
   ],
   "source": [
    "print(\"Hello World\")"
   ]
  },
  {
   "cell_type": "code",
   "execution_count": 3,
   "id": "435170a7-6330-424e-be21-d7339823b0fe",
   "metadata": {},
   "outputs": [
    {
     "name": "stdout",
     "output_type": "stream",
     "text": [
      "My age is 23\n"
     ]
    }
   ],
   "source": [
    "age = 23\n",
    "print(\"My age is\",age)"
   ]
  },
  {
   "cell_type": "code",
   "execution_count": 5,
   "id": "f62efb4c-09ea-4c61-9750-11e052b3d22d",
   "metadata": {},
   "outputs": [
    {
     "name": "stdout",
     "output_type": "stream",
     "text": [
      "my age is :23\n"
     ]
    }
   ],
   "source": [
    "print(f\"my age is :{age}\")"
   ]
  },
  {
   "cell_type": "code",
   "execution_count": 7,
   "id": "823b6d09-2400-489f-8bb7-3b6de6b75d41",
   "metadata": {},
   "outputs": [
    {
     "name": "stdout",
     "output_type": "stream",
     "text": [
      "My name is Maroof and age is 23\n"
     ]
    }
   ],
   "source": [
    "name=\"Maroof\"\n",
    "age=23\n",
    "print(\"My name is {} and age is {}\".format(name,age))"
   ]
  },
  {
   "cell_type": "code",
   "execution_count": 10,
   "id": "3f8a4069-d8e3-4c36-9ac0-64aaa1d6ba1e",
   "metadata": {},
   "outputs": [
    {
     "name": "stdout",
     "output_type": "stream",
     "text": [
      "My age is 23 and i have completed: my degree of B.Tech with the name of Maroof\n"
     ]
    }
   ],
   "source": [
    "name=\"Maroof\"\n",
    "age=23\n",
    "degree=\"B.Tech\"\n",
    "print(\"My age is {myage} and i have completed: my degree of {degree} with the name of {name}\".format(myage=age,degree=degree,name=name)) "
   ]
  },
  {
   "cell_type": "code",
   "execution_count": 11,
   "id": "9671fff7-977c-4ee9-a4d4-f2734d3b5117",
   "metadata": {},
   "outputs": [
    {
     "name": "stdout",
     "output_type": "stream",
     "text": [
      "My age is 23 and i have completed: my degree of B.Tech with the name of Maroof\n"
     ]
    }
   ],
   "source": [
    "print(\"My age is {} and i have completed: my degree of {} with the name of {}\".format(age,degree,name))"
   ]
  },
  {
   "cell_type": "code",
   "execution_count": 12,
   "id": "19663c40-cf0b-4328-a695-0be6089f1f77",
   "metadata": {},
   "outputs": [
    {
     "name": "stdout",
     "output_type": "stream",
     "text": [
      "My age is 23 and i have completed: my degree of B.Tech with the name of Maroof\n"
     ]
    }
   ],
   "source": [
    "print(f\"My age is {age} and i have completed: my degree of {degree} with the name of {name}\")"
   ]
  },
  {
   "cell_type": "code",
   "execution_count": 3,
   "id": "e8d33f6b-f718-409c-8c6a-7bb097370e97",
   "metadata": {},
   "outputs": [],
   "source": [
    "##Control Flow Statements##"
   ]
  },
  {
   "cell_type": "code",
   "execution_count": 4,
   "id": "f474a7d6-5236-49e9-ad67-bbc048250011",
   "metadata": {},
   "outputs": [
    {
     "name": "stdout",
     "output_type": "stream",
     "text": [
      "You are eligible to vote\n"
     ]
    }
   ],
   "source": [
    "age=18\n",
    "if age>=18:\n",
    "    print(\"You are eligible to vote\")"
   ]
  },
  {
   "cell_type": "code",
   "execution_count": 5,
   "id": "8039c226-01db-4f24-9058-866a423ca61e",
   "metadata": {},
   "outputs": [
    {
     "name": "stdin",
     "output_type": "stream",
     "text": [
      "Enter your name: Maroof Hasan\n"
     ]
    }
   ],
   "source": [
    "name=input(\"Enter your name:\")"
   ]
  },
  {
   "cell_type": "code",
   "execution_count": 6,
   "id": "824d4a17-219b-4c6d-b11d-08fef3045d16",
   "metadata": {},
   "outputs": [
    {
     "data": {
      "text/plain": [
       "'Maroof Hasan'"
      ]
     },
     "execution_count": 6,
     "metadata": {},
     "output_type": "execute_result"
    }
   ],
   "source": [
    "name"
   ]
  },
  {
   "cell_type": "code",
   "execution_count": 7,
   "id": "36502354-8333-47a0-bd39-35d706730e8d",
   "metadata": {},
   "outputs": [
    {
     "data": {
      "text/plain": [
       "str"
      ]
     },
     "execution_count": 7,
     "metadata": {},
     "output_type": "execute_result"
    }
   ],
   "source": [
    "type(name)"
   ]
  },
  {
   "cell_type": "code",
   "execution_count": 8,
   "id": "9a16b0c1-6df8-4937-bdba-55affa4d7216",
   "metadata": {},
   "outputs": [
    {
     "name": "stdin",
     "output_type": "stream",
     "text": [
      "Enter your age: 23\n"
     ]
    }
   ],
   "source": [
    "age=int(input(\"Enter your age:\"))"
   ]
  },
  {
   "cell_type": "code",
   "execution_count": 9,
   "id": "f2ec2421-dd29-4565-a329-deab3259d02d",
   "metadata": {},
   "outputs": [
    {
     "data": {
      "text/plain": [
       "23"
      ]
     },
     "execution_count": 9,
     "metadata": {},
     "output_type": "execute_result"
    }
   ],
   "source": [
    "age"
   ]
  },
  {
   "cell_type": "code",
   "execution_count": 10,
   "id": "fe09e4d8-a213-44cd-92d0-8ac4f4347497",
   "metadata": {},
   "outputs": [
    {
     "data": {
      "text/plain": [
       "int"
      ]
     },
     "execution_count": 10,
     "metadata": {},
     "output_type": "execute_result"
    }
   ],
   "source": [
    "type(age)"
   ]
  },
  {
   "cell_type": "code",
   "execution_count": 18,
   "id": "b727bc36-fece-4170-83ae-1b1932dfc533",
   "metadata": {},
   "outputs": [
    {
     "name": "stdin",
     "output_type": "stream",
     "text": [
      "Enter age: 11\n"
     ]
    },
    {
     "name": "stdout",
     "output_type": "stream",
     "text": [
      "you are Buddha\n"
     ]
    }
   ],
   "source": [
    "age=int(input(\"Enter age:\"))\n",
    "if age>=18 and age<=45:\n",
    "    print(\"You are Young Blood\")\n",
    "else:\n",
    "    print(\"you are Buddha\")"
   ]
  },
  {
   "cell_type": "code",
   "execution_count": 4,
   "id": "ef907049-e0c0-4080-8699-278547609fde",
   "metadata": {},
   "outputs": [
    {
     "name": "stdin",
     "output_type": "stream",
     "text": [
      "enter product price 5800\n"
     ]
    },
    {
     "name": "stdout",
     "output_type": "stream",
     "text": [
      "heres the final price for price 4640.0\n"
     ]
    }
   ],
   "source": [
    "price=int(input(\"enter product price\"))\n",
    "if price > 1000:\n",
    "    print(\"heres the final price for price {}\".format(price*0.8))\n",
    "else:\n",
    "    price < 1000\n",
    "    print(\"heres the final price for price {}\".format(price*0.7))\n",
    "    "
   ]
  },
  {
   "cell_type": "code",
   "execution_count": 1,
   "id": "3e85ac34-a57c-4e87-bcbb-a63848e7e679",
   "metadata": {},
   "outputs": [
    {
     "name": "stdin",
     "output_type": "stream",
     "text": [
      "enter product price 56\n"
     ]
    },
    {
     "name": "stdout",
     "output_type": "stream",
     "text": [
      "please bring money\n"
     ]
    }
   ],
   "source": [
    "price=int(input(\"enter product price\"))\n",
    "if price > 3000:\n",
    "    print(\"heres the final price for price {}\".format(price*0.8))\n",
    "elif price >=2000 and price <=3000:\n",
    "    if price == 2999:\n",
    "        print(\"congo you get a gift too\")\n",
    "    print(\"heres the final price for price {}\".format(price*0.7))\n",
    "elif price >=1000 and price <=2000:\n",
    "    print(\"heres the final price for price {}\".format(price*0.6))\n",
    "else:\n",
    "    print(\"please bring money\")\n",
    "    "
   ]
  },
  {
   "cell_type": "code",
   "execution_count": 4,
   "id": "d933de86-f16f-4c6a-a628-9bd63dd781cc",
   "metadata": {},
   "outputs": [
    {
     "name": "stdout",
     "output_type": "stream",
     "text": [
      "25\n",
      "26\n",
      "27\n",
      "28\n",
      "29\n",
      "30\n",
      "31\n",
      "32\n",
      "33\n",
      "34\n",
      "35\n",
      "36\n",
      "37\n",
      "38\n",
      "39\n",
      "40\n",
      "41\n",
      "42\n",
      "43\n",
      "44\n",
      "45\n",
      "46\n",
      "47\n",
      "48\n",
      "49\n",
      "50\n",
      "51\n",
      "52\n",
      "53\n",
      "54\n",
      "55\n",
      "56\n",
      "57\n",
      "58\n",
      "59\n",
      "60\n",
      "time to retire\n"
     ]
    }
   ],
   "source": [
    "##While Loop##\n",
    "joining_age = 25\n",
    "while joining_age <= 60:\n",
    "    print(joining_age)\n",
    "    joining_age = joining_age + 1\n",
    "else:\n",
    "    print(\"time to retire\")"
   ]
  },
  {
   "cell_type": "code",
   "execution_count": 6,
   "id": "c2b50d5c-35aa-42b9-94d4-7aacd0946b34",
   "metadata": {},
   "outputs": [
    {
     "name": "stdout",
     "output_type": "stream",
     "text": [
      "1000\n",
      "900\n",
      "800\n",
      "700\n",
      "600\n",
      "500\n",
      "400\n",
      "300\n",
      "200\n",
      "100\n",
      "no money\n"
     ]
    }
   ],
   "source": [
    "amt=1000\n",
    "while amt != 0:\n",
    "    print(amt)\n",
    "    amt= amt - 100\n",
    "else:\n",
    "    print(\"no money\")"
   ]
  },
  {
   "cell_type": "code",
   "execution_count": 1,
   "id": "c96948fb-187b-4099-87b6-1f701e10cd99",
   "metadata": {},
   "outputs": [],
   "source": [
    "list = [\"Maroof\",1,2,3,4,\"Apple\",\"Banana\"]"
   ]
  },
  {
   "cell_type": "code",
   "execution_count": 2,
   "id": "3393ea68-2a23-4ae2-8ddc-39cad8609936",
   "metadata": {},
   "outputs": [
    {
     "data": {
      "text/plain": [
       "list"
      ]
     },
     "execution_count": 2,
     "metadata": {},
     "output_type": "execute_result"
    }
   ],
   "source": [
    "type(list)"
   ]
  },
  {
   "cell_type": "code",
   "execution_count": 3,
   "id": "2893c807-9482-40e2-ab63-4e67340325e1",
   "metadata": {},
   "outputs": [
    {
     "data": {
      "text/plain": [
       "'Maroof'"
      ]
     },
     "execution_count": 3,
     "metadata": {},
     "output_type": "execute_result"
    }
   ],
   "source": [
    "list[0]"
   ]
  },
  {
   "cell_type": "code",
   "execution_count": 4,
   "id": "0ae383b3-25c5-406e-be04-a0f33fcc928b",
   "metadata": {},
   "outputs": [
    {
     "data": {
      "text/plain": [
       "'Apple'"
      ]
     },
     "execution_count": 4,
     "metadata": {},
     "output_type": "execute_result"
    }
   ],
   "source": [
    "list[5]"
   ]
  },
  {
   "cell_type": "code",
   "execution_count": 5,
   "id": "d5e5db02-391c-4eab-8c9b-3f4db1e2c279",
   "metadata": {},
   "outputs": [
    {
     "name": "stdout",
     "output_type": "stream",
     "text": [
      "Maroof\n",
      "1\n",
      "2\n",
      "3\n",
      "4\n",
      "Apple\n",
      "Banana\n"
     ]
    }
   ],
   "source": [
    "for i in list:\n",
    "    print(i)"
   ]
  },
  {
   "cell_type": "code",
   "execution_count": 11,
   "id": "b60ed201-8429-4714-87b8-813db72b0411",
   "metadata": {},
   "outputs": [],
   "source": [
    "fruitslist = [\"Mango\",\"Cherry\",\"Apple\",\"Papaya\",\"Banana\"]"
   ]
  },
  {
   "cell_type": "code",
   "execution_count": 12,
   "id": "86fc8522-d12b-49ee-bcd9-5254bbf9a810",
   "metadata": {},
   "outputs": [
    {
     "name": "stdout",
     "output_type": "stream",
     "text": [
      "Mango\n",
      "Cherry\n",
      "Apple\n",
      "Papaya\n",
      "Banana\n"
     ]
    }
   ],
   "source": [
    "for i in fruitslist:\n",
    "    print(i)"
   ]
  },
  {
   "cell_type": "code",
   "execution_count": 22,
   "id": "04c3a204-24ef-4d89-baea-85143f2a4ccb",
   "metadata": {},
   "outputs": [
    {
     "name": "stdout",
     "output_type": "stream",
     "text": [
      "MangoCherryFruit is Cherry\n",
      "ApplePapayaBanana"
     ]
    }
   ],
   "source": [
    "for i in fruitslist:\n",
    "    print(i, end = '')\n",
    "    if i==\"Cherry\":\n",
    "        print(\"Fruit is Cherry\")"
   ]
  },
  {
   "cell_type": "code",
   "execution_count": 21,
   "id": "107766f1-50aa-4b0d-8a10-21927e99cd33",
   "metadata": {},
   "outputs": [
    {
     "name": "stdout",
     "output_type": "stream",
     "text": [
      "Mango\n",
      "Cherry\n",
      "Fruit is cherry\n",
      "Apple\n",
      "Papaya\n",
      "Banana\n"
     ]
    }
   ],
   "source": [
    "for i in fruitslist:\n",
    "    print(i)\n",
    "    if i==\"Cherry\":\n",
    "        print(\"Fruit is cherry\")"
   ]
  },
  {
   "cell_type": "code",
   "execution_count": 23,
   "id": "5a906d16-9cbe-450f-9864-67b644fca794",
   "metadata": {},
   "outputs": [],
   "source": [
    "fruit = 'mango'"
   ]
  },
  {
   "cell_type": "code",
   "execution_count": 26,
   "id": "463c71ae-28dd-4fa4-a442-f25bb1d24e57",
   "metadata": {},
   "outputs": [
    {
     "name": "stdout",
     "output_type": "stream",
     "text": [
      "mango"
     ]
    }
   ],
   "source": [
    "for i in fruit:\n",
    "    print(i, end='')"
   ]
  },
  {
   "cell_type": "code",
   "execution_count": 25,
   "id": "8704c917-4e9a-4b90-9013-012559bef7a5",
   "metadata": {},
   "outputs": [
    {
     "data": {
      "text/plain": [
       "'n'"
      ]
     },
     "execution_count": 25,
     "metadata": {},
     "output_type": "execute_result"
    }
   ],
   "source": [
    "fruit[2]"
   ]
  },
  {
   "cell_type": "code",
   "execution_count": 27,
   "id": "ed432db0-0e4e-4794-ba04-e1451c18162c",
   "metadata": {},
   "outputs": [
    {
     "name": "stdout",
     "output_type": "stream",
     "text": [
      "1\n",
      "2\n",
      "3\n",
      "4\n",
      "5\n"
     ]
    }
   ],
   "source": [
    "for i in range(1,6):\n",
    "    print (i)"
   ]
  },
  {
   "cell_type": "code",
   "execution_count": 28,
   "id": "1576ee47-12f5-4c34-b110-8927b2dd7616",
   "metadata": {},
   "outputs": [
    {
     "name": "stdout",
     "output_type": "stream",
     "text": [
      "1\n",
      "3\n",
      "5\n",
      "7\n",
      "9\n"
     ]
    }
   ],
   "source": [
    "for i in range(1,10,2):\n",
    "    print (i)"
   ]
  },
  {
   "cell_type": "code",
   "execution_count": 29,
   "id": "7f3501b1-440d-4295-a299-baac421e32fe",
   "metadata": {},
   "outputs": [
    {
     "name": "stdout",
     "output_type": "stream",
     "text": [
      "1\n",
      "8\n"
     ]
    }
   ],
   "source": [
    "for i in range(1,10,7):\n",
    "    print (i)"
   ]
  },
  {
   "cell_type": "code",
   "execution_count": 35,
   "id": "8cdb02fe-6a44-4b97-96a0-f8c9bb58aacf",
   "metadata": {},
   "outputs": [
    {
     "name": "stdout",
     "output_type": "stream",
     "text": [
      "*\n",
      "**\n",
      "***\n",
      "****\n",
      "*****\n",
      "******\n",
      "*******\n"
     ]
    }
   ],
   "source": [
    "n=7\n",
    "for i in range(0,n):\n",
    "    for j in range(0,i+1):\n",
    "        print(\"*\",end='')\n",
    "    print(\"\\r\")"
   ]
  },
  {
   "cell_type": "code",
   "execution_count": 43,
   "id": "3d42fa77-c7f8-41ef-99bb-68aeb686219c",
   "metadata": {},
   "outputs": [
    {
     "name": "stdout",
     "output_type": "stream",
     "text": [
      "*\n",
      "*\n",
      "*\n",
      "*\n",
      "*\n",
      "*\n",
      "*\n",
      "*\n",
      "*\n",
      "*\n",
      "*\n",
      "*\n",
      "*\n",
      "*\n",
      "*\n",
      "*\n",
      "*\n",
      "*\n",
      "*\n",
      "*\n",
      "*\n",
      "*\n",
      "*\n",
      "*\n",
      "*\n",
      "*\n",
      "*\n",
      "*\n"
     ]
    }
   ],
   "source": [
    "n=7\n",
    "for i in range(0,n):\n",
    "    for j in range(0,i+1):\n",
    "        print(\"*\")\n",
    "    "
   ]
  },
  {
   "cell_type": "code",
   "execution_count": 1,
   "id": "894200cc-2a28-44d0-bf82-657f18a88de6",
   "metadata": {},
   "outputs": [
    {
     "name": "stdout",
     "output_type": "stream",
     "text": [
      "Mango\n",
      "cherry\n",
      "This is Apple\n"
     ]
    }
   ],
   "source": [
    "fruits = [\"Mango\", \"cherry\",\"Apple\",\"Papaya\",\"Banana\"]\n",
    "for i in fruits:\n",
    "    if i == \"Apple\":\n",
    "        print(\"This is Apple\")\n",
    "        break\n",
    "    print(i)"
   ]
  },
  {
   "cell_type": "code",
   "execution_count": 2,
   "id": "e0f8c103-4878-4eba-9d7d-01fb3e68223d",
   "metadata": {},
   "outputs": [
    {
     "name": "stdout",
     "output_type": "stream",
     "text": [
      "Mango\n",
      "cherry\n",
      "This is Apple\n",
      "Apple\n",
      "Papaya\n",
      "Banana\n"
     ]
    }
   ],
   "source": [
    "fruits = [\"Mango\", \"cherry\",\"Apple\",\"Papaya\",\"Banana\"]\n",
    "for i in fruits:\n",
    "    if i == \"Apple\":\n",
    "        print(\"This is Apple\")\n",
    "        pass\n",
    "    print(i)"
   ]
  },
  {
   "cell_type": "code",
   "execution_count": 3,
   "id": "588df21c-fcc0-4237-8528-2583e7bc4a7c",
   "metadata": {},
   "outputs": [
    {
     "name": "stdout",
     "output_type": "stream",
     "text": [
      "Mango\n",
      "cherry\n",
      "This is Apple\n",
      "Papaya\n",
      "Banana\n"
     ]
    }
   ],
   "source": [
    "fruits = [\"Mango\", \"cherry\",\"Apple\",\"Papaya\",\"Banana\"]\n",
    "for i in fruits:\n",
    "    if i == \"Apple\":\n",
    "        print(\"This is Apple\")\n",
    "        continue\n",
    "    print(i)"
   ]
  },
  {
   "cell_type": "code",
   "execution_count": null,
   "id": "f4809b8d-7e9b-424a-84df-e0a8020b0e95",
   "metadata": {},
   "outputs": [],
   "source": []
  }
 ],
 "metadata": {
  "kernelspec": {
   "display_name": "Python 3 (ipykernel)",
   "language": "python",
   "name": "python3"
  },
  "language_info": {
   "codemirror_mode": {
    "name": "ipython",
    "version": 3
   },
   "file_extension": ".py",
   "mimetype": "text/x-python",
   "name": "python",
   "nbconvert_exporter": "python",
   "pygments_lexer": "ipython3",
   "version": "3.10.8"
  }
 },
 "nbformat": 4,
 "nbformat_minor": 5
}
