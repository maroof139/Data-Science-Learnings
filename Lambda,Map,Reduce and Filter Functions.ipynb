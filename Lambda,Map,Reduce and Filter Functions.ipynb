{
 "cells": [
  {
   "cell_type": "code",
   "execution_count": 3,
   "id": "06044926-f947-4128-86fc-cc857318ed2a",
   "metadata": {},
   "outputs": [],
   "source": [
    "n=3\n",
    "p=2"
   ]
  },
  {
   "cell_type": "code",
   "execution_count": 4,
   "id": "769dc7d6-1cca-4343-a017-da2775c6a65c",
   "metadata": {},
   "outputs": [],
   "source": [
    "def power(n,p):\n",
    "    return n**p"
   ]
  },
  {
   "cell_type": "code",
   "execution_count": 5,
   "id": "c73a343d-3c8e-4878-b570-0b758d8dcb93",
   "metadata": {},
   "outputs": [
    {
     "data": {
      "text/plain": [
       "9"
      ]
     },
     "execution_count": 5,
     "metadata": {},
     "output_type": "execute_result"
    }
   ],
   "source": [
    "power(3,2)"
   ]
  },
  {
   "cell_type": "code",
   "execution_count": 4,
   "id": "358c456e-55d6-4632-b90c-845213c57f3a",
   "metadata": {},
   "outputs": [
    {
     "data": {
      "text/plain": [
       "6561"
      ]
     },
     "execution_count": 4,
     "metadata": {},
     "output_type": "execute_result"
    }
   ],
   "source": [
    "power(9,4)"
   ]
  },
  {
   "cell_type": "code",
   "execution_count": 5,
   "id": "fc3084fa-fa16-48a5-803f-5175567b37f1",
   "metadata": {},
   "outputs": [],
   "source": [
    "a=lambda n,p:n**p"
   ]
  },
  {
   "cell_type": "code",
   "execution_count": 6,
   "id": "d764f415-2c5a-4e1f-a0e1-0b1eda0009fd",
   "metadata": {},
   "outputs": [
    {
     "data": {
      "text/plain": [
       "9"
      ]
     },
     "execution_count": 6,
     "metadata": {},
     "output_type": "execute_result"
    }
   ],
   "source": [
    "a(3,2)"
   ]
  },
  {
   "cell_type": "code",
   "execution_count": 7,
   "id": "c68850b7-dacf-4686-a05a-66b716a2eecb",
   "metadata": {},
   "outputs": [
    {
     "data": {
      "text/plain": [
       "6561"
      ]
     },
     "execution_count": 7,
     "metadata": {},
     "output_type": "execute_result"
    }
   ],
   "source": [
    "a(9,4)"
   ]
  },
  {
   "cell_type": "code",
   "execution_count": 8,
   "id": "fed4dbc6-2357-4112-b0cb-024adc56a93a",
   "metadata": {},
   "outputs": [],
   "source": [
    "add=lambda a,b:a+b"
   ]
  },
  {
   "cell_type": "code",
   "execution_count": 9,
   "id": "e1fe0c2f-1fd2-4cb6-a75f-a269be4e928c",
   "metadata": {},
   "outputs": [
    {
     "data": {
      "text/plain": [
       "268"
      ]
     },
     "execution_count": 9,
     "metadata": {},
     "output_type": "execute_result"
    }
   ],
   "source": [
    "add(234,34)"
   ]
  },
  {
   "cell_type": "code",
   "execution_count": 10,
   "id": "1c1951da-5244-4045-8726-3cd2efc4e705",
   "metadata": {},
   "outputs": [],
   "source": [
    "sub=lambda a,b:a-b"
   ]
  },
  {
   "cell_type": "code",
   "execution_count": 11,
   "id": "4ca170cc-0a9d-4039-bf61-f53bfe26a3e4",
   "metadata": {},
   "outputs": [
    {
     "data": {
      "text/plain": [
       "10"
      ]
     },
     "execution_count": 11,
     "metadata": {},
     "output_type": "execute_result"
    }
   ],
   "source": [
    "sub(20,10)"
   ]
  },
  {
   "cell_type": "code",
   "execution_count": 12,
   "id": "e6989173-d115-483c-91b8-f5d02e5e9131",
   "metadata": {},
   "outputs": [],
   "source": [
    "sub=lambda a,b:b-a"
   ]
  },
  {
   "cell_type": "code",
   "execution_count": 13,
   "id": "bf79252c-438f-43b0-9d77-b0298862e928",
   "metadata": {},
   "outputs": [
    {
     "data": {
      "text/plain": [
       "42"
      ]
     },
     "execution_count": 13,
     "metadata": {},
     "output_type": "execute_result"
    }
   ],
   "source": [
    "sub(56,98)"
   ]
  },
  {
   "cell_type": "code",
   "execution_count": 14,
   "id": "f372c66d-770f-40a7-a212-1046c8d916cf",
   "metadata": {},
   "outputs": [],
   "source": [
    "c_to_f=lambda c:(9/5)*c+32"
   ]
  },
  {
   "cell_type": "code",
   "execution_count": 15,
   "id": "955a96d6-9e15-40d5-90bf-94df317ce1f3",
   "metadata": {},
   "outputs": [
    {
     "data": {
      "text/plain": [
       "93.2"
      ]
     },
     "execution_count": 15,
     "metadata": {},
     "output_type": "execute_result"
    }
   ],
   "source": [
    "c_to_f(34)"
   ]
  },
  {
   "cell_type": "code",
   "execution_count": 16,
   "id": "ce2794d7-e7f0-4b57-804a-614feab907ad",
   "metadata": {},
   "outputs": [],
   "source": [
    "max_of=lambda a,b:a if a>b else b"
   ]
  },
  {
   "cell_type": "code",
   "execution_count": 17,
   "id": "33d0408b-167c-4d92-8e33-338f0476fb33",
   "metadata": {},
   "outputs": [
    {
     "data": {
      "text/plain": [
       "56"
      ]
     },
     "execution_count": 17,
     "metadata": {},
     "output_type": "execute_result"
    }
   ],
   "source": [
    "max_of(4,56)"
   ]
  },
  {
   "cell_type": "code",
   "execution_count": 18,
   "id": "11f8dd34-66ce-4de8-a5f5-199d99ff1994",
   "metadata": {},
   "outputs": [],
   "source": [
    "lenof=lambda a:len(a)"
   ]
  },
  {
   "cell_type": "code",
   "execution_count": 19,
   "id": "3f20781e-b812-46e1-b056-b966f7b9a98a",
   "metadata": {},
   "outputs": [],
   "source": [
    "s=\"pwskills\""
   ]
  },
  {
   "cell_type": "code",
   "execution_count": 20,
   "id": "84170875-549a-49f0-8db1-99221eb29c55",
   "metadata": {},
   "outputs": [
    {
     "data": {
      "text/plain": [
       "8"
      ]
     },
     "execution_count": 20,
     "metadata": {},
     "output_type": "execute_result"
    }
   ],
   "source": [
    "lenof(s)"
   ]
  },
  {
   "cell_type": "code",
   "execution_count": 18,
   "id": "f4982621-4e07-43d4-8fb9-e6a0d50132e3",
   "metadata": {},
   "outputs": [],
   "source": [
    "l=[1,2,3,4,45,5]"
   ]
  },
  {
   "cell_type": "code",
   "execution_count": 19,
   "id": "1c5a842b-e865-4fb0-aa24-bb79e2aeac76",
   "metadata": {},
   "outputs": [],
   "source": [
    "def sq(a):\n",
    "    n=[]\n",
    "    for i in a:\n",
    "        n.append(i**2)\n",
    "    return n"
   ]
  },
  {
   "cell_type": "code",
   "execution_count": 20,
   "id": "4aa401a3-eb1c-4af1-a0d2-71e8718584d2",
   "metadata": {},
   "outputs": [
    {
     "data": {
      "text/plain": [
       "[1, 4, 9, 16, 2025, 25]"
      ]
     },
     "execution_count": 20,
     "metadata": {},
     "output_type": "execute_result"
    }
   ],
   "source": [
    "sq(l)"
   ]
  },
  {
   "cell_type": "code",
   "execution_count": 23,
   "id": "d111ed51-cb1b-48d3-b2ca-fdbe8e37a5ee",
   "metadata": {},
   "outputs": [
    {
     "data": {
      "text/plain": [
       "<map at 0x7f636e1b7b80>"
      ]
     },
     "execution_count": 23,
     "metadata": {},
     "output_type": "execute_result"
    }
   ],
   "source": [
    "map(sq,l)"
   ]
  },
  {
   "cell_type": "code",
   "execution_count": 24,
   "id": "c87a112d-df22-4250-a12d-45396228bcd8",
   "metadata": {},
   "outputs": [
    {
     "ename": "TypeError",
     "evalue": "'int' object is not iterable",
     "output_type": "error",
     "traceback": [
      "\u001b[0;31m---------------------------------------------------------------------------\u001b[0m",
      "\u001b[0;31mTypeError\u001b[0m                                 Traceback (most recent call last)",
      "Cell \u001b[0;32mIn[24], line 1\u001b[0m\n\u001b[0;32m----> 1\u001b[0m \u001b[38;5;28;43mlist\u001b[39;49m\u001b[43m(\u001b[49m\u001b[38;5;28;43mmap\u001b[39;49m\u001b[43m(\u001b[49m\u001b[43msq\u001b[49m\u001b[43m,\u001b[49m\u001b[43ml\u001b[49m\u001b[43m)\u001b[49m\u001b[43m)\u001b[49m\n",
      "Cell \u001b[0;32mIn[19], line 3\u001b[0m, in \u001b[0;36msq\u001b[0;34m(a)\u001b[0m\n\u001b[1;32m      1\u001b[0m \u001b[38;5;28;01mdef\u001b[39;00m \u001b[38;5;21msq\u001b[39m(a):\n\u001b[1;32m      2\u001b[0m     n\u001b[38;5;241m=\u001b[39m[]\n\u001b[0;32m----> 3\u001b[0m     \u001b[38;5;28;01mfor\u001b[39;00m i \u001b[38;5;129;01min\u001b[39;00m a:\n\u001b[1;32m      4\u001b[0m         n\u001b[38;5;241m.\u001b[39mappend(i\u001b[38;5;241m*\u001b[39m\u001b[38;5;241m*\u001b[39m\u001b[38;5;241m2\u001b[39m)\n\u001b[1;32m      5\u001b[0m     \u001b[38;5;28;01mreturn\u001b[39;00m n\n",
      "\u001b[0;31mTypeError\u001b[0m: 'int' object is not iterable"
     ]
    }
   ],
   "source": [
    "list(map(sq,l))"
   ]
  },
  {
   "cell_type": "code",
   "execution_count": 2,
   "id": "035dba75-3a62-4b72-bc9e-562982a9a014",
   "metadata": {},
   "outputs": [],
   "source": [
    "l=[1,2,3,4,45,5]"
   ]
  },
  {
   "cell_type": "code",
   "execution_count": 3,
   "id": "dcc40fa5-675b-4748-b150-8a8b3962a333",
   "metadata": {},
   "outputs": [],
   "source": [
    "def squ(x):\n",
    "    return x**2"
   ]
  },
  {
   "cell_type": "code",
   "execution_count": 4,
   "id": "2fbe21bb-2f11-4e33-8f41-6e0dcef6f668",
   "metadata": {},
   "outputs": [
    {
     "data": {
      "text/plain": [
       "<map at 0x7f5724262b30>"
      ]
     },
     "execution_count": 4,
     "metadata": {},
     "output_type": "execute_result"
    }
   ],
   "source": [
    "map(squ,l)"
   ]
  },
  {
   "cell_type": "code",
   "execution_count": 5,
   "id": "334df49c-ec12-4384-b8b4-2623e359c15d",
   "metadata": {},
   "outputs": [
    {
     "data": {
      "text/plain": [
       "[1, 4, 9, 16, 2025, 25]"
      ]
     },
     "execution_count": 5,
     "metadata": {},
     "output_type": "execute_result"
    }
   ],
   "source": [
    "list(map(squ,l))"
   ]
  },
  {
   "cell_type": "code",
   "execution_count": 6,
   "id": "d6dce993-1eab-4723-8044-71314004c1e6",
   "metadata": {},
   "outputs": [
    {
     "data": {
      "text/plain": [
       "[1, 4, 9, 16, 2025, 25]"
      ]
     },
     "execution_count": 6,
     "metadata": {},
     "output_type": "execute_result"
    }
   ],
   "source": [
    "list(map(lambda x:x**2,l))"
   ]
  },
  {
   "cell_type": "code",
   "execution_count": 7,
   "id": "d3ea2e3b-82bf-4671-bcf2-f352f5c0f4c7",
   "metadata": {},
   "outputs": [
    {
     "data": {
      "text/plain": [
       "[11, 12, 13, 14, 55, 15]"
      ]
     },
     "execution_count": 7,
     "metadata": {},
     "output_type": "execute_result"
    }
   ],
   "source": [
    "list(map(lambda x:x+10,l))"
   ]
  },
  {
   "cell_type": "code",
   "execution_count": 6,
   "id": "177bf8b5-e960-4246-b29e-6ce27fb81cd3",
   "metadata": {},
   "outputs": [],
   "source": [
    "l=[1,2,3,4,45,5]"
   ]
  },
  {
   "cell_type": "code",
   "execution_count": 7,
   "id": "cbe33442-3d9b-4ae9-af61-25038f815e23",
   "metadata": {},
   "outputs": [
    {
     "data": {
      "text/plain": [
       "['1', '2', '3', '4', '45', '5']"
      ]
     },
     "execution_count": 7,
     "metadata": {},
     "output_type": "execute_result"
    }
   ],
   "source": [
    "list(map(lambda x:str(x),l))"
   ]
  },
  {
   "cell_type": "code",
   "execution_count": 8,
   "id": "f8b12bfe-6fcf-4a13-a29c-e89f71230a38",
   "metadata": {},
   "outputs": [],
   "source": [
    "l1=[1,2,3,4,5]\n",
    "l2=[6,7,8,9,10]"
   ]
  },
  {
   "cell_type": "code",
   "execution_count": 9,
   "id": "a51c26ff-9c6f-4965-b1b0-8cf2f120f759",
   "metadata": {},
   "outputs": [
    {
     "data": {
      "text/plain": [
       "[7, 9, 11, 13, 15]"
      ]
     },
     "execution_count": 9,
     "metadata": {},
     "output_type": "execute_result"
    }
   ],
   "source": [
    "list(map(lambda x,y:x+y,l1,l2))"
   ]
  },
  {
   "cell_type": "code",
   "execution_count": 10,
   "id": "1d6d345b-9075-4210-b841-9ca31982d9a0",
   "metadata": {},
   "outputs": [],
   "source": [
    "f=lambda x,y:x+y"
   ]
  },
  {
   "cell_type": "code",
   "execution_count": 11,
   "id": "d5b5ab21-6157-4672-ad31-db1a26e01f04",
   "metadata": {},
   "outputs": [
    {
     "data": {
      "text/plain": [
       "[7, 9, 11, 13, 15]"
      ]
     },
     "execution_count": 11,
     "metadata": {},
     "output_type": "execute_result"
    }
   ],
   "source": [
    "list(map(f,l1,l2))"
   ]
  },
  {
   "cell_type": "code",
   "execution_count": 12,
   "id": "58e9053b-383a-42f6-a53b-0abeefa97d35",
   "metadata": {},
   "outputs": [],
   "source": [
    "s=\"pwskills\""
   ]
  },
  {
   "cell_type": "code",
   "execution_count": 14,
   "id": "bee0b66a-6a83-42dd-ac03-4e20897f8090",
   "metadata": {},
   "outputs": [
    {
     "data": {
      "text/plain": [
       "['P', 'W', 'S', 'K', 'I', 'L', 'L', 'S']"
      ]
     },
     "execution_count": 14,
     "metadata": {},
     "output_type": "execute_result"
    }
   ],
   "source": [
    "list(map(lambda x:x.upper(),s))"
   ]
  },
  {
   "cell_type": "code",
   "execution_count": 1,
   "id": "752481d6-a676-4b25-b61f-ae25c8aa3ee3",
   "metadata": {},
   "outputs": [],
   "source": [
    "l=[1,2,3,4,5,4]"
   ]
  },
  {
   "cell_type": "code",
   "execution_count": 2,
   "id": "2718a5ac-2568-47b7-b1ab-e03c2176244a",
   "metadata": {},
   "outputs": [],
   "source": [
    "from functools import reduce"
   ]
  },
  {
   "cell_type": "code",
   "execution_count": 3,
   "id": "ab5bfa8b-bb1b-4e7a-96c6-7642ecbfa018",
   "metadata": {},
   "outputs": [
    {
     "data": {
      "text/plain": [
       "19"
      ]
     },
     "execution_count": 3,
     "metadata": {},
     "output_type": "execute_result"
    }
   ],
   "source": [
    "reduce(lambda x,y:x+y,l)"
   ]
  },
  {
   "cell_type": "code",
   "execution_count": 4,
   "id": "163ddb03-6ce1-4bda-aa57-09c74415bbd5",
   "metadata": {},
   "outputs": [],
   "source": [
    "def add(x,y):\n",
    "    return x+y"
   ]
  },
  {
   "cell_type": "code",
   "execution_count": 5,
   "id": "673a7389-5d2b-4b15-914d-d3372e847d02",
   "metadata": {},
   "outputs": [
    {
     "data": {
      "text/plain": [
       "19"
      ]
     },
     "execution_count": 5,
     "metadata": {},
     "output_type": "execute_result"
    }
   ],
   "source": [
    "reduce(add,l)"
   ]
  },
  {
   "cell_type": "code",
   "execution_count": 8,
   "id": "549a89e3-6f93-46ac-a4e0-5a332fc0a769",
   "metadata": {},
   "outputs": [
    {
     "data": {
      "text/plain": [
       "5"
      ]
     },
     "execution_count": 8,
     "metadata": {},
     "output_type": "execute_result"
    }
   ],
   "source": [
    "reduce(lambda x,y:x if x > y else y,l)"
   ]
  },
  {
   "cell_type": "code",
   "execution_count": 12,
   "id": "e3e353ff-7570-4594-9525-3cf10331afaa",
   "metadata": {},
   "outputs": [],
   "source": [
    "def even(x):\n",
    "    n=[]\n",
    "    for i in x:\n",
    "        if i%2==0:\n",
    "            n.append(i)"
   ]
  },
  {
   "cell_type": "code",
   "execution_count": 13,
   "id": "153ae09c-3a13-4c71-9e66-28bc5b10acb0",
   "metadata": {},
   "outputs": [
    {
     "data": {
      "text/plain": [
       "<filter at 0x7f4783239c60>"
      ]
     },
     "execution_count": 13,
     "metadata": {},
     "output_type": "execute_result"
    }
   ],
   "source": [
    "filter(even,l)"
   ]
  },
  {
   "cell_type": "code",
   "execution_count": 14,
   "id": "d3e59e87-5c3b-4718-a9c2-b1579e50ff09",
   "metadata": {},
   "outputs": [
    {
     "ename": "TypeError",
     "evalue": "'int' object is not iterable",
     "output_type": "error",
     "traceback": [
      "\u001b[0;31m---------------------------------------------------------------------------\u001b[0m",
      "\u001b[0;31mTypeError\u001b[0m                                 Traceback (most recent call last)",
      "Cell \u001b[0;32mIn[14], line 1\u001b[0m\n\u001b[0;32m----> 1\u001b[0m \u001b[38;5;28;43mlist\u001b[39;49m\u001b[43m(\u001b[49m\u001b[38;5;28;43mfilter\u001b[39;49m\u001b[43m(\u001b[49m\u001b[43meven\u001b[49m\u001b[43m,\u001b[49m\u001b[43ml\u001b[49m\u001b[43m)\u001b[49m\u001b[43m)\u001b[49m\n",
      "Cell \u001b[0;32mIn[12], line 3\u001b[0m, in \u001b[0;36meven\u001b[0;34m(x)\u001b[0m\n\u001b[1;32m      1\u001b[0m \u001b[38;5;28;01mdef\u001b[39;00m \u001b[38;5;21meven\u001b[39m(x):\n\u001b[1;32m      2\u001b[0m     n\u001b[38;5;241m=\u001b[39m[]\n\u001b[0;32m----> 3\u001b[0m     \u001b[38;5;28;01mfor\u001b[39;00m i \u001b[38;5;129;01min\u001b[39;00m x:\n\u001b[1;32m      4\u001b[0m         \u001b[38;5;28;01mif\u001b[39;00m i\u001b[38;5;241m%\u001b[39m\u001b[38;5;241m2\u001b[39m\u001b[38;5;241m==\u001b[39m\u001b[38;5;241m0\u001b[39m:\n\u001b[1;32m      5\u001b[0m             n\u001b[38;5;241m.\u001b[39mappend(i)\n",
      "\u001b[0;31mTypeError\u001b[0m: 'int' object is not iterable"
     ]
    }
   ],
   "source": [
    "list(filter(even,l))"
   ]
  },
  {
   "cell_type": "code",
   "execution_count": 15,
   "id": "36421666-634f-4087-a486-dc904822acd5",
   "metadata": {},
   "outputs": [
    {
     "data": {
      "text/plain": [
       "<filter at 0x7f4780062fe0>"
      ]
     },
     "execution_count": 15,
     "metadata": {},
     "output_type": "execute_result"
    }
   ],
   "source": [
    "filter(lambda x:x%2==0,l)"
   ]
  },
  {
   "cell_type": "code",
   "execution_count": 16,
   "id": "77d72365-de23-42e3-b815-1b4af5f0a6fa",
   "metadata": {},
   "outputs": [
    {
     "data": {
      "text/plain": [
       "[2, 4, 4]"
      ]
     },
     "execution_count": 16,
     "metadata": {},
     "output_type": "execute_result"
    }
   ],
   "source": [
    "list(filter(lambda x:x%2==0,l))"
   ]
  },
  {
   "cell_type": "code",
   "execution_count": 17,
   "id": "67af8895-e53e-405f-ac37-4f799447d2bf",
   "metadata": {},
   "outputs": [
    {
     "data": {
      "text/plain": [
       "[1, 3, 5]"
      ]
     },
     "execution_count": 17,
     "metadata": {},
     "output_type": "execute_result"
    }
   ],
   "source": [
    "list(filter(lambda x:x%2!=0,l))"
   ]
  },
  {
   "cell_type": "code",
   "execution_count": 18,
   "id": "c428f304-def6-4b03-a812-cb5523bd0bf9",
   "metadata": {},
   "outputs": [],
   "source": [
    "l1=[-2,4,5,6,-3,-6,-7]"
   ]
  },
  {
   "cell_type": "code",
   "execution_count": 19,
   "id": "383776eb-dbb9-4665-ac98-da89b06f9ab5",
   "metadata": {},
   "outputs": [
    {
     "data": {
      "text/plain": [
       "[-2, -3, -6, -7]"
      ]
     },
     "execution_count": 19,
     "metadata": {},
     "output_type": "execute_result"
    }
   ],
   "source": [
    "list(filter(lambda x:x<0,l1))"
   ]
  },
  {
   "cell_type": "code",
   "execution_count": 20,
   "id": "22bb8e12-79d9-43aa-b702-3e6e39387051",
   "metadata": {},
   "outputs": [
    {
     "data": {
      "text/plain": [
       "[4, 5, 6]"
      ]
     },
     "execution_count": 20,
     "metadata": {},
     "output_type": "execute_result"
    }
   ],
   "source": [
    "list(filter(lambda x:x>0,l1))"
   ]
  },
  {
   "cell_type": "code",
   "execution_count": 21,
   "id": "1d3a9bd7-390c-430b-ba6a-47999ffe169d",
   "metadata": {},
   "outputs": [],
   "source": [
    "l2=[\"Sudh\",\"pwskills\",\"kumar\",\"krish\"]"
   ]
  },
  {
   "cell_type": "code",
   "execution_count": 22,
   "id": "2ac65e4d-cc37-4f54-a62a-01f9bffddcb3",
   "metadata": {},
   "outputs": [
    {
     "data": {
      "text/plain": [
       "['Sudh', 'kumar', 'krish']"
      ]
     },
     "execution_count": 22,
     "metadata": {},
     "output_type": "execute_result"
    }
   ],
   "source": [
    "list(filter(lambda x:len(x)<6,l2))"
   ]
  },
  {
   "cell_type": "code",
   "execution_count": null,
   "id": "a2e83496-2fac-4596-8618-a56659cb64a0",
   "metadata": {},
   "outputs": [],
   "source": []
  }
 ],
 "metadata": {
  "kernelspec": {
   "display_name": "Python 3 (ipykernel)",
   "language": "python",
   "name": "python3"
  },
  "language_info": {
   "codemirror_mode": {
    "name": "ipython",
    "version": 3
   },
   "file_extension": ".py",
   "mimetype": "text/x-python",
   "name": "python",
   "nbconvert_exporter": "python",
   "pygments_lexer": "ipython3",
   "version": "3.10.8"
  }
 },
 "nbformat": 4,
 "nbformat_minor": 5
}
