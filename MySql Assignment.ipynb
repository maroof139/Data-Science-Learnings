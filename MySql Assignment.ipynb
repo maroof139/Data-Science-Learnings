{
 "cells": [
  {
   "cell_type": "markdown",
   "id": "41096366-3267-4077-a8ec-c15be5254483",
   "metadata": {},
   "source": [
    "## 1. What is a database? Differentiate between SQL and NoSQL databases."
   ]
  },
  {
   "cell_type": "markdown",
   "id": "c5fd9206-bcb1-41f5-895f-8d79de457d41",
   "metadata": {},
   "source": [
    "### A database is an organized collection of structured information, or data, typically stored electronically in a computer system. In almost all situations SQL databases are vertically scalable. This means that you can increase the load on a single server by increasing things like RAM, CPU, or SSD. But on the other hand, NoSQL databases are horizontally scalable. This means that you handle more traffic by sharding, or adding more servers in your NoSQL database. It is similar to adding more floors to the same building versus adding more buildings to the neighborhood. Thus NoSQL can ultimately become larger and more powerful, making these databases the preferred choice for large or ever-changing data sets.\n",
    "### SQL databases are table-based on the other hand NoSQL databases are either key-value pairs, document-based, graph databases, or wide-column stores. This makes relational SQL databases a better option for applications that require multi-row transactions such as an accounting system or for legacy systems that were built for a relational structure. \n",
    "### SQL and a relational database make it easy to handle a great deal of information, scale as necessary and allow flexible access to data only needing to update data once instead of changing multiple files, for instance. It’s also best for assessing data integrity. Since each piece of information is stored in a single place, there’s no problem with former versions confusing the picture.\n",
    "### While NoSQL is good when the availability of big data is more crucial, SQL is valued for ensuring data validity. It’s also a wise decision when a business needs to expand in response to shifting customer demands. NoSQL offers high performance, flexibility, and ease of use."
   ]
  },
  {
   "cell_type": "markdown",
   "id": "e43eded0-bf5c-408e-8636-b286cadbc065",
   "metadata": {},
   "source": [
    "## 2. What is DDL? Explain why CREATE, DROP, ALTER, and TRUNCATE are used with an example."
   ]
  },
  {
   "cell_type": "markdown",
   "id": "23d94121-5cd5-4a65-b9df-8af3f2c2fc56",
   "metadata": {},
   "source": [
    "### Data Definition Language(DDL) is a subset of SQL and a part of DBMS(Database Management System). DDL consist of Commands to commands like CREATE, ALTER, TRUNCATE and DROP. These commands are used to create or modify the tables in SQL.\n",
    "### Create - This command is used to create a new table in SQL. The user has to give information like table name, column names, and their datatypes. Example - \n",
    "### CREATE TABLE Student_info\n",
    "### (\n",
    "### College_Id number(2),\n",
    "### College_name varchar(30),\n",
    "### Branch varchar(10)\n",
    "### );"
   ]
  },
  {
   "cell_type": "markdown",
   "id": "d8108bfb-ff70-415e-b784-dfd9a1378090",
   "metadata": {},
   "source": [
    "### Drop - This command is used to remove an existing table along with its structure from the Database.\n",
    "### Example - DROP TABLE Student_info;"
   ]
  },
  {
   "cell_type": "markdown",
   "id": "66d19e21-e422-4fad-b684-eeec7127c3be",
   "metadata": {},
   "source": [
    "### Alter - This command is used to add, delete or change columns in the existing table. The user needs to know the existing table name and can do add, delete or modify tasks easily.\n",
    "### Example - ALTER TABLE Student_info\n",
    "### ADD CGPA number;"
   ]
  },
  {
   "cell_type": "markdown",
   "id": "a9b1303b-fa45-47ed-ab90-fd78fe64f539",
   "metadata": {},
   "source": [
    "### Truncate - This command is used to remove all rows from the table, but the structure of the table still exists.\n",
    "### Example - TRUNCATE TABLE Student_info;"
   ]
  },
  {
   "cell_type": "markdown",
   "id": "e6846a8a-1779-49f9-b7b8-950787e36f4a",
   "metadata": {},
   "source": [
    "## 3. What is DML? Explain INSERT, UPDATE, and DELETE with an example."
   ]
  },
  {
   "cell_type": "markdown",
   "id": "004b5b31-fb1a-4716-82d0-2660c69b3b34",
   "metadata": {},
   "source": [
    "### DML stands for Data Manipulation Language. Tables and formulas are helpful when communicating with data stored up to a point in a database through SQL (Structured Query Language), but a time comes when we actually want to execute some fairly complicated data interactions. We will also need the Data Manipulation Language in that situation. DML is a way to inform a database precisely what we want it to do by conversing in a manner that it has been built to comprehend from scratch.\n",
    "### Insert - This command is used to enter the information or values into a row. We can connect one or more records to a single table within a repository using this instruction.\n",
    "### Example - INSERT INTO students ('stu_id' int, 'stu_name' varchar(20), 'city' varchar(20)) VALUES ('1', 'Nirmit', 'Gorakhpur'); "
   ]
  },
  {
   "cell_type": "markdown",
   "id": "eff43f56-4520-4ebb-9af3-4b8bd0c69b72",
   "metadata": {},
   "source": [
    "### Update - This command is used to alter existing table records. Within a table, it modifies data from one or more records. This command is used to alter the data which is already present in a table.\n",
    "### Example - UPDATE students SET due_fees = 20000 WHERE stu_name = 'Mini'; "
   ]
  },
  {
   "cell_type": "markdown",
   "id": "a3fe422a-5c19-472e-a68e-d50adace78e8",
   "metadata": {},
   "source": [
    "### Delete - It deletes all archives from a table. This command is used to erase some or all of the previous table’s records.\n",
    "### Example - DELETE FROM students WHERE stu_id = '001'; "
   ]
  },
  {
   "cell_type": "markdown",
   "id": "9fc0f506-30d4-41a7-bb82-b3ea3f63b7c8",
   "metadata": {},
   "source": [
    "## 4. What is DQL? Explain SELECT with an example."
   ]
  },
  {
   "cell_type": "markdown",
   "id": "89f311a9-8598-45c3-a67f-b9ab13a7b88b",
   "metadata": {},
   "source": [
    "### DQL statements are used for performing queries on the data within schema objects. The purpose of the DQL Command is to get some schema relation based on the query passed to it. We can define DQL as follows it is a component of SQL statement that allows getting data from the database and imposing order upon it. It includes the SELECT statement.\n",
    "### Select - The most utilized SQL statement is select. Data from a database can be retrieved or fetched using the SELECT Statement in SQL. Either the entire table or a subset of it can be retrieved. A result table contains the data that was returned. \n",
    "### Example - SELECT * FROM Customers WHERE Last_Name='Smith';"
   ]
  },
  {
   "cell_type": "markdown",
   "id": "53ae0c50-f9cb-4f73-acd4-24c31861e627",
   "metadata": {},
   "source": [
    "## Explain Primary Key and Foreign Key."
   ]
  },
  {
   "cell_type": "markdown",
   "id": "03355072-8108-47af-8bd1-f5090a3ad82a",
   "metadata": {},
   "source": [
    "### Primary Key - A primary key is a special attribute or field within a database table that uniquely identifies each record or row in that table. It acts as a distinctive label for every information stored in the table, ensuring that no two records have the same identifier. This unique identification helps locate, access, and manipulate specific data within the table. Primary keys are used for a variety of purposes, including maintaining data integrity and integrity constraints, ensuring efficient record lookup, forming relationships between different tables in a database, and providing an effective way to ensure the uniqueness of records\n",
    "### Foreign Key - A foreign key is a relational database theory that connects and establishes relationships among different tables by referring to the primary key of another table. This linking enables sharing and exchanging data between the two tables. The purpose of using foreign keys is to enforce referential integrity and maintain data consistency across tables. It ensures that the values stored in the foreign key field of one table are also present in the primary key field of another table. A foreign key is usually composed of multiple columns used to identify a row in the related table uniquely. The number of columns used depends on how many columns make up the primary key in the related table. "
   ]
  },
  {
   "cell_type": "markdown",
   "id": "9a047dad-b3a9-4497-8e11-3e3468bda5a7",
   "metadata": {},
   "source": [
    "## 6. Write a python code to connect MySQL to python. Explain the cursor() and execute() method."
   ]
  },
  {
   "cell_type": "markdown",
   "id": "a0bd6cf7-f04a-4b7e-b275-4fd3eb89212e",
   "metadata": {},
   "source": [
    "### import mysql.Connector\n",
    "### mydb=mysql.connector.connect(\n",
    "### host=\"localhost\",\n",
    "### user=\"abc\",\n",
    "### password=\"password\"\n",
    "### )\n",
    "### mycursor=mydb.cursor()\n",
    "### mycursor.execute(\"SHOW DATABASES\")"
   ]
  },
  {
   "cell_type": "markdown",
   "id": "7408e3b1-1cfd-4c70-8018-6a829212729e",
   "metadata": {},
   "source": [
    "### Cursor() - The cursor is an item that aids in query execution and records retrieval from databases. The cursor is crucial to the execution of the query.\n",
    "### Execute() - The execute () technique helps us to run the query and have the results match the query. "
   ]
  },
  {
   "cell_type": "markdown",
   "id": "c95cde67-2f2f-4ba3-9aef-fe75409f5bc7",
   "metadata": {},
   "source": []
  },
  {
   "cell_type": "markdown",
   "id": "60bdfd29-139e-4507-8166-316af20dc638",
   "metadata": {},
   "source": []
  },
  {
   "cell_type": "markdown",
   "id": "42ffee97-dd32-4d6e-8cf9-50835cba28f7",
   "metadata": {},
   "source": []
  },
  {
   "cell_type": "markdown",
   "id": "e31e5e19-be21-4f37-acda-2e2b2771f782",
   "metadata": {},
   "source": []
  },
  {
   "cell_type": "markdown",
   "id": "31296693-63bb-4be7-9a18-4bc1225dedd7",
   "metadata": {},
   "source": []
  },
  {
   "cell_type": "markdown",
   "id": "9c5f4ada-1f3d-4d98-a7ca-bd63764acd9f",
   "metadata": {},
   "source": []
  }
 ],
 "metadata": {
  "kernelspec": {
   "display_name": "Python 3 (ipykernel)",
   "language": "python",
   "name": "python3"
  },
  "language_info": {
   "codemirror_mode": {
    "name": "ipython",
    "version": 3
   },
   "file_extension": ".py",
   "mimetype": "text/x-python",
   "name": "python",
   "nbconvert_exporter": "python",
   "pygments_lexer": "ipython3",
   "version": "3.10.8"
  }
 },
 "nbformat": 4,
 "nbformat_minor": 5
}
