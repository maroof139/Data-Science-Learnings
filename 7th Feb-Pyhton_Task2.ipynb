{
 "cells": [
  {
   "cell_type": "markdown",
   "id": "1f3be864-022a-4346-8bc1-daf65f402c0d",
   "metadata": {},
   "source": [
    "## 1. Q1. You are writing code for a company. The requirement of the company is that you create a python function that will check whether the password entered by the user is correct or not. The function should take the password as input and return the string “Valid Password” if the entered password follows the below-given password guidelines else it should return “Invalid Password”.\n",
    "## Note: 1. The Password should contain at least two uppercase letters and at least two lowercase letters.\n",
    "2. The Password should contain at least a number and three special characters.\n",
    "3. The length of the password should be 10 characters long."
   ]
  },
  {
   "cell_type": "code",
   "execution_count": 67,
   "id": "4c5682c7-2e1e-4572-a251-696a2bdcabe8",
   "metadata": {},
   "outputs": [],
   "source": [
    "import re\n",
    "\n",
    "def is_valid_password(password):\n",
    "    if len(password) != 10:\n",
    "        return \"Invalid Password\"\n",
    "    if len(re.findall(r'[A-Z]', password)) < 2:\n",
    "        return \"Invalid Password\"\n",
    "    if len(re.findall(r'[a-z]', password)) < 2:\n",
    "        return \"Invalid Password\"\n",
    "    if len(re.findall(r'\\d', password)) < 1:\n",
    "        return \"Invalid Password\"\n",
    "    if len(re.findall(r'[!@#$%^&*]', password)) < 3:\n",
    "        return \"Invalid Password\"\n",
    "    return \"Valid Password\"\n",
    "\n"
   ]
  },
  {
   "cell_type": "code",
   "execution_count": 66,
   "id": "fb0d0276-9ba2-460f-9d4a-e954d7ecf2e3",
   "metadata": {},
   "outputs": [
    {
     "name": "stdout",
     "output_type": "stream",
     "text": [
      "Invalid Password\n"
     ]
    }
   ],
   "source": [
    "password = \"abcDEF124\"\n",
    "result = is_valid_password(password)\n",
    "print(result) "
   ]
  },
  {
   "cell_type": "markdown",
   "id": "b75f336b-3365-42ce-917e-c424ca1f782e",
   "metadata": {},
   "source": [
    "## 2. Solve the below-given questions using at least one of the following:\n",
    "1. Lambda function\n",
    "2. Filter function\n",
    "3. map function\n",
    "4. List Comprehension"
   ]
  },
  {
   "cell_type": "markdown",
   "id": "70a162a1-bcd2-4374-af3a-9caef1810f71",
   "metadata": {},
   "source": [
    "## 2 a) Check if the string starts with a particular letter"
   ]
  },
  {
   "cell_type": "code",
   "execution_count": 1,
   "id": "5dda5b01-c0c0-4e50-8da6-5b1532ecf525",
   "metadata": {},
   "outputs": [],
   "source": [
    "s=\"Data Science\""
   ]
  },
  {
   "cell_type": "code",
   "execution_count": 3,
   "id": "cea8a79d-c1bd-4ce8-b465-ba4db3784ecd",
   "metadata": {},
   "outputs": [],
   "source": [
    "start_with=lambda x:True if x.startswith('D') else False"
   ]
  },
  {
   "cell_type": "code",
   "execution_count": 4,
   "id": "cd0c42ce-5753-407e-a620-60b27320d5a5",
   "metadata": {},
   "outputs": [
    {
     "data": {
      "text/plain": [
       "True"
      ]
     },
     "execution_count": 4,
     "metadata": {},
     "output_type": "execute_result"
    }
   ],
   "source": [
    "start_with(\"D\")"
   ]
  },
  {
   "cell_type": "code",
   "execution_count": 5,
   "id": "b34e379a-441c-4351-9635-1aeb3835293e",
   "metadata": {},
   "outputs": [
    {
     "data": {
      "text/plain": [
       "[True,\n",
       " False,\n",
       " False,\n",
       " False,\n",
       " False,\n",
       " False,\n",
       " False,\n",
       " False,\n",
       " False,\n",
       " False,\n",
       " False,\n",
       " False]"
      ]
     },
     "execution_count": 5,
     "metadata": {},
     "output_type": "execute_result"
    }
   ],
   "source": [
    "list(map(lambda x:True if x[0]==\"D\" else False,s))"
   ]
  },
  {
   "cell_type": "code",
   "execution_count": 7,
   "id": "d963d84f-8ca6-4b8d-a4a3-c313bccec130",
   "metadata": {},
   "outputs": [
    {
     "data": {
      "text/plain": [
       "['D']"
      ]
     },
     "execution_count": 7,
     "metadata": {},
     "output_type": "execute_result"
    }
   ],
   "source": [
    "list(filter(lambda x:True if x[0]==\"D\" else False,s))"
   ]
  },
  {
   "cell_type": "markdown",
   "id": "1b7cf63c-dea4-4252-91b6-c41a0d726ca0",
   "metadata": {},
   "source": [
    "## 2 b) Check if the string is numeric"
   ]
  },
  {
   "cell_type": "code",
   "execution_count": 8,
   "id": "783a84b0-2a8a-4104-807c-02de9d575250",
   "metadata": {},
   "outputs": [],
   "source": [
    "s=\"Data Science 123\""
   ]
  },
  {
   "cell_type": "code",
   "execution_count": 9,
   "id": "402a78a8-f209-4150-a6a0-0fda61c212b0",
   "metadata": {},
   "outputs": [
    {
     "data": {
      "text/plain": [
       "[False,\n",
       " False,\n",
       " False,\n",
       " False,\n",
       " False,\n",
       " False,\n",
       " False,\n",
       " False,\n",
       " False,\n",
       " False,\n",
       " False,\n",
       " False,\n",
       " False,\n",
       " True,\n",
       " True,\n",
       " True]"
      ]
     },
     "execution_count": 9,
     "metadata": {},
     "output_type": "execute_result"
    }
   ],
   "source": [
    "list(map(lambda x:x.isnumeric(),s))"
   ]
  },
  {
   "cell_type": "code",
   "execution_count": 10,
   "id": "665e046b-240e-4bef-b55d-6cb123d46d5f",
   "metadata": {},
   "outputs": [
    {
     "data": {
      "text/plain": [
       "['1', '2', '3']"
      ]
     },
     "execution_count": 10,
     "metadata": {},
     "output_type": "execute_result"
    }
   ],
   "source": [
    "list(filter(lambda x:x.isnumeric(),s))"
   ]
  },
  {
   "cell_type": "markdown",
   "id": "2014885b-226e-447a-afc1-f74038a49887",
   "metadata": {},
   "source": [
    "## 2 c) Sort a list of tuples having fruit names and their quantity. [(\"mango\",99),(\"orange\",80), (\"grapes\", 1000)-"
   ]
  },
  {
   "cell_type": "code",
   "execution_count": 16,
   "id": "74691a50-1fd1-4e7f-ba63-4d408da8f81c",
   "metadata": {},
   "outputs": [],
   "source": [
    "t1=[(\"mango\",99),(\"orange\",80),(\"grapes\",1000)]"
   ]
  },
  {
   "cell_type": "code",
   "execution_count": 37,
   "id": "7c722049-05cf-4fca-9c9b-e8e22a82c10c",
   "metadata": {},
   "outputs": [],
   "source": [
    "sorted_List=sorted(t1,key=lambda x:(x[0],x[1]))"
   ]
  },
  {
   "cell_type": "code",
   "execution_count": 39,
   "id": "1b805152-8347-41a3-b28b-903eb25291b1",
   "metadata": {},
   "outputs": [
    {
     "data": {
      "text/plain": [
       "[('grapes', 1000), ('mango', 99), ('orange', 80)]"
      ]
     },
     "execution_count": 39,
     "metadata": {},
     "output_type": "execute_result"
    }
   ],
   "source": [
    "sorted_List"
   ]
  },
  {
   "cell_type": "markdown",
   "id": "f7b6177d-752e-4828-9de6-dadb68a778ba",
   "metadata": {},
   "source": [
    "## 2 d) Find the squares of numbers from 1 to 10"
   ]
  },
  {
   "cell_type": "code",
   "execution_count": 40,
   "id": "edb07a93-00d8-4522-a844-c034a522a378",
   "metadata": {},
   "outputs": [],
   "source": [
    "l1=[1,2,3,4,5,6,7,8,9,10]"
   ]
  },
  {
   "cell_type": "code",
   "execution_count": 42,
   "id": "ef028391-306c-4dab-a72a-c259efd0eee3",
   "metadata": {},
   "outputs": [
    {
     "data": {
      "text/plain": [
       "[1, 4, 9, 16, 25, 36, 49, 64, 81, 100]"
      ]
     },
     "execution_count": 42,
     "metadata": {},
     "output_type": "execute_result"
    }
   ],
   "source": [
    "list(map(lambda x:x**2,l1))"
   ]
  },
  {
   "cell_type": "markdown",
   "id": "57acb305-e0f1-4dca-9e6b-1b34528d3270",
   "metadata": {},
   "source": [
    "## 2 e) Find the cube root of numbers from 1 to 10"
   ]
  },
  {
   "cell_type": "code",
   "execution_count": 43,
   "id": "0b6e8292-1941-43c5-a39e-9abb7d1065af",
   "metadata": {},
   "outputs": [],
   "source": [
    "l2=[1,2,3,4,5,6,7,8,9,10]"
   ]
  },
  {
   "cell_type": "code",
   "execution_count": 46,
   "id": "213c5287-4bd6-4303-8a6e-a8ce4f6d95f4",
   "metadata": {},
   "outputs": [
    {
     "data": {
      "text/plain": [
       "[1.0,\n",
       " 1.2599210498948732,\n",
       " 1.4422495703074083,\n",
       " 1.5874010519681994,\n",
       " 1.7099759466766968,\n",
       " 1.8171205928321397,\n",
       " 1.912931182772389,\n",
       " 2.0,\n",
       " 2.080083823051904,\n",
       " 2.154434690031884]"
      ]
     },
     "execution_count": 46,
     "metadata": {},
     "output_type": "execute_result"
    }
   ],
   "source": [
    "list(map(lambda x:x**(1/3) ,l2))"
   ]
  },
  {
   "cell_type": "code",
   "execution_count": 47,
   "id": "031195c4-77e4-4d76-9534-85dada096a8a",
   "metadata": {},
   "outputs": [],
   "source": [
    "def cube(x):\n",
    "    if x<0 :\n",
    "        x=abs(x)\n",
    "        res=x**(1/3) *(-1)\n",
    "        return res\n",
    "    else:\n",
    "        res=x**(1/3)\n",
    "        return res"
   ]
  },
  {
   "cell_type": "code",
   "execution_count": 48,
   "id": "9539ac42-fbcc-41e2-8eb3-beedca44feaf",
   "metadata": {},
   "outputs": [
    {
     "data": {
      "text/plain": [
       "[1.0,\n",
       " 1.2599210498948732,\n",
       " 1.4422495703074083,\n",
       " 1.5874010519681994,\n",
       " 1.7099759466766968,\n",
       " 1.8171205928321397,\n",
       " 1.912931182772389,\n",
       " 2.0,\n",
       " 2.080083823051904,\n",
       " 2.154434690031884]"
      ]
     },
     "execution_count": 48,
     "metadata": {},
     "output_type": "execute_result"
    }
   ],
   "source": [
    "list(map(cube,l2))"
   ]
  },
  {
   "cell_type": "markdown",
   "id": "152d0ccd-29b3-4665-9941-1b36044a385a",
   "metadata": {},
   "source": [
    "## 2 f) Check if a given number is even"
   ]
  },
  {
   "cell_type": "code",
   "execution_count": 49,
   "id": "b1ce4b7a-3bbe-4ffd-9089-4a496f043cd4",
   "metadata": {},
   "outputs": [],
   "source": [
    "l3=[1,2,3,4,5,6,7,8,9,10]"
   ]
  },
  {
   "cell_type": "code",
   "execution_count": 52,
   "id": "603f9e63-1a01-40c8-a9b3-07d96516a8bf",
   "metadata": {},
   "outputs": [
    {
     "data": {
      "text/plain": [
       "[2, 4, 6, 8, 10]"
      ]
     },
     "execution_count": 52,
     "metadata": {},
     "output_type": "execute_result"
    }
   ],
   "source": [
    "list(filter(lambda x:x%2==0 ,l3))"
   ]
  },
  {
   "cell_type": "markdown",
   "id": "b87620a7-aeeb-4dbd-80c2-9847716a75cb",
   "metadata": {},
   "source": [
    "## 2 g) Filter odd numbers from the given list.\n",
    "[1,2,3,4,5,6,7,8,9,10]"
   ]
  },
  {
   "cell_type": "code",
   "execution_count": 53,
   "id": "26cb75cd-ec4e-4df0-87e8-4e745829d139",
   "metadata": {},
   "outputs": [],
   "source": [
    "l4=[1,2,3,4,5,6,7,8,9,10]"
   ]
  },
  {
   "cell_type": "code",
   "execution_count": 55,
   "id": "d6904c01-b6b2-4752-958f-8eb42288bea1",
   "metadata": {},
   "outputs": [
    {
     "data": {
      "text/plain": [
       "[1, 3, 5, 7, 9]"
      ]
     },
     "execution_count": 55,
     "metadata": {},
     "output_type": "execute_result"
    }
   ],
   "source": [
    "list(filter(lambda x:x%2!=0,l4))"
   ]
  },
  {
   "cell_type": "markdown",
   "id": "b6220919-cb7a-4f89-aaf6-a230dc54e719",
   "metadata": {},
   "source": [
    "## 2 h) Sort a list of integers into positive and negative integers lists.\n",
    "[1,2,3,4,5,6,-1,-2,-3,-4,-5,0]"
   ]
  },
  {
   "cell_type": "code",
   "execution_count": 56,
   "id": "3c7aba92-927d-4c65-9d5c-5785db743c0b",
   "metadata": {},
   "outputs": [],
   "source": [
    "l5=[1,2,3,4,5,6,-1,-2,-3,-4,-5,0]"
   ]
  },
  {
   "cell_type": "code",
   "execution_count": 59,
   "id": "c5bf3ac1-24db-4bcb-a3f7-4852b2642e73",
   "metadata": {},
   "outputs": [
    {
     "data": {
      "text/plain": [
       "[1, 2, 3, 4, 5, 6]"
      ]
     },
     "execution_count": 59,
     "metadata": {},
     "output_type": "execute_result"
    }
   ],
   "source": [
    "list(filter(lambda x:x>0,l5))"
   ]
  },
  {
   "cell_type": "code",
   "execution_count": 60,
   "id": "3f1deab1-3729-4988-98c3-0a91181052b1",
   "metadata": {},
   "outputs": [
    {
     "data": {
      "text/plain": [
       "[-1, -2, -3, -4, -5]"
      ]
     },
     "execution_count": 60,
     "metadata": {},
     "output_type": "execute_result"
    }
   ],
   "source": [
    "list(filter(lambda x:x<0,l5))"
   ]
  },
  {
   "cell_type": "code",
   "execution_count": 62,
   "id": "95d08e48-a4b1-4cc8-be26-2aed69265b75",
   "metadata": {},
   "outputs": [
    {
     "data": {
      "text/plain": [
       "[0]"
      ]
     },
     "execution_count": 62,
     "metadata": {},
     "output_type": "execute_result"
    }
   ],
   "source": [
    "list(filter(lambda x:x==0,l5))"
   ]
  },
  {
   "cell_type": "code",
   "execution_count": null,
   "id": "55fa82ab-2481-4be4-a31b-9a86cc634fa0",
   "metadata": {},
   "outputs": [],
   "source": []
  }
 ],
 "metadata": {
  "kernelspec": {
   "display_name": "Python 3 (ipykernel)",
   "language": "python",
   "name": "python3"
  },
  "language_info": {
   "codemirror_mode": {
    "name": "ipython",
    "version": 3
   },
   "file_extension": ".py",
   "mimetype": "text/x-python",
   "name": "python",
   "nbconvert_exporter": "python",
   "pygments_lexer": "ipython3",
   "version": "3.10.8"
  }
 },
 "nbformat": 4,
 "nbformat_minor": 5
}
