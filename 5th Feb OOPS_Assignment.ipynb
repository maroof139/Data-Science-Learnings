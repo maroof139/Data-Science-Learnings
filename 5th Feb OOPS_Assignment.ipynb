{
 "cells": [
  {
   "cell_type": "markdown",
   "id": "4bb7517d-b8ce-4eab-be4d-3d3d07d3549f",
   "metadata": {},
   "source": [
    "## 1. Explain Class and Object with respect to Object-Oriented Programming. Give a suitable example."
   ]
  },
  {
   "cell_type": "markdown",
   "id": "4467dce6-47aa-4573-a8ce-f80865eacf2d",
   "metadata": {},
   "source": [
    "### A class is considered as a blueprint of objects. We can think of the class as a sketch (prototype) of a house. It containsall the details about the floors, doors, windows, etc. Based on these descriptions we build the house. House is the object. Since many houses can be made from the same description, we can create many objects from a class.\n",
    "## A simple way of defining class is :\n",
    "### class class_name: \n",
    "###       #class definition\n",
    "### example - class pwskills: where pwskills is the class name.\n",
    "\n",
    "### An object is called an instance of a class. For example, suppose Bike is a class then we can create objects like bike1, bike2, etc from the class.\n",
    "### Here's the syntax to create an object.\n",
    "### ObjectName = ClassName\n",
    "\n",
    "### Example of both Class and object is below"
   ]
  },
  {
   "cell_type": "code",
   "execution_count": 1,
   "id": "701645a6-fb1b-467d-b5bc-850b4d7785fe",
   "metadata": {},
   "outputs": [
    {
     "name": "stdout",
     "output_type": "stream",
     "text": [
      "Name: Mountain Bike, Gears: 11 \n"
     ]
    }
   ],
   "source": [
    "# define a class\n",
    "class Bike:\n",
    "    name = \"\"\n",
    "    gear = 0\n",
    "\n",
    "# create object of class\n",
    "bike1 = Bike()\n",
    "\n",
    "# access attributes and assign new values\n",
    "bike1.gear = 11\n",
    "bike1.name = \"Mountain Bike\"\n",
    "\n",
    "print(f\"Name: {bike1.name}, Gears: {bike1.gear} \")"
   ]
  },
  {
   "cell_type": "markdown",
   "id": "572a26c2-4ef8-4d35-9b45-df2524528855",
   "metadata": {},
   "source": [
    "## 2. Name the four pillars of OOPs."
   ]
  },
  {
   "cell_type": "markdown",
   "id": "6c374ae4-21f3-410d-a56b-50519555cfbd",
   "metadata": {},
   "source": [
    "### The four pillares of OOPS are:\n",
    "1. Abstraction\n",
    "2. Encapsulation\n",
    "3. Inheritance\n",
    "4. Polymorphiism"
   ]
  },
  {
   "cell_type": "markdown",
   "id": "e2e8206a-db73-45ab-aec5-b267f4bfd5e5",
   "metadata": {},
   "source": [
    "## 3. Explain why the __init__() function is used. Give a suitable example."
   ]
  },
  {
   "cell_type": "markdown",
   "id": "56bbb47c-c355-467c-9e84-432b81036875",
   "metadata": {},
   "source": [
    "### init() is constructor or in-built function or an in-built method. The __init__  function is called every time an object is created from a class. The __init__ method lets the class initialize the object’s attributes and serves no other purpose. It is only used within classes. \n",
    "### Example : "
   ]
  },
  {
   "cell_type": "code",
   "execution_count": 3,
   "id": "0b54ad3d-bdca-4729-a5ff-9465f550c731",
   "metadata": {},
   "outputs": [],
   "source": [
    "class Dog:                \n",
    " \n",
    " def __init__(self, dogBreed=\"German Shepherd\",dogEyeColor=\"Brown\"): \n",
    "  \n",
    "    self.breed = dogBreed   \n",
    "    self.eyeColor = dogEyeColor"
   ]
  },
  {
   "cell_type": "code",
   "execution_count": 5,
   "id": "f97dc56d-ad8e-4b01-9689-04009452aff7",
   "metadata": {},
   "outputs": [],
   "source": [
    "tomita = Dog()"
   ]
  },
  {
   "cell_type": "markdown",
   "id": "ad030fc1-3185-4029-8c0a-43636656ed29",
   "metadata": {},
   "source": [
    "print(\"This dog is a\",tomita.breed,\"and its eyes are\",tomita.eyeColor)"
   ]
  },
  {
   "cell_type": "markdown",
   "id": "8c3461ac-6b12-4e1f-9c67-9fc1362b1489",
   "metadata": {},
   "source": [
    "## 4. Why self is used in OOPs?"
   ]
  },
  {
   "cell_type": "markdown",
   "id": "3aacc727-ccf6-43aa-b067-25abf105c2d5",
   "metadata": {},
   "source": [
    "### Self acts as a pointer or a reference to indicate that a method defined te class belongs to that particular class. Self represents the instance of the class. By using the “self” we can access the attributes and methods of the class in Python. It binds the attributes with the given arguments.  If you want to define an instance method, the foremost parameter of the method should always have to be self.\n",
    "### Example :"
   ]
  },
  {
   "cell_type": "code",
   "execution_count": 7,
   "id": "7fa09abd-d7e5-43a8-a608-081ecaeb0676",
   "metadata": {},
   "outputs": [
    {
     "name": "stdout",
     "output_type": "stream",
     "text": [
      "Area is: 60\n"
     ]
    }
   ],
   "source": [
    "class Rectangle (): \n",
    "    def __init__(self,x = 0,y = 0): \n",
    "        self.x = x \n",
    "        self.y = y \n",
    "    def area (self): \n",
    "        \"\"\"Find area of rectangle\"\"\" \n",
    "        return (self.x * self.y) \n",
    "rec1=Rectangle(6,10) \n",
    "print (\"Area is:\", rec1.area())"
   ]
  },
  {
   "cell_type": "markdown",
   "id": "cae05d85-81fd-4926-b39e-574d70bfa103",
   "metadata": {},
   "source": [
    "## 5. What is inheritance? Give an example for each type of inheritance."
   ]
  },
  {
   "cell_type": "markdown",
   "id": "0b439054-1e8d-488e-beff-87cae189141f",
   "metadata": {},
   "source": [
    "### Inheritance is the capacity of a particular class to obtain or inherit properties from another class and then use them when required. Inheritance has the following characteristics:\n",
    "### It is an excellent representation of relationships in the real world.\n",
    "### It allows code reuse. It doesn't require us to create the same code repeatedly and again. It also allows us to add options to an existing class without having to modify the existing code.\n",
    "### It is a transitive nature, meaning that if B is inherited from another class A, all the subclasses belonging to B will inherit directly from class A.\n",
    "### The different types of Inheritance are:"
   ]
  },
  {
   "cell_type": "markdown",
   "id": "038b9cb9-0f84-4361-8acd-7d9d28c1dfdd",
   "metadata": {},
   "source": [
    "### 1. Single Inheritance Single inheritance allows a derivate class to inherit properties of one parent class, and this allows code reuse and the introduction of additional features in existing code.\n",
    "### Example :"
   ]
  },
  {
   "cell_type": "code",
   "execution_count": 8,
   "id": "ad9ee73e-81cf-465a-a7f8-f626346d06e6",
   "metadata": {},
   "outputs": [
    {
     "name": "stdout",
     "output_type": "stream",
     "text": [
      "This function is defined inside the parent class.\n",
      "This function is defined inside the child class.\n"
     ]
    }
   ],
   "source": [
    "class Parent1:  \n",
    "    def func_1(self):  \n",
    "        print (\"This function is defined inside the parent class.\")    \n",
    "class Child1(Parent1):  \n",
    "    def func_2(self):  \n",
    "        print (\"This function is defined inside the child class.\")  \n",
    "object = Child1()  \n",
    "object.func_1()  \n",
    "object.func_2() "
   ]
  },
  {
   "cell_type": "markdown",
   "id": "8465b3e2-3cae-4f4a-abb8-c7002f67a34c",
   "metadata": {},
   "source": [
    "### 2. Multiple Inheritance If a class is able to be created from multiple base classes, this kind of Inheritance is known as multiple Inheritance. When there is multiple Inheritance, each of the attributes that are present in the classes of the base has been passed on to the class that is derived from it.\n",
    "### Example :"
   ]
  },
  {
   "cell_type": "code",
   "execution_count": 9,
   "id": "66f49faa-80ca-4058-a2d2-60892ab9359c",
   "metadata": {},
   "outputs": [
    {
     "name": "stdout",
     "output_type": "stream",
     "text": [
      "Father name is : Rajesh\n",
      "Mother name is : Shreya\n"
     ]
    }
   ],
   "source": [
    "class Mother1:  \n",
    "    mothername1 = \"\"  \n",
    "    def mother1(self):  \n",
    "        print(self.mothername1)  \n",
    "class Father1:  \n",
    "    fathername1 = \"\"  \n",
    "    def father1(self):  \n",
    "        print(self.fathername1)  \n",
    "class Son1(Mother1, Father1):  \n",
    "    def parents1(self):  \n",
    "        print (\"Father name is :\", self.fathername1)  \n",
    "        print (\"Mother name is :\", self.mothername1)    \n",
    "s1 = Son1()  \n",
    "s1.fathername1 = \"Rajesh\"  \n",
    "s1.mothername1 = \"Shreya\"  \n",
    "s1.parents1()  "
   ]
  },
  {
   "cell_type": "markdown",
   "id": "64b12080-73d3-4bc4-8abe-01308e5858bb",
   "metadata": {},
   "source": [
    "### 3. Multilevel inheritance, the features that are part of the original class, as well as the class that is derived from it, are passed on to the new class. It is similar to a relationship involving grandparents and children.\n",
    "### Example :"
   ]
  },
  {
   "cell_type": "code",
   "execution_count": 10,
   "id": "4016885d-3f34-4bf0-9a17-0d307b4ee6a9",
   "metadata": {},
   "outputs": [
    {
     "name": "stdout",
     "output_type": "stream",
     "text": [
      "John Jr Jr\n",
      "Grandfather name is : John Jr Jr\n",
      "Father name is : John Jr\n",
      "Son name is : John\n"
     ]
    }
   ],
   "source": [
    "class Grandfather1:  \n",
    "    def __init__(self, grandfathername1):  \n",
    "        self.grandfathername1 = grandfathername1  \n",
    "class Father1(Grandfather1):  \n",
    "    def __init__(self, fathername1, grandfathername1):  \n",
    "        self.fathername1 = fathername1    \n",
    "        Grandfather1.__init__(self, grandfathername1)    \n",
    "class Son1(Father1):  \n",
    "    def __init__(self,sonname1, fathername1, grandfathername1):  \n",
    "        self.sonname1 = sonname1  \n",
    "        Father1.__init__(self, fathername1, grandfathername1)  \n",
    "    def print_name(self):  \n",
    "        print('Grandfather name is :', self.grandfathername1)  \n",
    "        print(\"Father name is :\", self.fathername1)  \n",
    "        print(\"Son name is :\", self.sonname1)   \n",
    "s1 = Son1('John', 'John Jr', 'John Jr Jr')  \n",
    "print (s1.grandfathername1)  \n",
    "s1.print_name()  "
   ]
  },
  {
   "cell_type": "markdown",
   "id": "fcce6ebc-3fef-46cc-949b-99918e60fa82",
   "metadata": {},
   "source": [
    "### 4. Hierarchical Inheritance If multiple derived classes are created from the same base, this kind of Inheritance is known as hierarchical inheritance. In this instance, we have two base classes as a parent (base) class as well as two children (derived) classes.\n",
    "### Example :"
   ]
  },
  {
   "cell_type": "code",
   "execution_count": 11,
   "id": "a727b5df-ff5f-46d5-b3f5-eca309ce7447",
   "metadata": {},
   "outputs": [
    {
     "name": "stdout",
     "output_type": "stream",
     "text": [
      "This function is defined inside the parent class.\n",
      "This function is defined inside the child 1.\n",
      "This function is defined inside the parent class.\n",
      "This function is defined inside the child 2.\n"
     ]
    }
   ],
   "source": [
    "class Parent1:  \n",
    "    def func_1(self):  \n",
    "        print (\"This function is defined inside the parent class.\")  \n",
    "class Child_1(Parent1):  \n",
    "    def func_2(self):  \n",
    "        print (\"This function is defined inside the child 1.\")  \n",
    "class Child_2(Parent1):  \n",
    "    def func_3(self):  \n",
    "        print (\"This function is defined inside the child 2.\")  \n",
    "object1 = Child_1()  \n",
    "object2 = Child_2()  \n",
    "object1.func_1()  \n",
    "object1.func_2()  \n",
    "object2.func_1()  \n",
    "object2.func_3()  "
   ]
  },
  {
   "cell_type": "markdown",
   "id": "dbceaf52-b4aa-4581-a4a1-97729449ab69",
   "metadata": {},
   "source": [
    "### 5. Hybrid Inheritance: Hybrid inheritance satisfies more than one form of inheritance ie. It may be consists of all types of inheritance that we have done above. It is not wrong if we say Hybrid Inheritance is the combinations of simple, multiple, multilevel and hierarchical inheritance. This type of inheritance is very helpful if we want to use concepts of inheritance without any limitations according to our requirements.\n",
    "### Example :"
   ]
  },
  {
   "cell_type": "code",
   "execution_count": 16,
   "id": "6c850cfa-a4b3-4006-ab19-cee013ee19f7",
   "metadata": {},
   "outputs": [
    {
     "name": "stdout",
     "output_type": "stream",
     "text": [
      "This is Student class inheriting PC and Laptop\n",
      "This is Mouse class inheriting Laptop class\n"
     ]
    }
   ],
   "source": [
    "class PC:\n",
    "    def fun1(self):\n",
    "        print(\"This is PC class\")\n",
    "class Laptop(PC):\n",
    "    def fun2(self):\n",
    "        print(\"This is Laptop class inheriting PC class\")\n",
    "class Mouse(Laptop):\n",
    "    def fun3(self):\n",
    "        print(\"This is Mouse class inheriting Laptop class\")\n",
    "class Student(Mouse, Laptop):\n",
    "    def fun4(self):\n",
    "        print(\"This is Student class inheriting PC and Laptop\")\n",
    "obj = Student()\n",
    "obj1 = Mouse()\n",
    "obj.fun4()\n",
    "obj.fun3()"
   ]
  },
  {
   "cell_type": "code",
   "execution_count": null,
   "id": "87280a58-5d30-46fd-8531-d82bf9afb14e",
   "metadata": {},
   "outputs": [],
   "source": []
  }
 ],
 "metadata": {
  "kernelspec": {
   "display_name": "Python 3 (ipykernel)",
   "language": "python",
   "name": "python3"
  },
  "language_info": {
   "codemirror_mode": {
    "name": "ipython",
    "version": 3
   },
   "file_extension": ".py",
   "mimetype": "text/x-python",
   "name": "python",
   "nbconvert_exporter": "python",
   "pygments_lexer": "ipython3",
   "version": "3.10.8"
  }
 },
 "nbformat": 4,
 "nbformat_minor": 5
}
