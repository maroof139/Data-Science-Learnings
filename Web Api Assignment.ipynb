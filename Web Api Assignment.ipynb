{
 "cells": [
  {
   "cell_type": "markdown",
   "id": "a7fd8a42-3c4e-4b79-8ad5-3fdd61978a00",
   "metadata": {},
   "source": [
    "## Q1. What is an API? Give an example, where an API is used in real life."
   ]
  },
  {
   "cell_type": "markdown",
   "id": "ae009ebe-8260-4aa8-9c35-f7696afd51e4",
   "metadata": {},
   "source": [
    "### APIs are bits of software that act as interpreters for two different programs. They’ll connect to each service via endpoints and relay messages back and forth, doing the work of software integration for you. APIs act as interpreters between different programs, connecting services via endpoints and relaying messages, making software integration seamless. APIs are essential in modern technology, allowing different applications to communicate and access specific features or data without understanding the underlying code.\n",
    "### In everyday life, APIs power various experiences, from social media interactions to real-time weather data access.\n",
    "### Public API examples include social media bots, third-party login, e-commerce transactions, and weather apps.\n",
    "### Private API examples include streaming services, ensuring media compatibility on various devices, and financial apps that connect different aspects of managing finances in a bank."
   ]
  },
  {
   "cell_type": "markdown",
   "id": "5c4f5870-eade-4053-8870-077573542f4b",
   "metadata": {},
   "source": [
    "## Q2. Give advantages and disadvantages of using API."
   ]
  },
  {
   "cell_type": "markdown",
   "id": "df7ff3c5-a3a4-4aad-8fe6-3e7e560f7cad",
   "metadata": {},
   "source": [
    "### Advantages\n",
    "### Increased Interoperability: API solutions enable different software systems to communicate with each other, regardless of their programming language or platform. This enhances the interoperability between systems, allowing for the exchange of data and functionality.\n",
    "### Improved Efficiency: API driven infrastructures enable developers to reuse code and functionality from existing software systems, saving time and reducing the amount of code that needs to be written from scratch.\n",
    "### Better User Experience: APIs can enable third-party developers to create applications that integrate with existing software systems, providing a better user experience and increased functionality.\n",
    "### Increased Flexibility: APIs provide developers with greater flexibility, enabling them to choose the best programming languages and frameworks for their needs.\n",
    "### Disadvantages\n",
    "### Security Concerns: API infrastructures can be vulnerable to security breaches, such as SQL injection attacks and cross-site scripting (XSS) attacks, making it crucial to implement security measures to protect against these threats.\n",
    "### Complexity: APIs can be complex, requiring a significant amount of development effort to implement and maintain.\n",
    "### Compatibility Issues: APIs can have compatibility issues between different versions of the same software system or between different systems, which can lead to errors and system failures.\n",
    "### Dependency on Third-Party Developers: APIs rely on third-party developers to create applications that integrate with the software system. This can create dependencies that are outside of the control of the company that owns the software system."
   ]
  },
  {
   "cell_type": "markdown",
   "id": "77ea2f12-8783-4857-b72d-a7189d739f16",
   "metadata": {},
   "source": [
    "## Q3. What is a Web API? Differentiate between API and Web API."
   ]
  },
  {
   "cell_type": "markdown",
   "id": "4eb164f4-747c-442b-9efc-b2c668c08461",
   "metadata": {},
   "source": [
    "### Web API is a System to System interaction, in which the data or information from one system can be accessed by another system, after the completion of execution the resultant data or we can say as output is shown to the viewer. API provides data to its programmers which is made available to outside users.\n",
    "### Web service is a collection of open source protocols and standards used for exchanging data between systems or applications, whereas API is a software interface that allows two applications to interact with each other without any user involvement.\n",
    "### Web service is used for REST, SOAP, and XML-RPC for communication, while API is used for any style of communication.\n",
    "### Web service supports only HTTP protocol, whereas API supports HTTP/HTTPS protocol.\n",
    "### Web service supports XML, while API supports XML and JSON.\n",
    "### All Web services are APIs, but all APIs are not web services."
   ]
  },
  {
   "cell_type": "markdown",
   "id": "fa18d503-67ca-4e8d-8858-0275b371f893",
   "metadata": {},
   "source": [
    "## Q4. Explain REST and SOAP Architecture. Mention shortcomings of SOAP."
   ]
  },
  {
   "cell_type": "markdown",
   "id": "b461cf82-aae9-4b27-92b7-3c99aeffd9ac",
   "metadata": {},
   "source": [
    "### REST stands for REpresentational State Transfer. It is an architectural style that provides standards between computer systems on a web service. It is a set of constraints used to create a lightweight, scalable, and maintainable web service that facilitates easy communication. It is a set of constraints used to create a lightweight, scalable and maintainable web service that makes easy communication with each other. All web services are based on the REST; hence it is called a RESTful service. The purpose of developing a RESTful web service is to make the web service more effective.\n",
    "### SOAP stands for Simple Object Access Protocol is a network platform used in a web service to exchange or communicate data between two different machines on a network. It uses the XML format of data to transfer messages over the HTTP protocol. In Web services, SOAP allows the user request to interact with other programming languages. In this way, it provides a way to communicate between applications running on different platforms (Operating system), with programming languages and technologies used in web service.\n",
    "### Shortcomings or disadvantages:\n",
    "### SOAP is used only XML format data in web service, whereas JSON and other lightweight formats are not supported by it.\n",
    "### It is slow because it uses XML format, whereas the payload for a simple string message is large.\n",
    "### There are no security features in the SOAP specification.\n",
    "### There is no state reference for the remote object in the SOAP client."
   ]
  },
  {
   "cell_type": "markdown",
   "id": "0ca872b0-f804-401c-bf15-8549e95899a6",
   "metadata": {},
   "source": [
    "## Q5. Differentiate between REST and SOAP."
   ]
  },
  {
   "cell_type": "markdown",
   "id": "0f17d38d-095d-4ce3-8f0a-b30c2091067b",
   "metadata": {},
   "source": [
    "### SOAP stands for Simple Object Access Protocol and REST stands for Representational State Transfer.\n",
    "### Since SOAP is a protocol, it follows a strict standard to allow communication between the client and the server whereas REST is an architectural style that doesn’t follow any strict standard but follows six constraints defined by Roy Fielding in 2000. Those constraints are – Uniform Interface, Client-Server, Stateless, Cacheable, Layered System, Code on Demand.\n",
    "### SOAP uses only XML for exchanging information in its message format whereas REST is not restricted to XML and its the choice of implementer which Media-Type to use like XML, JSON, Plain-text. Moreover, REST can use SOAP protocol but SOAP cannot use REST.\n",
    "### On behalf of services interfaces to business logic, SOAP uses @WebService whereas REST instead of using interfaces uses URI like @Path.\n",
    "### SOAP is difficult to implement and it requires more bandwidth whereas REST is easy to implement and requires less bandwidth such as smartphones.\n",
    "### Benefits of SOAP over REST as SOAP has ACID compliance transaction. Some of the applications require transaction ability which is accepted by SOAP whereas REST lacks in it."
   ]
  }
 ],
 "metadata": {
  "kernelspec": {
   "display_name": "Python 3 (ipykernel)",
   "language": "python",
   "name": "python3"
  },
  "language_info": {
   "codemirror_mode": {
    "name": "ipython",
    "version": 3
   },
   "file_extension": ".py",
   "mimetype": "text/x-python",
   "name": "python",
   "nbconvert_exporter": "python",
   "pygments_lexer": "ipython3",
   "version": "3.10.8"
  }
 },
 "nbformat": 4,
 "nbformat_minor": 5
}
