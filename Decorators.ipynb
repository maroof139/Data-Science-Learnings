{
 "cells": [
  {
   "cell_type": "code",
   "execution_count": 1,
   "id": "6bcdfae8-302f-480c-9fee-c1c5b9cc05e3",
   "metadata": {},
   "outputs": [],
   "source": [
    "def test():\n",
    "    print(\"this is start of my fun\")\n",
    "    print(4+5)\n",
    "    print(\"this is start of my fun\")"
   ]
  },
  {
   "cell_type": "code",
   "execution_count": 2,
   "id": "ae2628e0-289f-462a-81ba-e5e5cc01a5f6",
   "metadata": {},
   "outputs": [
    {
     "name": "stdout",
     "output_type": "stream",
     "text": [
      "this is start of my fun\n",
      "9\n",
      "this is start of my fun\n"
     ]
    }
   ],
   "source": [
    "test()"
   ]
  },
  {
   "cell_type": "code",
   "execution_count": 6,
   "id": "5d0661e7-79ba-4c0e-b337-ea6c420a02ef",
   "metadata": {},
   "outputs": [],
   "source": [
    "def deco(func):\n",
    "    def inner_deco():\n",
    "        print(\"this is start of my fun\")\n",
    "        func()\n",
    "        print(\"this is start of my fun\")\n",
    "    return inner_deco"
   ]
  },
  {
   "cell_type": "code",
   "execution_count": 7,
   "id": "5ed6da95-d152-490d-bf33-f813abf2cde3",
   "metadata": {},
   "outputs": [],
   "source": [
    "@deco\n",
    "def test1():\n",
    "    print(4+5)"
   ]
  },
  {
   "cell_type": "code",
   "execution_count": 8,
   "id": "75cb3255-0273-42a8-8a53-c770e91f43e5",
   "metadata": {},
   "outputs": [
    {
     "name": "stdout",
     "output_type": "stream",
     "text": [
      "this is start of my fun\n",
      "9\n",
      "this is start of my fun\n"
     ]
    }
   ],
   "source": [
    "test1()"
   ]
  },
  {
   "cell_type": "code",
   "execution_count": 14,
   "id": "2731fcf5-23f5-47d2-8047-65d2341982c1",
   "metadata": {},
   "outputs": [],
   "source": [
    "import time\n",
    "def time_test(func):\n",
    "    def timer_test_inner():\n",
    "        start=time.time()\n",
    "        func()\n",
    "        end=time.time()\n",
    "        print(end-start)\n",
    "    return timer_test_inner"
   ]
  },
  {
   "cell_type": "code",
   "execution_count": 15,
   "id": "0ff54129-1ffa-4c10-8833-e3dd3d247c5b",
   "metadata": {},
   "outputs": [],
   "source": [
    "@time_test\n",
    "def test2():\n",
    "    print(45+69)"
   ]
  },
  {
   "cell_type": "code",
   "execution_count": 16,
   "id": "f5f0f3ac-b400-4be5-83e3-031c5d58b01b",
   "metadata": {},
   "outputs": [
    {
     "name": "stdout",
     "output_type": "stream",
     "text": [
      "114\n",
      "0.00010895729064941406\n"
     ]
    }
   ],
   "source": [
    "test2()"
   ]
  },
  {
   "cell_type": "code",
   "execution_count": 24,
   "id": "d5138e4e-c0b2-4397-9ef4-38f92253b510",
   "metadata": {},
   "outputs": [],
   "source": [
    "@time_test\n",
    "def test3():\n",
    "    for i in range(1000000):\n",
    "        pass"
   ]
  },
  {
   "cell_type": "code",
   "execution_count": 25,
   "id": "270f6582-9d6d-4eef-8077-a03288980b4e",
   "metadata": {},
   "outputs": [
    {
     "name": "stdout",
     "output_type": "stream",
     "text": [
      "0.06558370590209961\n"
     ]
    }
   ],
   "source": [
    "test3()"
   ]
  },
  {
   "cell_type": "code",
   "execution_count": null,
   "id": "a7e3b250-2733-4d73-9e03-7fc0ce3b4c76",
   "metadata": {},
   "outputs": [],
   "source": []
  }
 ],
 "metadata": {
  "kernelspec": {
   "display_name": "Python 3 (ipykernel)",
   "language": "python",
   "name": "python3"
  },
  "language_info": {
   "codemirror_mode": {
    "name": "ipython",
    "version": 3
   },
   "file_extension": ".py",
   "mimetype": "text/x-python",
   "name": "python",
   "nbconvert_exporter": "python",
   "pygments_lexer": "ipython3",
   "version": "3.10.8"
  }
 },
 "nbformat": 4,
 "nbformat_minor": 5
}
