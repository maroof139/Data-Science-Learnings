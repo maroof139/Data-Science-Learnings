{
 "cells": [
  {
   "cell_type": "markdown",
   "id": "3e143d9c-df49-4a38-82a7-e161b5ffa865",
   "metadata": {},
   "source": [
    "1. Write a program to accept percentage from the user and display the grade accordingly\n",
    "Marks         Grade\n",
    ">90            A\n",
    ">80 and <=90   B\n",
    ">=60 and <=80  C\n",
    "Below 60       D"
   ]
  },
  {
   "cell_type": "code",
   "execution_count": 1,
   "id": "df39e168-72f3-4e09-aa39-e9ce7b14c6b6",
   "metadata": {},
   "outputs": [
    {
     "name": "stdin",
     "output_type": "stream",
     "text": [
      "Enter marks =  95\n"
     ]
    },
    {
     "name": "stdout",
     "output_type": "stream",
     "text": [
      "Your Grade is A\n"
     ]
    }
   ],
   "source": [
    "marks=int(input(\"Enter marks = \"))\n",
    "if marks > 90:\n",
    "    print(\"Your Grade is A\")\n",
    "elif marks > 80 and marks <= 90:\n",
    "    print(\"Your Grade is B\")\n",
    "elif marks >= 60 and marks <= 80:\n",
    "    print(\"Your Grade is C\")\n",
    "else:\n",
    "    print(\"Your Grade is D\")"
   ]
  },
  {
   "cell_type": "markdown",
   "id": "6e6aae31-e54a-4576-a85f-d94060dba4dd",
   "metadata": {},
   "source": [
    "2. Write a program to accept the cost price of bike and display road tax to be paid accordingly"
   ]
  },
  {
   "cell_type": "code",
   "execution_count": 2,
   "id": "08866cd4-cfb3-4cfc-b1f2-24958fe28d95",
   "metadata": {},
   "outputs": [
    {
     "name": "stdin",
     "output_type": "stream",
     "text": [
      "Enter the bike price= 75000\n"
     ]
    },
    {
     "name": "stdout",
     "output_type": "stream",
     "text": [
      "you need to pay 10% tax\n"
     ]
    }
   ],
   "source": [
    "cost=int(input(\"Enter the bike price=\"))\n",
    "if cost > 100000:\n",
    "    print(\"you need to pay 15% tax\")\n",
    "elif cost > 50000 and cost <=100000:\n",
    "    print(\"you need to pay 10% tax\")\n",
    "else:\n",
    "    print(\"you need to pay 5% tax\")"
   ]
  },
  {
   "cell_type": "markdown",
   "id": "687765a8-c5c8-48ac-9d1c-fbc714c0134a",
   "metadata": {},
   "source": [
    "3. Write a program to accept the city and print the famous monument present in that city"
   ]
  },
  {
   "cell_type": "code",
   "execution_count": 3,
   "id": "31f1d8be-07fc-41b4-88c5-8af5241b689a",
   "metadata": {},
   "outputs": [
    {
     "name": "stdin",
     "output_type": "stream",
     "text": [
      "Enter the city name =  Delhi\n"
     ]
    },
    {
     "name": "stdout",
     "output_type": "stream",
     "text": [
      "Please visit Red Fort\n"
     ]
    }
   ],
   "source": [
    "city = input(\"Enter the city name = \")\n",
    "if city == 'Delhi':\n",
    "    print(\"Please visit Red Fort\")\n",
    "elif city == 'Agra':\n",
    "    print(\"Please visit Taj Mahal\")\n",
    "elif city == 'Jaipur':\n",
    "    print(\"Please visit Jal Mahal\")\n",
    "else:\n",
    "    print(\"Please visit any city\")"
   ]
  },
  {
   "cell_type": "markdown",
   "id": "182f0402-5a5d-45a7-8239-c54aa511aed5",
   "metadata": {},
   "source": [
    "4. Check how many times a number can be divided by 3 before it is less than or equal to 0"
   ]
  },
  {
   "cell_type": "code",
   "execution_count": 10,
   "id": "ff4fab6c-388a-4839-a14f-66132cb9369e",
   "metadata": {},
   "outputs": [
    {
     "name": "stdout",
     "output_type": "stream",
     "text": [
      "the number of times a number can be divided by 3 is 3\n"
     ]
    }
   ],
   "source": [
    "count = 0\n",
    "number = 100\n",
    "while number > 10:\n",
    "    number = number / 3\n",
    "    count = count + 1\n",
    "print(\"the number of times a number can be divided by 3 is\", count)"
   ]
  },
  {
   "cell_type": "markdown",
   "id": "4674e4b1-2d1a-4b99-addb-38f121192518",
   "metadata": {},
   "source": [
    "5. Why and when to use While loop in python, give detailed description with example"
   ]
  },
  {
   "cell_type": "markdown",
   "id": "872cc0e9-d301-4659-a264-9d99e37b9cc9",
   "metadata": {},
   "source": [
    "A while loop will run a piece of code while a condition is True. It will keep executing the desired set of code statements until that condition is no longer True.\n",
    "A while loop will always first check the condition before running.\n",
    "If the condition evaluates to True then the loop will run the code within the loop's body.\n",
    "Here is an example"
   ]
  },
  {
   "cell_type": "code",
   "execution_count": 15,
   "id": "3198e3bf-d66d-49fb-9f14-fd2188fc36d2",
   "metadata": {},
   "outputs": [
    {
     "name": "stdin",
     "output_type": "stream",
     "text": [
      "Enter a number =  1\n"
     ]
    },
    {
     "name": "stdout",
     "output_type": "stream",
     "text": [
      "number is 1\n",
      "number is 2\n",
      "number is 3\n",
      "number is 4\n"
     ]
    }
   ],
   "source": [
    "num = int(input(\"Enter a number = \"))\n",
    "while num < 5:\n",
    "    print(\"number is {}\".format(num))\n",
    "    num = num + 1"
   ]
  },
  {
   "cell_type": "markdown",
   "id": "a164cbbb-791e-44da-a199-440a219a78af",
   "metadata": {},
   "source": [
    "6. Use nested while loop to print 3 different pattern"
   ]
  },
  {
   "cell_type": "code",
   "execution_count": 16,
   "id": "1ed99680-ee75-4ec3-92a5-2183a902f62b",
   "metadata": {},
   "outputs": [
    {
     "name": "stdout",
     "output_type": "stream",
     "text": [
      "*\n",
      "**\n",
      "***\n",
      "****\n",
      "*****\n",
      "******\n",
      "*******\n"
     ]
    }
   ],
   "source": [
    "n=7\n",
    "for i in range(0,n):\n",
    "    for j in range(0,i+1):\n",
    "        print(\"*\",end='')\n",
    "    print(\"\\r\")"
   ]
  },
  {
   "cell_type": "code",
   "execution_count": 18,
   "id": "82a8f51f-ab3e-4f49-b8ba-fcb311c94c3b",
   "metadata": {},
   "outputs": [
    {
     "name": "stdin",
     "output_type": "stream",
     "text": [
      "Enter number of rows :  6\n"
     ]
    },
    {
     "name": "stdout",
     "output_type": "stream",
     "text": [
      "* * * * * * \n",
      "* * * * * \n",
      "* * * * \n",
      "* * * \n",
      "* * \n",
      "* \n"
     ]
    }
   ],
   "source": [
    "n = int(input('Enter number of rows : '))\n",
    "i = 1\n",
    "while i <= n :\n",
    "    j = n\n",
    "    while j >= i:\n",
    "        print(\"*\", end = \" \")\n",
    "        j -= 1\n",
    "    print()\n",
    "    i += 1"
   ]
  },
  {
   "cell_type": "code",
   "execution_count": 19,
   "id": "566d36c6-375f-4242-b876-cfc31e78e428",
   "metadata": {},
   "outputs": [
    {
     "name": "stdin",
     "output_type": "stream",
     "text": [
      "Enter number of rows :  9\n"
     ]
    },
    {
     "name": "stdout",
     "output_type": "stream",
     "text": [
      "  1 \n",
      "  2   3 \n",
      "  4   5   6 \n",
      "  7   8   9  10 \n",
      " 11  12  13  14  15 \n",
      " 16  17  18  19  20  21 \n",
      " 22  23  24  25  26  27  28 \n",
      " 29  30  31  32  33  34  35  36 \n",
      " 37  38  39  40  41  42  43  44  45 \n"
     ]
    }
   ],
   "source": [
    "n = int(input('Enter number of rows : '))\n",
    " \n",
    "k = 1\n",
    "i = 1\n",
    "while i <= n :\n",
    "    j = 1\n",
    "    while j <= i:\n",
    "        print(\"{:3d}\".format(k), end = \" \")\n",
    "        j += 1\n",
    "        k += 1\n",
    "    print()\n",
    "    i += 1"
   ]
  },
  {
   "cell_type": "markdown",
   "id": "ba927e4f-7361-46cd-a0ad-337527a005d0",
   "metadata": {},
   "source": [
    "7. Reverse a while loop to display numbers from 10 to 1"
   ]
  },
  {
   "cell_type": "code",
   "execution_count": 21,
   "id": "74e09a92-4552-41ec-8ddd-04d2c822096c",
   "metadata": {},
   "outputs": [
    {
     "name": "stdout",
     "output_type": "stream",
     "text": [
      "10\n",
      "9\n",
      "8\n",
      "7\n",
      "6\n",
      "5\n",
      "4\n",
      "3\n",
      "2\n",
      "1\n",
      "0\n"
     ]
    }
   ],
   "source": [
    "i = 11\n",
    "while i > 0:\n",
    "    i = i - 1\n",
    "    print(i)"
   ]
  },
  {
   "cell_type": "code",
   "execution_count": null,
   "id": "6684aae2-666a-48d9-b4dc-134ee4b316d4",
   "metadata": {},
   "outputs": [],
   "source": []
  }
 ],
 "metadata": {
  "kernelspec": {
   "display_name": "Python 3 (ipykernel)",
   "language": "python",
   "name": "python3"
  },
  "language_info": {
   "codemirror_mode": {
    "name": "ipython",
    "version": 3
   },
   "file_extension": ".py",
   "mimetype": "text/x-python",
   "name": "python",
   "nbconvert_exporter": "python",
   "pygments_lexer": "ipython3",
   "version": "3.10.8"
  }
 },
 "nbformat": 4,
 "nbformat_minor": 5
}
