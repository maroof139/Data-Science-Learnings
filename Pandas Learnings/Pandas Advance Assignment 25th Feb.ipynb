{
 "cells": [
  {
   "cell_type": "markdown",
   "id": "c282dd58-a08b-4a7b-9502-691d8bf2851c",
   "metadata": {},
   "source": [
    "Consider following code to answer further questions:\n",
    "import pandas as pd\n",
    "course_name = [‘Data Science’, ‘Machine Learning’, ‘Big Data’, ‘Data Engineer’]\n",
    "duration = [2,3,6,4]\n",
    "df = pd.DataFrame(data = {‘course_name’ : course_name, ‘duration’ : duration})\n",
    "Q1. Write a code to print the data present in the second row of the dataframe, df."
   ]
  },
  {
   "cell_type": "code",
   "execution_count": 1,
   "id": "8f0f2a49-a730-492b-980e-7ea729f3cdb3",
   "metadata": {},
   "outputs": [],
   "source": [
    "import pandas as pd\n",
    "course_name = ['Data Science', 'Machine Learning', 'Big Data', 'Data Engineer']\n",
    "duration = [2,3,6,4]\n",
    "df = pd.DataFrame(data = {'course_name' : course_name, 'duration' : duration})"
   ]
  },
  {
   "cell_type": "code",
   "execution_count": 2,
   "id": "e24d7b94-8f26-4701-b1ce-bcac941171f1",
   "metadata": {},
   "outputs": [
    {
     "data": {
      "text/html": [
       "<div>\n",
       "<style scoped>\n",
       "    .dataframe tbody tr th:only-of-type {\n",
       "        vertical-align: middle;\n",
       "    }\n",
       "\n",
       "    .dataframe tbody tr th {\n",
       "        vertical-align: top;\n",
       "    }\n",
       "\n",
       "    .dataframe thead th {\n",
       "        text-align: right;\n",
       "    }\n",
       "</style>\n",
       "<table border=\"1\" class=\"dataframe\">\n",
       "  <thead>\n",
       "    <tr style=\"text-align: right;\">\n",
       "      <th></th>\n",
       "      <th>course_name</th>\n",
       "      <th>duration</th>\n",
       "    </tr>\n",
       "  </thead>\n",
       "  <tbody>\n",
       "    <tr>\n",
       "      <th>0</th>\n",
       "      <td>Data Science</td>\n",
       "      <td>2</td>\n",
       "    </tr>\n",
       "    <tr>\n",
       "      <th>1</th>\n",
       "      <td>Machine Learning</td>\n",
       "      <td>3</td>\n",
       "    </tr>\n",
       "    <tr>\n",
       "      <th>2</th>\n",
       "      <td>Big Data</td>\n",
       "      <td>6</td>\n",
       "    </tr>\n",
       "    <tr>\n",
       "      <th>3</th>\n",
       "      <td>Data Engineer</td>\n",
       "      <td>4</td>\n",
       "    </tr>\n",
       "  </tbody>\n",
       "</table>\n",
       "</div>"
      ],
      "text/plain": [
       "        course_name  duration\n",
       "0      Data Science         2\n",
       "1  Machine Learning         3\n",
       "2          Big Data         6\n",
       "3     Data Engineer         4"
      ]
     },
     "execution_count": 2,
     "metadata": {},
     "output_type": "execute_result"
    }
   ],
   "source": [
    "df"
   ]
  },
  {
   "cell_type": "code",
   "execution_count": 3,
   "id": "10d7126a-81ee-4821-a5e6-756bf2a0465d",
   "metadata": {},
   "outputs": [
    {
     "data": {
      "text/plain": [
       "course_name    Machine Learning\n",
       "duration                      3\n",
       "Name: 1, dtype: object"
      ]
     },
     "execution_count": 3,
     "metadata": {},
     "output_type": "execute_result"
    }
   ],
   "source": [
    "df.loc[1]"
   ]
  },
  {
   "cell_type": "markdown",
   "id": "08130934-12de-42ee-9341-009d1d14893f",
   "metadata": {},
   "source": [
    "Q2. What is the difference between the functions loc and iloc in pandas.DataFrame?"
   ]
  },
  {
   "cell_type": "markdown",
   "id": "628ae011-05e5-4cbf-bd52-26a34ae899e0",
   "metadata": {},
   "source": [
    "loc[] method is a label based method that means it takes names or labels of the index when taking the slices, whereas . iloc[] method is based on the index's position. It behaves like a regular slicing where we just have to indicate the positional index number and simply get the appropriate slice."
   ]
  },
  {
   "cell_type": "markdown",
   "id": "4ab0e347-e27f-410a-949b-95495a529ba2",
   "metadata": {},
   "source": [
    "Q3. Reindex the given dataframe using a variable, reindex = [3,0,1,2] and store it in the variable, new_df\n",
    "then find the output for both new_df.loc[2] and new_df.iloc[2]."
   ]
  },
  {
   "cell_type": "code",
   "execution_count": 4,
   "id": "9555416b-4d92-44b3-a355-ea0c2e4852c0",
   "metadata": {},
   "outputs": [],
   "source": [
    "new_df=df.reindex([3,0,1,2])"
   ]
  },
  {
   "cell_type": "code",
   "execution_count": 5,
   "id": "d0a448e7-5b1e-4992-9a2c-2972c904566a",
   "metadata": {},
   "outputs": [
    {
     "data": {
      "text/html": [
       "<div>\n",
       "<style scoped>\n",
       "    .dataframe tbody tr th:only-of-type {\n",
       "        vertical-align: middle;\n",
       "    }\n",
       "\n",
       "    .dataframe tbody tr th {\n",
       "        vertical-align: top;\n",
       "    }\n",
       "\n",
       "    .dataframe thead th {\n",
       "        text-align: right;\n",
       "    }\n",
       "</style>\n",
       "<table border=\"1\" class=\"dataframe\">\n",
       "  <thead>\n",
       "    <tr style=\"text-align: right;\">\n",
       "      <th></th>\n",
       "      <th>course_name</th>\n",
       "      <th>duration</th>\n",
       "    </tr>\n",
       "  </thead>\n",
       "  <tbody>\n",
       "    <tr>\n",
       "      <th>3</th>\n",
       "      <td>Data Engineer</td>\n",
       "      <td>4</td>\n",
       "    </tr>\n",
       "    <tr>\n",
       "      <th>0</th>\n",
       "      <td>Data Science</td>\n",
       "      <td>2</td>\n",
       "    </tr>\n",
       "    <tr>\n",
       "      <th>1</th>\n",
       "      <td>Machine Learning</td>\n",
       "      <td>3</td>\n",
       "    </tr>\n",
       "    <tr>\n",
       "      <th>2</th>\n",
       "      <td>Big Data</td>\n",
       "      <td>6</td>\n",
       "    </tr>\n",
       "  </tbody>\n",
       "</table>\n",
       "</div>"
      ],
      "text/plain": [
       "        course_name  duration\n",
       "3     Data Engineer         4\n",
       "0      Data Science         2\n",
       "1  Machine Learning         3\n",
       "2          Big Data         6"
      ]
     },
     "execution_count": 5,
     "metadata": {},
     "output_type": "execute_result"
    }
   ],
   "source": [
    "new_df"
   ]
  },
  {
   "cell_type": "code",
   "execution_count": 6,
   "id": "36e75555-f559-49f2-8d50-0c6c4c4a4dbb",
   "metadata": {},
   "outputs": [
    {
     "data": {
      "text/plain": [
       "course_name    Big Data\n",
       "duration              6\n",
       "Name: 2, dtype: object"
      ]
     },
     "execution_count": 6,
     "metadata": {},
     "output_type": "execute_result"
    }
   ],
   "source": [
    "new_df.loc[2]"
   ]
  },
  {
   "cell_type": "code",
   "execution_count": 7,
   "id": "4c3054c6-dcad-47ca-813a-872b8e24147b",
   "metadata": {},
   "outputs": [
    {
     "data": {
      "text/plain": [
       "course_name    Machine Learning\n",
       "duration                      3\n",
       "Name: 1, dtype: object"
      ]
     },
     "execution_count": 7,
     "metadata": {},
     "output_type": "execute_result"
    }
   ],
   "source": [
    "new_df.iloc[2]"
   ]
  },
  {
   "cell_type": "markdown",
   "id": "a2476511-f446-4c70-84ac-3e6596953348",
   "metadata": {},
   "source": [
    "The difference:\n",
    "loc helps in fetching rows (and/or columns) with particular labels.\n",
    "iloc helps in fetching rows (and/or columns) at integer locations."
   ]
  },
  {
   "cell_type": "markdown",
   "id": "ee1b9064-0070-4274-8b7b-7e65a0936e03",
   "metadata": {},
   "source": [
    "Consider the below code to answer further questions:\n",
    "import pandas as pd\n",
    "import numpy as np\n",
    "columns = ['column_1', 'column_2', 'column_3', 'column_4', 'column_5', 'column_6']\n",
    "indices = [1,2,3,4,5,6]\n",
    "#Creating a dataframe:\n",
    "df1 = pd.DataFrame(np.random.rand(6,6), columns = columns, index = indices)\n",
    "Q4. Write a code to find the following statistical measurements for the above dataframe df1:\n",
    "(i) mean of each and every column present in the dataframe.\n",
    "(ii) standard deviation of column, ‘column_2’"
   ]
  },
  {
   "cell_type": "code",
   "execution_count": 8,
   "id": "e3143489-c998-4202-99a1-b40d4fa8bddc",
   "metadata": {},
   "outputs": [],
   "source": [
    "import pandas as pd\n",
    "import numpy as np\n",
    "columns = ['column_1', 'column_2', 'column_3', 'column_4', 'column_5', 'column_6']\n",
    "indices = [1,2,3,4,5,6]\n",
    "#Creating a dataframe:\n",
    "df2 = pd.DataFrame(np.random.rand(6,6), columns = columns, index = indices)"
   ]
  },
  {
   "cell_type": "code",
   "execution_count": 9,
   "id": "9f338cc4-4841-4862-91c3-c0e413c227cf",
   "metadata": {},
   "outputs": [
    {
     "data": {
      "text/html": [
       "<div>\n",
       "<style scoped>\n",
       "    .dataframe tbody tr th:only-of-type {\n",
       "        vertical-align: middle;\n",
       "    }\n",
       "\n",
       "    .dataframe tbody tr th {\n",
       "        vertical-align: top;\n",
       "    }\n",
       "\n",
       "    .dataframe thead th {\n",
       "        text-align: right;\n",
       "    }\n",
       "</style>\n",
       "<table border=\"1\" class=\"dataframe\">\n",
       "  <thead>\n",
       "    <tr style=\"text-align: right;\">\n",
       "      <th></th>\n",
       "      <th>column_1</th>\n",
       "      <th>column_2</th>\n",
       "      <th>column_3</th>\n",
       "      <th>column_4</th>\n",
       "      <th>column_5</th>\n",
       "      <th>column_6</th>\n",
       "    </tr>\n",
       "  </thead>\n",
       "  <tbody>\n",
       "    <tr>\n",
       "      <th>1</th>\n",
       "      <td>0.708386</td>\n",
       "      <td>0.840641</td>\n",
       "      <td>0.216066</td>\n",
       "      <td>0.765196</td>\n",
       "      <td>0.759696</td>\n",
       "      <td>0.911012</td>\n",
       "    </tr>\n",
       "    <tr>\n",
       "      <th>2</th>\n",
       "      <td>0.827431</td>\n",
       "      <td>0.932989</td>\n",
       "      <td>0.505638</td>\n",
       "      <td>0.787133</td>\n",
       "      <td>0.999435</td>\n",
       "      <td>0.615357</td>\n",
       "    </tr>\n",
       "    <tr>\n",
       "      <th>3</th>\n",
       "      <td>0.217590</td>\n",
       "      <td>0.895065</td>\n",
       "      <td>0.818439</td>\n",
       "      <td>0.006594</td>\n",
       "      <td>0.613974</td>\n",
       "      <td>0.543550</td>\n",
       "    </tr>\n",
       "    <tr>\n",
       "      <th>4</th>\n",
       "      <td>0.291099</td>\n",
       "      <td>0.936947</td>\n",
       "      <td>0.139926</td>\n",
       "      <td>0.502260</td>\n",
       "      <td>0.053207</td>\n",
       "      <td>0.272689</td>\n",
       "    </tr>\n",
       "    <tr>\n",
       "      <th>5</th>\n",
       "      <td>0.277270</td>\n",
       "      <td>0.852525</td>\n",
       "      <td>0.920324</td>\n",
       "      <td>0.917717</td>\n",
       "      <td>0.458553</td>\n",
       "      <td>0.054189</td>\n",
       "    </tr>\n",
       "    <tr>\n",
       "      <th>6</th>\n",
       "      <td>0.674092</td>\n",
       "      <td>0.799249</td>\n",
       "      <td>0.458537</td>\n",
       "      <td>0.690632</td>\n",
       "      <td>0.125588</td>\n",
       "      <td>0.055260</td>\n",
       "    </tr>\n",
       "  </tbody>\n",
       "</table>\n",
       "</div>"
      ],
      "text/plain": [
       "   column_1  column_2  column_3  column_4  column_5  column_6\n",
       "1  0.708386  0.840641  0.216066  0.765196  0.759696  0.911012\n",
       "2  0.827431  0.932989  0.505638  0.787133  0.999435  0.615357\n",
       "3  0.217590  0.895065  0.818439  0.006594  0.613974  0.543550\n",
       "4  0.291099  0.936947  0.139926  0.502260  0.053207  0.272689\n",
       "5  0.277270  0.852525  0.920324  0.917717  0.458553  0.054189\n",
       "6  0.674092  0.799249  0.458537  0.690632  0.125588  0.055260"
      ]
     },
     "execution_count": 9,
     "metadata": {},
     "output_type": "execute_result"
    }
   ],
   "source": [
    "df2"
   ]
  },
  {
   "cell_type": "markdown",
   "id": "79f27667-eaba-4ad6-84dd-128312ee50aa",
   "metadata": {},
   "source": [
    "## (i) mean of each and every column present in the dataframe."
   ]
  },
  {
   "cell_type": "code",
   "execution_count": 10,
   "id": "b948910c-1f9a-4887-9d07-65c40d3dc9ff",
   "metadata": {},
   "outputs": [
    {
     "data": {
      "text/plain": [
       "column_1    0.499311\n",
       "column_2    0.876236\n",
       "column_3    0.509821\n",
       "column_4    0.611589\n",
       "column_5    0.501742\n",
       "column_6    0.408676\n",
       "dtype: float64"
      ]
     },
     "execution_count": 10,
     "metadata": {},
     "output_type": "execute_result"
    }
   ],
   "source": [
    "#to fetch the mean of all the columns\n",
    "df2.mean()"
   ]
  },
  {
   "cell_type": "code",
   "execution_count": 11,
   "id": "51033e4f-b2ce-48a5-86e5-671e4b29c52d",
   "metadata": {},
   "outputs": [
    {
     "data": {
      "text/plain": [
       "0.054804258261533324"
      ]
     },
     "execution_count": 11,
     "metadata": {},
     "output_type": "execute_result"
    }
   ],
   "source": [
    "#to fetch standard deviation of particular column \n",
    "df2['column_2'].std()"
   ]
  },
  {
   "cell_type": "markdown",
   "id": "b20b9217-da43-4874-bce8-879360f638bb",
   "metadata": {},
   "source": [
    "Q5. Replace the data present in the second row of column, ‘column_2’ by a string variable then find the\n",
    "mean of column, column_2.\n",
    "If you are getting errors in executing it then explain why."
   ]
  },
  {
   "cell_type": "code",
   "execution_count": 12,
   "id": "9232f33c-48d2-42df-bb80-ed1368efd664",
   "metadata": {},
   "outputs": [],
   "source": [
    "df2.loc[2, 'column_2'] = 'abc'"
   ]
  },
  {
   "cell_type": "code",
   "execution_count": 13,
   "id": "15df26cc-da31-4516-9a6e-0ed90930ab67",
   "metadata": {},
   "outputs": [
    {
     "data": {
      "text/html": [
       "<div>\n",
       "<style scoped>\n",
       "    .dataframe tbody tr th:only-of-type {\n",
       "        vertical-align: middle;\n",
       "    }\n",
       "\n",
       "    .dataframe tbody tr th {\n",
       "        vertical-align: top;\n",
       "    }\n",
       "\n",
       "    .dataframe thead th {\n",
       "        text-align: right;\n",
       "    }\n",
       "</style>\n",
       "<table border=\"1\" class=\"dataframe\">\n",
       "  <thead>\n",
       "    <tr style=\"text-align: right;\">\n",
       "      <th></th>\n",
       "      <th>column_1</th>\n",
       "      <th>column_2</th>\n",
       "      <th>column_3</th>\n",
       "      <th>column_4</th>\n",
       "      <th>column_5</th>\n",
       "      <th>column_6</th>\n",
       "    </tr>\n",
       "  </thead>\n",
       "  <tbody>\n",
       "    <tr>\n",
       "      <th>1</th>\n",
       "      <td>0.708386</td>\n",
       "      <td>0.840641</td>\n",
       "      <td>0.216066</td>\n",
       "      <td>0.765196</td>\n",
       "      <td>0.759696</td>\n",
       "      <td>0.911012</td>\n",
       "    </tr>\n",
       "    <tr>\n",
       "      <th>2</th>\n",
       "      <td>0.827431</td>\n",
       "      <td>abc</td>\n",
       "      <td>0.505638</td>\n",
       "      <td>0.787133</td>\n",
       "      <td>0.999435</td>\n",
       "      <td>0.615357</td>\n",
       "    </tr>\n",
       "    <tr>\n",
       "      <th>3</th>\n",
       "      <td>0.217590</td>\n",
       "      <td>0.895065</td>\n",
       "      <td>0.818439</td>\n",
       "      <td>0.006594</td>\n",
       "      <td>0.613974</td>\n",
       "      <td>0.543550</td>\n",
       "    </tr>\n",
       "    <tr>\n",
       "      <th>4</th>\n",
       "      <td>0.291099</td>\n",
       "      <td>0.936947</td>\n",
       "      <td>0.139926</td>\n",
       "      <td>0.502260</td>\n",
       "      <td>0.053207</td>\n",
       "      <td>0.272689</td>\n",
       "    </tr>\n",
       "    <tr>\n",
       "      <th>5</th>\n",
       "      <td>0.277270</td>\n",
       "      <td>0.852525</td>\n",
       "      <td>0.920324</td>\n",
       "      <td>0.917717</td>\n",
       "      <td>0.458553</td>\n",
       "      <td>0.054189</td>\n",
       "    </tr>\n",
       "    <tr>\n",
       "      <th>6</th>\n",
       "      <td>0.674092</td>\n",
       "      <td>0.799249</td>\n",
       "      <td>0.458537</td>\n",
       "      <td>0.690632</td>\n",
       "      <td>0.125588</td>\n",
       "      <td>0.055260</td>\n",
       "    </tr>\n",
       "  </tbody>\n",
       "</table>\n",
       "</div>"
      ],
      "text/plain": [
       "   column_1  column_2  column_3  column_4  column_5  column_6\n",
       "1  0.708386  0.840641  0.216066  0.765196  0.759696  0.911012\n",
       "2  0.827431       abc  0.505638  0.787133  0.999435  0.615357\n",
       "3  0.217590  0.895065  0.818439  0.006594  0.613974  0.543550\n",
       "4  0.291099  0.936947  0.139926  0.502260  0.053207  0.272689\n",
       "5  0.277270  0.852525  0.920324  0.917717  0.458553  0.054189\n",
       "6  0.674092  0.799249  0.458537  0.690632  0.125588  0.055260"
      ]
     },
     "execution_count": 13,
     "metadata": {},
     "output_type": "execute_result"
    }
   ],
   "source": [
    "df2"
   ]
  },
  {
   "cell_type": "markdown",
   "id": "812c39bb-b067-4578-b5a4-8b7dc7383511",
   "metadata": {},
   "source": [
    "Q6. What do you understand about the windows function in pandas and list the types of windows\n",
    "functions?"
   ]
  },
  {
   "cell_type": "markdown",
   "id": "b20a7da7-4085-473d-9396-5d241958971d",
   "metadata": {},
   "source": [
    "In pandas, a window function is a powerful tool for performing calculations on a specified subset of data, called a \"window,\" as it moves through a DataFrame or Series. Window functions are especially useful for tasks like calculating rolling averages, cumulative sums, or other aggregations based on a moving window of data.\n",
    "Rolling Functions:\n",
    "The two primary types of window functions in pandas are:\n",
    "Rolling functions: operate on a fixed-size window of data as it moves through the data series. The window \"rolls\" over the data, and the function is applied to each window.\n",
    "Expanding Functions: Expanding functions consider all the data up to the current point, including the current point, as the window expands with each new observation."
   ]
  },
  {
   "cell_type": "markdown",
   "id": "d9cb1bc6-d4a5-485d-8343-bd449fe6e6cb",
   "metadata": {},
   "source": [
    "Q7. Write a code to print only the current month and year at the time of answering this question."
   ]
  },
  {
   "cell_type": "code",
   "execution_count": 14,
   "id": "f406062c-3e9c-4b29-bace-bf0bd64f1cc0",
   "metadata": {},
   "outputs": [
    {
     "name": "stderr",
     "output_type": "stream",
     "text": [
      "/tmp/ipykernel_85/1235722955.py:2: FutureWarning: The pandas.datetime class is deprecated and will be removed from pandas in a future version. Import from datetime module instead.\n",
      "  pd.datetime.now().month\n"
     ]
    },
    {
     "data": {
      "text/plain": [
       "12"
      ]
     },
     "execution_count": 14,
     "metadata": {},
     "output_type": "execute_result"
    }
   ],
   "source": [
    "#to find the current date time\n",
    "pd.datetime.now().month"
   ]
  },
  {
   "cell_type": "code",
   "execution_count": 15,
   "id": "25f556e8-7fa6-4a3a-b9a6-604955ddf989",
   "metadata": {},
   "outputs": [
    {
     "name": "stderr",
     "output_type": "stream",
     "text": [
      "/tmp/ipykernel_85/3056029991.py:1: FutureWarning: The pandas.datetime class is deprecated and will be removed from pandas in a future version. Import from datetime module instead.\n",
      "  pd.datetime.now().year\n"
     ]
    },
    {
     "data": {
      "text/plain": [
       "2023"
      ]
     },
     "execution_count": 15,
     "metadata": {},
     "output_type": "execute_result"
    }
   ],
   "source": [
    "pd.datetime.now().year"
   ]
  },
  {
   "cell_type": "markdown",
   "id": "21fafaf4-0e49-4f4d-a7b8-a3f8367bb0fb",
   "metadata": {},
   "source": [
    "Q8. Write a Python program that takes in two dates as input (in the format YYYY-MM-DD) and\n",
    "calculates the difference between them in days, hours, and minutes using Pandas time delta. The\n",
    "program should prompt the user to enter the dates and display the result."
   ]
  },
  {
   "cell_type": "code",
   "execution_count": 16,
   "id": "e2f13e24-452c-42cf-9bc3-9f5fa2f5107c",
   "metadata": {},
   "outputs": [
    {
     "name": "stdin",
     "output_type": "stream",
     "text": [
      "Enter the first date (YYYY-MM-DD):  2023-12-22\n",
      "Enter the second date (YYYY-MM-DD):  2023-12-19\n"
     ]
    },
    {
     "name": "stdout",
     "output_type": "stream",
     "text": [
      "\n",
      "Time Difference:\n",
      "Days: -3 days\n",
      "Hours: 0 hours\n",
      "Minutes: 0 minutes\n"
     ]
    }
   ],
   "source": [
    "def calculate_time_difference(date1, date2):\n",
    "    # Convert input strings to pandas datetime objects\n",
    "    datetime1 = pd.to_datetime(date1)\n",
    "    datetime2 = pd.to_datetime(date2)\n",
    "\n",
    "    # Calculate the time difference\n",
    "    time_difference = datetime2 - datetime1\n",
    "\n",
    "    # Extract days, hours, and minutes from the time difference\n",
    "    days = time_difference.days\n",
    "    hours, remainder = divmod(time_difference.seconds, 3600)\n",
    "    minutes = remainder // 60\n",
    "\n",
    "    return days, hours, minutes\n",
    "\n",
    "# Get user input for two dates\n",
    "date_input1 = input(\"Enter the first date (YYYY-MM-DD): \")\n",
    "date_input2 = input(\"Enter the second date (YYYY-MM-DD): \")\n",
    "\n",
    "# Calculate the time difference\n",
    "days_difference, hours_difference, minutes_difference = calculate_time_difference(date_input1, date_input2)\n",
    "\n",
    "# Display the result\n",
    "print(\"\\nTime Difference:\")\n",
    "print(f\"Days: {days_difference} days\")\n",
    "print(f\"Hours: {hours_difference} hours\")\n",
    "print(f\"Minutes: {minutes_difference} minutes\")\n"
   ]
  },
  {
   "cell_type": "markdown",
   "id": "5c43337f-6c11-40c3-aded-e79ca3491d71",
   "metadata": {},
   "source": [
    "Q9. Write a Python program that reads a CSV file containing categorical data and converts a specified\n",
    "column to a categorical data type. The program should prompt the user to enter the file path, column\n",
    "name, and category order, and then display the sorted data."
   ]
  },
  {
   "cell_type": "code",
   "execution_count": 17,
   "id": "ad7806df-97e5-4481-b1bd-2a6b68bcc1a1",
   "metadata": {},
   "outputs": [
    {
     "name": "stdin",
     "output_type": "stream",
     "text": [
      "Enter the CSV file path:  players.csv\n",
      "Enter the column name to convert to categorical:  3PA\n",
      "Enter the category order (comma-separated):  A,B,C\n"
     ]
    },
    {
     "name": "stdout",
     "output_type": "stream",
     "text": [
      "\n",
      "Sorted Data:\n",
      "      Rk          Player Pos Age   Tm   G  GS    MP   FG  FGA  ...   FT%  ORB  \\\n",
      "0      1      Quincy Acy  PF  24  NYK  68  22  1287  152  331  ...  .784   79   \n",
      "1      2    Jordan Adams  SG  20  MEM  30   0   248   35   86  ...  .609    9   \n",
      "2      3    Steven Adams   C  21  OKC  70  67  1771  217  399  ...  .502  199   \n",
      "3      4     Jeff Adrien  PF  28  MIN  17   0   215   19   44  ...  .579   23   \n",
      "4      5   Arron Afflalo  SG  29  TOT  78  72  2502  375  884  ...  .843   27   \n",
      "..   ...             ...  ..  ..  ...  ..  ..   ...  ...  ...  ...   ...  ...   \n",
      "670  490  Thaddeus Young  PF  26  TOT  76  68  2434  451  968  ...  .655  127   \n",
      "671  490  Thaddeus Young  PF  26  MIN  48  48  1605  289  641  ...  .682   75   \n",
      "672  490  Thaddeus Young  PF  26  BRK  28  20   829  162  327  ...  .606   52   \n",
      "673  491     Cody Zeller   C  22  CHO  62  45  1487  172  373  ...  .774   97   \n",
      "674  492    Tyler Zeller   C  25  BOS  82  59  1731  340  619  ...  .823  146   \n",
      "\n",
      "     DRB  TRB  AST  STL BLK  TOV   PF   PTS  \n",
      "0    222  301   68   27  22   60  147   398  \n",
      "1     19   28   16   16   7   14   24    94  \n",
      "2    324  523   66   38  86   99  222   537  \n",
      "3     54   77   15    4   9    9   30    60  \n",
      "4    220  247  129   41   7  116  167  1035  \n",
      "..   ...  ...  ...  ...  ..  ...  ...   ...  \n",
      "670  284  411  173  124  25  117  171  1071  \n",
      "671  170  245  135   86  17   75  115   685  \n",
      "672  114  166   38   38   8   42   56   386  \n",
      "673  265  362  100   34  49   62  156   472  \n",
      "674  319  465  113   18  52   76  205   833  \n",
      "\n",
      "[675 rows x 30 columns]\n"
     ]
    }
   ],
   "source": [
    "\n",
    "# Get user input\n",
    "file_path = input(\"Enter the CSV file path: \")\n",
    "column_name = input(\"Enter the column name to convert to categorical: \")\n",
    "category_order_input = input(\"Enter the category order (comma-separated): \")\n",
    "\n",
    "# Split the user input into a list of categories\n",
    "category_order = [category.strip() for category in category_order_input.split(',')]\n",
    "\n",
    "# Read the CSV file into a DataFrame\n",
    "try:\n",
    "    df = pd.read_csv(file_path)\n",
    "except FileNotFoundError:\n",
    "    print(\"File not found. Please check the file path.\")\n",
    "    exit()\n",
    "\n",
    "# Convert the specified column to categorical with the specified order\n",
    "df[column_name] = pd.Categorical(df[column_name], categories=category_order, ordered=True)\n",
    "\n",
    "# Display the sorted data\n",
    "sorted_data = df.sort_values(by=[column_name])\n",
    "print(\"\\nSorted Data:\")\n",
    "print(sorted_data)\n"
   ]
  },
  {
   "cell_type": "markdown",
   "id": "ecea3260-c61c-4cfd-ad9d-b54db02cb439",
   "metadata": {},
   "source": [
    "Q10. Write a Python program that reads a CSV file containing sales data for different products and\n",
    "visualizes the data using a stacked bar chart to show the sales of each product category over time. The\n",
    "program should prompt the user to enter the file path and display the chart."
   ]
  },
  {
   "cell_type": "code",
   "execution_count": 18,
   "id": "c89d23ac-9899-4324-b29a-72f8a89e97a1",
   "metadata": {},
   "outputs": [
    {
     "name": "stdin",
     "output_type": "stream",
     "text": [
      "Enter the CSV file path:  sales_data_sample\n"
     ]
    },
    {
     "data": {
      "image/png": "[encoded data removed]",
      "text/plain": [
       "<Figure size 1200x600 with 1 Axes>"
      ]
     },
     "metadata": {},
     "output_type": "display_data"
    }
   ],
   "source": [
    "import pandas as pd\n",
    "import matplotlib.pyplot as plt\n",
    "\n",
    "def visualize_sales_data(file_path):\n",
    "    # Read the CSV file into a DataFrame\n",
    "    try:\n",
    "        df = pd.read_csv('sales_data_sample.csv', sep=\",\", encoding='Latin-1')\n",
    "    except FileNotFoundError:\n",
    "        print(\"File not found. Please check the file path.\")\n",
    "        return\n",
    "\n",
    "    # Convert 'ORDERDATE' column to datetime format\n",
    "    df['ORDERDATE'] = pd.to_datetime(df['ORDERDATE'])\n",
    "    df = df.drop_duplicates(subset=['ORDERDATE', 'PRODUCTLINE'])\n",
    "\n",
    "    # Pivot the DataFrame to have 'ORDERDATE' as the index, 'PRODUCTLINE' as columns, and 'SALES' as values\n",
    "    pivot_df = df.pivot(index='ORDERDATE', columns='PRODUCTLINE', values='SALES')\n",
    "\n",
    "    # Plotting the stacked bar chart\n",
    "    pivot_df.plot(kind='bar', stacked=True, figsize=(12, 6))\n",
    "    plt.title('Sales of Each Product Line Over Time')\n",
    "    plt.xlabel('Order Date')\n",
    "    plt.ylabel('Sales')\n",
    "    plt.legend(title='Product Line', bbox_to_anchor=(1.05, 1), loc='upper left')\n",
    "\n",
    "    # Show the chart\n",
    "    plt.show()\n",
    "\n",
    "# Get user input for the CSV file path\n",
    "file_path = input(\"Enter the CSV file path: \")\n",
    "\n",
    "# Visualize the sales data\n",
    "visualize_sales_data(file_path)\n"
   ]
  },
  {
   "cell_type": "markdown",
   "id": "ce355413-624f-4432-bb94-17c3ff6b6bfa",
   "metadata": {},
   "source": [
    "Q11. You are given a CSV file containing student data that includes the student ID and their test score. Write\n",
    "a Python program that reads the CSV file, calculates the mean, median, and mode of the test scores, and\n",
    "displays the results in a table.\n",
    "The program should do the followingM\n",
    "I Prompt the user to enter the file path of the CSV file containing the student dataR\n",
    "I Read the CSV file into a Pandas DataFrameR\n",
    "I Calculate the mean, median, and mode of the test scores using Pandas toolsR\n",
    "I Display the mean, median, and mode in a table.\n",
    "Assume the CSV file contains the following columnsM\n",
    "I Student ID: The ID of the studentR\n",
    "I Test Score: The score of the student's test.\n",
    "Example usage of the program:\n",
    "Enter the file path of the CSV file containing the student data: student_data.csv\n",
    "+-----------+--------+\n",
    "| Statistic | Value |\n",
    "+-----------+--------+\n",
    "| Mean | 79.6 |\n",
    "| Median | 82 |\n",
    "| Mode | 85, 90 |\n",
    "+-----------+--------+\n",
    "Assume that the CSV file student_data.csv contains the following data:\n",
    "Student ID,Test Score\n",
    "1,85\n",
    "2,90\n",
    "3,80\n",
    "4,75\n",
    "5,85\n",
    "6,82\n",
    "7,78\n",
    "8,85\n",
    "9,90\n",
    "10,85\n"
   ]
  },
  {
   "cell_type": "code",
   "execution_count": 22,
   "id": "782838aa-592c-49cf-82a3-5a28381b5435",
   "metadata": {},
   "outputs": [
    {
     "name": "stdout",
     "output_type": "stream",
     "text": [
      "Collecting tabulate\n",
      "  Downloading tabulate-0.9.0-py3-none-any.whl (35 kB)\n",
      "Installing collected packages: tabulate\n",
      "Successfully installed tabulate-0.9.0\n",
      "Note: you may need to restart the kernel to use updated packages.\n"
     ]
    }
   ],
   "source": [
    "pip install tabulate"
   ]
  },
  {
   "cell_type": "code",
   "execution_count": 23,
   "id": "a0774a60-5bd8-44da-bdb9-309dc85bea4d",
   "metadata": {},
   "outputs": [
    {
     "name": "stdin",
     "output_type": "stream",
     "text": [
      "Enter the file path of the CSV file containing the student data:  StudentData.csv\n"
     ]
    },
    {
     "name": "stdout",
     "output_type": "stream",
     "text": [
      "| Statistic   | Value              |\n",
      "|:------------|:-------------------|\n",
      "| Mean        | 3.1074074074074067 |\n",
      "| Median      | 2.78               |\n",
      "| Mode        | 2.3, 2.4, 4.3      |\n"
     ]
    }
   ],
   "source": [
    "import pandas as pd\n",
    "\n",
    "\n",
    "def calculate_statistics(file_path):\n",
    "    # Read the CSV file into a DataFrame\n",
    "    try:\n",
    "        df = pd.read_csv(file_path)\n",
    "    except FileNotFoundError:\n",
    "        print(\"File not found. Please check the file path.\")\n",
    "        return\n",
    "\n",
    "    # Calculate mean, median, and mode\n",
    "    mean_score = df['GPA'].mean()\n",
    "    median_score = df['GPA'].median()\n",
    "    mode_score = df['GPA'].mode()\n",
    "\n",
    "    # Display the results in a table\n",
    "    result_table = pd.DataFrame({\n",
    "        'Statistic': ['Mean', 'Median', 'Mode'],\n",
    "        'Value': [mean_score, median_score, ', '.join(map(str, mode_score))]\n",
    "    })\n",
    "\n",
    "    print(result_table.to_markdown(index=False))\n",
    "\n",
    "# Get user input for the CSV file path\n",
    "file_path = input(\"Enter the file path of the CSV file containing the student data: \")\n",
    "\n",
    "# Calculate and display statistics\n",
    "calculate_statistics(file_path)\n"
   ]
  },
  {
   "cell_type": "code",
   "execution_count": null,
   "id": "6e672eaa-80a0-4956-8c6a-91ee103637cc",
   "metadata": {},
   "outputs": [],
   "source": []
  }
 ],
 "metadata": {
  "kernelspec": {
   "display_name": "Python 3 (ipykernel)",
   "language": "python",
   "name": "python3"
  },
  "language_info": {
   "codemirror_mode": {
    "name": "ipython",
    "version": 3
   },
   "file_extension": ".py",
   "mimetype": "text/x-python",
   "name": "python",
   "nbconvert_exporter": "python",
   "pygments_lexer": "ipython3",
   "version": "3.10.8"
  }
 },
 "nbformat": 4,
 "nbformat_minor": 5
}
