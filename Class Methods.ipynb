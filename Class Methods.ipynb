{
 "cells": [
  {
   "cell_type": "code",
   "execution_count": 4,
   "id": "918e682c-074e-459a-88a8-3f8e6855b5e5",
   "metadata": {},
   "outputs": [],
   "source": [
    "class pwskills:\n",
    "    def __init__(self,name,email):\n",
    "        self.name=name\n",
    "        self.email=email\n",
    "    def student_details(self):\n",
    "        print(self.name,self.email)"
   ]
  },
  {
   "cell_type": "code",
   "execution_count": 5,
   "id": "1f6f6a91-e932-4793-93de-8281e62b148e",
   "metadata": {},
   "outputs": [],
   "source": [
    "pw=pwskills(\"sudh\",\"sudh@gmail.com\")"
   ]
  },
  {
   "cell_type": "code",
   "execution_count": 6,
   "id": "08e9888c-41ea-424a-b919-06b71b9ad55b",
   "metadata": {},
   "outputs": [
    {
     "data": {
      "text/plain": [
       "'sudh'"
      ]
     },
     "execution_count": 6,
     "metadata": {},
     "output_type": "execute_result"
    }
   ],
   "source": [
    "pw.name"
   ]
  },
  {
   "cell_type": "code",
   "execution_count": 7,
   "id": "db033b1d-052f-48dc-aa74-ab4514c2cd68",
   "metadata": {},
   "outputs": [
    {
     "data": {
      "text/plain": [
       "'sudh@gmail.com'"
      ]
     },
     "execution_count": 7,
     "metadata": {},
     "output_type": "execute_result"
    }
   ],
   "source": [
    "pw.email"
   ]
  },
  {
   "cell_type": "code",
   "execution_count": 8,
   "id": "46fa1646-0d97-47ec-92b2-3dcc6d4f724f",
   "metadata": {},
   "outputs": [
    {
     "name": "stdout",
     "output_type": "stream",
     "text": [
      "sudh sudh@gmail.com\n"
     ]
    }
   ],
   "source": [
    "pw.student_details()"
   ]
  },
  {
   "cell_type": "code",
   "execution_count": 15,
   "id": "a718316f-779c-459c-9250-59e8972aedca",
   "metadata": {},
   "outputs": [],
   "source": [
    "class pwskills1:\n",
    "    def __init__(self,name,email):\n",
    "        self.name=name\n",
    "        self.email=email\n",
    "    @classmethod    \n",
    "    def details(cls,name1,email1):\n",
    "        return cls(name1,email1)\n",
    "    \n",
    "    def student_details(self):\n",
    "        print(self.name,self.email)"
   ]
  },
  {
   "cell_type": "code",
   "execution_count": 16,
   "id": "2960971f-fdb9-4846-a557-71233a187b6a",
   "metadata": {},
   "outputs": [],
   "source": [
    "pw1=pwskills1.details(\"mohan\",\"mohan@gmail.com\")"
   ]
  },
  {
   "cell_type": "code",
   "execution_count": 17,
   "id": "ba8cbd09-9dab-453c-9289-1697665f4e76",
   "metadata": {},
   "outputs": [
    {
     "data": {
      "text/plain": [
       "'mohan'"
      ]
     },
     "execution_count": 17,
     "metadata": {},
     "output_type": "execute_result"
    }
   ],
   "source": [
    "pw1.name"
   ]
  },
  {
   "cell_type": "code",
   "execution_count": 18,
   "id": "1512eaf9-4492-4476-af8a-4e9cdabd64ad",
   "metadata": {},
   "outputs": [
    {
     "data": {
      "text/plain": [
       "'mohan@gmail.com'"
      ]
     },
     "execution_count": 18,
     "metadata": {},
     "output_type": "execute_result"
    }
   ],
   "source": [
    "pw1.email"
   ]
  },
  {
   "cell_type": "code",
   "execution_count": 19,
   "id": "23d0f7ce-bac1-4c3a-a855-01e95989c5ff",
   "metadata": {},
   "outputs": [
    {
     "name": "stdout",
     "output_type": "stream",
     "text": [
      "mohan mohan@gmail.com\n"
     ]
    }
   ],
   "source": [
    "pw1.student_details()"
   ]
  },
  {
   "cell_type": "code",
   "execution_count": 1,
   "id": "d3db3f0f-cf92-4682-b536-ef0e0424696c",
   "metadata": {},
   "outputs": [],
   "source": [
    "class pwskills2:\n",
    "    mobile_number=9742077514\n",
    "    def __init__(self,name,email):\n",
    "        self.name=name\n",
    "        self.email=email\n",
    "    @classmethod    \n",
    "    def details(cls,name1,email1):\n",
    "        return cls(name1,email1)\n",
    "    \n",
    "    def student_details(self):\n",
    "        print(self.name,self.email,pwskills2.mobile_number)"
   ]
  },
  {
   "cell_type": "code",
   "execution_count": 2,
   "id": "26a921a2-7d8b-469f-a6b0-830824180f5d",
   "metadata": {},
   "outputs": [
    {
     "data": {
      "text/plain": [
       "9742077514"
      ]
     },
     "execution_count": 2,
     "metadata": {},
     "output_type": "execute_result"
    }
   ],
   "source": [
    "pwskills2.mobile_number"
   ]
  },
  {
   "cell_type": "code",
   "execution_count": 3,
   "id": "f668bbb1-7504-4689-b60a-af957dbf9566",
   "metadata": {},
   "outputs": [],
   "source": [
    "pw2=pwskills2.details(\"sohan\",\"sohan@gmail.com\")"
   ]
  },
  {
   "cell_type": "code",
   "execution_count": 5,
   "id": "f335ce51-a5fe-449c-8b28-6923cbbd2f58",
   "metadata": {},
   "outputs": [
    {
     "name": "stdout",
     "output_type": "stream",
     "text": [
      "sohan sohan@gmail.com 9742077514\n"
     ]
    }
   ],
   "source": [
    "pw2.student_details()"
   ]
  },
  {
   "cell_type": "code",
   "execution_count": 6,
   "id": "dbafc6ff-251a-44b7-894c-8401f58a4043",
   "metadata": {},
   "outputs": [],
   "source": [
    "pw2_obj=pwskills2(\"roan\",\"rohan@gmail.com\")"
   ]
  },
  {
   "cell_type": "code",
   "execution_count": 8,
   "id": "0e7e6e93-aae0-4d4e-9446-5b6b52bd973b",
   "metadata": {},
   "outputs": [
    {
     "name": "stdout",
     "output_type": "stream",
     "text": [
      "sohan sohan@gmail.com 9742077514\n"
     ]
    }
   ],
   "source": [
    "pw2.student_details()"
   ]
  },
  {
   "cell_type": "code",
   "execution_count": 9,
   "id": "9b5eec6a-57b9-4981-afb0-b7ade7a62fd8",
   "metadata": {},
   "outputs": [],
   "source": [
    "class pwskills2:\n",
    "    mobile_number=9742077514\n",
    "    def __init__(self,name,email):\n",
    "        self.name=name\n",
    "        self.email=email\n",
    "    @classmethod    \n",
    "    def details(cls,name1,email1):\n",
    "        return cls(name1,email1)\n",
    "    @classmethod\n",
    "    def change_number(cls,mobile):\n",
    "        pwskills2.mobile_number=mobile\n",
    "    def student_details(self):\n",
    "        print(self.name,self.email,pwskills2.mobile_number)"
   ]
  },
  {
   "cell_type": "code",
   "execution_count": 10,
   "id": "591461d4-191f-4a1a-8331-bd91c877578c",
   "metadata": {},
   "outputs": [
    {
     "data": {
      "text/plain": [
       "9742077514"
      ]
     },
     "execution_count": 10,
     "metadata": {},
     "output_type": "execute_result"
    }
   ],
   "source": [
    "pwskills2.mobile_number"
   ]
  },
  {
   "cell_type": "code",
   "execution_count": 11,
   "id": "06359768-c911-4fc5-8c0b-8f3c1c76153f",
   "metadata": {},
   "outputs": [],
   "source": [
    "pwskills2.change_number(9123456789)"
   ]
  },
  {
   "cell_type": "code",
   "execution_count": 12,
   "id": "28faa761-6860-4399-8395-ed97d7131de5",
   "metadata": {},
   "outputs": [
    {
     "data": {
      "text/plain": [
       "9123456789"
      ]
     },
     "execution_count": 12,
     "metadata": {},
     "output_type": "execute_result"
    }
   ],
   "source": [
    "pwskills2.mobile_number"
   ]
  },
  {
   "cell_type": "code",
   "execution_count": 13,
   "id": "8c48b50e-dd82-4663-a82f-5d9f8743af5d",
   "metadata": {},
   "outputs": [],
   "source": [
    "pw2_obj=pwskills2(\"sohil\",\"sohil@gmail.com\")"
   ]
  },
  {
   "cell_type": "code",
   "execution_count": 14,
   "id": "e13f39de-0271-4c7e-bf91-f8d027fa8aea",
   "metadata": {},
   "outputs": [
    {
     "data": {
      "text/plain": [
       "<__main__.pwskills2 at 0x7f9624140130>"
      ]
     },
     "execution_count": 14,
     "metadata": {},
     "output_type": "execute_result"
    }
   ],
   "source": [
    "pw2_obj.details(\"sudh\",\"sudh@gmail.com\")"
   ]
  },
  {
   "cell_type": "code",
   "execution_count": 15,
   "id": "10fd9427-86f3-40c6-ac06-359e632aa80c",
   "metadata": {},
   "outputs": [
    {
     "data": {
      "text/plain": [
       "'sohil'"
      ]
     },
     "execution_count": 15,
     "metadata": {},
     "output_type": "execute_result"
    }
   ],
   "source": [
    "pw2_obj.name"
   ]
  },
  {
   "cell_type": "code",
   "execution_count": 16,
   "id": "7408c0f2-22c6-4d25-8bd9-7780010494d3",
   "metadata": {},
   "outputs": [],
   "source": [
    "pw2_obj.change_number(9866464465)"
   ]
  },
  {
   "cell_type": "code",
   "execution_count": 17,
   "id": "88b62d52-9512-49b6-b25c-2ccd717295cf",
   "metadata": {},
   "outputs": [
    {
     "data": {
      "text/plain": [
       "9866464465"
      ]
     },
     "execution_count": 17,
     "metadata": {},
     "output_type": "execute_result"
    }
   ],
   "source": [
    "pw2_obj.mobile_number"
   ]
  },
  {
   "cell_type": "code",
   "execution_count": 18,
   "id": "d100a4b9-0709-495e-9a66-f613a521b0ab",
   "metadata": {},
   "outputs": [],
   "source": [
    "class pwskills3:\n",
    "    mobile_number=9742077514\n",
    "    def __init__(self,name,email):\n",
    "        self.name=name\n",
    "        self.email=email\n",
    "    @classmethod    \n",
    "    def details(cls,name1,email1):\n",
    "        return cls(name1,email1)\n",
    "    @classmethod\n",
    "    def change_number(cls,mobile):\n",
    "        pwskills2.mobile_number=mobile\n",
    "    def student_details(self):\n",
    "        print(self.name,self.email,pwskills3.mobile_number)"
   ]
  },
  {
   "cell_type": "code",
   "execution_count": 19,
   "id": "508add7c-9c33-41ef-a237-b948593695b3",
   "metadata": {},
   "outputs": [],
   "source": [
    "def course_details(cls,course_name):\n",
    "    print(\"course details\",course_name)"
   ]
  },
  {
   "cell_type": "code",
   "execution_count": 20,
   "id": "024355df-9f88-4601-aea1-4b31d96e990c",
   "metadata": {},
   "outputs": [],
   "source": [
    "pwskills3.course_details=classmethod(course_details)"
   ]
  },
  {
   "cell_type": "code",
   "execution_count": 21,
   "id": "226b5dd2-b564-4c29-b2a8-b63b7d4aa11d",
   "metadata": {},
   "outputs": [
    {
     "name": "stdout",
     "output_type": "stream",
     "text": [
      "course details Data Science Masters\n"
     ]
    }
   ],
   "source": [
    "pwskills3.course_details(\"Data Science Masters\")"
   ]
  },
  {
   "cell_type": "code",
   "execution_count": 22,
   "id": "b3162c63-e0fa-4f32-afed-9b3b4509a231",
   "metadata": {},
   "outputs": [],
   "source": [
    "class pwskills4:\n",
    "    mobile_number=9742077514\n",
    "    def __init__(self,name,email):\n",
    "        self.name=name\n",
    "        self.email=email\n",
    "    @classmethod    \n",
    "    def details(cls,name1,email1):\n",
    "        return cls(name1,email1)\n",
    "    @classmethod\n",
    "    def change_number(cls,mobile):\n",
    "        pwskills2.mobile_number=mobile\n",
    "    def student_details(self):\n",
    "        print(self.name,self.email,pwskills3.mobile_number)"
   ]
  },
  {
   "cell_type": "code",
   "execution_count": 23,
   "id": "adc97c9d-818f-4a7c-8053-7da299ea8655",
   "metadata": {},
   "outputs": [],
   "source": [
    "del pwskills4.change_number"
   ]
  },
  {
   "cell_type": "code",
   "execution_count": 24,
   "id": "e331ed46-35b2-41dd-b96f-2d1d89ce1bfb",
   "metadata": {},
   "outputs": [],
   "source": [
    "delattr(pwskills4,\"details\")"
   ]
  },
  {
   "cell_type": "code",
   "execution_count": null,
   "id": "d29dbd4c-8269-4b83-8715-c0fd628c42a2",
   "metadata": {},
   "outputs": [],
   "source": [
    "pwskills4."
   ]
  }
 ],
 "metadata": {
  "kernelspec": {
   "display_name": "Python 3 (ipykernel)",
   "language": "python",
   "name": "python3"
  },
  "language_info": {
   "codemirror_mode": {
    "name": "ipython",
    "version": 3
   },
   "file_extension": ".py",
   "mimetype": "text/x-python",
   "name": "python",
   "nbconvert_exporter": "python",
   "pygments_lexer": "ipython3",
   "version": "3.10.8"
  }
 },
 "nbformat": 4,
 "nbformat_minor": 5
}
