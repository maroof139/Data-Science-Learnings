{
 "cells": [
  {
   "cell_type": "code",
   "execution_count": 17,
   "id": "5a4064bc-1467-4bab-8eb8-afeb384aadf0",
   "metadata": {},
   "outputs": [],
   "source": [
    "f=open(\"test.txt\",'a')"
   ]
  },
  {
   "cell_type": "code",
   "execution_count": 18,
   "id": "5072a6a2-aefe-40b3-80b4-2bbff6b47b04",
   "metadata": {},
   "outputs": [
    {
     "data": {
      "text/plain": [
       "'/home/jovyan/work'"
      ]
     },
     "execution_count": 18,
     "metadata": {},
     "output_type": "execute_result"
    }
   ],
   "source": [
    "pwd"
   ]
  },
  {
   "cell_type": "code",
   "execution_count": 19,
   "id": "1c9c9c49-4ec0-4b6b-8006-1da6e52295f4",
   "metadata": {},
   "outputs": [
    {
     "name": "stdout",
     "output_type": "stream",
     "text": [
      "'29th Jan Assignment.ipynb'\n",
      "'29th Jan(Day1 Python).ipynb'\n",
      "'2nd Feb(Day 5 Tuples, Set, Dictionaries).ipynb'\n",
      "'2nd Feb(Tuples, Set and Dictionary Assignment).ipynb'\n",
      "'30th Jan Assignment.ipynb'\n",
      "'30th Jan(Day 2 Conditions, loop controls) .ipynb'\n",
      "'31st Jan(Day 3 String Manipulation, Expressions and operator precedence).ipynb'\n",
      "'3rd Feb(Function Assignment).ipynb'\n",
      "'3rd Feb(Functions).ipynb'\n",
      "'5th Feb OOPS_Assignment.ipynb'\n",
      "'5th Feb_OOPs.ipynb'\n",
      "'7th Feb-Pyhton_Task2.ipynb'\n",
      " 9thFeb_OOPs_Task.ipynb\n",
      " Abstarction.ipynb\n",
      "'Class Methods.ipynb'\n",
      "'Day1 DS.ipynb'\n",
      " Day_2_Control_Flow.ipynb\n",
      "'Day 2 Python Condition and Loops .ipynb'\n",
      "'Day 4 (Sting Lists).ipynb'\n",
      " Decorators.ipynb\n",
      " Encapsulation.ipynb\n",
      " Inheritance.ipynb\n",
      "'Lambda, Map, and Reduce Assignment.ipynb'\n",
      "'Lambda,Map,Reduce and Filter Functions.ipynb'\n",
      " Polymorphism.ipynb\n",
      "'Property Decorator,Getter,Setter and Deletes.ipynb'\n",
      " Python-Task1.ipynb\n",
      "'Python_Task 2.ipynb'\n",
      " README.md\n",
      " sample-code.ipynb\n",
      "'Special(Magic or Dunder) Methods.ipynb'\n",
      "'Static Methods.ipynb'\n",
      " test.txt\n",
      "'Working with files.ipynb'\n"
     ]
    }
   ],
   "source": [
    "ls"
   ]
  },
  {
   "cell_type": "code",
   "execution_count": 20,
   "id": "419da710-8ca6-409d-846c-c5708e3c387b",
   "metadata": {},
   "outputs": [
    {
     "data": {
      "text/plain": [
       "260"
      ]
     },
     "execution_count": 20,
     "metadata": {},
     "output_type": "execute_result"
    }
   ],
   "source": [
    "f.write(\"Nature can refer to the general realm of living plants and animals, and in some cases to the processes associated with inanimate objects—the way that particular types of things exist and change of their own accord, such as the weather and geology of the Earth.\")"
   ]
  },
  {
   "cell_type": "code",
   "execution_count": 21,
   "id": "b412c8b4-6d3d-4cb2-9bd2-7b6ac0d25c43",
   "metadata": {},
   "outputs": [],
   "source": [
    "f.close()"
   ]
  },
  {
   "cell_type": "code",
   "execution_count": 22,
   "id": "545dff1c-1005-476b-a5e1-885fd4b1dc3a",
   "metadata": {},
   "outputs": [],
   "source": [
    "data=open(\"test.txt\",'r')"
   ]
  },
  {
   "cell_type": "code",
   "execution_count": 23,
   "id": "64f58f0a-ddbb-473d-950e-f14d84405269",
   "metadata": {},
   "outputs": [
    {
     "data": {
      "text/plain": [
       "'Nature can refer to the general realm of living plants and animals, and in some cases to the processes associated with inanimate objects—the way that particular types of things exist and change of their own accord, such as the weather and geology of the Earth.Nature can refer to the general realm of living plants and animals, and in some cases to the processes associated with inanimate objects—the way that particular types of things exist and change of their own accord, such as the weather and geology of the Earth.Nature can refer to the general realm of living plants and animals, and in some cases to the processes associated with inanimate objects—the way that particular types of things exist and change of their own accord, such as the weather and geology of the Earth.'"
      ]
     },
     "execution_count": 23,
     "metadata": {},
     "output_type": "execute_result"
    }
   ],
   "source": [
    "data.read()"
   ]
  },
  {
   "cell_type": "code",
   "execution_count": 24,
   "id": "c5aae6fb-43a5-4bcf-8a8a-9f90710b1d22",
   "metadata": {},
   "outputs": [
    {
     "data": {
      "text/plain": [
       "''"
      ]
     },
     "execution_count": 24,
     "metadata": {},
     "output_type": "execute_result"
    }
   ],
   "source": [
    "data.read()"
   ]
  },
  {
   "cell_type": "code",
   "execution_count": 25,
   "id": "03382f5a-096a-4355-807b-5ce7569f37c5",
   "metadata": {},
   "outputs": [
    {
     "data": {
      "text/plain": [
       "0"
      ]
     },
     "execution_count": 25,
     "metadata": {},
     "output_type": "execute_result"
    }
   ],
   "source": [
    "data.seek(0)"
   ]
  },
  {
   "cell_type": "code",
   "execution_count": 26,
   "id": "f6bd8e8f-3a7e-4790-9f29-a937d78bced4",
   "metadata": {},
   "outputs": [
    {
     "data": {
      "text/plain": [
       "'Nature can refer to the general realm of living plants and animals, and in some cases to the processes associated with inanimate objects—the way that particular types of things exist and change of their own accord, such as the weather and geology of the Earth.Nature can refer to the general realm of living plants and animals, and in some cases to the processes associated with inanimate objects—the way that particular types of things exist and change of their own accord, such as the weather and geology of the Earth.Nature can refer to the general realm of living plants and animals, and in some cases to the processes associated with inanimate objects—the way that particular types of things exist and change of their own accord, such as the weather and geology of the Earth.'"
      ]
     },
     "execution_count": 26,
     "metadata": {},
     "output_type": "execute_result"
    }
   ],
   "source": [
    "data.read()"
   ]
  },
  {
   "cell_type": "code",
   "execution_count": 27,
   "id": "0a103426-fded-411f-a926-1ebba4ee43e3",
   "metadata": {},
   "outputs": [
    {
     "data": {
      "text/plain": [
       "''"
      ]
     },
     "execution_count": 27,
     "metadata": {},
     "output_type": "execute_result"
    }
   ],
   "source": [
    "data.read()"
   ]
  },
  {
   "cell_type": "code",
   "execution_count": 28,
   "id": "4a196ccf-1c53-4166-95bb-067578ef9692",
   "metadata": {},
   "outputs": [
    {
     "data": {
      "text/plain": [
       "100"
      ]
     },
     "execution_count": 28,
     "metadata": {},
     "output_type": "execute_result"
    }
   ],
   "source": [
    "data.seek(100)"
   ]
  },
  {
   "cell_type": "code",
   "execution_count": 29,
   "id": "e9fa41f9-df1b-429c-b959-537f38c5837a",
   "metadata": {},
   "outputs": [
    {
     "data": {
      "text/plain": [
       "'es associated with inanimate objects—the way that particular types of things exist and change of their own accord, such as the weather and geology of the Earth.Nature can refer to the general realm of living plants and animals, and in some cases to the processes associated with inanimate objects—the way that particular types of things exist and change of their own accord, such as the weather and geology of the Earth.Nature can refer to the general realm of living plants and animals, and in some cases to the processes associated with inanimate objects—the way that particular types of things exist and change of their own accord, such as the weather and geology of the Earth.'"
      ]
     },
     "execution_count": 29,
     "metadata": {},
     "output_type": "execute_result"
    }
   ],
   "source": [
    "data.read()"
   ]
  },
  {
   "cell_type": "code",
   "execution_count": 30,
   "id": "42b96ddb-c369-41d8-a89e-7c6ea16cea53",
   "metadata": {},
   "outputs": [
    {
     "data": {
      "text/plain": [
       "''"
      ]
     },
     "execution_count": 30,
     "metadata": {},
     "output_type": "execute_result"
    }
   ],
   "source": [
    "data.read()"
   ]
  },
  {
   "cell_type": "code",
   "execution_count": 1,
   "id": "8d4ad1db-4227-424a-9f95-0f5cc2838e7f",
   "metadata": {},
   "outputs": [],
   "source": [
    "data1=open(\"test.txt\",'r')"
   ]
  },
  {
   "cell_type": "code",
   "execution_count": 2,
   "id": "97ceb11b-e8ed-462f-bf29-ab1f2b546799",
   "metadata": {},
   "outputs": [
    {
     "name": "stdout",
     "output_type": "stream",
     "text": [
      "Nature can refer to the general realm of living plants and animals, and in some cases to the processes associated with inanimate objects—the way that particular types of things exist and change of their own accord, such as the weather and geology of the Earth.Nature can refer to the general realm of living plants and animals, and in some cases to the processes associated with inanimate objects—the way that particular types of things exist and change of their own accord, such as the weather and geology of the Earth.Nature can refer to the general realm of living plants and animals, and in some cases to the processes associated with inanimate objects—the way that particular types of things exist and change of their own accord, such as the weather and geology of the Earth.\n"
     ]
    }
   ],
   "source": [
    "for i in data1:\n",
    "    print(i)"
   ]
  },
  {
   "cell_type": "code",
   "execution_count": 3,
   "id": "2021e3ac-5bfe-4076-bd20-f55bf08b2525",
   "metadata": {},
   "outputs": [
    {
     "data": {
      "text/plain": [
       "786"
      ]
     },
     "execution_count": 3,
     "metadata": {},
     "output_type": "execute_result"
    }
   ],
   "source": [
    "import os\n",
    "os.path.getsize(\"test.txt\")"
   ]
  },
  {
   "cell_type": "code",
   "execution_count": 4,
   "id": "6aa8b8e2-a17d-4d47-9eb8-d0460cca1b25",
   "metadata": {},
   "outputs": [
    {
     "data": {
      "text/plain": [
       "'new_test.txt'"
      ]
     },
     "execution_count": 4,
     "metadata": {},
     "output_type": "execute_result"
    }
   ],
   "source": [
    "import shutil\n",
    "shutil.copy(\"test.txt\",\"new_test.txt\")"
   ]
  },
  {
   "cell_type": "code",
   "execution_count": 5,
   "id": "43c1be80-2453-4712-99e7-10b08b713dfc",
   "metadata": {},
   "outputs": [],
   "source": [
    "os.remove(\"test.txt\")"
   ]
  },
  {
   "cell_type": "code",
   "execution_count": 6,
   "id": "cf115c44-951e-40e4-8587-25dba158371c",
   "metadata": {},
   "outputs": [
    {
     "name": "stdout",
     "output_type": "stream",
     "text": [
      "Nature can refer to the general realm of living plants and animals, and in some cases to the processes associated with inanimate objects—the way that particular types of things exist and change of their own accord, such as the weather and geology of the Earth.Nature can refer to the general realm of living plants and animals, and in some cases to the processes associated with inanimate objects—the way that particular types of things exist and change of their own accord, such as the weather and geology of the Earth.Nature can refer to the general realm of living plants and animals, and in some cases to the processes associated with inanimate objects—the way that particular types of things exist and change of their own accord, such as the weather and geology of the Earth.\n"
     ]
    }
   ],
   "source": [
    "with open(\"new_test.txt\",\"r\") as f:\n",
    "    print(f.read())"
   ]
  },
  {
   "cell_type": "code",
   "execution_count": 7,
   "id": "8f262cf2-9f0b-4460-a502-5989003192f9",
   "metadata": {},
   "outputs": [],
   "source": [
    "os.rename(\"new_test.txt\",\"test1.txt\")"
   ]
  },
  {
   "cell_type": "code",
   "execution_count": null,
   "id": "70ec5a9b-68e0-423c-94ff-3acad45c12b6",
   "metadata": {},
   "outputs": [],
   "source": []
  }
 ],
 "metadata": {
  "kernelspec": {
   "display_name": "Python 3 (ipykernel)",
   "language": "python",
   "name": "python3"
  },
  "language_info": {
   "codemirror_mode": {
    "name": "ipython",
    "version": 3
   },
   "file_extension": ".py",
   "mimetype": "text/x-python",
   "name": "python",
   "nbconvert_exporter": "python",
   "pygments_lexer": "ipython3",
   "version": "3.10.8"
  }
 },
 "nbformat": 4,
 "nbformat_minor": 5
}
