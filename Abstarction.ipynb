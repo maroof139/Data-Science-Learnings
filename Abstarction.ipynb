{
 "cells": [
  {
   "cell_type": "code",
   "execution_count": 1,
   "id": "a7ea985d-665e-4545-b051-5c75ee443f7d",
   "metadata": {},
   "outputs": [],
   "source": [
    "import abc \n",
    "class pwskills:\n",
    "    @abc.abstractmethod\n",
    "    def student_details(self):\n",
    "        pass\n",
    "    @abc.abstractmethod\n",
    "    def student_assignment(self):\n",
    "        pass\n",
    "    @abc.abstractmethod\n",
    "    def student_marks(self):\n",
    "        pass"
   ]
  },
  {
   "cell_type": "code",
   "execution_count": 2,
   "id": "f7a3db4f-3afe-4346-8505-a7b55e4df834",
   "metadata": {},
   "outputs": [],
   "source": [
    "class data_science(pwskills):\n",
    "    def student_details(self):\n",
    "        return \"it will return details of data science masters\"\n",
    "    def student_assignment(self):\n",
    "        return \"it will return details of students assignment of data science masters\""
   ]
  },
  {
   "cell_type": "code",
   "execution_count": 3,
   "id": "1684eeca-a618-4daf-8159-c77bbd694f56",
   "metadata": {},
   "outputs": [],
   "source": [
    "class web_dev(pwskills):\n",
    "    def student_details(self):\n",
    "        return \"it will return details of web dev class\" \n",
    "    def student_assignment(self):\n",
    "        return  \"it will return details of students assignment of web dev class\""
   ]
  },
  {
   "cell_type": "code",
   "execution_count": 5,
   "id": "d8fa05fa-baea-4716-9232-d74961863b3e",
   "metadata": {},
   "outputs": [
    {
     "data": {
      "text/plain": [
       "'it will return detailsof data science masters'"
      ]
     },
     "execution_count": 5,
     "metadata": {},
     "output_type": "execute_result"
    }
   ],
   "source": [
    "ds=data_science()\n",
    "ds.student_details()"
   ]
  },
  {
   "cell_type": "code",
   "execution_count": 7,
   "id": "a0f535bf-3997-4ff5-a25f-6b2454394998",
   "metadata": {},
   "outputs": [
    {
     "data": {
      "text/plain": [
       "'it will return details of students assignment of data science masters'"
      ]
     },
     "execution_count": 7,
     "metadata": {},
     "output_type": "execute_result"
    }
   ],
   "source": [
    "ds.student_assignment()"
   ]
  },
  {
   "cell_type": "code",
   "execution_count": 8,
   "id": "bb187651-c219-4769-af3a-c0ed182247b5",
   "metadata": {},
   "outputs": [
    {
     "data": {
      "text/plain": [
       "'it will return details of web dev class'"
      ]
     },
     "execution_count": 8,
     "metadata": {},
     "output_type": "execute_result"
    }
   ],
   "source": [
    "wb=web_dev()\n",
    "wb.student_details()"
   ]
  },
  {
   "cell_type": "code",
   "execution_count": 9,
   "id": "2bc32c8e-7ad9-4873-8606-d00cb5e3d154",
   "metadata": {},
   "outputs": [
    {
     "data": {
      "text/plain": [
       "'it will return details of students assignment of web dev class'"
      ]
     },
     "execution_count": 9,
     "metadata": {},
     "output_type": "execute_result"
    }
   ],
   "source": [
    "wb.student_assignment()"
   ]
  },
  {
   "cell_type": "code",
   "execution_count": null,
   "id": "51f18604-c8b1-45ab-b2b9-120b0cc664e3",
   "metadata": {},
   "outputs": [],
   "source": []
  }
 ],
 "metadata": {
  "kernelspec": {
   "display_name": "Python 3 (ipykernel)",
   "language": "python",
   "name": "python3"
  },
  "language_info": {
   "codemirror_mode": {
    "name": "ipython",
    "version": 3
   },
   "file_extension": ".py",
   "mimetype": "text/x-python",
   "name": "python",
   "nbconvert_exporter": "python",
   "pygments_lexer": "ipython3",
   "version": "3.10.8"
  }
 },
 "nbformat": 4,
 "nbformat_minor": 5
}
