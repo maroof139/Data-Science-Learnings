{
 "cells": [
  {
   "cell_type": "code",
   "execution_count": 14,
   "id": "1771b2d5-787d-48fd-b913-ef8e09206c85",
   "metadata": {},
   "outputs": [],
   "source": [
    "a=1"
   ]
  },
  {
   "cell_type": "code",
   "execution_count": 15,
   "id": "76a5184a-3d21-47b1-bd7d-c9d49fd08983",
   "metadata": {},
   "outputs": [
    {
     "data": {
      "text/plain": [
       "int"
      ]
     },
     "execution_count": 15,
     "metadata": {},
     "output_type": "execute_result"
    }
   ],
   "source": [
    "type(a)"
   ]
  },
  {
   "cell_type": "code",
   "execution_count": 16,
   "id": "ba5bc4c5-553c-48e9-8012-1f1e3983343e",
   "metadata": {},
   "outputs": [
    {
     "name": "stdout",
     "output_type": "stream",
     "text": [
      "<class 'str'>\n"
     ]
    }
   ],
   "source": [
    "print(type(\"pwskills\"))"
   ]
  },
  {
   "cell_type": "code",
   "execution_count": 17,
   "id": "aedc7425-a39c-44bc-8f65-e875492c7089",
   "metadata": {},
   "outputs": [],
   "source": [
    "class test:\n",
    "    pass"
   ]
  },
  {
   "cell_type": "code",
   "execution_count": 18,
   "id": "5cdfd211-02d7-4e9a-9d0d-0e5dd2994bd2",
   "metadata": {},
   "outputs": [],
   "source": [
    "a=test()"
   ]
  },
  {
   "cell_type": "code",
   "execution_count": 19,
   "id": "3503cabb-3850-4fd4-b3b1-34965adf49f9",
   "metadata": {},
   "outputs": [
    {
     "name": "stdout",
     "output_type": "stream",
     "text": [
      "<class '__main__.test'>\n"
     ]
    }
   ],
   "source": [
    "print(type(a))"
   ]
  },
  {
   "cell_type": "code",
   "execution_count": 20,
   "id": "9a2e4977-680f-4afe-bc42-553acd0c725a",
   "metadata": {},
   "outputs": [],
   "source": [
    "class pwskills:\n",
    "    def welcome_msg():\n",
    "        print(\"welcome to pwskills\")"
   ]
  },
  {
   "cell_type": "code",
   "execution_count": 21,
   "id": "f55b801f-01c8-4455-9a78-287895edfc9f",
   "metadata": {},
   "outputs": [],
   "source": [
    "rohan=pwskills()"
   ]
  },
  {
   "cell_type": "code",
   "execution_count": 22,
   "id": "4b7bb12b-3e1f-4fbf-b51a-5eb1776935de",
   "metadata": {},
   "outputs": [
    {
     "ename": "TypeError",
     "evalue": "pwskills.welcome_msg() takes 0 positional arguments but 1 was given",
     "output_type": "error",
     "traceback": [
      "\u001b[0;31m---------------------------------------------------------------------------\u001b[0m",
      "\u001b[0;31mTypeError\u001b[0m                                 Traceback (most recent call last)",
      "Cell \u001b[0;32mIn[22], line 1\u001b[0m\n\u001b[0;32m----> 1\u001b[0m \u001b[43mrohan\u001b[49m\u001b[38;5;241;43m.\u001b[39;49m\u001b[43mwelcome_msg\u001b[49m\u001b[43m(\u001b[49m\u001b[43m)\u001b[49m\n",
      "\u001b[0;31mTypeError\u001b[0m: pwskills.welcome_msg() takes 0 positional arguments but 1 was given"
     ]
    }
   ],
   "source": [
    "rohan.welcome_msg()"
   ]
  },
  {
   "cell_type": "code",
   "execution_count": 23,
   "id": "5cc8bc1e-971d-4d56-8b36-b386940ec157",
   "metadata": {},
   "outputs": [],
   "source": [
    "class pwskills:\n",
    "    def welcome_msg(self):\n",
    "        print(\"welcome to pwskills\")"
   ]
  },
  {
   "cell_type": "code",
   "execution_count": 24,
   "id": "fc664f00-988c-49cd-a59c-fa0d35379814",
   "metadata": {},
   "outputs": [],
   "source": [
    "rohan=pwskills()"
   ]
  },
  {
   "cell_type": "code",
   "execution_count": 25,
   "id": "e4c65a89-e6bb-4257-ad36-b47a71524da4",
   "metadata": {},
   "outputs": [
    {
     "name": "stdout",
     "output_type": "stream",
     "text": [
      "welcome to pwskills\n"
     ]
    }
   ],
   "source": [
    "rohan.welcome_msg()"
   ]
  },
  {
   "cell_type": "code",
   "execution_count": 26,
   "id": "d9e85405-1829-470e-9a84-c7911f36f150",
   "metadata": {},
   "outputs": [],
   "source": [
    "sohan=pwskills()"
   ]
  },
  {
   "cell_type": "code",
   "execution_count": 27,
   "id": "c1614a6e-863c-4db8-ab38-36e95634ec6f",
   "metadata": {},
   "outputs": [
    {
     "name": "stdout",
     "output_type": "stream",
     "text": [
      "welcome to pwskills\n"
     ]
    }
   ],
   "source": [
    "sohan.welcome_msg()"
   ]
  },
  {
   "cell_type": "code",
   "execution_count": 28,
   "id": "29a9a791-58db-4819-9719-11f937cfaa0f",
   "metadata": {},
   "outputs": [],
   "source": [
    "class pwskills1:\n",
    "    def __init__(self,phone_number,email_id,student_id):\n",
    "        self.phone_number=phone_number\n",
    "        self.email_id=email_id\n",
    "        self.student_id=student_id\n",
    "        \n",
    "    def return_student_details(self):\n",
    "        return self.phone_number,self.email_id, self.student_id\n",
    "        "
   ]
  },
  {
   "cell_type": "code",
   "execution_count": 31,
   "id": "584bfcf0-1f79-4254-9027-47dc82c88f7e",
   "metadata": {},
   "outputs": [],
   "source": [
    "rohan=pwskills1(974207,\"rohan@gmail.com\",101)"
   ]
  },
  {
   "cell_type": "code",
   "execution_count": 32,
   "id": "78b9368e-e6a7-4e1c-a4d9-ba1be3f2d2fe",
   "metadata": {},
   "outputs": [
    {
     "data": {
      "text/plain": [
       "974207"
      ]
     },
     "execution_count": 32,
     "metadata": {},
     "output_type": "execute_result"
    }
   ],
   "source": [
    "rohan.phone_number"
   ]
  },
  {
   "cell_type": "code",
   "execution_count": 33,
   "id": "03d6334f-2e41-458e-a329-6a2958494025",
   "metadata": {},
   "outputs": [
    {
     "data": {
      "text/plain": [
       "'rohan@gmail.com'"
      ]
     },
     "execution_count": 33,
     "metadata": {},
     "output_type": "execute_result"
    }
   ],
   "source": [
    "rohan.email_id"
   ]
  },
  {
   "cell_type": "code",
   "execution_count": 34,
   "id": "244a9f9e-f2f2-4bcb-b521-de26881fb208",
   "metadata": {},
   "outputs": [
    {
     "data": {
      "text/plain": [
       "101"
      ]
     },
     "execution_count": 34,
     "metadata": {},
     "output_type": "execute_result"
    }
   ],
   "source": [
    "rohan.student_id"
   ]
  },
  {
   "cell_type": "code",
   "execution_count": 36,
   "id": "74c8a9f9-d3c1-49aa-aaa8-f8ae8ec9cc5f",
   "metadata": {},
   "outputs": [
    {
     "data": {
      "text/plain": [
       "(974207, 'rohan@gmail.com', 101)"
      ]
     },
     "execution_count": 36,
     "metadata": {},
     "output_type": "execute_result"
    }
   ],
   "source": [
    "rohan.return_student_details()"
   ]
  },
  {
   "cell_type": "code",
   "execution_count": 35,
   "id": "393f77f7-2e80-497f-8498-a003c31b7b29",
   "metadata": {},
   "outputs": [],
   "source": [
    "sohan=pwskills1(888431,\"sohan@gmail.com\",102)"
   ]
  },
  {
   "cell_type": "code",
   "execution_count": 37,
   "id": "8d9f7a61-0dff-4061-bbe2-5f8987192aa9",
   "metadata": {},
   "outputs": [
    {
     "data": {
      "text/plain": [
       "888431"
      ]
     },
     "execution_count": 37,
     "metadata": {},
     "output_type": "execute_result"
    }
   ],
   "source": [
    "sohan.phone_number"
   ]
  },
  {
   "cell_type": "code",
   "execution_count": 38,
   "id": "6cd014cc-90c7-47f2-bb87-8035f72ee88a",
   "metadata": {},
   "outputs": [
    {
     "data": {
      "text/plain": [
       "'sohan@gmail.com'"
      ]
     },
     "execution_count": 38,
     "metadata": {},
     "output_type": "execute_result"
    }
   ],
   "source": [
    "sohan.email_id"
   ]
  },
  {
   "cell_type": "code",
   "execution_count": 39,
   "id": "6cadf713-63cd-4e96-b9a5-ab751290142e",
   "metadata": {},
   "outputs": [
    {
     "data": {
      "text/plain": [
       "102"
      ]
     },
     "execution_count": 39,
     "metadata": {},
     "output_type": "execute_result"
    }
   ],
   "source": [
    "sohan.student_id"
   ]
  },
  {
   "cell_type": "code",
   "execution_count": 41,
   "id": "8f331ffd-33a1-4d87-bc00-bcc0790177ff",
   "metadata": {},
   "outputs": [
    {
     "data": {
      "text/plain": [
       "(888431, 'sohan@gmail.com', 102)"
      ]
     },
     "execution_count": 41,
     "metadata": {},
     "output_type": "execute_result"
    }
   ],
   "source": [
    "sohan.return_student_details()"
   ]
  },
  {
   "cell_type": "code",
   "execution_count": 42,
   "id": "01a2ebde-4f5e-4b3b-bb18-e8eb3da4221b",
   "metadata": {},
   "outputs": [],
   "source": [
    "class pwskills2:\n",
    "    def __init__(sudh,phone_number,email_id,student_id):\n",
    "        sudh.phone_number=phone_number\n",
    "        sudh.email_id=email_id\n",
    "        sudh.student_id=student_id\n",
    "        \n",
    "    def return_student_details(sudh):\n",
    "        return sudh.phone_number,sudh.email_id, sudh.student_id\n",
    "        "
   ]
  },
  {
   "cell_type": "code",
   "execution_count": 43,
   "id": "6cba5dd1-1623-4f18-b4d1-b4b82208dda1",
   "metadata": {},
   "outputs": [],
   "source": [
    "mohan=pwskills2(98454,\"mohan@gmail.com\",103)"
   ]
  },
  {
   "cell_type": "code",
   "execution_count": 44,
   "id": "a6bf28a2-ba9b-4f64-9735-393d83fc6fc8",
   "metadata": {},
   "outputs": [
    {
     "data": {
      "text/plain": [
       "98454"
      ]
     },
     "execution_count": 44,
     "metadata": {},
     "output_type": "execute_result"
    }
   ],
   "source": [
    "mohan.phone_number"
   ]
  },
  {
   "cell_type": "code",
   "execution_count": 46,
   "id": "39efa750-d936-4f1d-81c1-0bf991e7b8b1",
   "metadata": {},
   "outputs": [
    {
     "data": {
      "text/plain": [
       "(98454, 'mohan@gmail.com', 103)"
      ]
     },
     "execution_count": 46,
     "metadata": {},
     "output_type": "execute_result"
    }
   ],
   "source": [
    "mohan.return_student_details()"
   ]
  },
  {
   "cell_type": "code",
   "execution_count": 54,
   "id": "fc6c9e83-064f-4a71-ac59-73386e33487f",
   "metadata": {},
   "outputs": [],
   "source": [
    "class pwskills3:\n",
    "    def __init__(sudh,phone_number,email_id,student_id):\n",
    "        sudh.phone_number1=phone_number\n",
    "        sudh.email_id=email_id\n",
    "        sudh.student_id=student_id\n",
    "        \n",
    "    def return_student_details(sudh):\n",
    "        return sudh.phone_number1,sudh.email_id, sudh.student_id\n",
    "        "
   ]
  },
  {
   "cell_type": "code",
   "execution_count": 55,
   "id": "6ec39bb5-5584-43a5-8427-09093ab0cee3",
   "metadata": {},
   "outputs": [],
   "source": [
    "rohan=pwskills3(98809,\"rohan@gmail.com\",104)"
   ]
  },
  {
   "cell_type": "code",
   "execution_count": 56,
   "id": "1c205e7c-f5d7-4dbb-a291-8fce375c19d6",
   "metadata": {},
   "outputs": [
    {
     "ename": "AttributeError",
     "evalue": "'pwskills3' object has no attribute 'phone_number'",
     "output_type": "error",
     "traceback": [
      "\u001b[0;31m---------------------------------------------------------------------------\u001b[0m",
      "\u001b[0;31mAttributeError\u001b[0m                            Traceback (most recent call last)",
      "Cell \u001b[0;32mIn[56], line 1\u001b[0m\n\u001b[0;32m----> 1\u001b[0m \u001b[43mrohan\u001b[49m\u001b[38;5;241;43m.\u001b[39;49m\u001b[43mphone_number\u001b[49m\n",
      "\u001b[0;31mAttributeError\u001b[0m: 'pwskills3' object has no attribute 'phone_number'"
     ]
    }
   ],
   "source": [
    "rohan.phone_number"
   ]
  },
  {
   "cell_type": "code",
   "execution_count": null,
   "id": "5df8bbba-ed16-480b-9c60-493a2550a797",
   "metadata": {},
   "outputs": [],
   "source": []
  }
 ],
 "metadata": {
  "kernelspec": {
   "display_name": "Python 3 (ipykernel)",
   "language": "python",
   "name": "python3"
  },
  "language_info": {
   "codemirror_mode": {
    "name": "ipython",
    "version": 3
   },
   "file_extension": ".py",
   "mimetype": "text/x-python",
   "name": "python",
   "nbconvert_exporter": "python",
   "pygments_lexer": "ipython3",
   "version": "3.10.8"
  }
 },
 "nbformat": 4,
 "nbformat_minor": 5
}
