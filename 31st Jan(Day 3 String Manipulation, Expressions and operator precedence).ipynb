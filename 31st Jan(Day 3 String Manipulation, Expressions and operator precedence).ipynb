{
 "cells": [
  {
   "cell_type": "code",
   "execution_count": 1,
   "id": "8fdf58ee-cafc-4e60-8c78-c80230c09f75",
   "metadata": {},
   "outputs": [
    {
     "data": {
      "text/plain": [
       "True"
      ]
     },
     "execution_count": 1,
     "metadata": {},
     "output_type": "execute_result"
    }
   ],
   "source": [
    "bool(-5)"
   ]
  },
  {
   "cell_type": "code",
   "execution_count": 2,
   "id": "6e778007-dc9f-452d-a104-06f41da7ad29",
   "metadata": {},
   "outputs": [
    {
     "data": {
      "text/plain": [
       "True"
      ]
     },
     "execution_count": 2,
     "metadata": {},
     "output_type": "execute_result"
    }
   ],
   "source": [
    "bool(5)"
   ]
  },
  {
   "cell_type": "code",
   "execution_count": 4,
   "id": "4ecb810a-2b99-4b58-8228-c263cc27efb4",
   "metadata": {},
   "outputs": [
    {
     "data": {
      "text/plain": [
       "False"
      ]
     },
     "execution_count": 4,
     "metadata": {},
     "output_type": "execute_result"
    }
   ],
   "source": [
    "not(bool(-5))"
   ]
  },
  {
   "cell_type": "code",
   "execution_count": 5,
   "id": "7c3e9db8-8cf2-4a42-8914-4c639dff9dc9",
   "metadata": {},
   "outputs": [
    {
     "data": {
      "text/plain": [
       "-5"
      ]
     },
     "execution_count": 5,
     "metadata": {},
     "output_type": "execute_result"
    }
   ],
   "source": [
    "-5 and -5"
   ]
  },
  {
   "cell_type": "code",
   "execution_count": 6,
   "id": "fafce0ab-118e-4111-905c-f6e1713b1c44",
   "metadata": {},
   "outputs": [
    {
     "data": {
      "text/plain": [
       "5"
      ]
     },
     "execution_count": 6,
     "metadata": {},
     "output_type": "execute_result"
    }
   ],
   "source": [
    "-5 and 5"
   ]
  },
  {
   "cell_type": "code",
   "execution_count": 7,
   "id": "e1eb53c6-a57e-4e0c-92b9-58852edf6503",
   "metadata": {},
   "outputs": [
    {
     "data": {
      "text/plain": [
       "0"
      ]
     },
     "execution_count": 7,
     "metadata": {},
     "output_type": "execute_result"
    }
   ],
   "source": [
    "0 and 1"
   ]
  },
  {
   "cell_type": "code",
   "execution_count": 8,
   "id": "e068b93b-4322-4ec0-b800-c6e26e0ac53d",
   "metadata": {},
   "outputs": [
    {
     "data": {
      "text/plain": [
       "False"
      ]
     },
     "execution_count": 8,
     "metadata": {},
     "output_type": "execute_result"
    }
   ],
   "source": [
    "not(-5)"
   ]
  },
  {
   "cell_type": "code",
   "execution_count": 10,
   "id": "b45c140b-2fea-483d-adf8-fad94f29323a",
   "metadata": {},
   "outputs": [
    {
     "data": {
      "text/plain": [
       "0"
      ]
     },
     "execution_count": 10,
     "metadata": {},
     "output_type": "execute_result"
    }
   ],
   "source": [
    "int(not(5))"
   ]
  },
  {
   "cell_type": "code",
   "execution_count": 11,
   "id": "3e873490-3c9d-46f3-a202-2f09480c7565",
   "metadata": {},
   "outputs": [
    {
     "data": {
      "text/plain": [
       "True"
      ]
     },
     "execution_count": 11,
     "metadata": {},
     "output_type": "execute_result"
    }
   ],
   "source": [
    "not(False * True)"
   ]
  },
  {
   "cell_type": "code",
   "execution_count": 12,
   "id": "8053a04c-539d-4b7f-b07c-6a92cb46b289",
   "metadata": {},
   "outputs": [],
   "source": [
    "lst_a = [1,2,3,4]\n",
    "lst_b = [1,2,3,4]"
   ]
  },
  {
   "cell_type": "code",
   "execution_count": 13,
   "id": "e49658f2-5a7f-4778-b180-b2dac826e640",
   "metadata": {},
   "outputs": [
    {
     "data": {
      "text/plain": [
       "139627038778624"
      ]
     },
     "execution_count": 13,
     "metadata": {},
     "output_type": "execute_result"
    }
   ],
   "source": [
    "id(lst_a)"
   ]
  },
  {
   "cell_type": "code",
   "execution_count": 14,
   "id": "65b00d18-e169-4c27-8dcc-ec033bcb7767",
   "metadata": {},
   "outputs": [
    {
     "data": {
      "text/plain": [
       "139627038828160"
      ]
     },
     "execution_count": 14,
     "metadata": {},
     "output_type": "execute_result"
    }
   ],
   "source": [
    "id(lst_b)"
   ]
  },
  {
   "cell_type": "code",
   "execution_count": 15,
   "id": "4e9ea744-9b1a-4991-bd14-0c24b8b681b9",
   "metadata": {},
   "outputs": [
    {
     "data": {
      "text/plain": [
       "139627038828160"
      ]
     },
     "execution_count": 15,
     "metadata": {},
     "output_type": "execute_result"
    }
   ],
   "source": [
    "id(lst_b)"
   ]
  },
  {
   "cell_type": "code",
   "execution_count": 16,
   "id": "5f3edade-f21e-4367-8a2e-e05e567541d6",
   "metadata": {},
   "outputs": [
    {
     "data": {
      "text/plain": [
       "False"
      ]
     },
     "execution_count": 16,
     "metadata": {},
     "output_type": "execute_result"
    }
   ],
   "source": [
    "lst_a is lst_b"
   ]
  },
  {
   "cell_type": "code",
   "execution_count": 17,
   "id": "54019155-7c91-4a19-b45e-a9ef26a975ae",
   "metadata": {},
   "outputs": [],
   "source": [
    "lst_a = [1,2,3,4]\n",
    "lst_b = lst_a"
   ]
  },
  {
   "cell_type": "code",
   "execution_count": 18,
   "id": "d4e1a92a-a2ea-4bca-8382-51306c2851af",
   "metadata": {},
   "outputs": [
    {
     "name": "stdout",
     "output_type": "stream",
     "text": [
      "139627098982784\n",
      "139627098982784\n"
     ]
    }
   ],
   "source": [
    "print(id(lst_a))\n",
    "print(id(lst_b))"
   ]
  },
  {
   "cell_type": "code",
   "execution_count": 19,
   "id": "e7c3140c-2c07-41db-8a1f-aaff62847e59",
   "metadata": {},
   "outputs": [
    {
     "data": {
      "text/plain": [
       "True"
      ]
     },
     "execution_count": 19,
     "metadata": {},
     "output_type": "execute_result"
    }
   ],
   "source": [
    "lst_a is lst_b"
   ]
  },
  {
   "cell_type": "code",
   "execution_count": 20,
   "id": "20bdfffb-de0a-4f21-bb4f-d5d389f090a2",
   "metadata": {},
   "outputs": [],
   "source": [
    "lst_a = [1,2,3,4]\n",
    "lst_b = [1,2,3,4]"
   ]
  },
  {
   "cell_type": "code",
   "execution_count": 21,
   "id": "7408cc70-6704-44f6-b1b8-aa2693c9bc65",
   "metadata": {},
   "outputs": [
    {
     "data": {
      "text/plain": [
       "True"
      ]
     },
     "execution_count": 21,
     "metadata": {},
     "output_type": "execute_result"
    }
   ],
   "source": [
    "lst_a is not lst_b"
   ]
  },
  {
   "cell_type": "code",
   "execution_count": 1,
   "id": "0546d945-dbb5-4f5a-8560-ea2879b5efd5",
   "metadata": {},
   "outputs": [],
   "source": [
    "lst_a=[1,2,3,4]\n",
    "lst_b=lst_a"
   ]
  },
  {
   "cell_type": "code",
   "execution_count": 2,
   "id": "90726abe-0f03-4948-b27f-12ba03c92b41",
   "metadata": {},
   "outputs": [
    {
     "name": "stdout",
     "output_type": "stream",
     "text": [
      "140449258169152\n",
      "140449258169152\n"
     ]
    }
   ],
   "source": [
    "print(id(lst_a))\n",
    "print(id(lst_b))"
   ]
  },
  {
   "cell_type": "code",
   "execution_count": 4,
   "id": "ac944a8c-f165-4878-8ce1-3adf035ada1b",
   "metadata": {},
   "outputs": [
    {
     "name": "stdout",
     "output_type": "stream",
     "text": [
      "140449309796720\n",
      "140449309796720\n"
     ]
    }
   ],
   "source": [
    "str1 = \"Maroof\"\n",
    "str2 = \"Maroof\"\n",
    "print(id(str1))\n",
    "print(id(str2))"
   ]
  },
  {
   "cell_type": "code",
   "execution_count": 5,
   "id": "2220700c-67bb-4620-8e1c-560c31683f30",
   "metadata": {},
   "outputs": [
    {
     "name": "stdout",
     "output_type": "stream",
     "text": [
      "140449309796720\n",
      "140449257910128\n"
     ]
    }
   ],
   "source": [
    "str1 = \"Maroof\"\n",
    "str2 = \"Maroof1\"\n",
    "print(id(str1))\n",
    "print(id(str2))"
   ]
  },
  {
   "cell_type": "code",
   "execution_count": 6,
   "id": "98d2b5ed-c427-4d29-8ec4-fbe88343ef7d",
   "metadata": {},
   "outputs": [
    {
     "data": {
      "text/plain": [
       "[1, 2, 3, 4]"
      ]
     },
     "execution_count": 6,
     "metadata": {},
     "output_type": "execute_result"
    }
   ],
   "source": [
    "lst_a"
   ]
  },
  {
   "cell_type": "code",
   "execution_count": 7,
   "id": "623ebec5-c3c6-4518-86e5-28e839ba9daa",
   "metadata": {},
   "outputs": [
    {
     "data": {
      "text/plain": [
       "1"
      ]
     },
     "execution_count": 7,
     "metadata": {},
     "output_type": "execute_result"
    }
   ],
   "source": [
    "lst_a[0]"
   ]
  },
  {
   "cell_type": "code",
   "execution_count": 8,
   "id": "d148817a-e8be-45a3-91c8-8d3c2ef300cc",
   "metadata": {},
   "outputs": [],
   "source": [
    "lst_a[0]=10"
   ]
  },
  {
   "cell_type": "code",
   "execution_count": 9,
   "id": "aa31ce0c-8f1b-4a6a-836d-5c7c9980d566",
   "metadata": {},
   "outputs": [
    {
     "data": {
      "text/plain": [
       "[10, 2, 3, 4]"
      ]
     },
     "execution_count": 9,
     "metadata": {},
     "output_type": "execute_result"
    }
   ],
   "source": [
    "lst_a"
   ]
  },
  {
   "cell_type": "code",
   "execution_count": 10,
   "id": "b5f75d69-356f-4584-b83a-11edf910fe74",
   "metadata": {},
   "outputs": [
    {
     "data": {
      "text/plain": [
       "'Maroof'"
      ]
     },
     "execution_count": 10,
     "metadata": {},
     "output_type": "execute_result"
    }
   ],
   "source": [
    "str1"
   ]
  },
  {
   "cell_type": "code",
   "execution_count": 11,
   "id": "133591db-bbcf-4eda-af8b-643cb6cae5bd",
   "metadata": {},
   "outputs": [
    {
     "data": {
      "text/plain": [
       "'M'"
      ]
     },
     "execution_count": 11,
     "metadata": {},
     "output_type": "execute_result"
    }
   ],
   "source": [
    "str1[0]"
   ]
  },
  {
   "cell_type": "code",
   "execution_count": 12,
   "id": "ec3dbf74-c1a5-41c3-8a0f-f4dcb147ff79",
   "metadata": {},
   "outputs": [
    {
     "ename": "TypeError",
     "evalue": "'str' object does not support item assignment",
     "output_type": "error",
     "traceback": [
      "\u001b[0;31m---------------------------------------------------------------------------\u001b[0m",
      "\u001b[0;31mTypeError\u001b[0m                                 Traceback (most recent call last)",
      "Cell \u001b[0;32mIn[12], line 1\u001b[0m\n\u001b[0;32m----> 1\u001b[0m \u001b[43mstr1\u001b[49m\u001b[43m[\u001b[49m\u001b[38;5;241;43m0\u001b[39;49m\u001b[43m]\u001b[49m\u001b[38;5;241m=\u001b[39m\u001b[38;5;124m\"\u001b[39m\u001b[38;5;124mh\u001b[39m\u001b[38;5;124m\"\u001b[39m\n",
      "\u001b[0;31mTypeError\u001b[0m: 'str' object does not support item assignment"
     ]
    }
   ],
   "source": [
    "str1[0]=\"h\""
   ]
  },
  {
   "cell_type": "code",
   "execution_count": 16,
   "id": "bc672889-90b2-4bd8-8379-5d54265ebb21",
   "metadata": {},
   "outputs": [
    {
     "name": "stdout",
     "output_type": "stream",
     "text": [
      "M\n",
      "a\n",
      "r\n",
      "o\n",
      "o\n",
      "f\n"
     ]
    }
   ],
   "source": [
    "for i in str1:\n",
    "    print(i)"
   ]
  },
  {
   "cell_type": "code",
   "execution_count": 17,
   "id": "97c4395c-bdcb-4ed5-9925-e290df32a23e",
   "metadata": {},
   "outputs": [],
   "source": [
    "str = \"pw skills data science\""
   ]
  },
  {
   "cell_type": "code",
   "execution_count": 18,
   "id": "f487ede9-8438-445c-bf58-1e351bc1252f",
   "metadata": {},
   "outputs": [
    {
     "data": {
      "text/plain": [
       "'i'"
      ]
     },
     "execution_count": 18,
     "metadata": {},
     "output_type": "execute_result"
    }
   ],
   "source": [
    "str[5]"
   ]
  },
  {
   "cell_type": "code",
   "execution_count": 19,
   "id": "ff8ceefb-7f2f-4ceb-8370-3b0cd0d98595",
   "metadata": {},
   "outputs": [
    {
     "data": {
      "text/plain": [
       "'ills data science'"
      ]
     },
     "execution_count": 19,
     "metadata": {},
     "output_type": "execute_result"
    }
   ],
   "source": [
    "str[5:]"
   ]
  },
  {
   "cell_type": "code",
   "execution_count": 20,
   "id": "d4a6b043-fcd1-487b-8b93-584ff3d23663",
   "metadata": {},
   "outputs": [
    {
     "data": {
      "text/plain": [
       "'ills d'"
      ]
     },
     "execution_count": 20,
     "metadata": {},
     "output_type": "execute_result"
    }
   ],
   "source": [
    "str[5:11]"
   ]
  },
  {
   "cell_type": "code",
   "execution_count": 23,
   "id": "f302cbca-4c53-4a0e-b9d8-c660a2abdedf",
   "metadata": {},
   "outputs": [
    {
     "data": {
      "text/plain": [
       "'e'"
      ]
     },
     "execution_count": 23,
     "metadata": {},
     "output_type": "execute_result"
    }
   ],
   "source": [
    "str[-1]"
   ]
  },
  {
   "cell_type": "code",
   "execution_count": 25,
   "id": "57f45485-0db4-4aa3-8e76-0bb60a146fab",
   "metadata": {},
   "outputs": [
    {
     "data": {
      "text/plain": [
       "'sc'"
      ]
     },
     "execution_count": 25,
     "metadata": {},
     "output_type": "execute_result"
    }
   ],
   "source": [
    "str[-7:-5]"
   ]
  },
  {
   "cell_type": "code",
   "execution_count": 26,
   "id": "0725fd1d-4b66-433d-9b27-e4153c96072e",
   "metadata": {},
   "outputs": [
    {
     "data": {
      "text/plain": [
       "'pw skills data scienc'"
      ]
     },
     "execution_count": 26,
     "metadata": {},
     "output_type": "execute_result"
    }
   ],
   "source": [
    "str[:-1]"
   ]
  },
  {
   "cell_type": "code",
   "execution_count": 27,
   "id": "22874b81-2a96-42c5-b9f3-808a6250b95c",
   "metadata": {},
   "outputs": [
    {
     "data": {
      "text/plain": [
       "'ecneics atad slliks wp'"
      ]
     },
     "execution_count": 27,
     "metadata": {},
     "output_type": "execute_result"
    }
   ],
   "source": [
    "str[::-1]"
   ]
  },
  {
   "cell_type": "code",
   "execution_count": 28,
   "id": "45c941ac-3175-49c4-abfc-8cfd17502e9c",
   "metadata": {},
   "outputs": [
    {
     "data": {
      "text/plain": [
       "'eest lsp'"
      ]
     },
     "execution_count": 28,
     "metadata": {},
     "output_type": "execute_result"
    }
   ],
   "source": [
    "str[::-3]"
   ]
  },
  {
   "cell_type": "code",
   "execution_count": 29,
   "id": "54c6cdfa-1754-4baa-baeb-502331585940",
   "metadata": {},
   "outputs": [],
   "source": [
    "course_name='Data Science Master'"
   ]
  },
  {
   "cell_type": "code",
   "execution_count": 31,
   "id": "877f50fa-543a-400c-bda9-f3823fe87cd1",
   "metadata": {},
   "outputs": [
    {
     "data": {
      "text/plain": [
       "'Science'"
      ]
     },
     "execution_count": 31,
     "metadata": {},
     "output_type": "execute_result"
    }
   ],
   "source": [
    "course_name[5:12]"
   ]
  },
  {
   "cell_type": "code",
   "execution_count": 36,
   "id": "4dfd1d36-6f31-416e-8a2c-79a0ce804af0",
   "metadata": {},
   "outputs": [
    {
     "data": {
      "text/plain": [
       "'Science'"
      ]
     },
     "execution_count": 36,
     "metadata": {},
     "output_type": "execute_result"
    }
   ],
   "source": [
    "course_name[-14:-7]"
   ]
  },
  {
   "cell_type": "code",
   "execution_count": 37,
   "id": "92b40187-d978-4e69-8af8-0d6b9ecb8028",
   "metadata": {},
   "outputs": [
    {
     "data": {
      "text/plain": [
       "'ecneicS'"
      ]
     },
     "execution_count": 37,
     "metadata": {},
     "output_type": "execute_result"
    }
   ],
   "source": [
    "course_name[11:4:-1]"
   ]
  },
  {
   "cell_type": "code",
   "execution_count": 38,
   "id": "8619e39f-053a-4c48-96ea-41386b122194",
   "metadata": {},
   "outputs": [
    {
     "data": {
      "text/plain": [
       "'Data Science MasterCourse'"
      ]
     },
     "execution_count": 38,
     "metadata": {},
     "output_type": "execute_result"
    }
   ],
   "source": [
    "course_name + \"Course\""
   ]
  },
  {
   "cell_type": "code",
   "execution_count": 39,
   "id": "dd9c9d59-f22a-40a4-a58a-1b9365cc4cd0",
   "metadata": {},
   "outputs": [
    {
     "data": {
      "text/plain": [
       "19"
      ]
     },
     "execution_count": 39,
     "metadata": {},
     "output_type": "execute_result"
    }
   ],
   "source": [
    "len(course_name)"
   ]
  },
  {
   "cell_type": "code",
   "execution_count": 40,
   "id": "da6c1639-db79-4f8b-a926-78bda040c184",
   "metadata": {},
   "outputs": [
    {
     "data": {
      "text/plain": [
       "9"
      ]
     },
     "execution_count": 40,
     "metadata": {},
     "output_type": "execute_result"
    }
   ],
   "source": [
    "course_name.find('n')"
   ]
  },
  {
   "cell_type": "code",
   "execution_count": 41,
   "id": "87153fa4-c56f-421c-9686-39c8bf2c1ded",
   "metadata": {},
   "outputs": [
    {
     "data": {
      "text/plain": [
       "2"
      ]
     },
     "execution_count": 41,
     "metadata": {},
     "output_type": "execute_result"
    }
   ],
   "source": [
    "course_name.find('t')"
   ]
  },
  {
   "cell_type": "code",
   "execution_count": 42,
   "id": "8fe4f7fe-9cb7-47cb-a4a8-c307f2665eaf",
   "metadata": {},
   "outputs": [
    {
     "data": {
      "text/plain": [
       "-1"
      ]
     },
     "execution_count": 42,
     "metadata": {},
     "output_type": "execute_result"
    }
   ],
   "source": [
    "course_name.find('t',3,12)"
   ]
  },
  {
   "cell_type": "code",
   "execution_count": 43,
   "id": "fd04318f-b3f8-492c-a47c-c3da8b66d3e7",
   "metadata": {},
   "outputs": [
    {
     "data": {
      "text/plain": [
       "2"
      ]
     },
     "execution_count": 43,
     "metadata": {},
     "output_type": "execute_result"
    }
   ],
   "source": [
    "course_name.count('t')"
   ]
  },
  {
   "cell_type": "code",
   "execution_count": 54,
   "id": "ceaef309-74a9-4997-aec4-9d507d2b3766",
   "metadata": {},
   "outputs": [
    {
     "data": {
      "text/plain": [
       "['Data', 'Science', 'Master']"
      ]
     },
     "execution_count": 54,
     "metadata": {},
     "output_type": "execute_result"
    }
   ],
   "source": [
    "course_name.split(' ')"
   ]
  },
  {
   "cell_type": "code",
   "execution_count": 50,
   "id": "fb3943f1-6cba-4b59-8aa5-2a2db0594a32",
   "metadata": {},
   "outputs": [
    {
     "data": {
      "text/plain": [
       "['Data ', 'cience Master']"
      ]
     },
     "execution_count": 50,
     "metadata": {},
     "output_type": "execute_result"
    }
   ],
   "source": [
    "course_name.split(\"S\")"
   ]
  },
  {
   "cell_type": "code",
   "execution_count": 51,
   "id": "a8c17da3-d8df-4110-82c2-5eba78754375",
   "metadata": {},
   "outputs": [
    {
     "data": {
      "text/plain": [
       "('Data ', 'S', 'cience Master')"
      ]
     },
     "execution_count": 51,
     "metadata": {},
     "output_type": "execute_result"
    }
   ],
   "source": [
    "course_name.partition(\"S\")"
   ]
  },
  {
   "cell_type": "code",
   "execution_count": 55,
   "id": "bebb6038-f9a2-431c-a721-1840c40221a8",
   "metadata": {},
   "outputs": [
    {
     "data": {
      "text/plain": [
       "'DATA SCIENCE MASTER'"
      ]
     },
     "execution_count": 55,
     "metadata": {},
     "output_type": "execute_result"
    }
   ],
   "source": [
    "course_name.upper()"
   ]
  },
  {
   "cell_type": "code",
   "execution_count": 56,
   "id": "4bad116b-e415-4a34-b4d0-d9c77409baf3",
   "metadata": {},
   "outputs": [
    {
     "data": {
      "text/plain": [
       "'data science master'"
      ]
     },
     "execution_count": 56,
     "metadata": {},
     "output_type": "execute_result"
    }
   ],
   "source": [
    "course_name.lower()"
   ]
  },
  {
   "cell_type": "code",
   "execution_count": 57,
   "id": "771afb40-d123-44a3-95ce-5b21d22409bc",
   "metadata": {},
   "outputs": [
    {
     "data": {
      "text/plain": [
       "'dATA sCIENCE mASTER'"
      ]
     },
     "execution_count": 57,
     "metadata": {},
     "output_type": "execute_result"
    }
   ],
   "source": [
    "course_name.swapcase()"
   ]
  },
  {
   "cell_type": "code",
   "execution_count": 58,
   "id": "17a831d1-c55d-426d-8ca9-c4c29729b2c6",
   "metadata": {},
   "outputs": [
    {
     "data": {
      "text/plain": [
       "'Data Science Master'"
      ]
     },
     "execution_count": 58,
     "metadata": {},
     "output_type": "execute_result"
    }
   ],
   "source": [
    "course_name.title()"
   ]
  },
  {
   "cell_type": "code",
   "execution_count": 66,
   "id": "0ba62baa-5668-496a-8d03-e12236f73ace",
   "metadata": {},
   "outputs": [
    {
     "name": "stdin",
     "output_type": "stream",
     "text": [
      "Enter size =  9\n"
     ]
    },
    {
     "name": "stdout",
     "output_type": "stream",
     "text": [
      "                   *  \n",
      "                 *   *  \n",
      "               *   *   *   *  \n",
      "             *   *   *   *   *   *  \n",
      "           *   *   *   *   *   *   *   *  \n",
      "         *   *   *   *   *   *   *   *   *   *  \n",
      "       *   *   *   *   *   *   *   *   *   *   *   *  \n",
      "     *   *   *   *   *   *   *   *   *   *   *   *   *   *  \n",
      "   *   *   *   *   *   *   *   *   *   *   *   *   *   *   *   *  \n"
     ]
    }
   ],
   "source": [
    "size=int(input('Enter size = '))\n",
    "for i in range(size):\n",
    "    for j in range(size-i):\n",
    "        print(\" \",end = \" \")\n",
    "    for k in range(i+1):\n",
    "        print(\" * \",end = \" \")\n",
    "    for m in range(k-1):\n",
    "        print(\" * \",end = \" \")\n",
    "    print()"
   ]
  },
  {
   "cell_type": "code",
   "execution_count": null,
   "id": "a7155265-d6fa-4b77-8a6b-d363d2176418",
   "metadata": {},
   "outputs": [],
   "source": [
    "course_name"
   ]
  }
 ],
 "metadata": {
  "kernelspec": {
   "display_name": "Python 3 (ipykernel)",
   "language": "python",
   "name": "python3"
  },
  "language_info": {
   "codemirror_mode": {
    "name": "ipython",
    "version": 3
   },
   "file_extension": ".py",
   "mimetype": "text/x-python",
   "name": "python",
   "nbconvert_exporter": "python",
   "pygments_lexer": "ipython3",
   "version": "3.10.8"
  }
 },
 "nbformat": 4,
 "nbformat_minor": 5
}
