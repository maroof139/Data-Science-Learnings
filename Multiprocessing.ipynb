{
 "cells": [
  {
   "cell_type": "code",
   "execution_count": null,
   "id": "6bd70840-87b2-42d9-9504-a8e6bf453419",
   "metadata": {},
   "outputs": [],
   "source": [
    "import multiprocessing"
   ]
  },
  {
   "cell_type": "code",
   "execution_count": null,
   "id": "47de4c7b-5378-4655-95e8-52c1ed7f44e8",
   "metadata": {},
   "outputs": [],
   "source": [
    "def test():\n",
    "    print(\"this is multiprocessing prog\")\n",
    "if __name__==\"__main__\":\n",
    "    m=multiprocessing.Process(target=test)\n",
    "    print(\"this is my child prod\")\n",
    "    m.start()\n",
    "    m.join()"
   ]
  },
  {
   "cell_type": "code",
   "execution_count": null,
   "id": "74432d18-8a28-4b8c-83c0-0846afa1f95b",
   "metadata": {},
   "outputs": [],
   "source": [
    "def square(n):\n",
    "    return n**2\n",
    "if __name__==\"__main__\":\n",
    "    with multiprocessing.Pool(processes=5) as pool:\n",
    "        out=pool.map(square,[3,4,5,6,6,7,87,8,8])\n",
    "        print(out)"
   ]
  },
  {
   "cell_type": "code",
   "execution_count": null,
   "id": "57b4dd1a-822a-48fc-bf6b-866a78fd2212",
   "metadata": {},
   "outputs": [],
   "source": [
    "import multiprocessing\n",
    "def producer(q):\n",
    "    for i in[\"sudh\",\"kumar\",\"pwskills\",\"krish\",\"naik\"]:\n",
    "        q.put(i)\n",
    "def consumer(q):\n",
    "    while True:\n",
    "        item=q.get()\n",
    "        if item is None:\n",
    "            break\n",
    "        print(item)\n",
    "if __name__==\"__main__\":\n",
    "    queue=multiprocessing.Queue()\n",
    "    m1=multiprocessing.Process(target=producer,args=(queue,))\n",
    "    m2=multiprocessing.Process(target=consumer,args=(queue,))\n",
    "    m1.start()\n",
    "    m2.start()\n",
    "    queue.put(\"xyz\")\n",
    "    m1.join()\n",
    "    m2.join()"
   ]
  },
  {
   "cell_type": "code",
   "execution_count": 2,
   "id": "24b87694-9809-41f5-8bf5-ee8ef8ad3b6c",
   "metadata": {},
   "outputs": [
    {
     "name": "stdout",
     "output_type": "stream",
     "text": [
      "[4, 9, 36, 49, 64, 64, 81, 9, 9, 9]\n"
     ]
    }
   ],
   "source": [
    "import multiprocessing\n",
    "def square(index,value):\n",
    "    value[index]=value[index]**2\n",
    "if __name__==\"__main__\":\n",
    "    arr=multiprocessing.Array('i',[2,3,6,7,8,8,9,3,3,3])\n",
    "    process=[]\n",
    "    for i in range(10):\n",
    "        m=multiprocessing.Process(target=square,args=(i,arr))\n",
    "        process.append(m)\n",
    "        m.start()\n",
    "    for m in process:\n",
    "        m.join()\n",
    "    print(list(arr))"
   ]
  },
  {
   "cell_type": "code",
   "execution_count": null,
   "id": "df4d3002-9b78-46ad-bca3-5a468a339c46",
   "metadata": {},
   "outputs": [
    {
     "name": "stdout",
     "output_type": "stream",
     "text": [
      "my name is sudh\n",
      "this is my msg to the students\n",
      "i am taking class for dsm\n",
      "try to practice all the code\n"
     ]
    }
   ],
   "source": [
    "import multiprocessing\n",
    "def sender(conn,msg):\n",
    "    for i in msg:\n",
    "        conn.send(i)\n",
    "    conn.close()\n",
    "def receiver(conn):\n",
    "    while True:\n",
    "        try:\n",
    "            msg=conn.recv()\n",
    "        except Exception as e:\n",
    "            print(e)\n",
    "            break\n",
    "        print(msg)\n",
    "if __name__==\"__main__\":\n",
    "    msg=[\"my name is sudh\",\"this is my msg to the students\",\"i am taking class for dsm\",\"try to practice all the code\"]\n",
    "    parent_conn,child_conn=multiprocessing.Pipe()\n",
    "    m1=multiprocessing.Process(target=sender,args=(child_conn,msg))\n",
    "    m2=multiprocessing.Process(target=receiver,args=(parent_conn,))\n",
    "    m1.start()\n",
    "    m2.start()\n",
    "    m1.join()\n",
    "    child_conn.close()\n",
    "    m2.join()\n",
    "    parent_conn.close()"
   ]
  },
  {
   "cell_type": "code",
   "execution_count": null,
   "id": "1a5ded9f-9bc1-4af6-8fde-de70d3446e8b",
   "metadata": {},
   "outputs": [],
   "source": []
  }
 ],
 "metadata": {
  "kernelspec": {
   "display_name": "Python 3 (ipykernel)",
   "language": "python",
   "name": "python3"
  },
  "language_info": {
   "codemirror_mode": {
    "name": "ipython",
    "version": 3
   },
   "file_extension": ".py",
   "mimetype": "text/x-python",
   "name": "python",
   "nbconvert_exporter": "python",
   "pygments_lexer": "ipython3",
   "version": "3.10.8"
  }
 },
 "nbformat": 4,
 "nbformat_minor": 5
}
